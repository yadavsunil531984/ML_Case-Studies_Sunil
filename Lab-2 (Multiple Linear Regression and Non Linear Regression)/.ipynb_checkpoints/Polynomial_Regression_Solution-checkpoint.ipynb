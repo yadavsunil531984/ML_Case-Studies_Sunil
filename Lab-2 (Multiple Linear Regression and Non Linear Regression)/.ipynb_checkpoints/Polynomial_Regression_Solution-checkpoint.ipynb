{
 "cells": [
  {
   "cell_type": "markdown",
   "id": "ad919b8c-44b5-4e2e-8a1a-8ed62ea7a204",
   "metadata": {},
   "source": [
    "### EDA"
   ]
  },
  {
   "cell_type": "raw",
   "id": "6e4316e2-31cd-4164-8d46-1074bf0a4fa6",
   "metadata": {},
   "source": [
    "# Constants\n",
    "w1 = 500\n",
    "w2 = 2000\n",
    "b = 30000"
   ]
  },
  {
   "cell_type": "code",
   "execution_count": null,
   "id": "96e0c7c8-20b2-4a76-aede-5cb5852c5891",
   "metadata": {},
   "outputs": [],
   "source": [
    "import numpy as np\n",
    "import pandas as pd\n",
    "import matplotlib.pyplot as plt"
   ]
  },
  {
   "cell_type": "code",
   "execution_count": null,
   "id": "b5814cbd-c234-4a53-bd74-ca95276bc3fb",
   "metadata": {},
   "outputs": [],
   "source": [
    "df = pd.read_csv(\"Salary_Data.csv\")\n",
    "df.head()"
   ]
  },
  {
   "cell_type": "code",
   "execution_count": null,
   "id": "172b858c-bb1e-4eac-8da5-5f9bd7ad6e4b",
   "metadata": {},
   "outputs": [],
   "source": [
    "x = df['Work Experience (Years)'].to_numpy()\n",
    "y = df['Salary (INR)'].to_numpy()"
   ]
  },
  {
   "cell_type": "code",
   "execution_count": null,
   "id": "5c161c42-900c-4459-88c9-cd01a1bea68b",
   "metadata": {},
   "outputs": [],
   "source": [
    "# Plot the data points\n",
    "plt.scatter(x, y, marker='x', c='r')\n",
    "# Set the title\n",
    "plt.title(\"Housing Prices\")\n",
    "# Set the y-axis label\n",
    "plt.ylabel('Price (in 1000s of dollars)')\n",
    "# Set the x-axis label\n",
    "plt.xlabel('Size (1000 sqft)')\n",
    "plt.show()"
   ]
  },
  {
   "cell_type": "markdown",
   "id": "6a6e4ddf-1219-4277-8393-cc57dbfab577",
   "metadata": {},
   "source": [
    "### Try to Fit using Lenear Regression"
   ]
  },
  {
   "cell_type": "code",
   "execution_count": null,
   "id": "84acd210-e5b7-4296-835f-5ba033ae9dc7",
   "metadata": {},
   "outputs": [],
   "source": [
    "def predict_y(w,x,b):\n",
    "    y_pred = np.dot(w,x) + b\n",
    "    return y_pred\n",
    "\n",
    "def calculate_cost(y,y_pred):\n",
    "    diff = np.subtract(y_pred,y)\n",
    "    sqr_diff = np.square(diff)\n",
    "    m = len(y)\n",
    "    j = (1/(2*m)) * np.sum(sqr_diff)\n",
    "    return j\n",
    "\n",
    "def Calculate_gradient(x,y,y_pred):\n",
    "    diff = np.subtract(y_pred,y)\n",
    "    m = len(y)\n",
    "    dj_dw = (1/m) * np.dot(diff,x.T)\n",
    "    dj_db = (1/m) * np.sum(diff)\n",
    "    return dj_dw, dj_db\n",
    "\n",
    "def optimize_weights(w,x,b,y,iter,alpha):\n",
    "    dj_dw = dj_db = 0\n",
    "    w_all = np.zeros(iter)\n",
    "    b_all = np.zeros(iter)\n",
    "    cost_all = np.zeros(iter)\n",
    "    \n",
    "    for i in range(0,iter):\n",
    "        w = w - alpha * dj_dw\n",
    "        b = b - alpha * dj_db\n",
    "        y_pred = predict_y(w,x,b)\n",
    "        cost = calculate_cost(y,y_pred)\n",
    "        print(f\"For Iteration{i} w = {w}, b = {b} and cost = {cost}\")\n",
    "        #print(f\"dj_dw = {dj_dw} , dj_db = {dj_db}\")\n",
    "        dj_dw, dj_db = Calculate_gradient(x,y,y_pred)\n",
    "        w_all[i] = w\n",
    "        b_all[i] = b\n",
    "        cost_all[i] = cost\n",
    "        \n",
    "    return w_all,b_all,cost_all"
   ]
  },
  {
   "cell_type": "code",
   "execution_count": null,
   "id": "3a04c383-82b1-4aff-be1d-f3183fc8ed91",
   "metadata": {},
   "outputs": [],
   "source": [
    "w = 1000\n",
    "b = 20000\n",
    "x = df['Work Experience (Years)'].to_numpy()\n",
    "y = df['Salary (INR)'].to_numpy()\n",
    "m = len(x)\n",
    "iter = 100000\n",
    "alpha = 0.001\n",
    "w_all, b_all, cost_all = optimize_weights(w,x,b,y,iter,alpha)"
   ]
  },
  {
   "cell_type": "code",
   "execution_count": null,
   "id": "53dd6f72-4c1a-4a35-bd99-25c255e844ca",
   "metadata": {},
   "outputs": [],
   "source": [
    "min_value = np.min(cost_all) # Finding the minimum value\n",
    "min_index = np.argmin(cost_all) # Finding the position (index) of the minimum value\n",
    "cost = cost_all[min_index]\n",
    "w = w_all[min_index]\n",
    "b = b_all[min_index]\n",
    "print(f\"Optimize value of w = {w}, b = {b}, with Cost = {cost} at iteration = {min_index}\")"
   ]
  },
  {
   "cell_type": "code",
   "execution_count": null,
   "id": "0bb06513-6e65-41e7-b8b7-bb57a1c648fa",
   "metadata": {},
   "outputs": [],
   "source": [
    "import numpy as np\n",
    "import matplotlib.pyplot as plt\n",
    "\n",
    "# Plotting the weight values over iterations\n",
    "plt.figure(figsize=(8, 6))\n",
    "\n",
    "# Plot for cost_all\n",
    "plt.plot(cost_all, color='red')\n",
    "plt.title('Cost Function Value over Iterations')\n",
    "plt.xlabel('Iterations')\n",
    "plt.ylabel('Cost')\n",
    "\n",
    "# Adjust the layout and show the plots\n",
    "plt.tight_layout()\n",
    "plt.show()"
   ]
  },
  {
   "cell_type": "code",
   "execution_count": null,
   "id": "37f187d8-948d-45fd-a2d3-cdc8ad574372",
   "metadata": {},
   "outputs": [],
   "source": [
    "plt.plot(54000 + np.arange(len(cost_all[54000:])), cost_all[54000:],color='red')\n",
    "plt.title(\"Cost vs. iteration\") \n",
    "plt.ylabel('Cost')              \n",
    "plt.xlabel('iteration step')   \n",
    "plt.show()"
   ]
  },
  {
   "cell_type": "code",
   "execution_count": null,
   "id": "2a5762ca-726d-4928-9f26-78b4c249ef64",
   "metadata": {},
   "outputs": [],
   "source": [
    "w = 11999.999985947386\n",
    "b = -1666.666474989303\n",
    "y_pred = predict_y(w,x,b)\n",
    "\n",
    "# Plot the data points\n",
    "plt.scatter(x, y_pred, marker='x', c='blue',label='Predicted Data')\n",
    "plt.scatter(x, y, marker='x', c='r',label='Actual Data')\n",
    "\n",
    "# Define two points using NumPy arrays\n",
    "x_values = np.array([0, 20])  # x = 0 and x = 5\n",
    "y_values = w * x_values + b  # Calculate y for both points\n",
    "\n",
    "# Plotting the line\n",
    "plt.plot(x_values, y_values, label=f'y = {w}x + {b}', color='blue')\n",
    "\n",
    "# Set the title\n",
    "plt.title(\"Salary Trends\")\n",
    "# Set the y-axis label\n",
    "plt.ylabel('Salary (in INR)')\n",
    "# Set the x-axis label\n",
    "plt.xlabel('Work Experience (Years)')\n",
    "\n",
    "# Show the legend\n",
    "plt.grid(True)\n",
    "plt.legend()\n",
    "plt.show()"
   ]
  },
  {
   "cell_type": "markdown",
   "id": "4f50ff9d-6e81-44b7-b348-1ca4a30c02fb",
   "metadata": {},
   "source": [
    "### Try to fit using Non Linear Regression"
   ]
  },
  {
   "cell_type": "raw",
   "id": "cef06d60-1ef3-43da-8221-ec8b06263000",
   "metadata": {},
   "source": [
    "Y = w1.x^2 + w2.x + b\n",
    "Let x1 = x**2\n",
    "    x2 = x\n",
    "Y = w1.x1 + w2.x2 + b"
   ]
  },
  {
   "cell_type": "code",
   "execution_count": null,
   "id": "0389d3c6-3fe5-48cc-8786-384dc38621ba",
   "metadata": {},
   "outputs": [],
   "source": [
    "# Constants\n",
    "w1 = 500\n",
    "w2 = 2000\n",
    "b = 3000\n",
    "w = np.array([[500,2000]])"
   ]
  },
  {
   "cell_type": "code",
   "execution_count": null,
   "id": "ff18855c-20ca-4c4b-9c26-1f9c769472d7",
   "metadata": {},
   "outputs": [],
   "source": [
    "x = df['Work Experience (Years)'].to_numpy()\n",
    "x2 = np.array([x])\n",
    "x1 = np.square(x)\n",
    "x1 = np.array([x1])\n",
    "print(f\"x2 = {x2}\")\n",
    "print(f\"x1 = {x1}\")"
   ]
  },
  {
   "cell_type": "code",
   "execution_count": null,
   "id": "9dc8350b-8989-4ffd-8318-91dc681e6a1c",
   "metadata": {},
   "outputs": [],
   "source": [
    "import numpy as np\n",
    "\n",
    "# Predict Y\n",
    "def predict_y(w,x,b):\n",
    "    y_pred = np.dot(w,x)+b\n",
    "    return y_pred\n",
    "\n",
    "# Calculate cost of model\n",
    "def calculate_cost(y,y_pred):\n",
    "    m = len(y)\n",
    "    diff = np.subtract(y_pred,y)\n",
    "    sqr_diff = np.square(diff)\n",
    "    j = (1/(2*m)) * np.sum(sqr_diff)\n",
    "    return j\n",
    "\n",
    "# Calculate Gradient\n",
    "def calculate_gradient(x,y,y_pred):\n",
    "    m = len(y)\n",
    "    diff = np.subtract(y_pred,y)\n",
    "    dj_dw = (1/m) * np.dot(diff,x.T)\n",
    "    dj_db = (1/m) * np.sum(diff)\n",
    "    return dj_dw,dj_db\n",
    "\n",
    "# Optimize weights\n",
    "def optimize_weights(w,x,b,y,iter,alpha):\n",
    "    dj_dw = np.zeros(2)\n",
    "    dj_db = 0\n",
    "    w_all = np.zeros((iter,2))\n",
    "    b_all = np.zeros(iter)\n",
    "    j_all = np.zeros(iter)\n",
    "        \n",
    "    for i in range(0,iter):\n",
    "        w = w - (alpha * dj_dw)\n",
    "        b = b - (alpha * dj_db)\n",
    "        y_pred = predict_y(w,x,b)\n",
    "        j = calculate_cost(y,y_pred)\n",
    "        dj_dw, dj_db = calculate_gradient(x,y,y_pred)\n",
    "        print(f\"Iteration {i}: w = {w}, b = {b:.4f}, Cost = {j:.4f}\")\n",
    "        #print(f\"dj_dw = {dj_dw},dj_db = {dj_db}\")\n",
    "        w_all[i,] = w\n",
    "        b_all[i] = b\n",
    "        cost_all[i] = j\n",
    "    \n",
    "    return w_all,b_all,cost_all "
   ]
  },
  {
   "cell_type": "code",
   "execution_count": null,
   "id": "3f5bb435-e46b-478e-8e28-6f631f35fe33",
   "metadata": {},
   "outputs": [],
   "source": [
    "w = np.array([0.5, 0.01])\n",
    "x = df['Work Experience (Years)'].to_numpy()\n",
    "x2 = x\n",
    "x1 = np.square(x)\n",
    "x = np.array([x1,x2])\n",
    "b = 0.2\n",
    "y = df['Salary (INR)'].to_numpy()\n",
    "alpha = 0.001\n",
    "iter = 1000"
   ]
  },
  {
   "cell_type": "code",
   "execution_count": null,
   "id": "343d1c49-6e1d-4b94-af68-183114a6f511",
   "metadata": {},
   "outputs": [],
   "source": [
    "w_all,b_all,cost_all = optimize_weights(w,x,b,y,iter,alpha)"
   ]
  },
  {
   "cell_type": "code",
   "execution_count": null,
   "id": "b7bbc67d-9333-44bc-9bd5-8d58e085acd9",
   "metadata": {},
   "outputs": [],
   "source": [
    "min_value = np.min(cost_all) # Finding the minimum value\n",
    "min_index = np.argmin(cost_all) # Finding the position (index) of the minimum value\n",
    "cost = cost_all[min_index]\n",
    "w = w_all[min_index]\n",
    "b = b_all[min_index]\n",
    "print(f\"Optimize value of w = {w}, b = {b}, with Cost = {cost} at iteration = {min_index}\")"
   ]
  },
  {
   "cell_type": "markdown",
   "id": "354551b7-4aa1-40c5-94a0-af6024db36e9",
   "metadata": {},
   "source": [
    "### Try to fit using Non Linear Regression (Using Feature Scalling)"
   ]
  },
  {
   "cell_type": "code",
   "execution_count": null,
   "id": "27a08ac4-bb5a-4366-9b1b-0cd84d623fdb",
   "metadata": {},
   "outputs": [],
   "source": [
    "import numpy as np\n",
    "import pandas as pd\n",
    "import matplotlib.pyplot as plt"
   ]
  },
  {
   "cell_type": "code",
   "execution_count": null,
   "id": "f37dac85-ff96-45a0-815c-fe80e01f3d2c",
   "metadata": {},
   "outputs": [],
   "source": [
    "df = pd.read_csv(\"Salary_Data.csv\")\n",
    "df.head()"
   ]
  },
  {
   "cell_type": "code",
   "execution_count": null,
   "id": "7eaf7197-43bf-4bb2-86e9-7fd76aa15ef9",
   "metadata": {},
   "outputs": [],
   "source": [
    "x = df['Work Experience (Years)'].to_numpy()\n",
    "x2 = np.array(x)\n",
    "x1 = np.square(x)\n",
    "x1 = np.array(x1)"
   ]
  },
  {
   "cell_type": "code",
   "execution_count": null,
   "id": "f2d275ce-2b42-497d-897d-5ba378461b88",
   "metadata": {},
   "outputs": [],
   "source": [
    "# Constants\n",
    "w1 = 500\n",
    "w2 = 2000\n",
    "b = 30000\n",
    "w = np.array([[500,2000]])"
   ]
  },
  {
   "cell_type": "code",
   "execution_count": null,
   "id": "fa932d46-aa11-4209-a357-3b285956fcb3",
   "metadata": {},
   "outputs": [],
   "source": [
    "# Calculate Z-Score of Each Feature\n",
    "mu_x1 = np.mean(x1)\n",
    "sd_x1 = np.std(x1)\n",
    "mu_x2 = np.mean(x2)\n",
    "sd_x2 = np.std(x2)\n",
    "z1 = np.divide(np.subtract(x1, mu_x1), sd_x1)\n",
    "z2 = np.divide(np.subtract(x2, mu_x2), sd_x2)\n",
    "z = np.array([z1,z2])"
   ]
  },
  {
   "cell_type": "code",
   "execution_count": null,
   "id": "4ef8a0a3-e6d1-4972-873a-c80fdd0b1d1e",
   "metadata": {},
   "outputs": [],
   "source": [
    "# Predict Y\n",
    "def predict_y(w,z,b):\n",
    "    y_pred = np.dot(w,z) + b\n",
    "    return y_pred"
   ]
  },
  {
   "cell_type": "code",
   "execution_count": null,
   "id": "5ee6f314-af88-48e1-a28c-e01a80d42f20",
   "metadata": {},
   "outputs": [],
   "source": [
    "import numpy as np\n",
    "\n",
    "# Predict Y\n",
    "def predict_y(w,z,b):\n",
    "    y_pred = np.dot(w,z) + b\n",
    "    return y_pred\n",
    "\n",
    "# Calculate cost of model\n",
    "def calculate_cost(y,y_pred):\n",
    "    m = len(y)\n",
    "    diff = np.subtract(y_pred,y)\n",
    "    sqr_diff = np.square(diff)\n",
    "    j = (1/(2*m)) * np.sum(sqr_diff)\n",
    "    return j\n",
    "\n",
    "# Calculate Gradient\n",
    "def calculate_gradient(z,y,y_pred):\n",
    "    m = len(y)\n",
    "    diff = np.subtract(y_pred,y)\n",
    "    dj_dw = (1/m) * np.dot(diff,z.T)\n",
    "    dj_db = (1/m) * np.sum(diff)\n",
    "    return dj_dw,dj_db\n",
    "\n",
    "def optimize_weights(w,z,b,y,iter,alpha):\n",
    "    dj_dw = np.zeros(2)\n",
    "    dj_db = 0\n",
    "    w_all = np.zeros((iter,2))\n",
    "    b_all = np.zeros(iter)\n",
    "    cost_all = np.zeros(iter)\n",
    "        \n",
    "    for i in range(0,iter):\n",
    "        w = w - (alpha * dj_dw)\n",
    "        b = b - (alpha * dj_db)\n",
    "        y_pred = predict_y(w,z,b)\n",
    "        j = calculate_cost(y,y_pred)\n",
    "        dj_dw, dj_db = calculate_gradient(z,y,y_pred)\n",
    "        print(f\"Iteration {i}: w = {w}, b = {b:.4f}, Cost = {j:.4f}\")\n",
    "        #print(f\"dj_dw = {dj_dw},dj_db = {dj_db}\")\n",
    "        w_all[i,] = w\n",
    "        b_all[i] = b\n",
    "        cost_all[i] = j\n",
    "    \n",
    "    return w_all,b_all,cost_all "
   ]
  },
  {
   "cell_type": "code",
   "execution_count": null,
   "id": "2d67f434-ffdf-4f3c-a78b-1fb53dcb0091",
   "metadata": {},
   "outputs": [],
   "source": [
    "w = np.array([ 0.5, 0.01])\n",
    "z = np.array([z1,z2])\n",
    "b = 0.1\n",
    "y = df['Salary (INR)'].to_numpy()\n",
    "alpha = 0.001\n",
    "iter = 10000"
   ]
  },
  {
   "cell_type": "code",
   "execution_count": null,
   "id": "6685a477-8bc8-4887-b03b-884311e88520",
   "metadata": {},
   "outputs": [],
   "source": [
    "w_all,b_all,cost_all = optimize_weights(w,z,b,y,iter,alpha)"
   ]
  },
  {
   "cell_type": "code",
   "execution_count": null,
   "id": "6c5849fd-5df6-49bb-8f0e-35700737173d",
   "metadata": {},
   "outputs": [],
   "source": [
    "len(cost_all)"
   ]
  },
  {
   "cell_type": "code",
   "execution_count": null,
   "id": "4c2d84b0-6663-4714-a55d-4c279d01e0b9",
   "metadata": {},
   "outputs": [],
   "source": [
    "min_value = np.min(cost_all) # Finding the minimum value\n",
    "min_index = np.argmin(cost_all) # Finding the position (index) of the minimum value\n",
    "cost = cost_all[min_index]\n",
    "w = w_all[min_index]\n",
    "b = b_all[min_index]\n",
    "print(f\"Optimize value of w = {w}, b = {b}, with Cost = {cost} at iteration {min_index}\")"
   ]
  },
  {
   "cell_type": "code",
   "execution_count": null,
   "id": "47cffa60-d6fb-454d-8559-0ec6899818c6",
   "metadata": {},
   "outputs": [],
   "source": [
    "import numpy as np\n",
    "import matplotlib.pyplot as plt\n",
    "\n",
    "# Plotting the weight values over iterations\n",
    "plt.figure(figsize=(8, 6))\n",
    "\n",
    "# Plot for cost_all\n",
    "plt.plot(cost_all, color='red')\n",
    "plt.title('Cost Function Value over Iterations')\n",
    "plt.xlabel('Iterations')\n",
    "plt.ylabel('Cost')\n",
    "\n",
    "# Adjust the layout and show the plots\n",
    "plt.tight_layout()\n",
    "plt.show()"
   ]
  },
  {
   "cell_type": "code",
   "execution_count": null,
   "id": "a0203b17-b64d-4a33-8add-33c262e56454",
   "metadata": {},
   "outputs": [],
   "source": [
    "plt.plot(9900 + np.arange(len(cost_all[9900:])), cost_all[9900:],color='red')\n",
    "plt.title(\"Cost vs. iteration\") \n",
    "plt.ylabel('Cost')              \n",
    "plt.xlabel('iteration step')   \n",
    "plt.show()"
   ]
  },
  {
   "cell_type": "code",
   "execution_count": null,
   "id": "69763f9d-2ab6-4560-906b-606e9afa5150",
   "metadata": {},
   "outputs": [],
   "source": [
    "y"
   ]
  },
  {
   "cell_type": "code",
   "execution_count": null,
   "id": "53e957e0-e29f-4bde-ae62-0e3081fca74b",
   "metadata": {},
   "outputs": [],
   "source": [
    "x"
   ]
  },
  {
   "cell_type": "code",
   "execution_count": null,
   "id": "d2d3d4d1-f171-48e0-8158-8b849140a395",
   "metadata": {},
   "outputs": [],
   "source": [
    "# Predict Y\n",
    "w = np.array([62719.39271241, 12110.60141646])\n",
    "w1 = w[0]\n",
    "w2 = w[1]\n",
    "b = 118333.33333332607\n",
    "\n",
    "y_pred = np.zeros(21)\n",
    "\n",
    "for i in range(0,21):\n",
    "    y_pred[i] = w1*(x[i]**2) + w2*(x[i]) + b\n",
    "\n",
    "print(len(y_pred))\n",
    "print(y_pred)"
   ]
  },
  {
   "cell_type": "code",
   "execution_count": null,
   "id": "565640b0-cd61-4157-92b5-0df335b47cdb",
   "metadata": {},
   "outputs": [],
   "source": [
    "np.shape(y_pred)"
   ]
  },
  {
   "cell_type": "code",
   "execution_count": null,
   "id": "a1f1c476-e3eb-417d-9a7b-5578bdcb2bde",
   "metadata": {},
   "outputs": [],
   "source": [
    "print(len(y))\n",
    "print(y)"
   ]
  },
  {
   "cell_type": "code",
   "execution_count": null,
   "id": "96d97328-619f-433e-86f9-d96c748c2946",
   "metadata": {},
   "outputs": [],
   "source": [
    "x_values = np.array([0, 20]) \n",
    "x_values"
   ]
  },
  {
   "cell_type": "code",
   "execution_count": null,
   "id": "126ee3c5-8b3e-4e2c-9fc1-5bcf81887a74",
   "metadata": {},
   "outputs": [],
   "source": [
    "# Plotting the scatter plot for y (actual) and y_pred (predicted)\n",
    "plt.figure(figsize=(10, 6))\n",
    "\n",
    "# Scatter plot for actual values\n",
    "plt.scatter(x, y, color='blue', label='Actual Values')\n",
    "\n",
    "# Scatter plot for predicted values\n",
    "plt.scatter(x, y_pred, color='red', label='Predicted Values', marker='x')\n",
    "\n",
    "# Plot the curve for predicted values\n",
    "plt.plot(x, y_pred, color='green', label='Y_pred Curve')\n",
    "\n",
    "# Adding labels and title\n",
    "plt.xlabel('X')\n",
    "plt.ylabel('Y / Y_pred')\n",
    "plt.title('Actual vs Predicted Values')\n",
    "plt.legend()\n",
    "plt.grid(True)\n",
    "\n",
    "# Display the plot\n",
    "plt.show()\n"
   ]
  },
  {
   "cell_type": "code",
   "execution_count": null,
   "id": "21282fc3-c0d2-492f-b990-cd852c1da7ed",
   "metadata": {},
   "outputs": [],
   "source": [
    "# Calculate cost of model\n",
    "def calculate_cost(y,y_pred):\n",
    "    m = len(y)\n",
    "    diff = np.subtract(y,y_pred)\n",
    "    sqr_diff = np.square(diff)\n",
    "    j = (1/(2*m)) * np.sum(sqr_diff)\n",
    "    return j\n",
    "\n",
    "cost = calculate_cost(y,y_pred)\n",
    "print(f\" Cost = {cost}\")"
   ]
  },
  {
   "cell_type": "code",
   "execution_count": null,
   "id": "08b9bff8-950f-419b-b76b-02edd20a7787",
   "metadata": {},
   "outputs": [],
   "source": []
  }
 ],
 "metadata": {
  "kernelspec": {
   "display_name": "Python 3 (ipykernel)",
   "language": "python",
   "name": "python3"
  },
  "language_info": {
   "codemirror_mode": {
    "name": "ipython",
    "version": 3
   },
   "file_extension": ".py",
   "mimetype": "text/x-python",
   "name": "python",
   "nbconvert_exporter": "python",
   "pygments_lexer": "ipython3",
   "version": "3.11.4"
  }
 },
 "nbformat": 4,
 "nbformat_minor": 5
}
