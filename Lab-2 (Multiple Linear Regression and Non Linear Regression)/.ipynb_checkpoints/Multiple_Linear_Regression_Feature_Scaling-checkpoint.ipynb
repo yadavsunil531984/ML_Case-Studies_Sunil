{
 "cells": [
  {
   "cell_type": "markdown",
   "id": "ff59f457-6f2a-452e-9d59-5199aa23f30f",
   "metadata": {},
   "source": [
    "### 1. Load the Datasets \"House_Data.csv\""
   ]
  },
  {
   "cell_type": "code",
   "execution_count": null,
   "id": "eb14298c-af12-4dec-a8da-7e9bf4141d67",
   "metadata": {},
   "outputs": [],
   "source": [
    "import pandas as pd"
   ]
  },
  {
   "cell_type": "code",
   "execution_count": null,
   "id": "a15b41bf-5643-4214-a645-bf3ff15990bc",
   "metadata": {},
   "outputs": [],
   "source": [
    "df = pd.read_csv(\"House_Data.csv\")\n",
    "df.head()"
   ]
  },
  {
   "cell_type": "code",
   "execution_count": null,
   "id": "80f74abf-0128-4e1a-9f9a-9ea3adc39f34",
   "metadata": {},
   "outputs": [],
   "source": [
    "# Data To be considerw = np.array([ 0.39, 18.75, -53.36, -26.42])\n",
    "b = 700\n",
    "alpha = 0.001\n",
    "iter = 1000"
   ]
  },
  {
   "cell_type": "markdown",
   "id": "293043fc-b204-4052-a38e-1684d2ebe460",
   "metadata": {},
   "source": [
    "### 2. Cheack for Null values and Incosistent data in table"
   ]
  },
  {
   "cell_type": "code",
   "execution_count": null,
   "id": "d058c033-add2-4e21-9eab-42a3be6ae6b7",
   "metadata": {},
   "outputs": [],
   "source": []
  },
  {
   "cell_type": "code",
   "execution_count": null,
   "id": "4c5320d5-6e23-4ccc-bd75-dc0192099e46",
   "metadata": {},
   "outputs": [],
   "source": []
  },
  {
   "cell_type": "markdown",
   "id": "5e139d3c-a5ed-4e2e-bed6-6de719c6b634",
   "metadata": {},
   "source": [
    "### 3. Split The Data into train and Test set"
   ]
  },
  {
   "cell_type": "code",
   "execution_count": null,
   "id": "a85b661f-bee1-4725-9985-9451a9a25356",
   "metadata": {},
   "outputs": [],
   "source": [
    "# Split the DataFrame into training and testing sets\n",
    "train_df = \n",
    "test_df = "
   ]
  },
  {
   "cell_type": "markdown",
   "id": "4cb6c2b9-f280-403d-859f-07051f259e1a",
   "metadata": {},
   "source": [
    "### 4. Data to be Consider for Experiment\n",
    "- w = [ 0.39, 18.75, -53.36, -26.42]\n",
    "- b = 700\n",
    "- alpha = 0.001"
   ]
  },
  {
   "cell_type": "code",
   "execution_count": null,
   "id": "d80b5286-523e-4f15-b5f3-c935bd8dce3e",
   "metadata": {},
   "outputs": [],
   "source": [
    "# Convert All Features to Numpy Array\n",
    "x1 = \n",
    "x2 = \n",
    "x3 = \n",
    "x4 =\n",
    "x_train = \n",
    "y_train ="
   ]
  },
  {
   "cell_type": "code",
   "execution_count": null,
   "id": "f41098c9-88e2-47e4-b26d-8b9375dca38c",
   "metadata": {},
   "outputs": [],
   "source": [
    "# Predict Y\n",
    "def predict_y(--,--,--):\n",
    "    \n",
    "    return y_pred"
   ]
  },
  {
   "cell_type": "code",
   "execution_count": null,
   "id": "f634929f-d9d9-4a4b-aac2-30a01ccbaa5e",
   "metadata": {},
   "outputs": [],
   "source": [
    "# Calculate cost of model\n",
    "def calculate_cost(--,--):\n",
    "\n",
    "    \n",
    "    return j"
   ]
  },
  {
   "cell_type": "code",
   "execution_count": null,
   "id": "73c6e9dc-c1b2-4b8f-ba1e-3d16748ef6b3",
   "metadata": {},
   "outputs": [],
   "source": [
    "# Calculate Gradient\n",
    "def calculate_gradient(--,--):\n",
    "\n",
    "\n",
    "    \n",
    "    return dj_dw,dj_db"
   ]
  },
  {
   "cell_type": "code",
   "execution_count": null,
   "id": "46dfba11-22ab-4a0f-9691-a5b87dce5a1c",
   "metadata": {},
   "outputs": [],
   "source": [
    "def optimize_weights(--,--,--,--,--,--):\n",
    "\n",
    "\n",
    "    \n",
    "    \n",
    "    return w_all,b_all,cost_all "
   ]
  },
  {
   "cell_type": "code",
   "execution_count": null,
   "id": "8dd105ec-22b1-472d-92b3-70841083c7a4",
   "metadata": {},
   "outputs": [],
   "source": [
    "w_all,b_all,cost_all = optimize_weights(--,--,--,--,--,---)"
   ]
  },
  {
   "cell_type": "code",
   "execution_count": null,
   "id": "827cd2be-4d49-4aa9-8ecc-988f35180df4",
   "metadata": {},
   "outputs": [],
   "source": [
    "min_value = np.min(cost_all) # Finding the minimum value\n",
    "min_index = np.argmin(cost_all) # Finding the position (index) of the minimum value\n",
    "cost = cost_all[min_index]\n",
    "w = w_all[min_index]\n",
    "b = b_all[min_index]\n",
    "print(f\"Optimize value of w = {w}, b = {b}, with Cost = {cost}\")"
   ]
  },
  {
   "cell_type": "code",
   "execution_count": null,
   "id": "f38051b5-a3af-4cdb-913e-96f3113e3e35",
   "metadata": {},
   "outputs": [],
   "source": [
    "import numpy as np\n",
    "import matplotlib.pyplot as plt\n",
    "\n",
    "# Plotting the weight values over iterations\n",
    "plt.figure(figsize=(8, 12))\n",
    "\n",
    "# Plot for cost_all\n",
    "plt.plot(cost_all, color='red')\n",
    "plt.title('Cost Function Value over Iterations')\n",
    "plt.xlabel('Iterations')\n",
    "plt.ylabel('Cost')\n",
    "\n",
    "# Adjust the layout and show the plots\n",
    "plt.tight_layout()\n",
    "plt.show()"
   ]
  },
  {
   "cell_type": "code",
   "execution_count": null,
   "id": "3680474c-f3d2-4551-a549-008eb1460e1d",
   "metadata": {},
   "outputs": [],
   "source": [
    "plt.plot(100 + np.arange(len(cost_all[100:])), cost_all[100:],color='red')\n",
    "plt.title(\"Cost vs. iteration\") \n",
    "plt.ylabel('Cost')              \n",
    "plt.xlabel('iteration step')   \n",
    "plt.show()"
   ]
  },
  {
   "cell_type": "markdown",
   "id": "df6e91bd-37c3-4ab2-b0f7-ed849e00eb75",
   "metadata": {},
   "source": [
    "### 5. Implementation with Feature Scaling"
   ]
  },
  {
   "cell_type": "code",
   "execution_count": null,
   "id": "318ca5f3-a8e4-499c-8980-5e16903628de",
   "metadata": {},
   "outputs": [],
   "source": [
    "# Load data\n"
   ]
  },
  {
   "cell_type": "code",
   "execution_count": null,
   "id": "f9963cbe-521b-41e3-b0be-29b340648cee",
   "metadata": {},
   "outputs": [],
   "source": [
    "# Check for Null values and Inconsistency\n"
   ]
  },
  {
   "cell_type": "code",
   "execution_count": null,
   "id": "35a3c38a-0cce-468a-8dd8-ccab9221787a",
   "metadata": {},
   "outputs": [],
   "source": [
    "# Split the DataFrame into training and testing sets\n"
   ]
  },
  {
   "cell_type": "code",
   "execution_count": null,
   "id": "07aef60f-4b9e-4532-a559-555c0e7fe572",
   "metadata": {},
   "outputs": [],
   "source": [
    "# Convert All Features to Numpy Array\n",
    "x1 = \n",
    "x2 = \n",
    "x3 =\n",
    "x4 =\n",
    "x_train = \n",
    "y_train = "
   ]
  },
  {
   "cell_type": "code",
   "execution_count": null,
   "id": "650396cc-16ee-4f8e-b8ce-3171251aed26",
   "metadata": {},
   "outputs": [],
   "source": [
    "# Calculate Z-Score of Each Feature where 'mu' is mean and sd is standard deviation\n",
    "mu_x1 = \n",
    "sd_x1 = \n",
    "mu_x2 = \n",
    "sd_x2 = \n",
    "mu_x3 = \n",
    "sd_x3 = \n",
    "mu_x4 = \n",
    "sd_x4 = \n",
    "z1 =\n",
    "z2 = \n",
    "z3 = \n",
    "z4 = "
   ]
  },
  {
   "cell_type": "code",
   "execution_count": null,
   "id": "61f0b79d-c1dc-4ae2-9385-e0079e16d32d",
   "metadata": {},
   "outputs": [],
   "source": [
    "# Predict Y\n",
    "def predict_y(--,--,--):\n",
    "   \n",
    "    return y_pred"
   ]
  },
  {
   "cell_type": "code",
   "execution_count": null,
   "id": "037b2f9b-f5b5-4979-abe4-28bc909c0ac7",
   "metadata": {},
   "outputs": [],
   "source": [
    "# Calculate cost of model\n",
    "def calculate_cost(--,--):\n",
    "   \n",
    "    return j"
   ]
  },
  {
   "cell_type": "code",
   "execution_count": null,
   "id": "2b1de18b-fc15-490b-b2f7-5a525eaea5a4",
   "metadata": {},
   "outputs": [],
   "source": [
    "# Calculate Gradient\n",
    "def calculate_gradient(--,--):\n",
    "\n",
    "\n",
    "    \n",
    "    return dj_dw,dj_db"
   ]
  },
  {
   "cell_type": "code",
   "execution_count": null,
   "id": "c0c41f03-2e67-49e4-ab6a-12b5175d96f1",
   "metadata": {},
   "outputs": [],
   "source": [
    "def optimize_weights(--,--,--,--,--,--):\n",
    "   \n",
    "    \n",
    "    return w_all,b_all,cost_all "
   ]
  },
  {
   "cell_type": "code",
   "execution_count": null,
   "id": "a5f9e60b-021e-46d5-bf4d-b8740926b986",
   "metadata": {},
   "outputs": [],
   "source": [
    "w_all,b_all,cost_all = optimize_weights(w,z,b,y,iter,alpha)"
   ]
  },
  {
   "cell_type": "code",
   "execution_count": null,
   "id": "3944d4f8-0944-49b1-9740-42a3828914c8",
   "metadata": {},
   "outputs": [],
   "source": [
    "min_value = np.min(cost_all) # Finding the minimum value\n",
    "min_index = np.argmin(cost_all) # Finding the position (index) of the minimum value\n",
    "cost = cost_all[min_index]\n",
    "w = w_all[min_index]\n",
    "b = b_all[min_index]\n",
    "print(f\"Optimize value of w = {w}, b = {b}, with Cost = {cost}\")"
   ]
  },
  {
   "cell_type": "code",
   "execution_count": null,
   "id": "7f72c46d-d63e-4893-88bd-d4c026c236de",
   "metadata": {},
   "outputs": [],
   "source": [
    "import numpy as np\n",
    "import matplotlib.pyplot as plt\n",
    "\n",
    "# Plotting the weight values over iterations\n",
    "plt.figure(figsize=(8, 12))\n",
    "\n",
    "# Plot for cost_all\n",
    "plt.plot(cost_all, color='red')\n",
    "plt.title('Cost Function Value over Iterations')\n",
    "plt.xlabel('Iterations')\n",
    "plt.ylabel('Cost')\n",
    "\n",
    "# Adjust the layout and show the plots\n",
    "plt.tight_layout()\n",
    "plt.show()"
   ]
  },
  {
   "cell_type": "code",
   "execution_count": null,
   "id": "207c1fda-3f90-4a02-8933-ec0bb4da6708",
   "metadata": {},
   "outputs": [],
   "source": [
    "plt.plot(100 + np.arange(len(cost_all[100:])), cost_all[100:],color='red')\n",
    "plt.title(\"Cost vs. iteration\") \n",
    "plt.ylabel('Cost')              \n",
    "plt.xlabel('iteration step')   \n",
    "plt.show()"
   ]
  },
  {
   "cell_type": "markdown",
   "id": "de1aecd7-d6b9-406e-9161-d0553049087e",
   "metadata": {},
   "source": [
    "#### 6. How would you predict the output for both the training and testing data, and which performance metric would be most suitable to measure the model's performance? Additionally, how would you conclude the model's performance on the test data in comparison to the training data?"
   ]
  },
  {
   "cell_type": "code",
   "execution_count": null,
   "id": "4a58b3a8-6690-462d-b569-76593cb3bafd",
   "metadata": {},
   "outputs": [],
   "source": []
  },
  {
   "cell_type": "markdown",
   "id": "6fce184a-746a-4648-bc42-751da50075da",
   "metadata": {},
   "source": [
    "#### 7. Change the different values of alpha to 0.001, 0.1, 0.0001, and 0.00001, and observe when the graph converges. What conclusions can you draw?"
   ]
  },
  {
   "cell_type": "code",
   "execution_count": null,
   "id": "5ed2b7c6-14ce-480a-a3af-8b4a6e7bac04",
   "metadata": {},
   "outputs": [],
   "source": []
  }
 ],
 "metadata": {
  "kernelspec": {
   "display_name": "Python 3 (ipykernel)",
   "language": "python",
   "name": "python3"
  },
  "language_info": {
   "codemirror_mode": {
    "name": "ipython",
    "version": 3
   },
   "file_extension": ".py",
   "mimetype": "text/x-python",
   "name": "python",
   "nbconvert_exporter": "python",
   "pygments_lexer": "ipython3",
   "version": "3.11.4"
  }
 },
 "nbformat": 4,
 "nbformat_minor": 5
}
