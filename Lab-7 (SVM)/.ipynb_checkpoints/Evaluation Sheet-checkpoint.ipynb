{
 "cells": [
  {
   "cell_type": "raw",
   "id": "c2b6412c-4b35-4584-a912-1e098f84ac00",
   "metadata": {},
   "source": [
    "Perform classification on the given \"dataset_2.csv\" data points using SVM.\n",
    "1) Load the dataset from the file dataset_2.csv.\n",
    "2) Display all data points on a graph, coloring them according to their classes.\n",
    "3) Train an SVM model using the dataset.\n",
    "4) Retrieve the support vectors and their corresponding Lagrangian multipliers (alpha values).\n",
    "5) Calculate the weights and bias for the decision boundary.\n",
    "6) Derive the equation of the decision boundary.\n",
    "7) Plot the decision boundary using mlxtend's plot_decision_regions.\n",
    "8) Predict the classes for the following points: [0.5, 2.5], [1, 1], [-2, 0], and [3, 2]."
   ]
  },
  {
   "cell_type": "raw",
   "id": "b54a2d01-21ad-4058-a5e9-2d241ba1889d",
   "metadata": {},
   "source": [
    "Perform classification on the given \"dataset_3.csv\" data points using SVM.\n",
    "1) Load the dataset from the file dataset_3.csv.\n",
    "2) Display all data points on a graph, coloring them according to their classes.\n",
    "3) Train an SVM model using the dataset.\n",
    "4) Retrieve the support vectors and their corresponding Lagrangian multipliers (alpha values).\n",
    "5) Calculate the weights and bias for the decision boundary.\n",
    "6) Derive the equation of the decision boundary.\n",
    "7) Plot the decision boundary on graph.\n",
    "8) Predict the classes for the following points: [0.5, 2.5, 1], [1, 1, 1], [-2, 0, 0], [3, 2, 1]\n",
    "9) Find the accuracy of the model on the training data itself."
   ]
  },
  {
   "cell_type": "raw",
   "id": "8f8d2c6e-3b08-4688-a77c-d7a59f454b21",
   "metadata": {},
   "source": [
    "Perform classification of flower species based on the features: sepal length, sepal width, petal length, and petal width using the Support Vector Machine algorithm.\n",
    "\n",
    "1) Load the \"iris_data.csv\" and print the number of distinct classes in the target variable.\n",
    "2) Split the data into training and test sets with an 80:20 ratio.\n",
    "3) Normalize all features.\n",
    "4) Train an SVM model using the training set.\n",
    "5) Retrieve the alpha values (Lagrange multipliers) for all training samples.\n",
    "6) Calculate the weights for all features and find the bias (intercept) value.\n",
    "7) Predict the target variable for the test set using the trained model.\n",
    "8) Generate a confusion matrix and comment on the results based on the obtained matrix.\n",
    "9) Calculate accuracy, precision, recall, and F1-score.\n",
    "10) Visualize the decision boundary for any two features."
   ]
  },
  {
   "cell_type": "code",
   "execution_count": null,
   "id": "3bf55cb4-55f1-4269-b441-5429ebd5e918",
   "metadata": {},
   "outputs": [],
   "source": []
  }
 ],
 "metadata": {
  "kernelspec": {
   "display_name": "Python 3 (ipykernel)",
   "language": "python",
   "name": "python3"
  },
  "language_info": {
   "codemirror_mode": {
    "name": "ipython",
    "version": 3
   },
   "file_extension": ".py",
   "mimetype": "text/x-python",
   "name": "python",
   "nbconvert_exporter": "python",
   "pygments_lexer": "ipython3",
   "version": "3.11.4"
  }
 },
 "nbformat": 4,
 "nbformat_minor": 5
}
