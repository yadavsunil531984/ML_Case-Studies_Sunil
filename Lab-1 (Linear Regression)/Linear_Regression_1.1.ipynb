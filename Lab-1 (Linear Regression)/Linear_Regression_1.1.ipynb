{
 "cells": [
  {
   "cell_type": "markdown",
   "id": "871620eb-0dcd-4a1a-b5de-21fd915de0bc",
   "metadata": {},
   "source": [
    "## Example-1:\n",
    "Given  below is the Area (thousand squarefeet) and Cost of house prizes (In hundred $) in the city of Boston:\n",
    "\n",
    "<div style=\"text-align: center;\">\n",
    "    <img src=\"house prize.png\" alt=\"Employee Table\" style=\"width:30%;\"/>\n",
    "</div>\n",
    "\n",
    "1) Plot the give data of House size and Cost of house in Scatter plot for given data.\n",
    "2) Form the Linear Regression model for w =100 and b=100\n",
    "3) Predict the Cost of house Using Linear Regression model when w = 100 and b = 100.\n",
    "4) Plot both predicted and actual value of cost of house in scattter plot.\n",
    "5) Fit the Linear Regression curve for predicted value of cost of house w.r.t size of house.\n",
    "6) Calculate the Cost value using Linear Regression Cost Function.\n",
    "7) Calculate the gradient if cost function w.r.t 'w' and 'b' for initial weght and bias \n",
    "8) Find Optimized Value of 'w' and 'b' using Gradient descent algorithm. (Take intial value of W = 50, b = 10, iteration = 1000,Learnig rate = 0.001)\n",
    "9) Fit the Linear Regression line using the optimized values of w and b, and also show the Actual and Predicted values on a Scatter Plot.\n",
    "10) Plot Curve to check How cost value changes w.r.t number of iteration.\n",
    "11) From Graph can we say How many iteration are enough to train model.\n",
    "12) Plot the curve to show how Cost values are changes w.r.t 'w' and 'b'"
   ]
  },
  {
   "cell_type": "markdown",
   "id": "2187ee8f-a487-48a7-9dc3-cd15ff353867",
   "metadata": {},
   "source": [
    "### 1. Scatter Plot"
   ]
  },
  {
   "cell_type": "code",
   "execution_count": null,
   "id": "fb1597df-5910-4ff8-bc2e-b419a74e6a15",
   "metadata": {},
   "outputs": [],
   "source": [
    "import numpy as np\n",
    "import matplotlib.pyplot as plt"
   ]
  },
  {
   "cell_type": "code",
   "execution_count": null,
   "id": "3025ecc0-7532-4d7b-b6de-f57f7345ffc0",
   "metadata": {},
   "outputs": [],
   "source": [
    "x = np.array([1.0,1.7,2.0,2.5,3.0,3.2])\n",
    "y = np.array([250,300,480,430,630,730])\n",
    "m = len(x)\n",
    "m = print (f\"Total Count of Samples: {m}\")\n",
    "print(x)\n",
    "print(y)"
   ]
  },
  {
   "cell_type": "code",
   "execution_count": null,
   "id": "e9112fca-de03-4976-b2d4-b25ddb122764",
   "metadata": {},
   "outputs": [],
   "source": [
    "# Plot the data points\n",
    "_______________________________________\n",
    "# Set the title\n",
    "plt.title(\"Housing Prices\")\n",
    "# Set the y-axis label\n",
    "plt.ylabel('Price (in 1000s of dollars)')\n",
    "# Set the x-axis label\n",
    "plt.xlabel('Size (1000 sqft)')\n",
    "plt.show()"
   ]
  },
  {
   "cell_type": "markdown",
   "id": "e2ae9db5-110c-447a-8cde-1c125e8e0df2",
   "metadata": {},
   "source": [
    "### 2. Linear Regression Model for w= 100, b=100"
   ]
  },
  {
   "cell_type": "code",
   "execution_count": null,
   "id": "bc6a2212-fd18-4ee3-9ca1-3d16c0053ffe",
   "metadata": {},
   "outputs": [],
   "source": [
    "print(f\"Y = {__}x+{__}\")"
   ]
  },
  {
   "cell_type": "markdown",
   "id": "952886d8-f50b-4715-acff-aea5e45343cf",
   "metadata": {},
   "source": [
    "### 3. Predict 'Y' using Linear Regression w = 100 and b = 100."
   ]
  },
  {
   "cell_type": "code",
   "execution_count": null,
   "id": "03a48259-d81e-4fb6-ba2e-b32fc5bfc859",
   "metadata": {},
   "outputs": [],
   "source": [
    "def predict_y(__,__,__):\n",
    "    \n",
    "    return y_pred"
   ]
  },
  {
   "cell_type": "code",
   "execution_count": null,
   "id": "341caaf5-d1c1-4784-a851-1a86cd6c773a",
   "metadata": {},
   "outputs": [],
   "source": [
    "y_pred =  predict_y(__,__,__)\n",
    "print(y_pred)"
   ]
  },
  {
   "cell_type": "markdown",
   "id": "2790aed7-4921-4950-a351-4e596139f735",
   "metadata": {},
   "source": [
    "### 4.Plot Actual and Predicted Values"
   ]
  },
  {
   "cell_type": "code",
   "execution_count": null,
   "id": "57217a02-ed0d-460e-b321-1d8d9a33cf29",
   "metadata": {},
   "outputs": [],
   "source": [
    "# Plot the data points\n",
    "_________________________\n",
    "_________________________\n",
    "# Set the title\n",
    "plt.title(\"Housing Prices\")\n",
    "# Set the y-axis label\n",
    "plt.ylabel('Price (in 1000s of dollars)')\n",
    "# Set the x-axis label\n",
    "plt.xlabel('Size (1000 sqft)')\n",
    "plt.show()"
   ]
  },
  {
   "cell_type": "markdown",
   "id": "5a674370-64e7-408b-a222-e94b2601e162",
   "metadata": {},
   "source": [
    "### 5. Fit the Linear Regression curve on predicted values"
   ]
  },
  {
   "cell_type": "code",
   "execution_count": null,
   "id": "eb7254e9-29f2-4286-9b2d-39ab3f9ead0b",
   "metadata": {},
   "outputs": [],
   "source": [
    "# Plot the data points\n",
    "______________________________________\n",
    "______________________________________\n",
    "\n",
    "# Define two points using NumPy arrays\n",
    "_______________________________________\n",
    "_______________________________________\n",
    "\n",
    "# Plotting the line\n",
    "plt.plot(x_values, y_values, label=f'y = {w}x + {b}', color='blue')\n",
    "\n",
    "# Set the title\n",
    "plt.title(\"Housing Prices\")\n",
    "# Set the y-axis label\n",
    "plt.ylabel('Price (in 1000s of dollars)')\n",
    "# Set the x-axis label\n",
    "plt.xlabel('Size (1000 sqft)')\n",
    "\n",
    "# Show the legend\n",
    "plt.grid(True)\n",
    "plt.legend()\n",
    "plt.show()"
   ]
  },
  {
   "cell_type": "markdown",
   "id": "633bd363-5c33-49f4-96c6-a81b088e1826",
   "metadata": {},
   "source": [
    "### 6. Cost calculation Using Cost Function"
   ]
  },
  {
   "cell_type": "code",
   "execution_count": null,
   "id": "4fb75b68-a67f-41a1-8d69-b4b293517178",
   "metadata": {},
   "outputs": [],
   "source": [
    "def calculate_cost(___,___):\n",
    "\n",
    "\n",
    "    \n",
    "    return j"
   ]
  },
  {
   "cell_type": "code",
   "execution_count": null,
   "id": "6671f01c-b004-4cdb-a337-375524e401d1",
   "metadata": {},
   "outputs": [],
   "source": [
    "cost = calculate_cost(___,___)\n",
    "print(cost)"
   ]
  },
  {
   "cell_type": "markdown",
   "id": "6cb109ed-33b0-452e-9aa4-c0fbb0d32bc1",
   "metadata": {},
   "source": [
    "### 7. Calculate Gradient"
   ]
  },
  {
   "cell_type": "code",
   "execution_count": null,
   "id": "039e7907-5209-460f-98bc-8b3f673ab9c4",
   "metadata": {},
   "outputs": [],
   "source": [
    "def Calculate_gradient(__,__,__):\n",
    "\n",
    "    \n",
    "    return dj_dw, dj_db"
   ]
  },
  {
   "cell_type": "code",
   "execution_count": null,
   "id": "376949c8-80ca-4814-b7f6-89765efd8c1c",
   "metadata": {},
   "outputs": [],
   "source": [
    "dj_dw, dj_db = Calculate_gradient(__,__,__)\n",
    "print( dj_dw)\n",
    "print( dj_db)"
   ]
  },
  {
   "cell_type": "markdown",
   "id": "05cdd101-e33c-473c-a503-af2f810c495f",
   "metadata": {},
   "source": [
    "### 8. Optimize Weights"
   ]
  },
  {
   "cell_type": "code",
   "execution_count": null,
   "id": "1e7e92ef-7889-44a4-ad51-a6bcafdf1f12",
   "metadata": {},
   "outputs": [],
   "source": [
    "def optimize_weights(w,x,b,y,iter,alpha):\n",
    "    dj_dw = dj_db = 0\n",
    "    w_all = np.zeros(__)\n",
    "    b_all = np.zeros(__)\n",
    "    cost_all = np.zeros(__)\n",
    "    \n",
    "    for i in range(0,iter):\n",
    "        w = ________________\n",
    "        b = ________________\n",
    "        y_pred = predict_y(__,__,__)\n",
    "        cost = calculate_cost(__,__)\n",
    "        print(f\"For Iteration{i} w = {w}, b = {b} and cost = {cost}\")\n",
    "        dj_dw, dj_db = Calculate_gradient(__,__,__)\n",
    "        w_all[i] = w\n",
    "        b_all[i] = b\n",
    "        cost_all[i] = cost\n",
    "        \n",
    "    return w_all,b_all,cost_all\n",
    "        "
   ]
  },
  {
   "cell_type": "code",
   "execution_count": null,
   "id": "0e8c7cfe-e4cb-4987-9e94-7b13e2cdd940",
   "metadata": {},
   "outputs": [],
   "source": [
    "w = __\n",
    "b = __\n",
    "x = __\n",
    "y = __\n",
    "iter = __\n",
    "alpha = __\n",
    "w_all, b_all, cost_all = optimize_weights(w,x,b,y,iter,alpha)"
   ]
  },
  {
   "cell_type": "code",
   "execution_count": null,
   "id": "dbf449ef-0331-4430-b655-5c4cf688c3cc",
   "metadata": {},
   "outputs": [],
   "source": [
    "min_value = np.min(cost_all) # Finding the minimum value\n",
    "min_index = np.argmin(cost_all) # Finding the position (index) of the minimum value\n",
    "cost = cost_all[min_index]\n",
    "w = w_all[min_index]\n",
    "b = b_all[min_index]\n",
    "print(f\"Optimize value of w = {w}, b = {b}, with Cost = {cost}\")"
   ]
  },
  {
   "cell_type": "markdown",
   "id": "1ec3947e-0e2d-4f35-aa46-525b0603934c",
   "metadata": {},
   "source": [
    "### 9. Scatter Plot and Curve fitting for optimized value of w and b"
   ]
  },
  {
   "cell_type": "code",
   "execution_count": null,
   "id": "b8238e25-7fde-4099-865c-1ccd0b576979",
   "metadata": {},
   "outputs": [],
   "source": [
    "import numpy as np\n",
    "import matplotlib.pyplot as plt"
   ]
  },
  {
   "cell_type": "code",
   "execution_count": null,
   "id": "a334fe16-9ff4-4789-8dcc-55ba0d3602f7",
   "metadata": {},
   "outputs": [],
   "source": [
    "x = np.array([1.0,1.7,2.0,2.5,3.0,3.2])\n",
    "y_pred = predict_y(x,w,b)\n",
    "print(y_pred)"
   ]
  },
  {
   "cell_type": "code",
   "execution_count": null,
   "id": "6edde2d8-6d2c-4d91-96f8-45045fe470f1",
   "metadata": {},
   "outputs": [],
   "source": [
    "# Plot the data points\n",
    "____________________________________\n",
    "____________________________________\n",
    "\n",
    "# Set the title\n",
    "plt.title(\"Housing Prices\")\n",
    "# Set the y-axis label\n",
    "plt.ylabel('Price (in 1000s of dollars)')\n",
    "# Set the x-axis label\n",
    "plt.xlabel('Size (1000 sqft)')\n",
    "\n",
    "plt.grid(True)\n",
    "plt.legend()\n",
    "plt.show()"
   ]
  },
  {
   "cell_type": "code",
   "execution_count": null,
   "id": "04271f97-67f0-4419-ac7c-93bd2dd37a51",
   "metadata": {},
   "outputs": [],
   "source": [
    "# Plot the data points\n",
    "________________________________________________\n",
    "________________________________________________\n",
    "\n",
    "# Define two points using NumPy arrays\n",
    "________________________________________________\n",
    "________________________________________________\n",
    "\n",
    "# Plotting the line\n",
    "plt.plot(x_values, y_values, label=f'y = {w}x + {b}', color='blue')\n",
    "\n",
    "# Set the title\n",
    "plt.title(\"Housing Prices\")\n",
    "# Set the y-axis label\n",
    "plt.ylabel('Price (in 1000s of dollars)')\n",
    "# Set the x-axis label\n",
    "plt.xlabel('Size (1000 sqft)')\n",
    "\n",
    "# Show the legend\n",
    "plt.grid(True)\n",
    "plt.legend()\n",
    "plt.show()"
   ]
  },
  {
   "cell_type": "markdown",
   "id": "bba2309e-9754-4a72-9dcb-233106404717",
   "metadata": {},
   "source": [
    "### 10. Plot Cost Function w.r.t number of iteration"
   ]
  },
  {
   "cell_type": "code",
   "execution_count": null,
   "id": "30ea2dee-1a35-4871-985e-5c9a8029549a",
   "metadata": {},
   "outputs": [],
   "source": [
    "import numpy as np\n",
    "import matplotlib.pyplot as plt\n",
    "\n",
    "# Plotting the weight values over iterations\n",
    "plt.figure(figsize=(8, 12))\n",
    "\n",
    "# Plot for cost_all\n",
    "plt.subplot(3, 1, 3)\n",
    "plt.plot(cost_all, color='red')\n",
    "plt.title('Cost Function Value over Iterations')\n",
    "plt.xlabel('Iterations')\n",
    "plt.ylabel('Cost')\n",
    "\n",
    "# Adjust the layout and show the plots\n",
    "plt.tight_layout()\n",
    "plt.show()\n"
   ]
  },
  {
   "cell_type": "markdown",
   "id": "e4742ed7-9a8b-426d-8c90-18db66f97359",
   "metadata": {},
   "source": [
    "### 11. Number of iteration required for training"
   ]
  },
  {
   "cell_type": "code",
   "execution_count": null,
   "id": "58b4182b-faa1-4709-ba8f-4f8d92e94122",
   "metadata": {},
   "outputs": [],
   "source": [
    " iteration = 500"
   ]
  },
  {
   "cell_type": "markdown",
   "id": "8a9b94c3-8446-4980-ba6e-dbd8169b1d3d",
   "metadata": {},
   "source": [
    "### 12. Cost function plot w.r.t w and b"
   ]
  },
  {
   "cell_type": "code",
   "execution_count": null,
   "id": "25a2bb64-71e8-4ab6-b560-734448630ec5",
   "metadata": {},
   "outputs": [],
   "source": [
    "import numpy as np\n",
    "import matplotlib.pyplot as plt\n",
    "from mpl_toolkits.mplot3d import Axes3D\n",
    "\n",
    "# Create a 3D plot\n",
    "fig = plt.figure(figsize=(10, 8))\n",
    "ax = fig.add_subplot(111, projection='3d')\n",
    "\n",
    "# Plotting the surface\n",
    "ax.plot_trisurf(w_all, b_all, cost_all, cmap='viridis', edgecolor='none')\n",
    "\n",
    "# Set labels\n",
    "ax.set_title('Cost Function with respect to w and b')\n",
    "ax.set_xlabel('Weight (w)')\n",
    "ax.set_ylabel('Bias (b)')\n",
    "ax.set_zlabel('Cost')\n",
    "\n",
    "# Show the plot\n",
    "plt.show()\n"
   ]
  },
  {
   "cell_type": "raw",
   "id": "ed195eec-38b8-4011-b036-73862ccc4e6e",
   "metadata": {},
   "source": [
    "!pip install scipy"
   ]
  },
  {
   "cell_type": "markdown",
   "id": "00f081d4-6107-4aca-bb33-a24e67bbc5e1",
   "metadata": {},
   "source": [
    "## Example-2:\n",
    "Given below is the Years of Experience (in years) and the Salary (in thousands of dollars) for employees in a tech company:\n",
    "<div style=\"text-align: center;\">\n",
    "    <img src=\"Salary.png\" alt=\"Employee Table\" style=\"width:35%;\"/>\n",
    "</div>\n",
    "\n",
    "1) Plot the given data of Years of Experience and Salary in a Scatter Plot.\n",
    "2) Form the Linear Regression model with w=8 and  𝑏 = 0\n",
    "3) Predict the Salary using the Linear Regression model when 𝑤 = 8 and  b=0\n",
    "4) Plot both Predicted and Actual Values of the Salary in a Scatter Plot.\n",
    "5) Fit the Linear Regression Line for the Predicted Values of the Salary with respect to Years of Experience.\n",
    "6) Calculate the Cost Value using the Linear Regression Cost Function.\n",
    "7) Find the Optimized Values of 𝑤 and b using the Gradient Descent algorithm. (Take initial values w=5, b=30, iterations = 100, and LR = 0.01)\n",
    "8) Fit the Linear Regression line using the optimized values of w and b, and also show the Actual and Predicted values on a Scatter Plot.\n",
    "9) Plot the Curve to show How the Cost Value changes with respect to the Number of Iterations.\n",
    "10) From the Graph, determine How Many Iterations are sufficient to train the Model.\n",
    "11) Plot the Curve to show How Cost Values change with respect to weights."
   ]
  },
  {
   "cell_type": "code",
   "execution_count": null,
   "id": "e7dc30ee-b4ee-4177-b194-6dcf7566c6f7",
   "metadata": {},
   "outputs": [],
   "source": []
  }
 ],
 "metadata": {
  "kernelspec": {
   "display_name": "Python 3 (ipykernel)",
   "language": "python",
   "name": "python3"
  },
  "language_info": {
   "codemirror_mode": {
    "name": "ipython",
    "version": 3
   },
   "file_extension": ".py",
   "mimetype": "text/x-python",
   "name": "python",
   "nbconvert_exporter": "python",
   "pygments_lexer": "ipython3",
   "version": "3.11.4"
  }
 },
 "nbformat": 4,
 "nbformat_minor": 5
}
