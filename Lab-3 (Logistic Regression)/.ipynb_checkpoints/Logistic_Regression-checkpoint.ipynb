{
 "cells": [
  {
   "cell_type": "markdown",
   "id": "b15e2b6d-ccf4-4fcc-b1a2-a177dbb9f208",
   "metadata": {},
   "source": [
    "#### Question"
   ]
  },
  {
   "cell_type": "raw",
   "id": "3091e9a0-a8a0-4f9c-aab6-9d9c31b9422f",
   "metadata": {},
   "source": [
    "1) Load the data and split into train and test set with ration 80:20\n",
    "2) Train the Model upto 1000 iteration use Gradient descent Algorithm (use initial w1 = 0, w2 = 0.3, b = -10)\n",
    "3) Draw Loss Function\n",
    "4) Find TP,TN,FP,FN, Accuracy, Precission, Recall and F1 Score For train data.\n",
    "5) Find TP,TN,FP,FN, Accuracy, Precission, Recall and F1 Score For test data.\n",
    "6) Implement Regularization"
   ]
  },
  {
   "cell_type": "markdown",
   "id": "b627d721-801b-4a05-a70c-2c59082a67af",
   "metadata": {},
   "source": [
    "#### Load Data"
   ]
  },
  {
   "cell_type": "code",
   "execution_count": null,
   "id": "57bd2232-668f-4447-aab0-385b7e63cda2",
   "metadata": {},
   "outputs": [],
   "source": [
    "import pandas as pd\n",
    "import numpy as np\n",
    "import matplotlib.pyplot as plt"
   ]
  },
  {
   "cell_type": "code",
   "execution_count": null,
   "id": "9420d7bb-d13c-4cce-aaa4-95edffa4cb4d",
   "metadata": {},
   "outputs": [],
   "source": [
    "df = pd.read_csv(\"ex2data1.csv\")\n",
    "print(len(df))\n",
    "df.head()"
   ]
  },
  {
   "cell_type": "markdown",
   "id": "d8b5baa6-e391-40f5-90a8-c63f9b4bc6a3",
   "metadata": {},
   "source": [
    "#### Train and Test set"
   ]
  },
  {
   "cell_type": "code",
   "execution_count": null,
   "id": "0db0a655-3158-47da-9cf0-a15b6369450e",
   "metadata": {},
   "outputs": [],
   "source": [
    "train_count =\n",
    "df_train = \n",
    "df_test = "
   ]
  },
  {
   "cell_type": "markdown",
   "id": "37cc5eec-a907-491a-9d9c-015ddced20e9",
   "metadata": {},
   "source": [
    "#### Convert Features to Numpy Array"
   ]
  },
  {
   "cell_type": "code",
   "execution_count": null,
   "id": "8bdf815c-3042-4a45-bb94-75da19798402",
   "metadata": {},
   "outputs": [],
   "source": [
    "x1 = \n",
    "x2 =\n",
    "y_train = \n",
    "x_train = \n",
    "m = len(x1)"
   ]
  },
  {
   "cell_type": "markdown",
   "id": "fdd988ec-68f7-4a77-bf95-48e192f1a773",
   "metadata": {},
   "source": [
    "#### Prediction Function"
   ]
  },
  {
   "cell_type": "code",
   "execution_count": null,
   "id": "5f8fbc69-c458-4e1e-9448-c88945e718d0",
   "metadata": {},
   "outputs": [],
   "source": [
    "def predict_y(w,x_train,b):\n",
    "    \n",
    "                \n",
    "    return y_pred"
   ]
  },
  {
   "cell_type": "markdown",
   "id": "9dd03992-2c9b-4dcf-bddc-e95810385a55",
   "metadata": {},
   "source": [
    "#### Cost Function"
   ]
  },
  {
   "cell_type": "code",
   "execution_count": null,
   "id": "238fae7d-eb50-4b77-bfd8-ac0f24a124b3",
   "metadata": {},
   "outputs": [],
   "source": [
    "def calculate_cost(y_train,y_pred):\n",
    "     \n",
    "     return cost"
   ]
  },
  {
   "cell_type": "markdown",
   "id": "1795f097-bbcd-418c-8d6e-ca06e310bbdf",
   "metadata": {},
   "source": [
    "#### Calculate Gradient"
   ]
  },
  {
   "cell_type": "code",
   "execution_count": null,
   "id": "320f4d45-59b2-4efd-8f88-8ebfcc05549d",
   "metadata": {},
   "outputs": [],
   "source": [
    "def calculate_grdaient(y_train,y_pred):\n",
    "  \n",
    "    return dj_dw, dj_db"
   ]
  },
  {
   "cell_type": "markdown",
   "id": "f7a57e6c-09ec-4556-94cd-3be8920d3b9c",
   "metadata": {},
   "source": [
    "#### Optimise Weights"
   ]
  },
  {
   "cell_type": "code",
   "execution_count": null,
   "id": "0df674f7-53c3-43da-944e-e701c4bd9a55",
   "metadata": {},
   "outputs": [],
   "source": [
    "def optimise_weights(w,x_train,b,alpha,iter):\n",
    "    \n",
    "        \n",
    "    return w_all,b_all,cost_all"
   ]
  },
  {
   "cell_type": "code",
   "execution_count": null,
   "id": "a5e4bdc5-e312-4189-ba9e-706cbbaf1b93",
   "metadata": {},
   "outputs": [],
   "source": [
    "w = np.array([0,0])\n",
    "x_train = np.array([x1,x2])\n",
    "b  = 0\n",
    "alpha = 0.001\n",
    "iter = 1000\n",
    "w_all,b_all,cost_all = optimise_weights(w,x_train,b,alpha,iter)"
   ]
  },
  {
   "cell_type": "code",
   "execution_count": null,
   "id": "b0e598cd-3298-4503-98a9-1cebb679c0f8",
   "metadata": {},
   "outputs": [],
   "source": [
    "min_value = np.min(cost_all) # Finding the minimum value\n",
    "min_index = np.argmin(cost_all) # Finding the position (index) of the minimum value\n",
    "cost = cost_all[min_index]\n",
    "w = w_all[min_index]\n",
    "b = b_all[min_index]\n",
    "print(f\"Optimize value of w = {w}, b = {b}, with Cost = {cost} at iteration : {min_index}\")"
   ]
  },
  {
   "cell_type": "markdown",
   "id": "7f3387c4-412b-4b34-b683-fd160285ec52",
   "metadata": {},
   "source": [
    "#### Loss Function"
   ]
  },
  {
   "cell_type": "code",
   "execution_count": null,
   "id": "203d050a-52d0-4006-97e2-f131516a2ef4",
   "metadata": {},
   "outputs": [],
   "source": [
    "import numpy as np\n",
    "import matplotlib.pyplot as plt\n",
    "\n",
    "# Plotting the weight values over iterations\n",
    "plt.figure(figsize=(8, 6))\n",
    "\n",
    "# Plot for cost_all\n",
    "plt.plot(cost_all, color='red')\n",
    "plt.title('Cost Function Value over Iterations')\n",
    "plt.xlabel('Iterations')\n",
    "plt.ylabel('Cost')\n",
    "\n",
    "# Adjust the layout and show the plots\n",
    "plt.tight_layout()\n",
    "plt.show()"
   ]
  },
  {
   "cell_type": "markdown",
   "id": "26f7b951-e953-4fb6-9063-0ca154ac17ca",
   "metadata": {},
   "source": [
    "#### Calculate Metric"
   ]
  },
  {
   "cell_type": "code",
   "execution_count": null,
   "id": "0e7d068a-2742-4bad-a176-4cd4bf1c18f7",
   "metadata": {},
   "outputs": [],
   "source": [
    "print(f\"y : {y_train}\")\n",
    "print(f\"y_pred : {y_pred}\")"
   ]
  },
  {
   "cell_type": "code",
   "execution_count": null,
   "id": "fea51a5b-9c6d-46b6-8755-024e942ed60d",
   "metadata": {},
   "outputs": [],
   "source": [
    "def Calculate_Metric(--,--):\n",
    "\n",
    "\n",
    "\n",
    "\n",
    "\n",
    "\n",
    "    \n",
    "    \n",
    "    return TP,TN,FP,FN,Accuracy,Recall,Precission,F1_Score\n"
   ]
  },
  {
   "cell_type": "code",
   "execution_count": null,
   "id": "4ab1652a-b328-4c7a-92e8-7c8d228d5242",
   "metadata": {},
   "outputs": [],
   "source": [
    "TP,TN,FP,FN,Accuracy,Recall,Precission,F1_Score = Calculate_Metric(--,--)\n",
    "\n",
    "print(f\"True Positive : {TP}\")\n",
    "print(f\"True Negative : {TN}\")\n",
    "print(f\"False Positive : {FP}\")\n",
    "print(f\"False Negative : {FN}\")\n",
    "print(f\"Accuracy : {Accuracy}\")\n",
    "print(f\"Recall : {Recall}\")\n",
    "print(f\"Precission : {Precission}\")\n",
    "print(f\"F1 Score : {F1_Score}\")"
   ]
  },
  {
   "cell_type": "markdown",
   "id": "43f95913-c2f4-4dc0-aad8-e122ff598054",
   "metadata": {},
   "source": [
    "#### Evaluation Metric for Test Data "
   ]
  },
  {
   "cell_type": "code",
   "execution_count": null,
   "id": "f13f80ee-f217-486d-80c4-e2f25012c343",
   "metadata": {},
   "outputs": [],
   "source": []
  }
 ],
 "metadata": {
  "kernelspec": {
   "display_name": "Python 3 (ipykernel)",
   "language": "python",
   "name": "python3"
  },
  "language_info": {
   "codemirror_mode": {
    "name": "ipython",
    "version": 3
   },
   "file_extension": ".py",
   "mimetype": "text/x-python",
   "name": "python",
   "nbconvert_exporter": "python",
   "pygments_lexer": "ipython3",
   "version": "3.11.4"
  }
 },
 "nbformat": 4,
 "nbformat_minor": 5
}
