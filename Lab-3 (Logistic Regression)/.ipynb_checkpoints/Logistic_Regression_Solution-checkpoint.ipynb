{
 "cells": [
  {
   "cell_type": "markdown",
   "id": "b15e2b6d-ccf4-4fcc-b1a2-a177dbb9f208",
   "metadata": {},
   "source": [
    "#### Question"
   ]
  },
  {
   "cell_type": "raw",
   "id": "3091e9a0-a8a0-4f9c-aab6-9d9c31b9422f",
   "metadata": {},
   "source": [
    "1) Load the data and split into train and test set with ration 80:20\n",
    "2) Train the Model upto 1000 iteration use Gradient descent Algorithm (w1 = 0.0, w2 = 0.3, b = -10)\n",
    "3) Draw Loss Function\n",
    "4) Find TP,TN,FP,FN, Accuracy, Precission, Recall and F1 Score For train data.\n",
    "5) Find TP,TN,FP,FN, Accuracy, Precission, Recall and F1 Score For test data.\n",
    "6) Implement Regularization"
   ]
  },
  {
   "cell_type": "markdown",
   "id": "b627d721-801b-4a05-a70c-2c59082a67af",
   "metadata": {},
   "source": [
    "#### Load Data"
   ]
  },
  {
   "cell_type": "code",
   "execution_count": 1,
   "id": "57bd2232-668f-4447-aab0-385b7e63cda2",
   "metadata": {},
   "outputs": [],
   "source": [
    "import pandas as pd\n",
    "import numpy as np\n",
    "import matplotlib.pyplot as plt"
   ]
  },
  {
   "cell_type": "code",
   "execution_count": 2,
   "id": "9420d7bb-d13c-4cce-aaa4-95edffa4cb4d",
   "metadata": {},
   "outputs": [
    {
     "name": "stdout",
     "output_type": "stream",
     "text": [
      "217\n"
     ]
    },
    {
     "data": {
      "text/html": [
       "<div>\n",
       "<style scoped>\n",
       "    .dataframe tbody tr th:only-of-type {\n",
       "        vertical-align: middle;\n",
       "    }\n",
       "\n",
       "    .dataframe tbody tr th {\n",
       "        vertical-align: top;\n",
       "    }\n",
       "\n",
       "    .dataframe thead th {\n",
       "        text-align: right;\n",
       "    }\n",
       "</style>\n",
       "<table border=\"1\" class=\"dataframe\">\n",
       "  <thead>\n",
       "    <tr style=\"text-align: right;\">\n",
       "      <th></th>\n",
       "      <th>Exam_1</th>\n",
       "      <th>Exam_2</th>\n",
       "      <th>Admission Status</th>\n",
       "    </tr>\n",
       "  </thead>\n",
       "  <tbody>\n",
       "    <tr>\n",
       "      <th>0</th>\n",
       "      <td>76.098787</td>\n",
       "      <td>87.420570</td>\n",
       "      <td>1</td>\n",
       "    </tr>\n",
       "    <tr>\n",
       "      <th>1</th>\n",
       "      <td>55.482161</td>\n",
       "      <td>35.570703</td>\n",
       "      <td>0</td>\n",
       "    </tr>\n",
       "    <tr>\n",
       "      <th>2</th>\n",
       "      <td>82.368754</td>\n",
       "      <td>40.618255</td>\n",
       "      <td>0</td>\n",
       "    </tr>\n",
       "    <tr>\n",
       "      <th>3</th>\n",
       "      <td>34.212061</td>\n",
       "      <td>44.209529</td>\n",
       "      <td>0</td>\n",
       "    </tr>\n",
       "    <tr>\n",
       "      <th>4</th>\n",
       "      <td>16.647000</td>\n",
       "      <td>53.874000</td>\n",
       "      <td>1</td>\n",
       "    </tr>\n",
       "  </tbody>\n",
       "</table>\n",
       "</div>"
      ],
      "text/plain": [
       "      Exam_1     Exam_2  Admission Status\n",
       "0  76.098787  87.420570                 1\n",
       "1  55.482161  35.570703                 0\n",
       "2  82.368754  40.618255                 0\n",
       "3  34.212061  44.209529                 0\n",
       "4  16.647000  53.874000                 1"
      ]
     },
     "execution_count": 2,
     "metadata": {},
     "output_type": "execute_result"
    }
   ],
   "source": [
    "df = pd.read_csv(\"ex2data.csv\")\n",
    "print(len(df))\n",
    "df.head()"
   ]
  },
  {
   "cell_type": "markdown",
   "id": "d8b5baa6-e391-40f5-90a8-c63f9b4bc6a3",
   "metadata": {},
   "source": [
    "#### Train and Test set"
   ]
  },
  {
   "cell_type": "code",
   "execution_count": 3,
   "id": "0db0a655-3158-47da-9cf0-a15b6369450e",
   "metadata": {},
   "outputs": [],
   "source": [
    "train_count = int(0.8*len(df))\n",
    "df_train = df[0:train_count]\n",
    "df_test = df[train_count:]"
   ]
  },
  {
   "cell_type": "markdown",
   "id": "37cc5eec-a907-491a-9d9c-015ddced20e9",
   "metadata": {},
   "source": [
    "#### Convert Features to Numpy Array"
   ]
  },
  {
   "cell_type": "code",
   "execution_count": 4,
   "id": "8bdf815c-3042-4a45-bb94-75da19798402",
   "metadata": {},
   "outputs": [],
   "source": [
    "x1 = df_train['Exam_1'].to_numpy()\n",
    "x2 = df_train['Exam_2'].to_numpy()\n",
    "y_train = df_train['Admission Status'].to_numpy()\n",
    "x_train = np.array([x1,x2])\n",
    "y_train = np.array([y_train])"
   ]
  },
  {
   "cell_type": "markdown",
   "id": "fdd988ec-68f7-4a77-bf95-48e192f1a773",
   "metadata": {},
   "source": [
    "#### Prediction Function"
   ]
  },
  {
   "cell_type": "code",
   "execution_count": 5,
   "id": "5f8fbc69-c458-4e1e-9448-c88945e718d0",
   "metadata": {},
   "outputs": [],
   "source": [
    "def predict_y(w,x_train,b):\n",
    "    y_pred = np.zeros((1,m))\n",
    "    z = np.dot(w,x_train) + b\n",
    "    sig_z = np.divide(1, (1 + np.exp(-z)))\n",
    "    \n",
    "    for i in range(0,m):\n",
    "        if (sig_z[0,i] >= 0.5):\n",
    "            y_pred[0,i] = 1\n",
    "        else:\n",
    "            y_pred[0,i] = 0\n",
    "                \n",
    "    return y_pred"
   ]
  },
  {
   "cell_type": "code",
   "execution_count": 6,
   "id": "48f0f19f-ea92-4107-9c4c-57f22d112a87",
   "metadata": {},
   "outputs": [
    {
     "name": "stdout",
     "output_type": "stream",
     "text": [
      "y = [[1 0 0 0 1 0 0 0 1 1 0 1 0 1 0 1 1 1 1 0 1 0 0 1 0 1 1 1 1 1 0 1 0 0 0 1\n",
      "  0 1 0 0 0 1 1 0 0 0 1 1 0 0 1 1 1 1 0 1 1 0 0 0 0 1 1 1 0 0 0 0 0 1 1 1\n",
      "  1 1 1 1 0 1 1 1 0 0 1 0 0 1 1 0 0 1 1 0 1 1 0 0 0 1 1 1 0 1 1 1 1 1 0 1\n",
      "  1 1 0 1 1 1 1 1 1 0 1 0 1 0 1 0 1 1 1 0 0 1 0 1 1 1 0 1 1 1 0 1 0 1 0 1\n",
      "  1 1 0 1 0 1 1 1 0 0 1 0 1 1 0 0 0 1 1 0 1 1 0 1 1 1 0 0 0]]\n",
      "\n",
      "\n",
      "y_pred = [[1. 1. 1. 1. 1. 0. 1. 1. 1. 1. 1. 1. 1. 1. 0. 1. 1. 1. 1. 0. 1. 1. 1. 1.\n",
      "  0. 1. 1. 1. 1. 1. 0. 0. 1. 1. 1. 1. 1. 1. 1. 1. 1. 1. 1. 1. 0. 1. 1. 1.\n",
      "  1. 1. 1. 1. 1. 1. 1. 1. 1. 0. 1. 1. 0. 0. 1. 0. 0. 1. 0. 0. 1. 1. 1. 0.\n",
      "  0. 1. 0. 1. 1. 1. 1. 1. 1. 1. 0. 1. 1. 1. 1. 1. 1. 1. 1. 1. 1. 1. 1. 1.\n",
      "  0. 1. 0. 1. 1. 0. 1. 1. 0. 0. 1. 1. 0. 1. 1. 1. 1. 0. 1. 1. 1. 1. 1. 1.\n",
      "  1. 1. 1. 1. 1. 1. 1. 1. 1. 1. 1. 0. 1. 0. 1. 1. 1. 1. 1. 0. 1. 1. 1. 1.\n",
      "  0. 1. 1. 1. 0. 0. 1. 1. 1. 1. 1. 1. 0. 1. 0. 1. 0. 1. 1. 1. 1. 1. 1. 1.\n",
      "  1. 1. 1. 1. 1.]]\n"
     ]
    }
   ],
   "source": [
    "w = np.array([[0,0.3]])\n",
    "b  = -10\n",
    "m = len(x1)\n",
    "y_pred = predict_y(w,x_train,b)\n",
    "print(f\"y = {y_train}\") \n",
    "print(\"\\n\")\n",
    "print(f\"y_pred = {y_pred}\") "
   ]
  },
  {
   "cell_type": "markdown",
   "id": "9dd03992-2c9b-4dcf-bddc-e95810385a55",
   "metadata": {},
   "source": [
    "#### Cost Function"
   ]
  },
  {
   "cell_type": "code",
   "execution_count": 8,
   "id": "238fae7d-eb50-4b77-bfd8-ac0f24a124b3",
   "metadata": {},
   "outputs": [],
   "source": [
    "def calculate_cost(y, y_pred):\n",
    "     y_pred = np.clip(y_pred, 1e-15, 1 - 1e-15)  # Clip y_pred to avoid log(0) and log(1)\n",
    "     j = (1/m) * ( - np.dot(y, np.log(y_pred).T) - np.dot((1-y), np.log(1-y_pred).T) )\n",
    "     cost = j[0,0]\n",
    "     return cost"
   ]
  },
  {
   "cell_type": "code",
   "execution_count": 9,
   "id": "0eb934ff-f51f-4b03-aca6-30baaabcfd9c",
   "metadata": {},
   "outputs": [
    {
     "name": "stdout",
     "output_type": "stream",
     "text": [
      "cost = 15.5726689887365\n"
     ]
    }
   ],
   "source": [
    "m = len(x1)\n",
    "cost = calculate_cost(y_train,y_pred)\n",
    "print(f\"cost = {cost}\")"
   ]
  },
  {
   "cell_type": "markdown",
   "id": "1795f097-bbcd-418c-8d6e-ca06e310bbdf",
   "metadata": {},
   "source": [
    "#### Calculate Gradient"
   ]
  },
  {
   "cell_type": "code",
   "execution_count": 10,
   "id": "320f4d45-59b2-4efd-8f88-8ebfcc05549d",
   "metadata": {},
   "outputs": [],
   "source": [
    "def calculate_grdaient(y_train,y_pred):\n",
    "    m = len(x1)\n",
    "    diff = np.subtract(y_pred,y_train)\n",
    "    dj_dw = (1/m) * np.dot(diff,x_train.T)\n",
    "    dj_db = (1/m) * np.sum(diff)\n",
    "    return dj_dw, dj_db"
   ]
  },
  {
   "cell_type": "code",
   "execution_count": 11,
   "id": "7fba1a88-095a-4da0-874a-28a5a8700966",
   "metadata": {},
   "outputs": [
    {
     "name": "stdout",
     "output_type": "stream",
     "text": [
      "dj_dw : [[11.82276088 19.07630039]]\n",
      "dj_db : 0.23121387283236994\n"
     ]
    }
   ],
   "source": [
    "dj_dw, dj_db = calculate_grdaient(y_train,y_pred)\n",
    "print(f\"dj_dw : {dj_dw}\")\n",
    "print(f\"dj_db : {dj_db}\")"
   ]
  },
  {
   "cell_type": "markdown",
   "id": "f7a57e6c-09ec-4556-94cd-3be8920d3b9c",
   "metadata": {},
   "source": [
    "#### Optimise Weights"
   ]
  },
  {
   "cell_type": "code",
   "execution_count": 13,
   "id": "0df674f7-53c3-43da-944e-e701c4bd9a55",
   "metadata": {},
   "outputs": [],
   "source": [
    "def optimise_weights(w,x_train,b,alpha,iter):\n",
    "    dj_dw = np.zeros((1,2))\n",
    "    dj_db = 0\n",
    "    w_all = np.zeros((iter,2))\n",
    "    b_all = np.zeros(iter)\n",
    "    cost_all = np.zeros(iter)\n",
    "    \n",
    "    for i in range(0,iter):\n",
    "        w = w - alpha * dj_dw\n",
    "        b = b - alpha * dj_db\n",
    "        y_pred = predict_y(w,x_train,b)\n",
    "        j = calculate_cost(y_train, y_pred)\n",
    "        dj_dw, dj_db = calculate_grdaient(y_train,y_pred)\n",
    "        print(f\"Iteration : {i}, w = {w}, b = {b:.4f}, Cost = {j:.4f}\")\n",
    "        w_all[i,] = w\n",
    "        b_all[i] = b\n",
    "        cost_all[i] = j\n",
    "        \n",
    "    return w_all,b_all,cost_all"
   ]
  },
  {
   "cell_type": "code",
   "execution_count": 14,
   "id": "a5e4bdc5-e312-4189-ba9e-706cbbaf1b93",
   "metadata": {},
   "outputs": [
    {
     "name": "stdout",
     "output_type": "stream",
     "text": [
      "Iteration : 0, w = [[0.1  0.02]], b = -7.0000, Cost = 15.9718\n",
      "Iteration : 1, w = [[0.09620972 0.02667715]], b = -6.9999, Cost = 15.9718\n",
      "Iteration : 2, w = [[0.09132184 0.0309879 ]], b = -6.9998, Cost = 15.3729\n",
      "Iteration : 3, w = [[0.08692393 0.03512103]], b = -6.9997, Cost = 15.3729\n",
      "Iteration : 4, w = [[0.08194167 0.03837778]], b = -6.9996, Cost = 15.3729\n",
      "Iteration : 5, w = [[0.07783967 0.04181216]], b = -6.9995, Cost = 14.9736\n",
      "Iteration : 6, w = [[0.07455228 0.04563322]], b = -6.9994, Cost = 14.5743\n",
      "Iteration : 7, w = [[0.07198349 0.04821408]], b = -6.9993, Cost = 14.1750\n",
      "Iteration : 8, w = [[0.07031677 0.05110305]], b = -6.9992, Cost = 14.3746\n",
      "Iteration : 9, w = [[0.0677301  0.05287087]], b = -6.9991, Cost = 13.9753\n",
      "Iteration : 10, w = [[0.06605884 0.05498907]], b = -6.9989, Cost = 13.5760\n",
      "Iteration : 11, w = [[0.06470989 0.05671007]], b = -6.9988, Cost = 13.3764\n",
      "Iteration : 12, w = [[0.06388003 0.05855065]], b = -6.9987, Cost = 13.9753\n",
      "Iteration : 13, w = [[0.06234236 0.05908442]], b = -6.9986, Cost = 13.3764\n",
      "Iteration : 14, w = [[0.06185832 0.06055384]], b = -6.9985, Cost = 14.1750\n",
      "Iteration : 15, w = [[0.0600921  0.06064809]], b = -6.9984, Cost = 13.1767\n",
      "Iteration : 16, w = [[0.06008787 0.06229793]], b = -6.9983, Cost = 13.5760\n",
      "Iteration : 17, w = [[0.05955388 0.06314335]], b = -6.9981, Cost = 13.5760\n",
      "Iteration : 18, w = [[0.0590199  0.06398877]], b = -6.9980, Cost = 13.5760\n",
      "Iteration : 19, w = [[0.05874527 0.06459115]], b = -6.9979, Cost = 13.9753\n",
      "Iteration : 20, w = [[0.05801761 0.06435032]], b = -6.9978, Cost = 13.3764\n",
      "Iteration : 21, w = [[0.05810265 0.06525363]], b = -6.9977, Cost = 13.7757\n",
      "Iteration : 22, w = [[0.05776775 0.06528263]], b = -6.9976, Cost = 13.5760\n",
      "Iteration : 23, w = [[0.05779252 0.06561255]], b = -6.9975, Cost = 13.7757\n",
      "Iteration : 24, w = [[0.05745762 0.06564154]], b = -6.9974, Cost = 13.5760\n",
      "Iteration : 25, w = [[0.05748239 0.06597147]], b = -6.9972, Cost = 13.7757\n",
      "Iteration : 26, w = [[0.05714749 0.06600046]], b = -6.9971, Cost = 13.5760\n",
      "Iteration : 27, w = [[0.05717226 0.06633038]], b = -6.9970, Cost = 13.7757\n",
      "Iteration : 28, w = [[0.05683736 0.06635937]], b = -6.9969, Cost = 13.5760\n",
      "Iteration : 29, w = [[0.05686213 0.0666893 ]], b = -6.9968, Cost = 13.7757\n",
      "Iteration : 30, w = [[0.05652723 0.06671829]], b = -6.9967, Cost = 13.5760\n",
      "Iteration : 31, w = [[0.056552   0.06704821]], b = -6.9966, Cost = 13.5761\n",
      "Iteration : 32, w = [[0.05596105 0.06668974]], b = -6.9965, Cost = 13.5760\n",
      "Iteration : 33, w = [[0.05598582 0.06701966]], b = -6.9963, Cost = 13.5760\n",
      "Iteration : 34, w = [[0.05601058 0.06734958]], b = -6.9962, Cost = 13.5760\n",
      "Iteration : 35, w = [[0.05603535 0.06767951]], b = -6.9961, Cost = 13.9754\n",
      "Iteration : 36, w = [[0.05498861 0.06650203]], b = -6.9960, Cost = 13.7757\n",
      "Iteration : 37, w = [[0.05543259 0.06708843]], b = -6.9959, Cost = 13.5760\n",
      "Iteration : 38, w = [[0.05545736 0.06741835]], b = -6.9958, Cost = 13.5760\n",
      "Iteration : 39, w = [[0.05548213 0.06774828]], b = -6.9957, Cost = 13.3764\n",
      "Iteration : 40, w = [[0.05525084 0.06769073]], b = -6.9956, Cost = 13.5760\n",
      "Iteration : 41, w = [[0.05527561 0.06802066]], b = -6.9954, Cost = 13.5761\n",
      "Iteration : 42, w = [[0.05484674 0.06752821]], b = -6.9953, Cost = 13.7757\n",
      "Iteration : 43, w = [[0.05529071 0.06811461]], b = -6.9952, Cost = 13.7757\n",
      "Iteration : 44, w = [[0.05460364 0.06723806]], b = -6.9951, Cost = 13.7757\n",
      "Iteration : 45, w = [[0.05504762 0.06782447]], b = -6.9950, Cost = 13.5760\n",
      "Iteration : 46, w = [[0.05507239 0.06815439]], b = -6.9949, Cost = 13.5761\n",
      "Iteration : 47, w = [[0.05464351 0.06766194]], b = -6.9948, Cost = 13.7757\n",
      "Iteration : 48, w = [[0.05508749 0.06824835]], b = -6.9947, Cost = 13.7757\n",
      "Iteration : 49, w = [[0.05440041 0.0673718 ]], b = -6.9946, Cost = 13.7757\n",
      "Iteration : 50, w = [[0.05484439 0.0679582 ]], b = -6.9944, Cost = 13.7757\n",
      "Iteration : 51, w = [[0.05528837 0.0685446 ]], b = -6.9943, Cost = 13.9754\n",
      "Iteration : 52, w = [[0.05424163 0.06736712]], b = -6.9942, Cost = 13.7757\n",
      "Iteration : 53, w = [[0.0546856  0.06795353]], b = -6.9941, Cost = 13.7757\n",
      "Iteration : 54, w = [[0.05512958 0.06853993]], b = -6.9940, Cost = 13.9754\n",
      "Iteration : 55, w = [[0.05408284 0.06736245]], b = -6.9939, Cost = 13.7757\n",
      "Iteration : 56, w = [[0.05452682 0.06794885]], b = -6.9938, Cost = 13.7757\n",
      "Iteration : 57, w = [[0.05497079 0.06853526]], b = -6.9936, Cost = 13.7757\n",
      "Iteration : 58, w = [[0.05428372 0.06765871]], b = -6.9935, Cost = 13.7757\n",
      "Iteration : 59, w = [[0.0547277  0.06824511]], b = -6.9934, Cost = 13.5761\n",
      "Iteration : 60, w = [[0.05429882 0.06775266]], b = -6.9933, Cost = 13.7757\n",
      "Iteration : 61, w = [[0.0547428  0.06833907]], b = -6.9932, Cost = 13.5761\n",
      "Iteration : 62, w = [[0.05431392 0.06784662]], b = -6.9931, Cost = 13.7757\n",
      "Iteration : 63, w = [[0.0547579  0.06843303]], b = -6.9930, Cost = 13.7757\n",
      "Iteration : 64, w = [[0.05407082 0.06755648]], b = -6.9929, Cost = 13.7757\n",
      "Iteration : 65, w = [[0.0545148  0.06814288]], b = -6.9928, Cost = 13.7757\n",
      "Iteration : 66, w = [[0.05495878 0.06872928]], b = -6.9926, Cost = 13.9754\n",
      "Iteration : 67, w = [[0.05391204 0.0675518 ]], b = -6.9925, Cost = 13.7757\n",
      "Iteration : 68, w = [[0.05435601 0.0681382 ]], b = -6.9924, Cost = 13.7757\n",
      "Iteration : 69, w = [[0.05479999 0.06872461]], b = -6.9923, Cost = 13.7757\n",
      "Iteration : 70, w = [[0.05411292 0.06784806]], b = -6.9922, Cost = 13.7757\n",
      "Iteration : 71, w = [[0.05455689 0.06843446]], b = -6.9921, Cost = 13.5761\n",
      "Iteration : 72, w = [[0.05412802 0.06794202]], b = -6.9920, Cost = 13.7757\n",
      "Iteration : 73, w = [[0.05457199 0.06852842]], b = -6.9918, Cost = 13.5761\n",
      "Iteration : 74, w = [[0.05414312 0.06803597]], b = -6.9917, Cost = 13.7757\n",
      "Iteration : 75, w = [[0.0545871  0.06862238]], b = -6.9916, Cost = 13.7757\n",
      "Iteration : 76, w = [[0.05390002 0.06774583]], b = -6.9915, Cost = 13.7757\n",
      "Iteration : 77, w = [[0.054344   0.06833223]], b = -6.9914, Cost = 13.9753\n",
      "Iteration : 78, w = [[0.05459038 0.06848373]], b = -6.9913, Cost = 13.5761\n",
      "Iteration : 79, w = [[0.05416151 0.06799129]], b = -6.9912, Cost = 13.7757\n",
      "Iteration : 80, w = [[0.05460548 0.06857769]], b = -6.9911, Cost = 13.7757\n",
      "Iteration : 81, w = [[0.05391841 0.06770114]], b = -6.9910, Cost = 13.7757\n",
      "Iteration : 82, w = [[0.05436239 0.06828755]], b = -6.9908, Cost = 13.9753\n",
      "Iteration : 83, w = [[0.05460877 0.06843905]], b = -6.9907, Cost = 13.5761\n",
      "Iteration : 84, w = [[0.0541799 0.0679466]], b = -6.9906, Cost = 13.7757\n",
      "Iteration : 85, w = [[0.05462387 0.06853301]], b = -6.9905, Cost = 13.7757\n",
      "Iteration : 86, w = [[0.0539368  0.06765646]], b = -6.9904, Cost = 13.7757\n",
      "Iteration : 87, w = [[0.05438078 0.06824286]], b = -6.9903, Cost = 13.9753\n",
      "Iteration : 88, w = [[0.05462716 0.06839436]], b = -6.9902, Cost = 13.5761\n",
      "Iteration : 89, w = [[0.05419828 0.06790192]], b = -6.9901, Cost = 13.7757\n",
      "Iteration : 90, w = [[0.05464226 0.06848832]], b = -6.9899, Cost = 13.7757\n",
      "Iteration : 91, w = [[0.05395519 0.06761177]], b = -6.9898, Cost = 13.7757\n",
      "Iteration : 92, w = [[0.05439916 0.06819817]], b = -6.9897, Cost = 13.9753\n",
      "Iteration : 93, w = [[0.05464555 0.06834968]], b = -6.9896, Cost = 13.5761\n",
      "Iteration : 94, w = [[0.05421667 0.06785723]], b = -6.9895, Cost = 13.7757\n",
      "Iteration : 95, w = [[0.05466065 0.06844363]], b = -6.9894, Cost = 13.7757\n",
      "Iteration : 96, w = [[0.05397358 0.06756709]], b = -6.9893, Cost = 13.7757\n",
      "Iteration : 97, w = [[0.05441755 0.06815349]], b = -6.9892, Cost = 13.7757\n",
      "Iteration : 98, w = [[0.05486153 0.06873989]], b = -6.9890, Cost = 13.9754\n",
      "Iteration : 99, w = [[0.05381479 0.06756241]], b = -6.9889, Cost = 13.7757\n",
      "Iteration : 100, w = [[0.05425876 0.06814881]], b = -6.9888, Cost = 13.7757\n",
      "Iteration : 101, w = [[0.05470274 0.06873522]], b = -6.9887, Cost = 13.7757\n",
      "Iteration : 102, w = [[0.05401567 0.06785867]], b = -6.9886, Cost = 13.7757\n",
      "Iteration : 103, w = [[0.05445965 0.06844507]], b = -6.9885, Cost = 13.7757\n",
      "Iteration : 104, w = [[0.05444998 0.06820911]], b = -6.9884, Cost = 13.9753\n",
      "Iteration : 105, w = [[0.05469636 0.06836061]], b = -6.9883, Cost = 13.5761\n",
      "Iteration : 106, w = [[0.05426749 0.06786816]], b = -6.9882, Cost = 13.7757\n",
      "Iteration : 107, w = [[0.05471146 0.06845457]], b = -6.9880, Cost = 13.7757\n",
      "Iteration : 108, w = [[0.05402439 0.06757802]], b = -6.9879, Cost = 13.7757\n",
      "Iteration : 109, w = [[0.05446837 0.06816442]], b = -6.9878, Cost = 13.9753\n",
      "Iteration : 110, w = [[0.05471475 0.06831592]], b = -6.9877, Cost = 13.5761\n",
      "Iteration : 111, w = [[0.05428587 0.06782348]], b = -6.9876, Cost = 13.7757\n",
      "Iteration : 112, w = [[0.05472985 0.06840988]], b = -6.9875, Cost = 13.7757\n",
      "Iteration : 113, w = [[0.05404278 0.06753333]], b = -6.9874, Cost = 13.7757\n",
      "Iteration : 114, w = [[0.05448675 0.06811973]], b = -6.9873, Cost = 13.9753\n",
      "Iteration : 115, w = [[0.05473314 0.06827124]], b = -6.9871, Cost = 13.5761\n",
      "Iteration : 116, w = [[0.05430426 0.06777879]], b = -6.9870, Cost = 13.7757\n",
      "Iteration : 117, w = [[0.05474824 0.06836519]], b = -6.9869, Cost = 13.7757\n",
      "Iteration : 118, w = [[0.05406117 0.06748865]], b = -6.9868, Cost = 13.7757\n",
      "Iteration : 119, w = [[0.05450514 0.06807505]], b = -6.9867, Cost = 13.7757\n",
      "Iteration : 120, w = [[0.05494912 0.06866145]], b = -6.9866, Cost = 13.9754\n",
      "Iteration : 121, w = [[0.05390238 0.06748397]], b = -6.9865, Cost = 13.7757\n",
      "Iteration : 122, w = [[0.05434635 0.06807037]], b = -6.9864, Cost = 13.7757\n",
      "Iteration : 123, w = [[0.05479033 0.06865678]], b = -6.9862, Cost = 13.7757\n",
      "Iteration : 124, w = [[0.05410326 0.06778023]], b = -6.9861, Cost = 13.7757\n",
      "Iteration : 125, w = [[0.05454724 0.06836663]], b = -6.9860, Cost = 13.5761\n",
      "Iteration : 126, w = [[0.05411836 0.06787419]], b = -6.9859, Cost = 13.7757\n",
      "Iteration : 127, w = [[0.05456234 0.06846059]], b = -6.9858, Cost = 13.7757\n",
      "Iteration : 128, w = [[0.05387526 0.06758404]], b = -6.9857, Cost = 13.7757\n",
      "Iteration : 129, w = [[0.05431924 0.06817044]], b = -6.9856, Cost = 13.9753\n",
      "Iteration : 130, w = [[0.05456562 0.06832194]], b = -6.9855, Cost = 13.5761\n",
      "Iteration : 131, w = [[0.05413675 0.0678295 ]], b = -6.9854, Cost = 13.7757\n",
      "Iteration : 132, w = [[0.05458072 0.0684159 ]], b = -6.9852, Cost = 13.5761\n",
      "Iteration : 133, w = [[0.05415185 0.06792346]], b = -6.9851, Cost = 13.7757\n",
      "Iteration : 134, w = [[0.05459583 0.06850986]], b = -6.9850, Cost = 13.7757\n",
      "Iteration : 135, w = [[0.05390875 0.06763331]], b = -6.9849, Cost = 13.7757\n",
      "Iteration : 136, w = [[0.05435273 0.06821971]], b = -6.9848, Cost = 13.9753\n",
      "Iteration : 137, w = [[0.05459911 0.06837122]], b = -6.9847, Cost = 13.5761\n",
      "Iteration : 138, w = [[0.05417024 0.06787877]], b = -6.9846, Cost = 13.7757\n",
      "Iteration : 139, w = [[0.05461421 0.06846518]], b = -6.9844, Cost = 13.7757\n",
      "Iteration : 140, w = [[0.05392714 0.06758863]], b = -6.9843, Cost = 13.7757\n",
      "Iteration : 141, w = [[0.05437112 0.06817503]], b = -6.9842, Cost = 13.9753\n",
      "Iteration : 142, w = [[0.0546175  0.06832653]], b = -6.9841, Cost = 13.5761\n",
      "Iteration : 143, w = [[0.05418863 0.06783409]], b = -6.9840, Cost = 13.7757\n",
      "Iteration : 144, w = [[0.0546326  0.06842049]], b = -6.9839, Cost = 13.7757\n",
      "Iteration : 145, w = [[0.05394553 0.06754394]], b = -6.9838, Cost = 13.7757\n",
      "Iteration : 146, w = [[0.05438951 0.06813034]], b = -6.9837, Cost = 13.9753\n",
      "Iteration : 147, w = [[0.05463589 0.06828185]], b = -6.9835, Cost = 13.5761\n",
      "Iteration : 148, w = [[0.05420701 0.0677894 ]], b = -6.9834, Cost = 13.7757\n",
      "Iteration : 149, w = [[0.05465099 0.0683758 ]], b = -6.9833, Cost = 13.7757\n"
     ]
    }
   ],
   "source": [
    "w = np.array([0.1,0.02])\n",
    "x_train = np.array([x1,x2])\n",
    "b  = -7\n",
    "alpha = 0.001\n",
    "iter = 150\n",
    "w_all,b_all,cost_all = optimise_weights(w,x_train,b,alpha,iter)"
   ]
  },
  {
   "cell_type": "code",
   "execution_count": 15,
   "id": "b0e598cd-3298-4503-98a9-1cebb679c0f8",
   "metadata": {},
   "outputs": [
    {
     "name": "stdout",
     "output_type": "stream",
     "text": [
      "Optimize value of w = [0.0600921  0.06064809], b = -6.9983872832369975, with Cost = 13.17674470062179 at iteration : 15\n"
     ]
    }
   ],
   "source": [
    "min_value = np.min(cost_all) # Finding the minimum value\n",
    "min_index = np.argmin(cost_all) # Finding the position (index) of the minimum value\n",
    "cost = cost_all[min_index]\n",
    "w = w_all[min_index]\n",
    "b = b_all[min_index]\n",
    "print(f\"Optimize value of w = {w}, b = {b}, with Cost = {cost} at iteration : {min_index}\")"
   ]
  },
  {
   "cell_type": "markdown",
   "id": "7f3387c4-412b-4b34-b683-fd160285ec52",
   "metadata": {},
   "source": [
    "#### Loss Function"
   ]
  },
  {
   "cell_type": "code",
   "execution_count": 16,
   "id": "203d050a-52d0-4006-97e2-f131516a2ef4",
   "metadata": {},
   "outputs": [
    {
     "data": {
      "image/png": "[encoded data removed]",
      "text/plain": [
       "<Figure size 800x600 with 1 Axes>"
      ]
     },
     "metadata": {},
     "output_type": "display_data"
    }
   ],
   "source": [
    "import numpy as np\n",
    "import matplotlib.pyplot as plt\n",
    "\n",
    "# Plotting the weight values over iterations\n",
    "plt.figure(figsize=(8, 6))\n",
    "\n",
    "# Plot for cost_all\n",
    "plt.plot(cost_all, color='red')\n",
    "#plt.plot(cost_all, color='red')\n",
    "plt.title('Cost Function Value over Iterations')\n",
    "plt.xlabel('Iterations')\n",
    "plt.ylabel('Cost')\n",
    "\n",
    "# Adjust the layout and show the plots\n",
    "plt.tight_layout()\n",
    "plt.show()"
   ]
  },
  {
   "cell_type": "markdown",
   "id": "26f7b951-e953-4fb6-9063-0ca154ac17ca",
   "metadata": {},
   "source": [
    "#### Calculate Metric for Train Data"
   ]
  },
  {
   "cell_type": "code",
   "execution_count": 17,
   "id": "0e7d068a-2742-4bad-a176-4cd4bf1c18f7",
   "metadata": {},
   "outputs": [
    {
     "name": "stdout",
     "output_type": "stream",
     "text": [
      "y : [[1 0 0 0 1 0 0 0 1 1 0 1 0 1 0 1 1 1 1 0 1 0 0 1 0 1 1 1 1 1 0 1 0 0 0 1\n",
      "  0 1 0 0 0 1 1 0 0 0 1 1 0 0 1 1 1 1 0 1 1 0 0 0 0 1 1 1 0 0 0 0 0 1 1 1\n",
      "  1 1 1 1 0 1 1 1 0 0 1 0 0 1 1 0 0 1 1 0 1 1 0 0 0 1 1 1 0 1 1 1 1 1 0 1\n",
      "  1 1 0 1 1 1 1 1 1 0 1 0 1 0 1 0 1 1 1 0 0 1 0 1 1 1 0 1 1 1 0 1 0 1 0 1\n",
      "  1 1 0 1 0 1 1 1 0 0 1 0 1 1 0 0 0 1 1 0 1 1 0 1 1 1 0 0 0]]\n",
      "y_pred : [[1. 1. 1. 1. 1. 0. 1. 1. 1. 1. 1. 1. 1. 1. 0. 1. 1. 1. 1. 0. 1. 1. 1. 1.\n",
      "  0. 1. 1. 1. 1. 1. 0. 0. 1. 1. 1. 1. 1. 1. 1. 1. 1. 1. 1. 1. 0. 1. 1. 1.\n",
      "  1. 1. 1. 1. 1. 1. 1. 1. 1. 0. 1. 1. 0. 0. 1. 0. 0. 1. 0. 0. 1. 1. 1. 0.\n",
      "  0. 1. 0. 1. 1. 1. 1. 1. 1. 1. 0. 1. 1. 1. 1. 1. 1. 1. 1. 1. 1. 1. 1. 1.\n",
      "  0. 1. 0. 1. 1. 0. 1. 1. 0. 0. 1. 1. 0. 1. 1. 1. 1. 0. 1. 1. 1. 1. 1. 1.\n",
      "  1. 1. 1. 1. 1. 1. 1. 1. 1. 1. 1. 0. 1. 0. 1. 1. 1. 1. 1. 0. 1. 1. 1. 1.\n",
      "  0. 1. 1. 1. 0. 0. 1. 1. 1. 1. 1. 1. 0. 1. 0. 1. 0. 1. 1. 1. 1. 1. 1. 1.\n",
      "  1. 1. 1. 1. 1.]]\n"
     ]
    }
   ],
   "source": [
    "print(f\"y : {y_train}\")\n",
    "print(f\"y_pred : {y_pred}\")"
   ]
  },
  {
   "cell_type": "code",
   "execution_count": 18,
   "id": "fea51a5b-9c6d-46b6-8755-024e942ed60d",
   "metadata": {},
   "outputs": [
    {
     "name": "stdout",
     "output_type": "stream",
     "text": [
      "True Positive : 80\n",
      "True Negative : 15\n",
      "False Positive : 59\n",
      "False Negative : 19\n",
      "Accuracy : 0.5491329479768786\n",
      "Recall : 0.8080808080808081\n",
      "Precission : 0.5755395683453237\n",
      "F1 Score : 0.6722689075630253\n"
     ]
    }
   ],
   "source": [
    "def Calculate_Metric(y_pred,y_train):\n",
    "    TP = TN = FP = FN = 0\n",
    "    \n",
    "    for i in range(0,m):\n",
    "        if y_pred[0,i] == y_train[0,i] == 1:\n",
    "            TP = TP + 1\n",
    "        if y_pred[0,i] == y_train[0,i] == 0:\n",
    "            TN = TN + 1\n",
    "        if y_pred[0,i] == 1 and y_train[0,i] == 0:\n",
    "            FP = FP + 1\n",
    "        if y_pred[0,i] == 0 and y_train[0,i] == 1:\n",
    "            FN = FN + 1\n",
    "\n",
    "    Accuracy = (TP + TN)/(TP + TN + FP + FN)\n",
    "    Recall = TP / (TP + FN)\n",
    "    Precission = TP / (TP + FP)\n",
    "    F1_Score = 2 * (Precission*Recall)/(Precission+Recall)\n",
    "    \n",
    "    return TP,TN,FP,FN,Accuracy,Recall,Precission,F1_Score\n",
    "\n",
    "\n",
    "TP,TN,FP,FN,Accuracy,Recall,Precission,F1_Score = Calculate_Metric(y_pred,y_train)\n",
    "print(f\"True Positive : {TP}\")\n",
    "print(f\"True Negative : {TN}\")\n",
    "print(f\"False Positive : {FP}\")\n",
    "print(f\"False Negative : {FN}\")\n",
    "print(f\"Accuracy : {Accuracy}\")\n",
    "print(f\"Recall : {Recall}\")\n",
    "print(f\"Precission : {Precission}\")\n",
    "print(f\"F1 Score : {F1_Score}\")"
   ]
  },
  {
   "cell_type": "markdown",
   "id": "43f95913-c2f4-4dc0-aad8-e122ff598054",
   "metadata": {},
   "source": [
    "#### Calculate Metric for Test Data "
   ]
  },
  {
   "cell_type": "code",
   "execution_count": 19,
   "id": "4e4c793a-c136-4df3-b0e1-380e3e61030b",
   "metadata": {},
   "outputs": [],
   "source": [
    "x1 = df_test['Exam_1'].to_numpy()\n",
    "x2 = df_test['Exam_2'].to_numpy()\n",
    "y_test = df_test['Admission Status'].to_numpy()\n",
    "x_test = np.array([x1,x2])\n",
    "m = len(x1)\n",
    "y_test = np.array([y_test])"
   ]
  },
  {
   "cell_type": "code",
   "execution_count": 20,
   "id": "a5422785-2e5f-43b8-86d9-d667dac3c11c",
   "metadata": {},
   "outputs": [],
   "source": [
    "def predict_y(w,x_test,b):\n",
    "    y_pred = np.zeros((1,m))\n",
    "    w =np.array([w])\n",
    "    z = np.dot(w,x_test) + b\n",
    "    sig_z = np.divide(1, (1 + np.exp(-z)))\n",
    "    \n",
    "    for i in range(0,m):\n",
    "        if (sig_z[0,i] >= 0.5):\n",
    "            y_pred[0,i] = 1\n",
    "        else:\n",
    "            y_pred[0,i] = 0\n",
    "                \n",
    "    return y_pred"
   ]
  },
  {
   "cell_type": "code",
   "execution_count": 21,
   "id": "938f781c-c6a6-44e4-9ec6-7904ec715f97",
   "metadata": {},
   "outputs": [
    {
     "data": {
      "text/plain": [
       "array([[1., 0., 1., 1., 0., 0., 0., 1., 0., 1., 0., 0., 1., 0., 0., 1.,\n",
       "        0., 1., 1., 0., 0., 0., 1., 0., 0., 1., 1., 1., 0., 1., 0., 0.,\n",
       "        0., 0., 1., 1., 0., 1., 1., 0., 0., 0., 0., 0.]])"
      ]
     },
     "execution_count": 21,
     "metadata": {},
     "output_type": "execute_result"
    }
   ],
   "source": [
    "y_pred = predict_y(w,x_test,b)\n",
    "y_pred"
   ]
  },
  {
   "cell_type": "code",
   "execution_count": 22,
   "id": "60466440-dab2-4f23-8bc4-36782254ce7d",
   "metadata": {},
   "outputs": [
    {
     "name": "stdout",
     "output_type": "stream",
     "text": [
      "True Positive : 11\n",
      "True Negative : 15\n",
      "False Positive : 7\n",
      "False Negative : 11\n",
      "Accuracy : 0.5909090909090909\n",
      "Recall : 0.5\n",
      "Precission : 0.6111111111111112\n",
      "F1 Score : 0.55\n"
     ]
    }
   ],
   "source": [
    "def Calculate_Metric(y_pred,y_test):\n",
    "    TP = TN = FP = FN = 0\n",
    "    \n",
    "    for i in range(0,m):\n",
    "        if y_pred[0,i] == y_test[0,i] == 1:\n",
    "            TP = TP + 1\n",
    "        if y_pred[0,i] == y_test[0,i] == 0:\n",
    "            TN = TN + 1\n",
    "        if y_pred[0,i] == 1 and y_test[0,i] == 0:\n",
    "            FP = FP + 1\n",
    "        if y_pred[0,i] == 0 and y_test[0,i] == 1:\n",
    "            FN = FN + 1\n",
    "\n",
    "    Accuracy = (TP + TN)/(TP + TN + FP + FN)\n",
    "    Recall = TP / (TP + FN)\n",
    "    Precission = TP / (TP + FP)\n",
    "    F1_Score = 2 * (Precission*Recall)/(Precission+Recall)\n",
    "    \n",
    "    return TP,TN,FP,FN,Accuracy,Recall,Precission,F1_Score\n",
    "\n",
    "\n",
    "TP,TN,FP,FN,Accuracy,Recall,Precission,F1_Score = Calculate_Metric(y_pred,y_train)\n",
    "print(f\"True Positive : {TP}\")\n",
    "print(f\"True Negative : {TN}\")\n",
    "print(f\"False Positive : {FP}\")\n",
    "print(f\"False Negative : {FN}\")\n",
    "print(f\"Accuracy : {Accuracy}\")\n",
    "print(f\"Recall : {Recall}\")\n",
    "print(f\"Precission : {Precission}\")\n",
    "print(f\"F1 Score : {F1_Score}\")"
   ]
  },
  {
   "cell_type": "code",
   "execution_count": null,
   "id": "8558cd07-98ff-4b43-ba78-2027d2ff75fb",
   "metadata": {},
   "outputs": [],
   "source": []
  }
 ],
 "metadata": {
  "kernelspec": {
   "display_name": "Python 3 (ipykernel)",
   "language": "python",
   "name": "python3"
  },
  "language_info": {
   "codemirror_mode": {
    "name": "ipython",
    "version": 3
   },
   "file_extension": ".py",
   "mimetype": "text/x-python",
   "name": "python",
   "nbconvert_exporter": "python",
   "pygments_lexer": "ipython3",
   "version": "3.11.4"
  }
 },
 "nbformat": 4,
 "nbformat_minor": 5
}
