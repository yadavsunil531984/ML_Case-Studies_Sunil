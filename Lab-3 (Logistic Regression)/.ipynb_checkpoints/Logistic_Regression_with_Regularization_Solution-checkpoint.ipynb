{
 "cells": [
  {
   "cell_type": "markdown",
   "id": "b627d721-801b-4a05-a70c-2c59082a67af",
   "metadata": {},
   "source": [
    "#### Load Data"
   ]
  },
  {
   "cell_type": "code",
   "execution_count": 1,
   "id": "57bd2232-668f-4447-aab0-385b7e63cda2",
   "metadata": {},
   "outputs": [],
   "source": [
    "import pandas as pd\n",
    "import numpy as np\n",
    "import matplotlib.pyplot as plt"
   ]
  },
  {
   "cell_type": "code",
   "execution_count": 2,
   "id": "9420d7bb-d13c-4cce-aaa4-95edffa4cb4d",
   "metadata": {},
   "outputs": [
    {
     "name": "stdout",
     "output_type": "stream",
     "text": [
      "217\n"
     ]
    },
    {
     "data": {
      "text/html": [
       "<div>\n",
       "<style scoped>\n",
       "    .dataframe tbody tr th:only-of-type {\n",
       "        vertical-align: middle;\n",
       "    }\n",
       "\n",
       "    .dataframe tbody tr th {\n",
       "        vertical-align: top;\n",
       "    }\n",
       "\n",
       "    .dataframe thead th {\n",
       "        text-align: right;\n",
       "    }\n",
       "</style>\n",
       "<table border=\"1\" class=\"dataframe\">\n",
       "  <thead>\n",
       "    <tr style=\"text-align: right;\">\n",
       "      <th></th>\n",
       "      <th>Exam_1</th>\n",
       "      <th>Exam_2</th>\n",
       "      <th>Admission Status</th>\n",
       "    </tr>\n",
       "  </thead>\n",
       "  <tbody>\n",
       "    <tr>\n",
       "      <th>0</th>\n",
       "      <td>76.098787</td>\n",
       "      <td>87.420570</td>\n",
       "      <td>1</td>\n",
       "    </tr>\n",
       "    <tr>\n",
       "      <th>1</th>\n",
       "      <td>55.482161</td>\n",
       "      <td>35.570703</td>\n",
       "      <td>0</td>\n",
       "    </tr>\n",
       "    <tr>\n",
       "      <th>2</th>\n",
       "      <td>82.368754</td>\n",
       "      <td>40.618255</td>\n",
       "      <td>0</td>\n",
       "    </tr>\n",
       "    <tr>\n",
       "      <th>3</th>\n",
       "      <td>34.212061</td>\n",
       "      <td>44.209529</td>\n",
       "      <td>0</td>\n",
       "    </tr>\n",
       "    <tr>\n",
       "      <th>4</th>\n",
       "      <td>16.647000</td>\n",
       "      <td>53.874000</td>\n",
       "      <td>1</td>\n",
       "    </tr>\n",
       "  </tbody>\n",
       "</table>\n",
       "</div>"
      ],
      "text/plain": [
       "      Exam_1     Exam_2  Admission Status\n",
       "0  76.098787  87.420570                 1\n",
       "1  55.482161  35.570703                 0\n",
       "2  82.368754  40.618255                 0\n",
       "3  34.212061  44.209529                 0\n",
       "4  16.647000  53.874000                 1"
      ]
     },
     "execution_count": 2,
     "metadata": {},
     "output_type": "execute_result"
    }
   ],
   "source": [
    "df = pd.read_csv(\"ex2data.csv\")\n",
    "print(len(df))\n",
    "df.head()"
   ]
  },
  {
   "cell_type": "markdown",
   "id": "d8b5baa6-e391-40f5-90a8-c63f9b4bc6a3",
   "metadata": {},
   "source": [
    "#### Train and Test set"
   ]
  },
  {
   "cell_type": "code",
   "execution_count": 3,
   "id": "a85ad2e5-9826-4bb7-80ff-5544898f6175",
   "metadata": {},
   "outputs": [],
   "source": [
    "train_count = int(0.8*len(df))\n",
    "df_train = df[0:train_count]\n",
    "df_test = df[train_count:]"
   ]
  },
  {
   "cell_type": "markdown",
   "id": "37cc5eec-a907-491a-9d9c-015ddced20e9",
   "metadata": {},
   "source": [
    "#### Convert Features to Numpy Array"
   ]
  },
  {
   "cell_type": "code",
   "execution_count": 4,
   "id": "8bdf815c-3042-4a45-bb94-75da19798402",
   "metadata": {},
   "outputs": [],
   "source": [
    "x1 = df['Exam_1'].to_numpy()\n",
    "x2 = df['Exam_2'].to_numpy()\n",
    "y_train = df['Admission Status'].to_numpy()\n",
    "x_train = np.array([x1,x2])\n",
    "y_train = np.array([y_train])"
   ]
  },
  {
   "cell_type": "markdown",
   "id": "fdd988ec-68f7-4a77-bf95-48e192f1a773",
   "metadata": {},
   "source": [
    "#### Prediction Function"
   ]
  },
  {
   "cell_type": "code",
   "execution_count": 5,
   "id": "5f8fbc69-c458-4e1e-9448-c88945e718d0",
   "metadata": {},
   "outputs": [],
   "source": [
    "def predict_y(w,x_train,b):\n",
    "    y_pred = np.zeros((1,m))\n",
    "    z = np.dot(w,x_train) + b\n",
    "    sig_z = np.divide(1, (1 + np.exp(-z)))\n",
    "    \n",
    "    for i in range(0,m):\n",
    "        if (sig_z[0,i] >= 0.5):\n",
    "            y_pred[0,i] = 1\n",
    "        else:\n",
    "            y_pred[0,i] = 0\n",
    "                \n",
    "    return y_pred"
   ]
  },
  {
   "cell_type": "code",
   "execution_count": 6,
   "id": "48f0f19f-ea92-4107-9c4c-57f22d112a87",
   "metadata": {},
   "outputs": [
    {
     "name": "stdout",
     "output_type": "stream",
     "text": [
      "y = [[1 0 0 0 1 0 0 0 1 1 0 1 0 1 0 1 1 1 1 0 1 0 0 1 0 1 1 1 1 1 0 1 0 0 0 1\n",
      "  0 1 0 0 0 1 1 0 0 0 1 1 0 0 1 1 1 1 0 1 1 0 0 0 0 1 1 1 0 0 0 0 0 1 1 1\n",
      "  1 1 1 1 0 1 1 1 0 0 1 0 0 1 1 0 0 1 1 0 1 1 0 0 0 1 1 1 0 1 1 1 1 1 0 1\n",
      "  1 1 0 1 1 1 1 1 1 0 1 0 1 0 1 0 1 1 1 0 0 1 0 1 1 1 0 1 1 1 0 1 0 1 0 1\n",
      "  1 1 0 1 0 1 1 1 0 0 1 0 1 1 0 0 0 1 1 0 1 1 0 1 1 1 0 0 0 0 0 1 0 1 0 1\n",
      "  1 0 1 0 1 0 1 0 0 0 1 1 0 1 0 1 1 1 1 0 0 0 0 0 0 0 0 1 1 1 1 0 0 1 0 0\n",
      "  0]]\n",
      "\n",
      "\n",
      "y_pred = [[1. 1. 1. 1. 1. 0. 1. 1. 1. 1. 1. 1. 1. 1. 0. 1. 1. 1. 1. 0. 1. 1. 1. 1.\n",
      "  0. 1. 1. 1. 1. 1. 0. 0. 1. 1. 1. 1. 1. 1. 1. 1. 1. 1. 1. 1. 0. 1. 1. 1.\n",
      "  1. 1. 1. 1. 1. 1. 1. 1. 1. 0. 1. 1. 0. 0. 1. 0. 0. 1. 0. 0. 1. 1. 1. 0.\n",
      "  0. 1. 0. 1. 1. 1. 1. 1. 1. 1. 0. 1. 1. 1. 1. 1. 1. 1. 1. 1. 1. 1. 1. 1.\n",
      "  0. 1. 0. 1. 1. 0. 1. 1. 0. 0. 1. 1. 0. 1. 1. 1. 1. 0. 1. 1. 1. 1. 1. 1.\n",
      "  1. 1. 1. 1. 1. 1. 1. 1. 1. 1. 1. 0. 1. 0. 1. 1. 1. 1. 1. 0. 1. 1. 1. 1.\n",
      "  0. 1. 1. 1. 0. 0. 1. 1. 1. 1. 1. 1. 0. 1. 0. 1. 0. 1. 1. 1. 1. 1. 1. 1.\n",
      "  1. 1. 1. 1. 1. 1. 1. 1. 1. 0. 0. 1. 1. 1. 1. 1. 1. 1. 0. 1. 1. 1. 1. 1.\n",
      "  1. 0. 1. 1. 1. 1. 1. 1. 1. 1. 1. 0. 1. 1. 1. 1. 1. 1. 1. 1. 0. 1. 1. 0.\n",
      "  1.]]\n"
     ]
    }
   ],
   "source": [
    "w = np.array([[0.0,0.3]])\n",
    "b  = -10\n",
    "m = len(x1)\n",
    "y_pred = predict_y(w,x_train,b)\n",
    "print(f\"y = {y_train}\") \n",
    "print(\"\\n\")\n",
    "print(f\"y_pred = {y_pred}\") "
   ]
  },
  {
   "cell_type": "markdown",
   "id": "9dd03992-2c9b-4dcf-bddc-e95810385a55",
   "metadata": {},
   "source": [
    "#### Cost Function"
   ]
  },
  {
   "cell_type": "raw",
   "id": "aa983921-a64a-40b0-8e03-c0297f1dbc7e",
   "metadata": {},
   "source": [
    "j1 = (1/m) * ( - np.dot(y, np.log(y_pred).T) - np.dot((1-y), np.log(1-y_pred).T) ) \n",
    "j2 = (lamda/2*m) * np.sum(np.square(w))"
   ]
  },
  {
   "cell_type": "raw",
   "id": "28068c40-44b1-4461-b2f0-85c6b972dee0",
   "metadata": {},
   "source": [
    "j = j1 + j2"
   ]
  },
  {
   "cell_type": "code",
   "execution_count": 7,
   "id": "238fae7d-eb50-4b77-bfd8-ac0f24a124b3",
   "metadata": {},
   "outputs": [],
   "source": [
    "def calculate_cost(y,y_pred,lamda):\n",
    "     y_pred = np.clip(y_pred, 1e-15, 1 - 1e-15)  # Clip y_pred to avoid log(0) and log(1)\n",
    "     j1 = (1/m) * ( - np.dot(y, np.log(y_pred).T) - np.dot((1-y), np.log(1-y_pred).T) )\n",
    "     j2 = (lamda/(2*m)) * np.sum(np.square(w))\n",
    "     j = j1 + j2\n",
    "     cost = j[0,0]\n",
    "     return cost"
   ]
  },
  {
   "cell_type": "code",
   "execution_count": 8,
   "id": "0eb934ff-f51f-4b03-aca6-30baaabcfd9c",
   "metadata": {},
   "outputs": [
    {
     "name": "stdout",
     "output_type": "stream",
     "text": [
      "cost = 16.235215023388502\n"
     ]
    }
   ],
   "source": [
    "m = len(x1)\n",
    "lamda = 0.5\n",
    "cost = calculate_cost(y_train,y_pred,lamda)\n",
    "print(f\"cost = {cost}\")"
   ]
  },
  {
   "cell_type": "markdown",
   "id": "1795f097-bbcd-418c-8d6e-ca06e310bbdf",
   "metadata": {},
   "source": [
    "#### Calculate Gradient"
   ]
  },
  {
   "cell_type": "code",
   "execution_count": 9,
   "id": "320f4d45-59b2-4efd-8f88-8ebfcc05549d",
   "metadata": {},
   "outputs": [],
   "source": [
    "def calculate_grdaient(y_train,y_pred,lamda):\n",
    "    m = len(x1)\n",
    "    diff = np.subtract(y_pred,y_train)\n",
    "    dj_dw = (1/m) * np.dot(diff,x_train.T) + ((lamda/m)*w)\n",
    "    dj_db = (1/m) * np.sum(diff)\n",
    "    return dj_dw, dj_db"
   ]
  },
  {
   "cell_type": "code",
   "execution_count": 10,
   "id": "7fba1a88-095a-4da0-874a-28a5a8700966",
   "metadata": {},
   "outputs": [
    {
     "name": "stdout",
     "output_type": "stream",
     "text": [
      "dj_dw : [[13.4176556  21.16793838]]\n",
      "dj_db : 0.2672811059907834\n"
     ]
    }
   ],
   "source": [
    "dj_dw, dj_db = calculate_grdaient(y_train,y_pred,lamda)\n",
    "print(f\"dj_dw : {dj_dw}\")\n",
    "print(f\"dj_db : {dj_db}\")"
   ]
  },
  {
   "cell_type": "markdown",
   "id": "f7a57e6c-09ec-4556-94cd-3be8920d3b9c",
   "metadata": {},
   "source": [
    "#### Optimise Weights"
   ]
  },
  {
   "cell_type": "code",
   "execution_count": 11,
   "id": "0df674f7-53c3-43da-944e-e701c4bd9a55",
   "metadata": {},
   "outputs": [],
   "source": [
    "def optimise_weights(w,x_train,b,alpha,lamda,iter):\n",
    "    dj_dw = np.zeros((1,2))\n",
    "    dj_db = 0\n",
    "    w_all = np.zeros((iter,2))\n",
    "    b_all = np.zeros(iter)\n",
    "    cost_all = np.zeros(iter)\n",
    "    \n",
    "    for i in range(0,iter):\n",
    "        w = w - alpha * dj_dw\n",
    "        b = b - alpha * dj_db\n",
    "        y_pred = predict_y(w,x_train,b)\n",
    "        j = calculate_cost(y_train, y_pred, lamda)\n",
    "        dj_dw, dj_db = calculate_grdaient(y_train,y_pred,lamda)\n",
    "        print(f\"Iteration : {i}, w = {w}, b = {b:.4f}, Cost = {j:.4f}\")\n",
    "        w_all[i,] = w\n",
    "        b_all[i] = b\n",
    "        cost_all[i] = j\n",
    "        \n",
    "    return w_all,b_all,cost_all"
   ]
  },
  {
   "cell_type": "code",
   "execution_count": 13,
   "id": "a5e4bdc5-e312-4189-ba9e-706cbbaf1b93",
   "metadata": {},
   "outputs": [
    {
     "name": "stdout",
     "output_type": "stream",
     "text": [
      "Iteration : 0, w = [[0.  0.3]], b = -10.0000, Cost = 16.2352\n",
      "Iteration : 1, w = [[-0.01341766  0.27883206]], b = -10.0003, Cost = 15.7577\n",
      "Iteration : 2, w = [[-0.02450361  0.25883786]], b = -10.0005, Cost = 15.1210\n",
      "Iteration : 3, w = [[-0.03016774  0.24234214]], b = -10.0007, Cost = 15.1210\n",
      "Iteration : 4, w = [[-0.03280688  0.22875714]], b = -10.0007, Cost = 14.1660\n",
      "Iteration : 5, w = [[-0.0324975   0.21792367]], b = -10.0008, Cost = 14.3251\n",
      "Iteration : 6, w = [[-0.02969832  0.2092964 ]], b = -10.0008, Cost = 14.6434\n",
      "Iteration : 7, w = [[-0.02622692  0.20119716]], b = -10.0007, Cost = 14.9618\n",
      "Iteration : 8, w = [[-0.02259146  0.19357626]], b = -10.0007, Cost = 14.8026\n",
      "Iteration : 9, w = [[-0.01874825  0.18621489]], b = -10.0007, Cost = 15.2801\n",
      "Iteration : 10, w = [[-0.01402931  0.18016424]], b = -10.0006, Cost = 15.2801\n",
      "Iteration : 11, w = [[-0.00860354  0.17518387]], b = -10.0006, Cost = 15.5984\n",
      "Iteration : 12, w = [[-0.00296595  0.17073709]], b = -10.0005, Cost = 15.1209\n",
      "Iteration : 13, w = [[0.00174696 0.16599303]], b = -10.0004, Cost = 15.1209\n",
      "Iteration : 14, w = [[0.00645988 0.16124898]], b = -10.0003, Cost = 14.9617\n",
      "Iteration : 15, w = [[0.01165305 0.15733611]], b = -10.0002, Cost = 14.8026\n",
      "Iteration : 16, w = [[0.01658244 0.15314898]], b = -10.0001, Cost = 14.3251\n",
      "Iteration : 17, w = [[0.02086939 0.14872478]], b = -10.0001, Cost = 14.1659\n",
      "Iteration : 18, w = [[0.02526544 0.14459466]], b = -10.0000, Cost = 14.4842\n",
      "Iteration : 19, w = [[0.02937534 0.14050631]], b = -9.9999, Cost = 14.6434\n",
      "Iteration : 20, w = [[0.03352797 0.1367336 ]], b = -9.9998, Cost = 14.6434\n",
      "Iteration : 21, w = [[0.0376806  0.13296089]], b = -9.9997, Cost = 14.9617\n",
      "Iteration : 22, w = [[0.04153115 0.12927037]], b = -9.9996, Cost = 15.1209\n",
      "Iteration : 23, w = [[0.04548018 0.12589887]], b = -9.9995, Cost = 14.8026\n",
      "Iteration : 24, w = [[0.04887839 0.12271602]], b = -9.9994, Cost = 14.6434\n",
      "Iteration : 25, w = [[0.05189185 0.11931022]], b = -9.9993, Cost = 14.4842\n",
      "Iteration : 26, w = [[0.05494992 0.11703016]], b = -9.9992, Cost = 14.4842\n",
      "Iteration : 27, w = [[0.05723794 0.11431872]], b = -9.9991, Cost = 14.6434\n",
      "Iteration : 28, w = [[0.05974655 0.11189934]], b = -9.9990, Cost = 14.6434\n",
      "Iteration : 29, w = [[0.06125939 0.10918338]], b = -9.9989, Cost = 14.6434\n",
      "Iteration : 30, w = [[0.06370994 0.10762305]], b = -9.9988, Cost = 14.1659\n",
      "Iteration : 31, w = [[0.06435895 0.10497408]], b = -9.9987, Cost = 14.4842\n",
      "Iteration : 32, w = [[0.06699701 0.10459907]], b = -9.9986, Cost = 14.0067\n",
      "Iteration : 33, w = [[0.06721224 0.10266319]], b = -9.9985, Cost = 13.8476\n",
      "Iteration : 34, w = [[0.06921495 0.10268758]], b = -9.9984, Cost = 14.0067\n",
      "Iteration : 35, w = [[0.06921645 0.10089079]], b = -9.9983, Cost = 13.6884\n",
      "Iteration : 36, w = [[0.07038653 0.10101903]], b = -9.9982, Cost = 14.0067\n",
      "Iteration : 37, w = [[0.07070976 0.09990742]], b = -9.9981, Cost = 13.6884\n",
      "Iteration : 38, w = [[0.07187984 0.10003566]], b = -9.9979, Cost = 13.6884\n",
      "Iteration : 39, w = [[0.07201486 0.09905624]], b = -9.9978, Cost = 13.3701\n",
      "Iteration : 40, w = [[0.07233823 0.09886526]], b = -9.9977, Cost = 13.3701\n",
      "Iteration : 41, w = [[0.07266159 0.09867429]], b = -9.9976, Cost = 13.3701\n",
      "Iteration : 42, w = [[0.07298496 0.09848332]], b = -9.9975, Cost = 13.5292\n",
      "Iteration : 43, w = [[0.07292874 0.09810517]], b = -9.9974, Cost = 13.2109\n",
      "Iteration : 44, w = [[0.07349223 0.09820511]], b = -9.9973, Cost = 13.5292\n",
      "Iteration : 45, w = [[0.07343602 0.09782695]], b = -9.9972, Cost = 13.5292\n",
      "Iteration : 46, w = [[0.0733798 0.0974488]], b = -9.9971, Cost = 13.3701\n",
      "Iteration : 47, w = [[0.07356372 0.09736156]], b = -9.9970, Cost = 13.3701\n",
      "Iteration : 48, w = [[0.07374763 0.09727432]], b = -9.9969, Cost = 13.3701\n",
      "Iteration : 49, w = [[0.07393154 0.09718707]], b = -9.9968, Cost = 13.3701\n",
      "Iteration : 50, w = [[0.07411546 0.09709983]], b = -9.9966, Cost = 13.3701\n",
      "Iteration : 51, w = [[0.07429937 0.09701259]], b = -9.9965, Cost = 13.3701\n",
      "Iteration : 52, w = [[0.07448329 0.09692535]], b = -9.9964, Cost = 13.5292\n",
      "Iteration : 53, w = [[0.07442707 0.09654719]], b = -9.9963, Cost = 13.3701\n",
      "Iteration : 54, w = [[0.07461098 0.09645995]], b = -9.9962, Cost = 13.3701\n",
      "Iteration : 55, w = [[0.0747949  0.09637271]], b = -9.9961, Cost = 13.3701\n",
      "Iteration : 56, w = [[0.07497881 0.09628547]], b = -9.9960, Cost = 13.3701\n",
      "Iteration : 57, w = [[0.07516273 0.09619822]], b = -9.9959, Cost = 13.3701\n",
      "Iteration : 58, w = [[0.07534664 0.09611098]], b = -9.9958, Cost = 13.3701\n",
      "Iteration : 59, w = [[0.07553055 0.09602374]], b = -9.9956, Cost = 13.5292\n",
      "Iteration : 60, w = [[0.07547434 0.09564559]], b = -9.9955, Cost = 13.3701\n",
      "Iteration : 61, w = [[0.07565825 0.09555834]], b = -9.9954, Cost = 13.3701\n",
      "Iteration : 62, w = [[0.07584217 0.0954711 ]], b = -9.9953, Cost = 13.3701\n",
      "Iteration : 63, w = [[0.07602608 0.09538386]], b = -9.9952, Cost = 13.3701\n",
      "Iteration : 64, w = [[0.07620999 0.09529662]], b = -9.9951, Cost = 13.5292\n",
      "Iteration : 65, w = [[0.0760013  0.09503993]], b = -9.9950, Cost = 13.3701\n",
      "Iteration : 66, w = [[0.07618521 0.09495269]], b = -9.9949, Cost = 13.3701\n",
      "Iteration : 67, w = [[0.07636913 0.09486545]], b = -9.9948, Cost = 13.3701\n",
      "Iteration : 68, w = [[0.07655304 0.09477821]], b = -9.9947, Cost = 13.5292\n",
      "Iteration : 69, w = [[0.07634435 0.09452152]], b = -9.9946, Cost = 13.3701\n",
      "Iteration : 70, w = [[0.07652826 0.09443428]], b = -9.9944, Cost = 13.3701\n",
      "Iteration : 71, w = [[0.07671217 0.09434704]], b = -9.9943, Cost = 13.5292\n",
      "Iteration : 72, w = [[0.07650348 0.09409035]], b = -9.9942, Cost = 13.5292\n",
      "Iteration : 73, w = [[0.07695117 0.09427737]], b = -9.9941, Cost = 13.5292\n",
      "Iteration : 74, w = [[0.07674247 0.09402069]], b = -9.9940, Cost = 13.6884\n",
      "Iteration : 75, w = [[0.07679755 0.09403826]], b = -9.9939, Cost = 13.6884\n",
      "Iteration : 76, w = [[0.07685263 0.09405584]], b = -9.9938, Cost = 13.5292\n",
      "Iteration : 77, w = [[0.07664393 0.09379915]], b = -9.9937, Cost = 13.5292\n",
      "Iteration : 78, w = [[0.07709162 0.09398617]], b = -9.9936, Cost = 13.5292\n",
      "Iteration : 79, w = [[0.07688292 0.09372948]], b = -9.9935, Cost = 13.6884\n",
      "Iteration : 80, w = [[0.076938   0.09374706]], b = -9.9934, Cost = 13.6884\n",
      "Iteration : 81, w = [[0.07699308 0.09376463]], b = -9.9932, Cost = 13.6884\n",
      "Iteration : 82, w = [[0.07704816 0.09378221]], b = -9.9931, Cost = 13.6884\n",
      "Iteration : 83, w = [[0.07710324 0.09379978]], b = -9.9930, Cost = 13.5292\n",
      "Iteration : 84, w = [[0.07689454 0.0935431 ]], b = -9.9929, Cost = 13.5292\n",
      "Iteration : 85, w = [[0.07734223 0.09373011]], b = -9.9928, Cost = 13.5292\n",
      "Iteration : 86, w = [[0.07713354 0.09347343]], b = -9.9927, Cost = 13.6884\n",
      "Iteration : 87, w = [[0.07718861 0.093491  ]], b = -9.9926, Cost = 13.6884\n",
      "Iteration : 88, w = [[0.07724369 0.09350858]], b = -9.9925, Cost = 13.6884\n",
      "Iteration : 89, w = [[0.07729877 0.09352615]], b = -9.9924, Cost = 13.6884\n",
      "Iteration : 90, w = [[0.07735385 0.09354373]], b = -9.9922, Cost = 13.5292\n",
      "Iteration : 91, w = [[0.07714515 0.09328704]], b = -9.9921, Cost = 13.6884\n",
      "Iteration : 92, w = [[0.07720023 0.09330462]], b = -9.9920, Cost = 13.6884\n",
      "Iteration : 93, w = [[0.07725531 0.09332219]], b = -9.9919, Cost = 13.6884\n",
      "Iteration : 94, w = [[0.07731039 0.09333977]], b = -9.9918, Cost = 13.6884\n",
      "Iteration : 95, w = [[0.07736547 0.09335734]], b = -9.9917, Cost = 13.6884\n",
      "Iteration : 96, w = [[0.07742055 0.09337492]], b = -9.9916, Cost = 13.6884\n",
      "Iteration : 97, w = [[0.07747562 0.09339249]], b = -9.9915, Cost = 13.5292\n",
      "Iteration : 98, w = [[0.07726693 0.09313581]], b = -9.9914, Cost = 13.6884\n",
      "Iteration : 99, w = [[0.07732201 0.09315338]], b = -9.9913, Cost = 13.6884\n",
      "Iteration : 100, w = [[0.07737709 0.09317096]], b = -9.9912, Cost = 13.6884\n",
      "Iteration : 101, w = [[0.07743216 0.09318853]], b = -9.9910, Cost = 13.6884\n",
      "Iteration : 102, w = [[0.07748724 0.09320611]], b = -9.9909, Cost = 13.6884\n",
      "Iteration : 103, w = [[0.07754232 0.09322368]], b = -9.9908, Cost = 13.6884\n",
      "Iteration : 104, w = [[0.0775974  0.09324126]], b = -9.9907, Cost = 13.5292\n",
      "Iteration : 105, w = [[0.0773887  0.09298457]], b = -9.9906, Cost = 13.6884\n",
      "Iteration : 106, w = [[0.07744378 0.09300215]], b = -9.9905, Cost = 13.6884\n",
      "Iteration : 107, w = [[0.07749886 0.09301972]], b = -9.9904, Cost = 13.6884\n",
      "Iteration : 108, w = [[0.07755394 0.0930373 ]], b = -9.9903, Cost = 13.6884\n",
      "Iteration : 109, w = [[0.07760902 0.09305487]], b = -9.9902, Cost = 13.6884\n",
      "Iteration : 110, w = [[0.0776641  0.09307245]], b = -9.9901, Cost = 13.6884\n",
      "Iteration : 111, w = [[0.07771917 0.09309002]], b = -9.9899, Cost = 13.6884\n",
      "Iteration : 112, w = [[0.07777425 0.0931076 ]], b = -9.9898, Cost = 13.5292\n",
      "Iteration : 113, w = [[0.07756556 0.09285091]], b = -9.9897, Cost = 13.6884\n",
      "Iteration : 114, w = [[0.07762064 0.09286849]], b = -9.9896, Cost = 13.6884\n",
      "Iteration : 115, w = [[0.07767572 0.09288606]], b = -9.9895, Cost = 13.6884\n",
      "Iteration : 116, w = [[0.07773079 0.09290363]], b = -9.9894, Cost = 13.6884\n",
      "Iteration : 117, w = [[0.07778587 0.09292121]], b = -9.9893, Cost = 13.6884\n",
      "Iteration : 118, w = [[0.07784095 0.09293878]], b = -9.9892, Cost = 13.6884\n",
      "Iteration : 119, w = [[0.07789603 0.09295636]], b = -9.9891, Cost = 13.5292\n",
      "Iteration : 120, w = [[0.07768733 0.09269967]], b = -9.9890, Cost = 13.6884\n",
      "Iteration : 121, w = [[0.07774241 0.09271725]], b = -9.9888, Cost = 13.6884\n",
      "Iteration : 122, w = [[0.07779749 0.09273482]], b = -9.9887, Cost = 13.6884\n",
      "Iteration : 123, w = [[0.07785257 0.0927524 ]], b = -9.9886, Cost = 13.6884\n",
      "Iteration : 124, w = [[0.07790765 0.09276997]], b = -9.9885, Cost = 13.6884\n",
      "Iteration : 125, w = [[0.07796273 0.09278755]], b = -9.9884, Cost = 13.6884\n",
      "Iteration : 126, w = [[0.0780178  0.09280512]], b = -9.9883, Cost = 13.5292\n",
      "Iteration : 127, w = [[0.07780911 0.09254844]], b = -9.9882, Cost = 13.6884\n",
      "Iteration : 128, w = [[0.07786419 0.09256601]], b = -9.9881, Cost = 13.6884\n",
      "Iteration : 129, w = [[0.07791927 0.09258359]], b = -9.9880, Cost = 13.6884\n",
      "Iteration : 130, w = [[0.07797434 0.09260116]], b = -9.9879, Cost = 13.6884\n",
      "Iteration : 131, w = [[0.07802942 0.09261874]], b = -9.9877, Cost = 13.6884\n",
      "Iteration : 132, w = [[0.0780845  0.09263631]], b = -9.9876, Cost = 13.6884\n",
      "Iteration : 133, w = [[0.07813958 0.09265389]], b = -9.9875, Cost = 13.6884\n",
      "Iteration : 134, w = [[0.07819466 0.09267146]], b = -9.9874, Cost = 13.5292\n",
      "Iteration : 135, w = [[0.07798596 0.09241478]], b = -9.9873, Cost = 13.5292\n",
      "Iteration : 136, w = [[0.07808909 0.09288948]], b = -9.9872, Cost = 13.5292\n",
      "Iteration : 137, w = [[0.07788039 0.09263279]], b = -9.9871, Cost = 13.6884\n",
      "Iteration : 138, w = [[0.07793547 0.09265037]], b = -9.9870, Cost = 13.6884\n",
      "Iteration : 139, w = [[0.07799055 0.09266794]], b = -9.9869, Cost = 13.6884\n",
      "Iteration : 140, w = [[0.07804563 0.09268552]], b = -9.9868, Cost = 13.6884\n",
      "Iteration : 141, w = [[0.07810071 0.09270309]], b = -9.9866, Cost = 13.5292\n",
      "Iteration : 142, w = [[0.07789201 0.09244641]], b = -9.9865, Cost = 13.5292\n",
      "Iteration : 143, w = [[0.07799514 0.09292111]], b = -9.9864, Cost = 13.5292\n",
      "Iteration : 144, w = [[0.07778644 0.09266442]], b = -9.9863, Cost = 13.6884\n",
      "Iteration : 145, w = [[0.07784152 0.092682  ]], b = -9.9862, Cost = 13.6884\n",
      "Iteration : 146, w = [[0.0778966  0.09269957]], b = -9.9861, Cost = 13.6884\n",
      "Iteration : 147, w = [[0.07795168 0.09271714]], b = -9.9860, Cost = 13.6884\n",
      "Iteration : 148, w = [[0.07800675 0.09273472]], b = -9.9859, Cost = 13.6884\n",
      "Iteration : 149, w = [[0.07806183 0.09275229]], b = -9.9858, Cost = 13.5292\n"
     ]
    }
   ],
   "source": [
    "w = np.array([[0.0,0.3]])\n",
    "b  = -10\n",
    "x_train = np.array([x1,x2])\n",
    "alpha = 0.001\n",
    "lamda = 0.5\n",
    "iter = 150\n",
    "w_all,b_all,cost_all = optimise_weights(w,x_train,b,alpha,lamda,iter)"
   ]
  },
  {
   "cell_type": "code",
   "execution_count": 14,
   "id": "b0e598cd-3298-4503-98a9-1cebb679c0f8",
   "metadata": {},
   "outputs": [
    {
     "name": "stdout",
     "output_type": "stream",
     "text": [
      "Optimize value of w = [0.07292874 0.09810517], b = -9.997410138248844, with Cost = 13.210894604161576 at iteration : 43\n"
     ]
    }
   ],
   "source": [
    "min_value = np.min(cost_all) # Finding the minimum value\n",
    "min_index = np.argmin(cost_all) # Finding the position (index) of the minimum value\n",
    "cost = cost_all[min_index]\n",
    "w = w_all[min_index]\n",
    "b = b_all[min_index]\n",
    "print(f\"Optimize value of w = {w}, b = {b}, with Cost = {cost} at iteration : {min_index}\")"
   ]
  },
  {
   "cell_type": "markdown",
   "id": "7f3387c4-412b-4b34-b683-fd160285ec52",
   "metadata": {},
   "source": [
    "#### Loss Function"
   ]
  },
  {
   "cell_type": "code",
   "execution_count": 15,
   "id": "203d050a-52d0-4006-97e2-f131516a2ef4",
   "metadata": {},
   "outputs": [
    {
     "data": {
      "image/png": "[encoded data removed]",
      "text/plain": [
       "<Figure size 800x600 with 1 Axes>"
      ]
     },
     "metadata": {},
     "output_type": "display_data"
    }
   ],
   "source": [
    "import numpy as np\n",
    "import matplotlib.pyplot as plt\n",
    "\n",
    "# Plotting the weight values over iterations\n",
    "plt.figure(figsize=(8, 6))\n",
    "\n",
    "# Plot for cost_all\n",
    "plt.plot(cost_all, color='red')\n",
    "#plt.plot(cost_all, color='red')\n",
    "plt.title('Cost Function Value over Iterations')\n",
    "plt.xlabel('Iterations')\n",
    "plt.ylabel('Cost')\n",
    "\n",
    "# Adjust the layout and show the plots\n",
    "plt.tight_layout()\n",
    "plt.show()"
   ]
  },
  {
   "cell_type": "markdown",
   "id": "26f7b951-e953-4fb6-9063-0ca154ac17ca",
   "metadata": {},
   "source": [
    "#### Calculate Metric for Train Data"
   ]
  },
  {
   "cell_type": "code",
   "execution_count": 16,
   "id": "0e7d068a-2742-4bad-a176-4cd4bf1c18f7",
   "metadata": {},
   "outputs": [
    {
     "name": "stdout",
     "output_type": "stream",
     "text": [
      "y : [[1 0 0 0 1 0 0 0 1 1 0 1 0 1 0 1 1 1 1 0 1 0 0 1 0 1 1 1 1 1 0 1 0 0 0 1\n",
      "  0 1 0 0 0 1 1 0 0 0 1 1 0 0 1 1 1 1 0 1 1 0 0 0 0 1 1 1 0 0 0 0 0 1 1 1\n",
      "  1 1 1 1 0 1 1 1 0 0 1 0 0 1 1 0 0 1 1 0 1 1 0 0 0 1 1 1 0 1 1 1 1 1 0 1\n",
      "  1 1 0 1 1 1 1 1 1 0 1 0 1 0 1 0 1 1 1 0 0 1 0 1 1 1 0 1 1 1 0 1 0 1 0 1\n",
      "  1 1 0 1 0 1 1 1 0 0 1 0 1 1 0 0 0 1 1 0 1 1 0 1 1 1 0 0 0 0 0 1 0 1 0 1\n",
      "  1 0 1 0 1 0 1 0 0 0 1 1 0 1 0 1 1 1 1 0 0 0 0 0 0 0 0 1 1 1 1 0 0 1 0 0\n",
      "  0]]\n",
      "y_pred : [[1. 1. 1. 1. 1. 0. 1. 1. 1. 1. 1. 1. 1. 1. 0. 1. 1. 1. 1. 0. 1. 1. 1. 1.\n",
      "  0. 1. 1. 1. 1. 1. 0. 0. 1. 1. 1. 1. 1. 1. 1. 1. 1. 1. 1. 1. 0. 1. 1. 1.\n",
      "  1. 1. 1. 1. 1. 1. 1. 1. 1. 0. 1. 1. 0. 0. 1. 0. 0. 1. 0. 0. 1. 1. 1. 0.\n",
      "  0. 1. 0. 1. 1. 1. 1. 1. 1. 1. 0. 1. 1. 1. 1. 1. 1. 1. 1. 1. 1. 1. 1. 1.\n",
      "  0. 1. 0. 1. 1. 0. 1. 1. 0. 0. 1. 1. 0. 1. 1. 1. 1. 0. 1. 1. 1. 1. 1. 1.\n",
      "  1. 1. 1. 1. 1. 1. 1. 1. 1. 1. 1. 0. 1. 0. 1. 1. 1. 1. 1. 0. 1. 1. 1. 1.\n",
      "  0. 1. 1. 1. 0. 0. 1. 1. 1. 1. 1. 1. 0. 1. 0. 1. 0. 1. 1. 1. 1. 1. 1. 1.\n",
      "  1. 1. 1. 1. 1. 1. 1. 1. 1. 0. 0. 1. 1. 1. 1. 1. 1. 1. 0. 1. 1. 1. 1. 1.\n",
      "  1. 0. 1. 1. 1. 1. 1. 1. 1. 1. 1. 0. 1. 1. 1. 1. 1. 1. 1. 1. 0. 1. 1. 0.\n",
      "  1.]]\n"
     ]
    }
   ],
   "source": [
    "print(f\"y : {y_train}\")\n",
    "print(f\"y_pred : {y_pred}\")"
   ]
  },
  {
   "cell_type": "code",
   "execution_count": 17,
   "id": "fea51a5b-9c6d-46b6-8755-024e942ed60d",
   "metadata": {},
   "outputs": [
    {
     "name": "stdout",
     "output_type": "stream",
     "text": [
      "True Positive : 96\n",
      "True Negative : 19\n",
      "False Positive : 80\n",
      "False Negative : 22\n",
      "Accuracy : 0.5299539170506913\n",
      "Recall : 0.8135593220338984\n",
      "Precission : 0.5454545454545454\n",
      "F1 Score : 0.653061224489796\n"
     ]
    }
   ],
   "source": [
    "def Calculate_Metric(y_pred,y_train):\n",
    "    TP = TN = FP = FN = 0\n",
    "    \n",
    "    for i in range(0,m):\n",
    "        if y_pred[0,i] == y_train[0,i] == 1:\n",
    "            TP = TP + 1\n",
    "        if y_pred[0,i] == y_train[0,i] == 0:\n",
    "            TN = TN + 1\n",
    "        if y_pred[0,i] == 1 and y_train[0,i] == 0:\n",
    "            FP = FP + 1\n",
    "        if y_pred[0,i] == 0 and y_train[0,i] == 1:\n",
    "            FN = FN + 1\n",
    "\n",
    "    Accuracy = (TP + TN)/(TP + TN + FP + FN)\n",
    "    Recall = TP / (TP + FN)\n",
    "    Precission = TP / (TP + FP)\n",
    "    F1_Score = 2 * (Precission*Recall)/(Precission+Recall)\n",
    "    \n",
    "    return TP,TN,FP,FN,Accuracy,Recall,Precission,F1_Score\n",
    "\n",
    "\n",
    "TP,TN,FP,FN,Accuracy,Recall,Precission,F1_Score = Calculate_Metric(y_pred,y_train)\n",
    "print(f\"True Positive : {TP}\")\n",
    "print(f\"True Negative : {TN}\")\n",
    "print(f\"False Positive : {FP}\")\n",
    "print(f\"False Negative : {FN}\")\n",
    "print(f\"Accuracy : {Accuracy}\")\n",
    "print(f\"Recall : {Recall}\")\n",
    "print(f\"Precission : {Precission}\")\n",
    "print(f\"F1 Score : {F1_Score}\")"
   ]
  },
  {
   "cell_type": "markdown",
   "id": "43f95913-c2f4-4dc0-aad8-e122ff598054",
   "metadata": {},
   "source": [
    "#### Calculate Metric for Test Data "
   ]
  },
  {
   "cell_type": "code",
   "execution_count": 18,
   "id": "4e4c793a-c136-4df3-b0e1-380e3e61030b",
   "metadata": {},
   "outputs": [],
   "source": [
    "x1 = df_test['Exam_1'].to_numpy()\n",
    "x2 = df_test['Exam_2'].to_numpy()\n",
    "y_test = df_test['Admission Status'].to_numpy()\n",
    "x_test = np.array([x1,x2])\n",
    "m = len(x1)\n",
    "y_test = np.array([y_test])"
   ]
  },
  {
   "cell_type": "code",
   "execution_count": 19,
   "id": "a5422785-2e5f-43b8-86d9-d667dac3c11c",
   "metadata": {},
   "outputs": [],
   "source": [
    "def predict_y(w,x_test,b):\n",
    "    y_pred = np.zeros((1,m))\n",
    "    w =np.array([w])\n",
    "    z = np.dot(w,x_test) + b\n",
    "    sig_z = np.divide(1, (1 + np.exp(-z)))\n",
    "    \n",
    "    for i in range(0,m):\n",
    "        if (sig_z[0,i] >= 0.5):\n",
    "            y_pred[0,i] = 1\n",
    "        else:\n",
    "            y_pred[0,i] = 0\n",
    "                \n",
    "    return y_pred"
   ]
  },
  {
   "cell_type": "code",
   "execution_count": 20,
   "id": "938f781c-c6a6-44e4-9ec6-7904ec715f97",
   "metadata": {},
   "outputs": [
    {
     "data": {
      "text/plain": [
       "array([[1., 0., 1., 1., 0., 0., 0., 1., 0., 1., 0., 0., 1., 0., 1., 1.,\n",
       "        0., 1., 1., 0., 0., 0., 1., 0., 0., 1., 1., 0., 0., 1., 0., 0.,\n",
       "        0., 0., 1., 1., 0., 1., 1., 0., 0., 0., 0., 0.]])"
      ]
     },
     "execution_count": 20,
     "metadata": {},
     "output_type": "execute_result"
    }
   ],
   "source": [
    "y_pred = predict_y(w,x_test,b)\n",
    "y_pred"
   ]
  },
  {
   "cell_type": "code",
   "execution_count": 21,
   "id": "60466440-dab2-4f23-8bc4-36782254ce7d",
   "metadata": {},
   "outputs": [
    {
     "name": "stdout",
     "output_type": "stream",
     "text": [
      "True Positive : 10\n",
      "True Negative : 14\n",
      "False Positive : 8\n",
      "False Negative : 12\n",
      "Accuracy : 0.5454545454545454\n",
      "Recall : 0.45454545454545453\n",
      "Precission : 0.5555555555555556\n",
      "F1 Score : 0.5\n"
     ]
    }
   ],
   "source": [
    "def Calculate_Metric(y_pred,y_test):\n",
    "    TP = TN = FP = FN = 0\n",
    "    \n",
    "    for i in range(0,m):\n",
    "        if y_pred[0,i] == y_test[0,i] == 1:\n",
    "            TP = TP + 1\n",
    "        if y_pred[0,i] == y_test[0,i] == 0:\n",
    "            TN = TN + 1\n",
    "        if y_pred[0,i] == 1 and y_test[0,i] == 0:\n",
    "            FP = FP + 1\n",
    "        if y_pred[0,i] == 0 and y_test[0,i] == 1:\n",
    "            FN = FN + 1\n",
    "\n",
    "    Accuracy = (TP + TN)/(TP + TN + FP + FN)\n",
    "    Recall = TP / (TP + FN)\n",
    "    Precission = TP / (TP + FP)\n",
    "    F1_Score = 2 * (Precission*Recall)/(Precission+Recall)\n",
    "    \n",
    "    return TP,TN,FP,FN,Accuracy,Recall,Precission,F1_Score\n",
    "\n",
    "\n",
    "TP,TN,FP,FN,Accuracy,Recall,Precission,F1_Score = Calculate_Metric(y_pred,y_train)\n",
    "print(f\"True Positive : {TP}\")\n",
    "print(f\"True Negative : {TN}\")\n",
    "print(f\"False Positive : {FP}\")\n",
    "print(f\"False Negative : {FN}\")\n",
    "print(f\"Accuracy : {Accuracy}\")\n",
    "print(f\"Recall : {Recall}\")\n",
    "print(f\"Precission : {Precission}\")\n",
    "print(f\"F1 Score : {F1_Score}\")"
   ]
  },
  {
   "cell_type": "code",
   "execution_count": null,
   "id": "8558cd07-98ff-4b43-ba78-2027d2ff75fb",
   "metadata": {},
   "outputs": [],
   "source": []
  }
 ],
 "metadata": {
  "kernelspec": {
   "display_name": "Python 3 (ipykernel)",
   "language": "python",
   "name": "python3"
  },
  "language_info": {
   "codemirror_mode": {
    "name": "ipython",
    "version": 3
   },
   "file_extension": ".py",
   "mimetype": "text/x-python",
   "name": "python",
   "nbconvert_exporter": "python",
   "pygments_lexer": "ipython3",
   "version": "3.11.4"
  }
 },
 "nbformat": 4,
 "nbformat_minor": 5
}
