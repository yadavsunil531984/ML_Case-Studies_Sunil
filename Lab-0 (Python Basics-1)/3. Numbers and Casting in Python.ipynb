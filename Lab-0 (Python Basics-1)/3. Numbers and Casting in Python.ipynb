{
 "cells": [
  {
   "cell_type": "markdown",
   "metadata": {
    "id": "SyXD3KEhDbSL"
   },
   "source": [
    "# **Python Numbers**"
   ]
  },
  {
   "cell_type": "markdown",
   "metadata": {
    "id": "uZdgbmHUDjjL"
   },
   "source": [
    "#### **Python Numbers**\n",
    "* There are three numeric types in Python:\n",
    "  1. int\n",
    "  2. float\n",
    "  3. complex"
   ]
  },
  {
   "cell_type": "code",
   "execution_count": null,
   "metadata": {
    "colab": {
     "base_uri": "https://localhost:8080/"
    },
    "executionInfo": {
     "elapsed": 586,
     "status": "ok",
     "timestamp": 1637571102087,
     "user": {
      "displayName": "SUNIL YADAV",
      "photoUrl": "https://lh3.googleusercontent.com/a-/AOh14GganiM423H1NKko6sAm8eUAcIJE-WpNykz0NN8w=s64",
      "userId": "05365530080582545014"
     },
     "user_tz": -330
    },
    "id": "pXbqBLsKDfdD",
    "outputId": "bbd6c1f8-b6ce-4ac1-a6b2-218475670668"
   },
   "outputs": [],
   "source": [
    "# Variables of numeric types are created when you assign a value to them:\n",
    "x = 13    # int\n",
    "y = 7.3  # float\n",
    "z = 5+3j   # complex\n",
    "print(type(x))\n",
    "print(type(y))\n",
    "print(type(z))"
   ]
  },
  {
   "cell_type": "markdown",
   "metadata": {
    "id": "hv2oUyIPEJ7D"
   },
   "source": [
    "**Integer:**\n",
    "* Int, or integer, is a whole number, positive or negative, without decimals, of unlimited length."
   ]
  },
  {
   "cell_type": "code",
   "execution_count": null,
   "metadata": {
    "colab": {
     "base_uri": "https://localhost:8080/"
    },
    "executionInfo": {
     "elapsed": 378,
     "status": "ok",
     "timestamp": 1637571118624,
     "user": {
      "displayName": "SUNIL YADAV",
      "photoUrl": "https://lh3.googleusercontent.com/a-/AOh14GganiM423H1NKko6sAm8eUAcIJE-WpNykz0NN8w=s64",
      "userId": "05365530080582545014"
     },
     "user_tz": -330
    },
    "id": "faW4oTsXEOUU",
    "outputId": "89d40c8e-e230-466c-81c5-9bde6ec14b1c"
   },
   "outputs": [],
   "source": [
    "x = 1\n",
    "y = 35656222554887711\n",
    "z = -3255522\n",
    "print(type(x))\n",
    "print(type(y))\n",
    "print(type(z))"
   ]
  },
  {
   "cell_type": "markdown",
   "metadata": {
    "id": "95tTRpGaEZ9N"
   },
   "source": [
    "**Float**\n",
    "* Float, or \"floating point number\" is a number, positive or negative, containing one or more decimals."
   ]
  },
  {
   "cell_type": "code",
   "execution_count": null,
   "metadata": {
    "colab": {
     "base_uri": "https://localhost:8080/"
    },
    "executionInfo": {
     "elapsed": 365,
     "status": "ok",
     "timestamp": 1637571124038,
     "user": {
      "displayName": "SUNIL YADAV",
      "photoUrl": "https://lh3.googleusercontent.com/a-/AOh14GganiM423H1NKko6sAm8eUAcIJE-WpNykz0NN8w=s64",
      "userId": "05365530080582545014"
     },
     "user_tz": -330
    },
    "id": "CoZs-XtAEZLp",
    "outputId": "c9d32279-c2c3-4b77-ee1d-e680155cb759"
   },
   "outputs": [],
   "source": [
    "x = 3.14\n",
    "y = 6.0\n",
    "z = -18.31\n",
    "\n",
    "print(type(x))\n",
    "print(type(y))\n",
    "print(type(z))"
   ]
  },
  {
   "cell_type": "markdown",
   "metadata": {
    "id": "zvx4HbmsEvSR"
   },
   "source": [
    "Float can also be scientific numbers with an \"e\" to indicate the power of 10."
   ]
  },
  {
   "cell_type": "code",
   "execution_count": null,
   "metadata": {
    "colab": {
     "base_uri": "https://localhost:8080/"
    },
    "executionInfo": {
     "elapsed": 413,
     "status": "ok",
     "timestamp": 1637571181327,
     "user": {
      "displayName": "SUNIL YADAV",
      "photoUrl": "https://lh3.googleusercontent.com/a-/AOh14GganiM423H1NKko6sAm8eUAcIJE-WpNykz0NN8w=s64",
      "userId": "05365530080582545014"
     },
     "user_tz": -330
    },
    "id": "j4yOtNNCEyAk",
    "outputId": "d72242a3-1d07-477a-a9f7-9e840497216d"
   },
   "outputs": [],
   "source": [
    "x = 35e3\n",
    "y = 12E4\n",
    "z = -87.7e100\n",
    "\n",
    "print(x)\n",
    "print(y)\n",
    "print(z)\n",
    "\n",
    "print(type(x))\n",
    "print(type(y))\n",
    "print(type(z))"
   ]
  },
  {
   "cell_type": "markdown",
   "metadata": {
    "id": "8yjtpb17FSN8"
   },
   "source": [
    "**Complex**\n",
    "* Complex numbers are written with a \"j\" as the imaginary part:"
   ]
  },
  {
   "cell_type": "code",
   "execution_count": null,
   "metadata": {
    "colab": {
     "base_uri": "https://localhost:8080/"
    },
    "executionInfo": {
     "elapsed": 368,
     "status": "ok",
     "timestamp": 1637571222723,
     "user": {
      "displayName": "SUNIL YADAV",
      "photoUrl": "https://lh3.googleusercontent.com/a-/AOh14GganiM423H1NKko6sAm8eUAcIJE-WpNykz0NN8w=s64",
      "userId": "05365530080582545014"
     },
     "user_tz": -330
    },
    "id": "HafYqL2bE-3U",
    "outputId": "35b75d14-aec2-4d6c-cf45-26bea2088a44"
   },
   "outputs": [],
   "source": [
    "x = 3+5j\n",
    "y = 5j\n",
    "z = -5j\n",
    "\n",
    "print(x)\n",
    "print(y)\n",
    "print(z)\n",
    "\n",
    "print(type(x))\n",
    "print(type(y))\n",
    "print(type(z))"
   ]
  },
  {
   "cell_type": "markdown",
   "metadata": {
    "id": "pGIkCqGbFo-T"
   },
   "source": [
    "**Type Conversion**"
   ]
  },
  {
   "cell_type": "markdown",
   "metadata": {
    "id": "LJ0zUFRcFvYH"
   },
   "source": [
    "You can convert from one type to another with the int(), float(), and complex() methods:"
   ]
  },
  {
   "cell_type": "code",
   "execution_count": null,
   "metadata": {
    "colab": {
     "base_uri": "https://localhost:8080/"
    },
    "executionInfo": {
     "elapsed": 385,
     "status": "ok",
     "timestamp": 1637571323436,
     "user": {
      "displayName": "SUNIL YADAV",
      "photoUrl": "https://lh3.googleusercontent.com/a-/AOh14GganiM423H1NKko6sAm8eUAcIJE-WpNykz0NN8w=s64",
      "userId": "05365530080582545014"
     },
     "user_tz": -330
    },
    "id": "Ke_F-TwXFz-O",
    "outputId": "a4694ee7-9a8f-4327-d228-0a0d6bbeddd2"
   },
   "outputs": [],
   "source": [
    "# Convert from one type to another:\n",
    "x = 1    # int\n",
    "y = 2.8  # float\n",
    "z = 1j   # complex\n",
    "\n",
    "#convert from int to float:\n",
    "a = float(x)\n",
    "\n",
    "#convert from float to int:\n",
    "b = int(y)\n",
    "\n",
    "#convert from int to complex:\n",
    "c = complex(x)\n",
    "\n",
    "print(a)\n",
    "print(b)\n",
    "print(c)\n",
    "\n",
    "print(type(a))\n",
    "print(type(b))\n",
    "print(type(c))"
   ]
  },
  {
   "cell_type": "markdown",
   "metadata": {
    "id": "O0U_nlT7GJ5e"
   },
   "source": [
    "**Random Number**\n",
    "* Python does not have a random() function to make a random number, but Python has a built-in module called random that can be used to make random numbers:"
   ]
  },
  {
   "cell_type": "code",
   "execution_count": null,
   "metadata": {
    "executionInfo": {
     "elapsed": 1639,
     "status": "ok",
     "timestamp": 1637571885524,
     "user": {
      "displayName": "SUNIL YADAV",
      "photoUrl": "https://lh3.googleusercontent.com/a-/AOh14GganiM423H1NKko6sAm8eUAcIJE-WpNykz0NN8w=s64",
      "userId": "05365530080582545014"
     },
     "user_tz": -330
    },
    "id": "TrtsishRGM0i"
   },
   "outputs": [],
   "source": [
    "# Import the random module, and display a random number between 1 and 9: ('1' is inclusive but 9 is exclusive)\n",
    "import random as ran"
   ]
  },
  {
   "cell_type": "code",
   "execution_count": null,
   "metadata": {
    "colab": {
     "base_uri": "https://localhost:8080/"
    },
    "executionInfo": {
     "elapsed": 582,
     "status": "ok",
     "timestamp": 1637571919393,
     "user": {
      "displayName": "SUNIL YADAV",
      "photoUrl": "https://lh3.googleusercontent.com/a-/AOh14GganiM423H1NKko6sAm8eUAcIJE-WpNykz0NN8w=s64",
      "userId": "05365530080582545014"
     },
     "user_tz": -330
    },
    "id": "BDGa-4m64syf",
    "outputId": "1364c6a6-15fb-45ee-d1b7-4383a656c664"
   },
   "outputs": [],
   "source": [
    "x = ran.randrange(1, 10)\n",
    "print(x)"
   ]
  },
  {
   "cell_type": "code",
   "execution_count": null,
   "metadata": {},
   "outputs": [],
   "source": [
    "x = ran.randrange(3, 10)\n",
    "print(x)"
   ]
  },
  {
   "cell_type": "markdown",
   "metadata": {},
   "source": [
    "## **Python Casting**"
   ]
  },
  {
   "cell_type": "markdown",
   "metadata": {},
   "source": [
    "#### Specify a Variable Type\n",
    "\n",
    "- There may be times when you want to specify a type on to a variable. This can be done with casting.\n",
    "- Python is an object-orientated language, and as such it uses classes to define data types, including its primitive types."
   ]
  },
  {
   "cell_type": "markdown",
   "metadata": {},
   "source": [
    "#### Casting in python is therefore done using constructor functions:\n",
    "\n",
    "- **int()** - constructs an integer number from an integer literal, a float literal (by removing all decimals), or a string literal (providing the string represents a whole number)\n",
    "- **float()** - constructs a float number from an integer literal, a float literal or a string literal (providing the string represents a float or an integer)\n",
    "- **str()** - constructs a string from a wide variety of data types, including strings, integer literals and float literals"
   ]
  },
  {
   "cell_type": "code",
   "execution_count": null,
   "metadata": {},
   "outputs": [],
   "source": [
    "# Integers\n",
    "x = int(1)   # x will be 1\n",
    "y = int(2.8) # y will be 2\n",
    "z = int(\"3\") # z will be 3\n",
    "print(type(x))\n",
    "print(type(y))\n",
    "print(type(z))"
   ]
  },
  {
   "cell_type": "code",
   "execution_count": null,
   "metadata": {},
   "outputs": [],
   "source": [
    "# Floats\n",
    "x = float(1)     # x will be 1.0\n",
    "y = float(2.8)   # y will be 2.8\n",
    "z = float(\"3\")   # z will be 3.0\n",
    "w = float(\"4.2\") # w will be 4.2\n",
    "print(type(x))\n",
    "print(type(y))\n",
    "print(type(z))\n",
    "print(type(w))"
   ]
  },
  {
   "cell_type": "code",
   "execution_count": null,
   "metadata": {},
   "outputs": [],
   "source": [
    "# String\n",
    "x = str(\"s1\") # x will be 's1'\n",
    "y = str(2)    # y will be '2'\n",
    "z = str(3.0)  # z will be '3.0'\n",
    "print(type(x))\n",
    "print(type(y))\n",
    "print(type(z))"
   ]
  },
  {
   "cell_type": "code",
   "execution_count": null,
   "metadata": {},
   "outputs": [],
   "source": []
  }
 ],
 "metadata": {
  "colab": {
   "authorship_tag": "ABX9TyOEZYmJqUJcJGcdeHT9EzB5",
   "collapsed_sections": [],
   "name": "3. Numbers in Python.ipynb",
   "provenance": []
  },
  "kernelspec": {
   "display_name": "Python 3 (ipykernel)",
   "language": "python",
   "name": "python3"
  },
  "language_info": {
   "codemirror_mode": {
    "name": "ipython",
    "version": 3
   },
   "file_extension": ".py",
   "mimetype": "text/x-python",
   "name": "python",
   "nbconvert_exporter": "python",
   "pygments_lexer": "ipython3",
   "version": "3.11.4"
  }
 },
 "nbformat": 4,
 "nbformat_minor": 4
}
