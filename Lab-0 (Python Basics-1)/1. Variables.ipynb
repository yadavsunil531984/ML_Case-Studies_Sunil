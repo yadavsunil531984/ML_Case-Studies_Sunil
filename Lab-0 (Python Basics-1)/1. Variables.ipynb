{
 "cells": [
  {
   "cell_type": "markdown",
   "metadata": {
    "id": "YVOLZiMAYGSs"
   },
   "source": [
    "## **Python As** **Calculator**"
   ]
  },
  {
   "cell_type": "markdown",
   "metadata": {
    "id": "WS35vVxw59zO"
   },
   "source": [
    "#### 1. Addition"
   ]
  },
  {
   "cell_type": "code",
   "execution_count": null,
   "metadata": {
    "colab": {
     "base_uri": "https://localhost:8080/"
    },
    "executionInfo": {
     "elapsed": 399,
     "status": "ok",
     "timestamp": 1637225740099,
     "user": {
      "displayName": "SUNIL YADAV",
      "photoUrl": "https://lh3.googleusercontent.com/a-/AOh14GganiM423H1NKko6sAm8eUAcIJE-WpNykz0NN8w=s64",
      "userId": "05365530080582545014"
     },
     "user_tz": -330
    },
    "id": "pogdfZBg46mH",
    "outputId": "fb12f1dd-def1-49f2-dc29-174c1f514429"
   },
   "outputs": [],
   "source": [
    "2+3"
   ]
  },
  {
   "cell_type": "markdown",
   "metadata": {
    "id": "HcWaW9jy6Bim"
   },
   "source": [
    "#### 2.Subtraction"
   ]
  },
  {
   "cell_type": "code",
   "execution_count": null,
   "metadata": {
    "colab": {
     "base_uri": "https://localhost:8080/"
    },
    "executionInfo": {
     "elapsed": 418,
     "status": "ok",
     "timestamp": 1637225765878,
     "user": {
      "displayName": "SUNIL YADAV",
      "photoUrl": "https://lh3.googleusercontent.com/a-/AOh14GganiM423H1NKko6sAm8eUAcIJE-WpNykz0NN8w=s64",
      "userId": "05365530080582545014"
     },
     "user_tz": -330
    },
    "id": "LhUtcXYY49Xg",
    "outputId": "5528bb5d-ac7d-4bce-de45-57c92d9d8089"
   },
   "outputs": [],
   "source": [
    "5-2"
   ]
  },
  {
   "cell_type": "markdown",
   "metadata": {
    "id": "7wIjfOJR6KXa"
   },
   "source": [
    "#### 3.Multiplication"
   ]
  },
  {
   "cell_type": "code",
   "execution_count": null,
   "metadata": {
    "colab": {
     "base_uri": "https://localhost:8080/"
    },
    "executionInfo": {
     "elapsed": 614,
     "status": "ok",
     "timestamp": 1637225773651,
     "user": {
      "displayName": "SUNIL YADAV",
      "photoUrl": "https://lh3.googleusercontent.com/a-/AOh14GganiM423H1NKko6sAm8eUAcIJE-WpNykz0NN8w=s64",
      "userId": "05365530080582545014"
     },
     "user_tz": -330
    },
    "id": "pGJBkm2B4_V3",
    "outputId": "6276ff27-e6e7-4510-cfd7-cf44028ee288"
   },
   "outputs": [],
   "source": [
    "5*2"
   ]
  },
  {
   "cell_type": "markdown",
   "metadata": {
    "id": "m2WwMuAP672o"
   },
   "source": [
    "#### 4.Division"
   ]
  },
  {
   "cell_type": "code",
   "execution_count": null,
   "metadata": {
    "colab": {
     "base_uri": "https://localhost:8080/"
    },
    "executionInfo": {
     "elapsed": 368,
     "status": "ok",
     "timestamp": 1637225826146,
     "user": {
      "displayName": "SUNIL YADAV",
      "photoUrl": "https://lh3.googleusercontent.com/a-/AOh14GganiM423H1NKko6sAm8eUAcIJE-WpNykz0NN8w=s64",
      "userId": "05365530080582545014"
     },
     "user_tz": -330
    },
    "id": "PKLsoi705EXD",
    "outputId": "8f69fc84-8d33-4034-85a7-b4a1b348c1da"
   },
   "outputs": [],
   "source": [
    "5/2"
   ]
  },
  {
   "cell_type": "code",
   "execution_count": null,
   "metadata": {
    "colab": {
     "base_uri": "https://localhost:8080/"
    },
    "executionInfo": {
     "elapsed": 416,
     "status": "ok",
     "timestamp": 1637225841432,
     "user": {
      "displayName": "SUNIL YADAV",
      "photoUrl": "https://lh3.googleusercontent.com/a-/AOh14GganiM423H1NKko6sAm8eUAcIJE-WpNykz0NN8w=s64",
      "userId": "05365530080582545014"
     },
     "user_tz": -330
    },
    "id": "uofFDN79Q5t_",
    "outputId": "59720598-4908-4cd7-b474-026a8fa52589"
   },
   "outputs": [],
   "source": [
    "30/2"
   ]
  },
  {
   "cell_type": "markdown",
   "metadata": {
    "id": "CKN1p5w77QGz"
   },
   "source": [
    "#### 5.Power of Number"
   ]
  },
  {
   "cell_type": "code",
   "execution_count": null,
   "metadata": {
    "colab": {
     "base_uri": "https://localhost:8080/"
    },
    "executionInfo": {
     "elapsed": 368,
     "status": "ok",
     "timestamp": 1637225873406,
     "user": {
      "displayName": "SUNIL YADAV",
      "photoUrl": "https://lh3.googleusercontent.com/a-/AOh14GganiM423H1NKko6sAm8eUAcIJE-WpNykz0NN8w=s64",
      "userId": "05365530080582545014"
     },
     "user_tz": -330
    },
    "id": "vxGluTtz5Hdf",
    "outputId": "d3da72cc-f1c4-4dca-f598-b302c02386f3"
   },
   "outputs": [],
   "source": [
    "5**2"
   ]
  },
  {
   "cell_type": "code",
   "execution_count": null,
   "metadata": {
    "colab": {
     "base_uri": "https://localhost:8080/"
    },
    "executionInfo": {
     "elapsed": 362,
     "status": "ok",
     "timestamp": 1637225882885,
     "user": {
      "displayName": "SUNIL YADAV",
      "photoUrl": "https://lh3.googleusercontent.com/a-/AOh14GganiM423H1NKko6sAm8eUAcIJE-WpNykz0NN8w=s64",
      "userId": "05365530080582545014"
     },
     "user_tz": -330
    },
    "id": "a6YR6AtN5MaH",
    "outputId": "9919d950-a54e-4efb-a390-ebd9a8a343b4"
   },
   "outputs": [],
   "source": [
    "5**3"
   ]
  },
  {
   "cell_type": "code",
   "execution_count": null,
   "metadata": {
    "colab": {
     "base_uri": "https://localhost:8080/"
    },
    "executionInfo": {
     "elapsed": 370,
     "status": "ok",
     "timestamp": 1637225891001,
     "user": {
      "displayName": "SUNIL YADAV",
      "photoUrl": "https://lh3.googleusercontent.com/a-/AOh14GganiM423H1NKko6sAm8eUAcIJE-WpNykz0NN8w=s64",
      "userId": "05365530080582545014"
     },
     "user_tz": -330
    },
    "id": "d0drSoIW5dIq",
    "outputId": "7f0fcf73-9772-41ab-b6a1-1813360fc0b8"
   },
   "outputs": [],
   "source": [
    "5**4"
   ]
  },
  {
   "cell_type": "markdown",
   "metadata": {
    "id": "uh9js2tw7HDx"
   },
   "source": [
    "#### 6.Modulus of Number"
   ]
  },
  {
   "cell_type": "code",
   "execution_count": null,
   "metadata": {
    "colab": {
     "base_uri": "https://localhost:8080/"
    },
    "executionInfo": {
     "elapsed": 369,
     "status": "ok",
     "timestamp": 1637225950237,
     "user": {
      "displayName": "SUNIL YADAV",
      "photoUrl": "https://lh3.googleusercontent.com/a-/AOh14GganiM423H1NKko6sAm8eUAcIJE-WpNykz0NN8w=s64",
      "userId": "05365530080582545014"
     },
     "user_tz": -330
    },
    "id": "qTKngh5i50_d",
    "outputId": "a02babc4-39f7-49ca-91ba-1b83c310c43e"
   },
   "outputs": [],
   "source": [
    "15%2"
   ]
  },
  {
   "cell_type": "code",
   "execution_count": null,
   "metadata": {
    "colab": {
     "base_uri": "https://localhost:8080/"
    },
    "executionInfo": {
     "elapsed": 511,
     "status": "ok",
     "timestamp": 1637225967344,
     "user": {
      "displayName": "SUNIL YADAV",
      "photoUrl": "https://lh3.googleusercontent.com/a-/AOh14GganiM423H1NKko6sAm8eUAcIJE-WpNykz0NN8w=s64",
      "userId": "05365530080582545014"
     },
     "user_tz": -330
    },
    "id": "BFTE2BiV549v",
    "outputId": "640e5733-373d-455e-ff31-a2da1ae6e0a0"
   },
   "outputs": [],
   "source": [
    "18%4"
   ]
  },
  {
   "cell_type": "markdown",
   "metadata": {
    "id": "0sSnyZZy7c5Q"
   },
   "source": [
    "# **Print Statement in Python**"
   ]
  },
  {
   "cell_type": "code",
   "execution_count": null,
   "metadata": {
    "colab": {
     "base_uri": "https://localhost:8080/"
    },
    "executionInfo": {
     "elapsed": 388,
     "status": "ok",
     "timestamp": 1637226031533,
     "user": {
      "displayName": "SUNIL YADAV",
      "photoUrl": "https://lh3.googleusercontent.com/a-/AOh14GganiM423H1NKko6sAm8eUAcIJE-WpNykz0NN8w=s64",
      "userId": "05365530080582545014"
     },
     "user_tz": -330
    },
    "id": "MpDro7IQ7oVH",
    "outputId": "e8dd0b2d-0d6e-433f-ee28-b2c059c069b9"
   },
   "outputs": [],
   "source": [
    "print(\"Hello World !\")"
   ]
  },
  {
   "cell_type": "code",
   "execution_count": null,
   "metadata": {
    "colab": {
     "base_uri": "https://localhost:8080/"
    },
    "executionInfo": {
     "elapsed": 3374,
     "status": "ok",
     "timestamp": 1637226063262,
     "user": {
      "displayName": "SUNIL YADAV",
      "photoUrl": "https://lh3.googleusercontent.com/a-/AOh14GganiM423H1NKko6sAm8eUAcIJE-WpNykz0NN8w=s64",
      "userId": "05365530080582545014"
     },
     "user_tz": -330
    },
    "id": "NMU8jBsE73Jn",
    "outputId": "8f2e7edb-906a-4317-8e7f-7ced66bd0c5b"
   },
   "outputs": [],
   "source": [
    "print('Hello Word !')"
   ]
  },
  {
   "cell_type": "code",
   "execution_count": null,
   "metadata": {
    "colab": {
     "base_uri": "https://localhost:8080/"
    },
    "executionInfo": {
     "elapsed": 402,
     "status": "ok",
     "timestamp": 1637226078054,
     "user": {
      "displayName": "SUNIL YADAV",
      "photoUrl": "https://lh3.googleusercontent.com/a-/AOh14GganiM423H1NKko6sAm8eUAcIJE-WpNykz0NN8w=s64",
      "userId": "05365530080582545014"
     },
     "user_tz": -330
    },
    "id": "ixu1t-9B8B4c",
    "outputId": "0af2e56d-b37e-40b9-8e37-663d97a580bf"
   },
   "outputs": [],
   "source": [
    "print(5)"
   ]
  },
  {
   "cell_type": "markdown",
   "metadata": {
    "id": "z5Il4Vhc4uGC"
   },
   "source": [
    "# **Python Variables**"
   ]
  },
  {
   "cell_type": "markdown",
   "metadata": {
    "id": "TLfnm1K6lang"
   },
   "source": [
    "## Variables\n",
    "- Variables are containers for storing data values."
   ]
  },
  {
   "cell_type": "markdown",
   "metadata": {
    "id": "FIT3mw0qlh1J"
   },
   "source": [
    "## Creating Variables\n",
    "* Python has no command for declaring a variable.\n",
    "* A variable is created the moment you first assign a value to it.\n",
    "* Variables do not need to be declared with any particular type, and can even change type after they have been set.\n"
   ]
  },
  {
   "cell_type": "code",
   "execution_count": null,
   "metadata": {
    "colab": {
     "base_uri": "https://localhost:8080/"
    },
    "executionInfo": {
     "elapsed": 380,
     "status": "ok",
     "timestamp": 1637226235123,
     "user": {
      "displayName": "SUNIL YADAV",
      "photoUrl": "https://lh3.googleusercontent.com/a-/AOh14GganiM423H1NKko6sAm8eUAcIJE-WpNykz0NN8w=s64",
      "userId": "05365530080582545014"
     },
     "user_tz": -330
    },
    "id": "c9eqaz9Klvjj",
    "outputId": "4a8fa161-34fb-444c-a8dc-e2823beeca97"
   },
   "outputs": [],
   "source": [
    "x = 5\n",
    "y = \"John\"\n",
    "print(x)\n",
    "print(y)"
   ]
  },
  {
   "cell_type": "markdown",
   "metadata": {
    "id": "5BVHHPTKmIoG"
   },
   "source": [
    "## Casting\n",
    "- If you want to specify the data type of a variable, this can be done with casting."
   ]
  },
  {
   "cell_type": "code",
   "execution_count": null,
   "metadata": {
    "colab": {
     "base_uri": "https://localhost:8080/"
    },
    "executionInfo": {
     "elapsed": 404,
     "status": "ok",
     "timestamp": 1637226452604,
     "user": {
      "displayName": "SUNIL YADAV",
      "photoUrl": "https://lh3.googleusercontent.com/a-/AOh14GganiM423H1NKko6sAm8eUAcIJE-WpNykz0NN8w=s64",
      "userId": "05365530080582545014"
     },
     "user_tz": -330
    },
    "id": "fJ-apzqumOX4",
    "outputId": "4ca497e9-da89-4943-83c4-7fb03427982b"
   },
   "outputs": [],
   "source": [
    "x = str(3)    # x will be '3'\n",
    "y = int(3)    # y will be 3\n",
    "z = float(3)  # z will be 3.0\n",
    "\n",
    "print(type(x))\n",
    "print(type(y))\n",
    "print(type(z))\n",
    "\n",
    "print(x)\n",
    "print(y)\n",
    "print(z)"
   ]
  },
  {
   "cell_type": "markdown",
   "metadata": {
    "id": "WV5FfG0nnGOw"
   },
   "source": [
    "## Get the Type\n",
    "* You can get the data type of a variable with the type() function."
   ]
  },
  {
   "cell_type": "code",
   "execution_count": null,
   "metadata": {
    "colab": {
     "base_uri": "https://localhost:8080/"
    },
    "executionInfo": {
     "elapsed": 445,
     "status": "ok",
     "timestamp": 1637226501826,
     "user": {
      "displayName": "SUNIL YADAV",
      "photoUrl": "https://lh3.googleusercontent.com/a-/AOh14GganiM423H1NKko6sAm8eUAcIJE-WpNykz0NN8w=s64",
      "userId": "05365530080582545014"
     },
     "user_tz": -330
    },
    "id": "oFf7DivtnFK-",
    "outputId": "8b9244a8-0143-4e6c-e802-e64331da3c8d"
   },
   "outputs": [],
   "source": [
    "x = 5\n",
    "y = \"John\"\n",
    "print(type(x))\n",
    "print(type(y))"
   ]
  },
  {
   "cell_type": "markdown",
   "metadata": {
    "id": "JxTdE35EnTe8"
   },
   "source": [
    "## Single or Double Quotes?\n",
    "* String variables can be declared either by using single or double quotes:"
   ]
  },
  {
   "cell_type": "code",
   "execution_count": null,
   "metadata": {
    "colab": {
     "base_uri": "https://localhost:8080/"
    },
    "executionInfo": {
     "elapsed": 11,
     "status": "ok",
     "timestamp": 1637226577009,
     "user": {
      "displayName": "SUNIL YADAV",
      "photoUrl": "https://lh3.googleusercontent.com/a-/AOh14GganiM423H1NKko6sAm8eUAcIJE-WpNykz0NN8w=s64",
      "userId": "05365530080582545014"
     },
     "user_tz": -330
    },
    "id": "XNui9wNsnW_r",
    "outputId": "a56dd6a7-3d6f-46b2-ab7e-812966dcfddb"
   },
   "outputs": [],
   "source": [
    "x = \"John\"\n",
    "print(x)\n",
    "y = 'John'\n",
    "print(y)\n",
    "# both the statements are same"
   ]
  },
  {
   "cell_type": "markdown",
   "metadata": {
    "id": "scKeRzFfnktf"
   },
   "source": [
    "## Case-Sensitive\n",
    "* Variable names are case-sensitive."
   ]
  },
  {
   "cell_type": "code",
   "execution_count": null,
   "metadata": {
    "colab": {
     "base_uri": "https://localhost:8080/"
    },
    "executionInfo": {
     "elapsed": 372,
     "status": "ok",
     "timestamp": 1637226633765,
     "user": {
      "displayName": "SUNIL YADAV",
      "photoUrl": "https://lh3.googleusercontent.com/a-/AOh14GganiM423H1NKko6sAm8eUAcIJE-WpNykz0NN8w=s64",
      "userId": "05365530080582545014"
     },
     "user_tz": -330
    },
    "id": "0lYL53LUnn33",
    "outputId": "97612ad2-2016-49a6-8d87-d3eeaa5a91ce"
   },
   "outputs": [],
   "source": [
    "a = 4\n",
    "A = \"Sun\"\n",
    "print(a)\n",
    "print(A)\n",
    "# A will not overwrite a"
   ]
  },
  {
   "cell_type": "markdown",
   "metadata": {
    "id": "Axd90ZTkn11P"
   },
   "source": [
    "# **Python - Variable Names**"
   ]
  },
  {
   "cell_type": "markdown",
   "metadata": {
    "id": "dgJ4vK5Nn7d7"
   },
   "source": [
    "## Variable Names\n",
    "* A variable can have a short name (like x and y) or a more descriptive name (age, carname, total_volume)."
   ]
  },
  {
   "cell_type": "markdown",
   "metadata": {
    "id": "oJyoo1sToLJq"
   },
   "source": [
    "## Rules for Python variables:\n",
    "\n",
    "- A variable name must start with a letter or the underscore character\r",
    "- \n",
    "A variable name cannot start with a numbe\n",
    "- \r\n",
    "A variable name can only contain alpha-numeric characters and underscos\n",
    "- A variable names are case sensitive ve (age, Age and AGE are three different variables)"
   ]
  },
  {
   "cell_type": "code",
   "execution_count": null,
   "metadata": {
    "id": "aGsCOCc_n40v"
   },
   "outputs": [],
   "source": [
    "# Legal variable names:\n",
    "myvar = \"Sun\"\n",
    "my_var = \"Sun\"\n",
    "_my_var = \"Sun\"\n",
    "myVar = \"Sun\"\n",
    "MYVAR = \"Sun\"\n",
    "myvar2 = \"Sun\""
   ]
  },
  {
   "cell_type": "code",
   "execution_count": null,
   "metadata": {
    "colab": {
     "base_uri": "https://localhost:8080/",
     "height": 129
    },
    "executionInfo": {
     "elapsed": 417,
     "status": "error",
     "timestamp": 1637227023963,
     "user": {
      "displayName": "SUNIL YADAV",
      "photoUrl": "https://lh3.googleusercontent.com/a-/AOh14GganiM423H1NKko6sAm8eUAcIJE-WpNykz0NN8w=s64",
      "userId": "05365530080582545014"
     },
     "user_tz": -330
    },
    "id": "aoo0O5blovUl",
    "outputId": "dcc12c3b-e029-45d2-ab4a-9a2372376830"
   },
   "outputs": [],
   "source": [
    "# Illegal variable names:\n",
    "2myvar = \"John\"\n",
    "my-var = \"John\"\n",
    "my var = \"John"
   ]
  },
  {
   "cell_type": "markdown",
   "metadata": {
    "id": "gztvXQS5pBrV"
   },
   "source": [
    "# **Multi Words Variable Names**"
   ]
  },
  {
   "cell_type": "markdown",
   "metadata": {
    "id": "Kv3BK6xUpHhM"
   },
   "source": [
    "* Variable names with more than one word can be difficult to read.\n",
    "* There are several techniques you can use to make them more readable:"
   ]
  },
  {
   "cell_type": "markdown",
   "metadata": {
    "id": "vh41Fo3MpOVr"
   },
   "source": [
    "## 1.Camel Case\n",
    "* Each word, except the first, starts with a capital letter:"
   ]
  },
  {
   "cell_type": "code",
   "execution_count": null,
   "metadata": {
    "id": "C5IWfSJJpNbc"
   },
   "outputs": [],
   "source": [
    "myVariableName = \"John\""
   ]
  },
  {
   "cell_type": "markdown",
   "metadata": {
    "id": "iXZ1znknpaUI"
   },
   "source": [
    "## 2.Pascal Case\n",
    "* Each word starts with a capital letter:"
   ]
  },
  {
   "cell_type": "code",
   "execution_count": null,
   "metadata": {
    "id": "lGuK10J6pfVn"
   },
   "outputs": [],
   "source": [
    "MyVariableName = \"John\""
   ]
  },
  {
   "cell_type": "markdown",
   "metadata": {
    "id": "giZgaK2EpkTu"
   },
   "source": [
    "## 3.Snake Case\n",
    "* Each word is separated by an underscore character:"
   ]
  },
  {
   "cell_type": "code",
   "execution_count": null,
   "metadata": {
    "id": "nFLjumLJppTk"
   },
   "outputs": [],
   "source": [
    "my_variable_name = \"John\""
   ]
  },
  {
   "cell_type": "markdown",
   "metadata": {
    "id": "UrF73K7-p3Ge"
   },
   "source": [
    "# **Python Variables - Assign Multiple Values**"
   ]
  },
  {
   "cell_type": "markdown",
   "metadata": {
    "id": "2XaN0RAMp-WH"
   },
   "source": [
    "## Many Values to Multiple Variables\n",
    "* Python allows you to assign values to multiple variables in one line:"
   ]
  },
  {
   "cell_type": "code",
   "execution_count": null,
   "metadata": {
    "colab": {
     "base_uri": "https://localhost:8080/"
    },
    "executionInfo": {
     "elapsed": 387,
     "status": "ok",
     "timestamp": 1637227520120,
     "user": {
      "displayName": "SUNIL YADAV",
      "photoUrl": "https://lh3.googleusercontent.com/a-/AOh14GganiM423H1NKko6sAm8eUAcIJE-WpNykz0NN8w=s64",
      "userId": "05365530080582545014"
     },
     "user_tz": -330
    },
    "id": "9aopPhHPp7Gn",
    "outputId": "d54995da-b0e8-4e38-ba30-6ae1e194dbc5"
   },
   "outputs": [],
   "source": [
    "x, y, z = \"Leap\", \"March\", \"Mon\"\n",
    "print(x)\n",
    "print(y)\n",
    "print(z)"
   ]
  },
  {
   "cell_type": "markdown",
   "metadata": {
    "id": "urXdOejVqhKJ"
   },
   "source": [
    "## One Value to Multiple Variables\n",
    "* And you can assign the same value to multiple variables in one line:"
   ]
  },
  {
   "cell_type": "code",
   "execution_count": null,
   "metadata": {
    "colab": {
     "base_uri": "https://localhost:8080/"
    },
    "executionInfo": {
     "elapsed": 391,
     "status": "ok",
     "timestamp": 1637227596307,
     "user": {
      "displayName": "SUNIL YADAV",
      "photoUrl": "https://lh3.googleusercontent.com/a-/AOh14GganiM423H1NKko6sAm8eUAcIJE-WpNykz0NN8w=s64",
      "userId": "05365530080582545014"
     },
     "user_tz": -330
    },
    "id": "6CYLlB8TqkMt",
    "outputId": "526a8095-baac-41a0-a62d-506305d9dad7"
   },
   "outputs": [],
   "source": [
    "x = y = z = \"Mon\"\n",
    "print(x)\n",
    "print(y)\n",
    "print(z)"
   ]
  },
  {
   "cell_type": "markdown",
   "metadata": {
    "id": "xMSf_zXIqtPs"
   },
   "source": [
    "## Unpack a Collection\n",
    "* If you have a collection of values in a list, tuple etc. Python allows you extract the values into variables. This is called unpacking."
   ]
  },
  {
   "cell_type": "code",
   "execution_count": null,
   "metadata": {
    "colab": {
     "base_uri": "https://localhost:8080/"
    },
    "executionInfo": {
     "elapsed": 363,
     "status": "ok",
     "timestamp": 1637227672935,
     "user": {
      "displayName": "SUNIL YADAV",
      "photoUrl": "https://lh3.googleusercontent.com/a-/AOh14GganiM423H1NKko6sAm8eUAcIJE-WpNykz0NN8w=s64",
      "userId": "05365530080582545014"
     },
     "user_tz": -330
    },
    "id": "KN0q3bNZqwJs",
    "outputId": "d79fd86b-9e4d-4ad1-b9de-8f86ba18fc39"
   },
   "outputs": [],
   "source": [
    "# Unpack a list:\n",
    "days = [\"Mon\", \"Tue\", \"Wed\"]\n",
    "x, y, z = days\n",
    "print(x)\n",
    "print(y)\n",
    "print(z)"
   ]
  },
  {
   "cell_type": "code",
   "execution_count": null,
   "metadata": {
    "colab": {
     "base_uri": "https://localhost:8080/",
     "height": 231
    },
    "executionInfo": {
     "elapsed": 397,
     "status": "error",
     "timestamp": 1637227724829,
     "user": {
      "displayName": "SUNIL YADAV",
      "photoUrl": "https://lh3.googleusercontent.com/a-/AOh14GganiM423H1NKko6sAm8eUAcIJE-WpNykz0NN8w=s64",
      "userId": "05365530080582545014"
     },
     "user_tz": -330
    },
    "id": "Qg8M3-m7YDwL",
    "outputId": "23cadfb1-bd26-4017-ea80-78a77556e1a8"
   },
   "outputs": [],
   "source": [
    "# Unpack a list:\n",
    "days = [\"Mon\", \"Tue\", \"Wed\",\"Thur\"]\n",
    "x, y, z = days\n",
    "print(x)\n",
    "print(y)\n",
    "print(z)"
   ]
  },
  {
   "cell_type": "markdown",
   "metadata": {
    "id": "bzvYluq-rDWo"
   },
   "source": [
    "# **Python - Output Variables**"
   ]
  },
  {
   "cell_type": "markdown",
   "metadata": {
    "id": "SPjlisXsrL8u"
   },
   "source": [
    "## Output Variables\n",
    "* The Python print statement is often used to output variables.\n",
    "* To combine both text and a variable, Python uses the + character:"
   ]
  },
  {
   "cell_type": "code",
   "execution_count": null,
   "metadata": {
    "colab": {
     "base_uri": "https://localhost:8080/"
    },
    "executionInfo": {
     "elapsed": 399,
     "status": "ok",
     "timestamp": 1637227823548,
     "user": {
      "displayName": "SUNIL YADAV",
      "photoUrl": "https://lh3.googleusercontent.com/a-/AOh14GganiM423H1NKko6sAm8eUAcIJE-WpNykz0NN8w=s64",
      "userId": "05365530080582545014"
     },
     "user_tz": -330
    },
    "id": "bd2TRhBzrbyZ",
    "outputId": "64799325-1f81-4b19-9a14-d7d44f7c110a"
   },
   "outputs": [],
   "source": [
    "x = \"Programming Language\"\n",
    "print(\"Python is \" + x)"
   ]
  },
  {
   "cell_type": "markdown",
   "metadata": {
    "id": "Xf72MhZsrqtz"
   },
   "source": [
    "You can also use the + character to add a variable to another variable:"
   ]
  },
  {
   "cell_type": "code",
   "execution_count": null,
   "metadata": {
    "colab": {
     "base_uri": "https://localhost:8080/"
    },
    "executionInfo": {
     "elapsed": 463,
     "status": "ok",
     "timestamp": 1637227833701,
     "user": {
      "displayName": "SUNIL YADAV",
      "photoUrl": "https://lh3.googleusercontent.com/a-/AOh14GganiM423H1NKko6sAm8eUAcIJE-WpNykz0NN8w=s64",
      "userId": "05365530080582545014"
     },
     "user_tz": -330
    },
    "id": "abamkNOurqGO",
    "outputId": "e2bdcf6a-85c3-41d2-c7db-5e79aaa78bf4"
   },
   "outputs": [],
   "source": [
    "x = \"Python is \"\n",
    "y = \"Programming Language\"\n",
    "z =  x + y\n",
    "print(z)"
   ]
  },
  {
   "cell_type": "markdown",
   "metadata": {
    "id": "NrH--lIzryKP"
   },
   "source": [
    "For numbers, the + character works as a mathematical operator:"
   ]
  },
  {
   "cell_type": "code",
   "execution_count": null,
   "metadata": {
    "colab": {
     "base_uri": "https://localhost:8080/"
    },
    "executionInfo": {
     "elapsed": 391,
     "status": "ok",
     "timestamp": 1637227889149,
     "user": {
      "displayName": "SUNIL YADAV",
      "photoUrl": "https://lh3.googleusercontent.com/a-/AOh14GganiM423H1NKko6sAm8eUAcIJE-WpNykz0NN8w=s64",
      "userId": "05365530080582545014"
     },
     "user_tz": -330
    },
    "id": "Kip2EbDIrzC_",
    "outputId": "8160a0bb-7537-4717-e083-bb07527107f4"
   },
   "outputs": [],
   "source": [
    "x = 5\n",
    "y = 10\n",
    "print(x + y)"
   ]
  },
  {
   "cell_type": "code",
   "execution_count": null,
   "metadata": {
    "colab": {
     "base_uri": "https://localhost:8080/"
    },
    "executionInfo": {
     "elapsed": 383,
     "status": "ok",
     "timestamp": 1637227937761,
     "user": {
      "displayName": "SUNIL YADAV",
      "photoUrl": "https://lh3.googleusercontent.com/a-/AOh14GganiM423H1NKko6sAm8eUAcIJE-WpNykz0NN8w=s64",
      "userId": "05365530080582545014"
     },
     "user_tz": -330
    },
    "id": "RDH8smLTY3ZC",
    "outputId": "3ac3cbee-9b29-4c47-af03-f8584187fa22"
   },
   "outputs": [],
   "source": [
    "x = '5'\n",
    "y = '10'\n",
    "print(x + y)"
   ]
  },
  {
   "cell_type": "markdown",
   "metadata": {
    "id": "ypfO7o6Ar4Bk"
   },
   "source": [
    "If you try to combine a string and a number, Python will give you an error:"
   ]
  },
  {
   "cell_type": "code",
   "execution_count": null,
   "metadata": {
    "colab": {
     "base_uri": "https://localhost:8080/",
     "height": 197
    },
    "executionInfo": {
     "elapsed": 447,
     "status": "error",
     "timestamp": 1637227994978,
     "user": {
      "displayName": "SUNIL YADAV",
      "photoUrl": "https://lh3.googleusercontent.com/a-/AOh14GganiM423H1NKko6sAm8eUAcIJE-WpNykz0NN8w=s64",
      "userId": "05365530080582545014"
     },
     "user_tz": -330
    },
    "id": "tIlzf0NHr7Vz",
    "outputId": "08a1d2c6-e842-4da8-be4d-99f17dced038"
   },
   "outputs": [],
   "source": [
    "x = 5\n",
    "y = \"John\"\n",
    "print(x + y)"
   ]
  },
  {
   "cell_type": "markdown",
   "metadata": {
    "id": "XT8BLTccsxWo"
   },
   "source": [
    "# **Python - Global Variables**"
   ]
  },
  {
   "cell_type": "markdown",
   "metadata": {
    "id": "lyIj2T-Ns5N-"
   },
   "source": [
    "## Global Variables\n",
    "* Variables that are created outside of a function (as in all of the examples above) are known as global variables.\n",
    "* Global variables can be used by everyone, both inside of functions and outside."
   ]
  },
  {
   "cell_type": "code",
   "execution_count": null,
   "metadata": {
    "colab": {
     "base_uri": "https://localhost:8080/"
    },
    "executionInfo": {
     "elapsed": 408,
     "status": "ok",
     "timestamp": 1637228232656,
     "user": {
      "displayName": "SUNIL YADAV",
      "photoUrl": "https://lh3.googleusercontent.com/a-/AOh14GganiM423H1NKko6sAm8eUAcIJE-WpNykz0NN8w=s64",
      "userId": "05365530080582545014"
     },
     "user_tz": -330
    },
    "id": "g7YYvlO2tD5z",
    "outputId": "d950a5fc-4b9a-4059-d7a1-b1c778c6d19f"
   },
   "outputs": [],
   "source": [
    "# Create a variable outside of a function, and use it inside the function\n",
    "\n",
    "x = 2\n",
    "\n",
    "def myfun():\n",
    "  print(\"x : \", x)\n",
    "\n",
    "myfun()"
   ]
  },
  {
   "cell_type": "markdown",
   "metadata": {
    "id": "HqtYsDH5tlVs"
   },
   "source": [
    "If you create a variable with the same name inside a function, this variable will be local, and can only be used inside the function. The global variable with the same name will remain as it was, global and with the original value."
   ]
  },
  {
   "cell_type": "code",
   "execution_count": null,
   "metadata": {
    "colab": {
     "base_uri": "https://localhost:8080/"
    },
    "executionInfo": {
     "elapsed": 473,
     "status": "ok",
     "timestamp": 1637228420430,
     "user": {
      "displayName": "SUNIL YADAV",
      "photoUrl": "https://lh3.googleusercontent.com/a-/AOh14GganiM423H1NKko6sAm8eUAcIJE-WpNykz0NN8w=s64",
      "userId": "05365530080582545014"
     },
     "user_tz": -330
    },
    "id": "rbh3AC7Ktmqv",
    "outputId": "984c194e-8613-4600-8682-1e2a3874aee5"
   },
   "outputs": [],
   "source": [
    "# Create a variable inside a function, with the same name as the global variable\n",
    "x = 2\n",
    "\n",
    "def myfun():\n",
    "  x = 3\n",
    "  print(\"x : \", x)\n",
    "\n",
    "myfun()\n",
    "\n",
    "print(\"x : \", x)"
   ]
  },
  {
   "cell_type": "code",
   "execution_count": null,
   "metadata": {
    "colab": {
     "base_uri": "https://localhost:8080/",
     "height": 214
    },
    "executionInfo": {
     "elapsed": 376,
     "status": "error",
     "timestamp": 1637228640026,
     "user": {
      "displayName": "SUNIL YADAV",
      "photoUrl": "https://lh3.googleusercontent.com/a-/AOh14GganiM423H1NKko6sAm8eUAcIJE-WpNykz0NN8w=s64",
      "userId": "05365530080582545014"
     },
     "user_tz": -330
    },
    "id": "PgfbJB_KbWHC",
    "outputId": "dadf7b5e-612e-41bb-cf7a-5eecd5071dfc"
   },
   "outputs": [],
   "source": [
    "# Local variables can not be called outside the function\n",
    "\n",
    "def myfun():\n",
    "  K = 3\n",
    "  print(\"K : \", K)\n",
    "\n",
    "myfun()\n",
    "\n",
    "print(\"K : \", K)"
   ]
  },
  {
   "cell_type": "markdown",
   "metadata": {
    "id": "UXSQrfX5vm1P"
   },
   "source": [
    "## The global Keyword\n",
    "* Normally, when you create a variable inside a function, that variable is local, and can only be used inside that function.\n",
    "* To create a global variable inside a function, you can use the global keyword."
   ]
  },
  {
   "cell_type": "code",
   "execution_count": null,
   "metadata": {
    "colab": {
     "base_uri": "https://localhost:8080/"
    },
    "executionInfo": {
     "elapsed": 649,
     "status": "ok",
     "timestamp": 1637228752332,
     "user": {
      "displayName": "SUNIL YADAV",
      "photoUrl": "https://lh3.googleusercontent.com/a-/AOh14GganiM423H1NKko6sAm8eUAcIJE-WpNykz0NN8w=s64",
      "userId": "05365530080582545014"
     },
     "user_tz": -330
    },
    "id": "GNONWt1MvsDF",
    "outputId": "32f95045-4af4-4b94-98e2-ed6e08735ede"
   },
   "outputs": [],
   "source": [
    "# If you use the global keyword, the variable belongs to the global scope:\n",
    "\n",
    "def myfun():\n",
    "  global x\n",
    "  x = 2\n",
    "  print(\"x is \", x)\n",
    "\n",
    "myfun()\n",
    "\n",
    "print(\"x is \", x)"
   ]
  },
  {
   "cell_type": "markdown",
   "metadata": {
    "id": "pOEc8D_nwSdw"
   },
   "source": [
    "Also, use the global keyword if you want to change a global variable inside a function."
   ]
  },
  {
   "cell_type": "code",
   "execution_count": null,
   "metadata": {
    "colab": {
     "base_uri": "https://localhost:8080/"
    },
    "executionInfo": {
     "elapsed": 375,
     "status": "ok",
     "timestamp": 1637228792278,
     "user": {
      "displayName": "SUNIL YADAV",
      "photoUrl": "https://lh3.googleusercontent.com/a-/AOh14GganiM423H1NKko6sAm8eUAcIJE-WpNykz0NN8w=s64",
      "userId": "05365530080582545014"
     },
     "user_tz": -330
    },
    "id": "2eB9nYxWwTWZ",
    "outputId": "70ffc7c7-960d-470a-f458-81b83240ad66"
   },
   "outputs": [],
   "source": [
    "# To change the value of a global variable inside a function, refer to the variable by using the global keyword:\n",
    "x = 3\n",
    "\n",
    "def myfun():\n",
    "  global x\n",
    "  x = 2\n",
    "  print(\"x is:\", x)\n",
    "\n",
    "myfun()\n",
    "\n",
    "print(\"x is:\", x)"
   ]
  },
  {
   "cell_type": "code",
   "execution_count": null,
   "metadata": {},
   "outputs": [],
   "source": []
  }
 ],
 "metadata": {
  "colab": {
   "authorship_tag": "ABX9TyMiBC/qgqgeD7zlx5/SGfmU",
   "provenance": []
  },
  "kernelspec": {
   "display_name": "Python 3 (ipykernel)",
   "language": "python",
   "name": "python3"
  },
  "language_info": {
   "codemirror_mode": {
    "name": "ipython",
    "version": 3
   },
   "file_extension": ".py",
   "mimetype": "text/x-python",
   "name": "python",
   "nbconvert_exporter": "python",
   "pygments_lexer": "ipython3",
   "version": "3.11.4"
  }
 },
 "nbformat": 4,
 "nbformat_minor": 4
}
