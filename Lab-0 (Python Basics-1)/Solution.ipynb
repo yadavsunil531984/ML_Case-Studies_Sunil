{
 "cells": [
  {
   "cell_type": "code",
   "execution_count": 2,
   "id": "10560d18-5d36-4afd-bfa6-30b462dfa37e",
   "metadata": {},
   "outputs": [
    {
     "name": "stdout",
     "output_type": "stream",
     "text": [
      "Student 1 added.\n",
      "Student 2 added.\n",
      "Student 1 enrolled in course CSIS101.\n",
      "Student 1 enrolled in course MATH101.\n",
      "Student 2 enrolled in course CSIS101.\n",
      "Student 1 dropped from course MATH101.\n",
      "Students enrolled in course CSIS101: [1, 2]\n",
      "Courses for student 1: ['CSIS101']\n"
     ]
    }
   ],
   "source": [
    "# Dictionary to store students and their courses\n",
    "student_courses = {}\n",
    "\n",
    "def add_student(student_id):\n",
    "    if student_id in student_courses:\n",
    "        print(f\"Student {student_id} already exists.\")\n",
    "    else:\n",
    "        student_courses[student_id] = []\n",
    "        print(f\"Student {student_id} added.\")\n",
    "\n",
    "def enroll_student_in_course(student_id, course_id):\n",
    "    if student_id not in student_courses:\n",
    "        print(f\"Student {student_id} does not exist.\")\n",
    "    else:\n",
    "        if course_id not in student_courses[student_id]:\n",
    "            student_courses[student_id].append(course_id)\n",
    "            print(f\"Student {student_id} enrolled in course {course_id}.\")\n",
    "        else:\n",
    "            print(f\"Student {student_id} is already enrolled in course {course_id}.\")\n",
    "\n",
    "def drop_student_from_course(student_id, course_id):\n",
    "    if student_id not in student_courses:\n",
    "        print(f\"Student {student_id} does not exist.\")\n",
    "    else:\n",
    "        if course_id in student_courses[student_id]:\n",
    "            student_courses[student_id].remove(course_id)\n",
    "            print(f\"Student {student_id} dropped from course {course_id}.\")\n",
    "        else:\n",
    "            print(f\"Student {student_id} is not enrolled in course {course_id}.\")\n",
    "\n",
    "def list_students_in_course(course_id):\n",
    "    students_in_course = [student_id for student_id, courses in student_courses.items() if course_id in courses]\n",
    "    if students_in_course:\n",
    "        print(f\"Students enrolled in course {course_id}: {students_in_course}\")\n",
    "    else:\n",
    "        print(f\"No students enrolled in course {course_id}.\")\n",
    "\n",
    "def list_courses_for_student(student_id):\n",
    "    if student_id in student_courses:\n",
    "        print(f\"Courses for student {student_id}: {student_courses[student_id]}\")\n",
    "    else:\n",
    "        print(f\"Student {student_id} does not exist.\")\n",
    "\n",
    "# Example usage\n",
    "add_student(1)\n",
    "add_student(2)\n",
    "enroll_student_in_course(1, \"CSIS101\")\n",
    "enroll_student_in_course(1, \"MATH101\")\n",
    "enroll_student_in_course(2, \"CSIS101\")\n",
    "drop_student_from_course(1, \"MATH101\")\n",
    "list_students_in_course(\"CSIS101\")\n",
    "list_courses_for_student(1)\n"
   ]
  },
  {
   "cell_type": "code",
   "execution_count": null,
   "id": "d0107b9d-a114-4bf6-a583-111fd365dd36",
   "metadata": {},
   "outputs": [],
   "source": []
  }
 ],
 "metadata": {
  "kernelspec": {
   "display_name": "Python 3 (ipykernel)",
   "language": "python",
   "name": "python3"
  },
  "language_info": {
   "codemirror_mode": {
    "name": "ipython",
    "version": 3
   },
   "file_extension": ".py",
   "mimetype": "text/x-python",
   "name": "python",
   "nbconvert_exporter": "python",
   "pygments_lexer": "ipython3",
   "version": "3.11.4"
  }
 },
 "nbformat": 4,
 "nbformat_minor": 5
}
