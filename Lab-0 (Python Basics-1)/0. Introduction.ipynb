{
 "cells": [
  {
   "cell_type": "markdown",
   "id": "fb7d0641-8393-464d-a854-80ed478ec0d9",
   "metadata": {},
   "source": [
    "## Introduction\n",
    "\n",
    "- Python is a high-level, general-purpose programming language that has become incredibly popular due to its simplicity and versatility. \n",
    "- Designed by Guido van Rossum and first released in 1991, \n",
    "- Python emphasizes code readability and ease of use, which makes it an excellent choice for both beginners and experienced developers."
   ]
  },
  {
   "cell_type": "markdown",
   "id": "44a5a8bb-4423-48aa-95aa-31635cccf224",
   "metadata": {
    "jp-MarkdownHeadingCollapsed": true
   },
   "source": [
    "## Popular Uses of Python\n",
    "\n",
    "**1) Web Development:** Frameworks like Django, Flask, and Pyramid make web development with Python efficient and scalable.\n",
    "   \n",
    "**2) Data Science and Machine Learning:** Libraries such as NumPy, Pandas, SciPy, and scikit-learn, along with deep learning frameworks like TensorFlow and PyTorch, are widely used in the data science community.\n",
    "   \n",
    "**3) Automation and Scripting:** Python's ease of use and powerful libraries make it ideal for automating repetitive tasks and scripting.\n",
    "   \n",
    "**4) Software Development:** Python is used for developing desktop applications, games, and complex enterprise software solutions.\n",
    "   \n",
    "**5) Scientific Computing:** Python's libraries support scientific and numerical computations, making it popular in academia and research."
   ]
  },
  {
   "cell_type": "markdown",
   "id": "5f46fb89-9b72-4ee3-b89a-fcf05c3c06ed",
   "metadata": {},
   "source": [
    "## Python in the Industry\n",
    "\n",
    "Python is widely adopted by tech giants for various applications:\n",
    "\n",
    "**1) Google:** Utilizes Python for its versatility and speed in developing and maintaining many of its products.\n",
    "\n",
    "**2) Amazon:** Uses Python for automation, data analysis, and managing their vast cloud infrastructure (AWS).\n",
    "\n",
    "**3) Facebook:** Employs Python in multiple services, including its backend applications.\n",
    "\n",
    "**4) Instagram:** Leverages Python for its simplicity and efficiency in scaling the application.\n",
    "\n",
    "**5) Dropbox:** Relies on Python for its client and server-side software development.\n",
    "\n",
    "**6) Uber:** Uses Python for its data analysis, visualization, and backend services."
   ]
  },
  {
   "cell_type": "markdown",
   "id": "8eebfb31-c7d0-4f30-8fc1-2bc391fae6a5",
   "metadata": {},
   "source": [
    "## How to check version of python"
   ]
  },
  {
   "cell_type": "code",
   "execution_count": null,
   "id": "27f9587d-5cb5-4b8e-924a-7dc4ac5cefd8",
   "metadata": {},
   "outputs": [],
   "source": [
    "!python3 --version"
   ]
  },
  {
   "cell_type": "code",
   "execution_count": null,
   "id": "a7e4b42d-a038-45af-8bec-650aed7a9832",
   "metadata": {},
   "outputs": [],
   "source": [
    "!jupyter --version"
   ]
  },
  {
   "cell_type": "markdown",
   "id": "51b02740-28a6-432c-a2f6-b1804e93e20f",
   "metadata": {},
   "source": [
    "## How to Install Any packages in python ?\n",
    "- **!pip install package_name:** To install the package\n",
    "- **!pip show package_name:** To check pacakage installation\n"
   ]
  },
  {
   "cell_type": "code",
   "execution_count": null,
   "id": "c432151f-e562-43c9-be0f-25855256cd17",
   "metadata": {},
   "outputs": [],
   "source": [
    "!pip install numpy "
   ]
  },
  {
   "cell_type": "code",
   "execution_count": null,
   "id": "ab4ce33f-4298-4ab0-af03-b21989b94e4b",
   "metadata": {},
   "outputs": [],
   "source": [
    "!pip show numpy"
   ]
  },
  {
   "cell_type": "code",
   "execution_count": null,
   "id": "1b75653c-f4b7-4df9-acb4-1c9975027cad",
   "metadata": {},
   "outputs": [],
   "source": [
    "!pip install numpy pandas matplotlib"
   ]
  },
  {
   "cell_type": "code",
   "execution_count": null,
   "id": "c1f77120-2a0e-4fac-82d7-cd3b797baf90",
   "metadata": {},
   "outputs": [],
   "source": [
    "!pip install numpy pandas matplotlib"
   ]
  },
  {
   "cell_type": "markdown",
   "id": "8990b583-d5af-44e5-ae11-a3b8706c13ae",
   "metadata": {},
   "source": [
    "## When to use !pip and pip ?\n",
    "\n",
    "**1) Jupyter Notebooks:** When working within a Jupyter Notebook, you use !pip to call the shell command to install a package because the exclamation mark allows you to run shell commands directly from a code cell.\n",
    "   \n",
    "**2) Terminal/Command Prompt:** When working in a standard terminal or command prompt, you just use pip without the exclamation mark."
   ]
  },
  {
   "cell_type": "markdown",
   "id": "88ee0c95-9efa-4159-8890-8bccdea28ac3",
   "metadata": {},
   "source": [
    "## How to import package ?\n",
    "- After Installing package we need to import the package\n",
    "- Syntax: import package_name"
   ]
  },
  {
   "cell_type": "code",
   "execution_count": 5,
   "id": "b8de1412-d484-425a-b120-48146bd22682",
   "metadata": {},
   "outputs": [],
   "source": [
    "import numpy as np"
   ]
  }
 ],
 "metadata": {
  "kernelspec": {
   "display_name": "Python 3 (ipykernel)",
   "language": "python",
   "name": "python3"
  },
  "language_info": {
   "codemirror_mode": {
    "name": "ipython",
    "version": 3
   },
   "file_extension": ".py",
   "mimetype": "text/x-python",
   "name": "python",
   "nbconvert_exporter": "python",
   "pygments_lexer": "ipython3",
   "version": "3.11.4"
  }
 },
 "nbformat": 4,
 "nbformat_minor": 5
}
