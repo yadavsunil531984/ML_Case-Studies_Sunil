{
 "cells": [
  {
   "cell_type": "markdown",
   "id": "b09ded7f-d851-435e-993b-cd7226a36079",
   "metadata": {},
   "source": [
    "## Problem Statement: Student Course Management System\n",
    "Create a simple Student Course Management System using Python lists. The system should allow for the following functionalities:\n",
    "- Add a new student to the system.\n",
    "- Enroll a student in a course.\n",
    "- Drop a course for a student.\n",
    "- List all students enrolled in a specific course.\n",
    "- List all courses a student is enrolled in.\n",
    "\n",
    "**Requirements:**\n",
    "- Each student is identified by a unique student ID (an integer).\n",
    "- Each course is identified by a unique course ID (a string).\n",
    "- Use Python lists to manage students and their course enrollments.\n",
    "\n",
    "**Functionalities Description:**\n",
    "\n",
    "1) Add a New Student\n",
    "- Function: add_student(student_id)\n",
    "- Description: Adds a new student with the given student_id to the system.\n",
    "\n",
    "2) Enroll a Student in a Course\n",
    "- Function: enroll_student_in_course(student_id, course_id)\n",
    "- Description: Enrolls the student with student_id in the specified course_id.\n",
    "\n",
    "4) Drop a Course for a Student\n",
    "- Function: drop_student_from_course(student_id, course_id)\n",
    "- Description: Drops the specified course_id for the student with student_id.\n",
    "\n",
    "5) List All Students Enrolled in a Specific Course\n",
    "- Function: list_students_in_course(course_id)\n",
    "- Description: Lists all students enrolled in the specified course_id.\n",
    "\n",
    "6) List All Courses a Student is Enrolled In\n",
    "- Function: list_courses_for_student(student_id)\n",
    "- Description: Lists all courses that the student with student_id is enrolled in."
   ]
  },
  {
   "cell_type": "code",
   "execution_count": null,
   "id": "61d5370f-9920-4950-afec-c9e90f89d994",
   "metadata": {},
   "outputs": [],
   "source": []
  }
 ],
 "metadata": {
  "kernelspec": {
   "display_name": "Python 3 (ipykernel)",
   "language": "python",
   "name": "python3"
  },
  "language_info": {
   "codemirror_mode": {
    "name": "ipython",
    "version": 3
   },
   "file_extension": ".py",
   "mimetype": "text/x-python",
   "name": "python",
   "nbconvert_exporter": "python",
   "pygments_lexer": "ipython3",
   "version": "3.11.4"
  }
 },
 "nbformat": 4,
 "nbformat_minor": 5
}
