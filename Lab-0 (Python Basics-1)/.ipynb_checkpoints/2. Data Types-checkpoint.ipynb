{
 "cells": [
  {
   "cell_type": "markdown",
   "metadata": {
    "id": "veu-nvzy74tc"
   },
   "source": [
    "# **Python Data Types**"
   ]
  },
  {
   "cell_type": "markdown",
   "metadata": {
    "id": "G9jwbpQM778N"
   },
   "source": [
    "**Built-in Data Types**\n",
    "* In programming, data type is an important concept.\n",
    "* Variables can store data of different types, and different types can do different things.\n",
    "* Python has the following data types built-in by default, in these categories:\n",
    "\n",
    "  \n",
    "   **1. Text Type:** str\n",
    "\n",
    "   **2. Numeric Types:** int, float, complex\n",
    "\n",
    "   **3. Sequence Types:** list, tuple, range\n",
    "\n",
    "   **4. Mapping Type:**\tdict\n",
    "\n",
    "   **5. Set Types:**\tset, frozenset\n",
    "\n",
    "   **6. Boolean Type:**\tbool\n",
    "\n",
    "   **7. Binary Types:**\tbytes, bytearray, memoryview"
   ]
  },
  {
   "cell_type": "markdown",
   "metadata": {
    "id": "H38f9yXB-wg0"
   },
   "source": [
    "**Getting the Data Type**\n",
    "* You can get the data type of any object by using the type() function:"
   ]
  },
  {
   "cell_type": "markdown",
   "metadata": {},
   "source": [
    "### 1. Text "
   ]
  },
  {
   "cell_type": "code",
   "execution_count": null,
   "metadata": {
    "colab": {
     "base_uri": "https://localhost:8080/"
    },
    "executionInfo": {
     "elapsed": 8,
     "status": "ok",
     "timestamp": 1637570503390,
     "user": {
      "displayName": "SUNIL YADAV",
      "photoUrl": "https://lh3.googleusercontent.com/a-/AOh14GganiM423H1NKko6sAm8eUAcIJE-WpNykz0NN8w=s64",
      "userId": "05365530080582545014"
     },
     "user_tz": -330
    },
    "id": "8Xwx-eNc_JdV",
    "outputId": "5cef7b38-8138-4574-ea82-1862ae4a1ba9"
   },
   "outputs": [],
   "source": [
    "x = \"sun\"\n",
    "print(type(x))"
   ]
  },
  {
   "cell_type": "markdown",
   "metadata": {},
   "source": [
    "### 2. Numeric type"
   ]
  },
  {
   "cell_type": "code",
   "execution_count": null,
   "metadata": {
    "colab": {
     "base_uri": "https://localhost:8080/"
    },
    "executionInfo": {
     "elapsed": 377,
     "status": "ok",
     "timestamp": 1637570529410,
     "user": {
      "displayName": "SUNIL YADAV",
      "photoUrl": "https://lh3.googleusercontent.com/a-/AOh14GganiM423H1NKko6sAm8eUAcIJE-WpNykz0NN8w=s64",
      "userId": "05365530080582545014"
     },
     "user_tz": -330
    },
    "id": "g45ppowk8s7s",
    "outputId": "30063d0b-4cab-49a8-d361-d550117a8d66"
   },
   "outputs": [],
   "source": [
    "x = 5\n",
    "print(type(x))"
   ]
  },
  {
   "cell_type": "code",
   "execution_count": null,
   "metadata": {
    "colab": {
     "base_uri": "https://localhost:8080/"
    },
    "executionInfo": {
     "elapsed": 435,
     "status": "ok",
     "timestamp": 1637570551384,
     "user": {
      "displayName": "SUNIL YADAV",
      "photoUrl": "https://lh3.googleusercontent.com/a-/AOh14GganiM423H1NKko6sAm8eUAcIJE-WpNykz0NN8w=s64",
      "userId": "05365530080582545014"
     },
     "user_tz": -330
    },
    "id": "Lf7cBHjj-9t3",
    "outputId": "4f6cb829-7756-40d6-a43e-7b620cb5352d"
   },
   "outputs": [],
   "source": [
    "x = 5.2\n",
    "print(type(x))"
   ]
  },
  {
   "cell_type": "code",
   "execution_count": null,
   "metadata": {
    "colab": {
     "base_uri": "https://localhost:8080/"
    },
    "executionInfo": {
     "elapsed": 371,
     "status": "ok",
     "timestamp": 1637570578249,
     "user": {
      "displayName": "SUNIL YADAV",
      "photoUrl": "https://lh3.googleusercontent.com/a-/AOh14GganiM423H1NKko6sAm8eUAcIJE-WpNykz0NN8w=s64",
      "userId": "05365530080582545014"
     },
     "user_tz": -330
    },
    "id": "HDEeGFnl_Cct",
    "outputId": "0a3179ee-5323-45d0-ad1f-434fcd5960c8"
   },
   "outputs": [],
   "source": [
    "x = 5+3j\n",
    "print(type(x))"
   ]
  },
  {
   "cell_type": "markdown",
   "metadata": {},
   "source": [
    "### 3. Sequence Data types"
   ]
  },
  {
   "cell_type": "markdown",
   "metadata": {},
   "source": [
    "#### A) List\n",
    "- Definition: A list is an ordered, mutable collection of items in Python.\n",
    "- Syntax: Defined using square brackets [ ].\n",
    "- Example: my_list = [1, 2, 3, 'a', 'b', 'c']\n",
    "- Features: Supports various operations like append, remove, slicing, and iteration."
   ]
  },
  {
   "cell_type": "code",
   "execution_count": null,
   "metadata": {
    "colab": {
     "base_uri": "https://localhost:8080/"
    },
    "executionInfo": {
     "elapsed": 369,
     "status": "ok",
     "timestamp": 1637570606922,
     "user": {
      "displayName": "SUNIL YADAV",
      "photoUrl": "https://lh3.googleusercontent.com/a-/AOh14GganiM423H1NKko6sAm8eUAcIJE-WpNykz0NN8w=s64",
      "userId": "05365530080582545014"
     },
     "user_tz": -330
    },
    "id": "RXdYxOv-_OuV",
    "outputId": "18f33cf8-b446-4671-bbf6-13c46f2f1cc6"
   },
   "outputs": [],
   "source": [
    "x = [5, 3, 6, 8]\n",
    "print(type(x))"
   ]
  },
  {
   "cell_type": "markdown",
   "metadata": {},
   "source": [
    "#### B) Tuple\n",
    "- Definition: A tuple is an ordered, immutable collection of items in Python.\n",
    "- Syntax: Defined using parentheses ( ).\n",
    "- Example: my_tuple = (1, 2, 3, 'a', 'b', 'c')\n",
    "- Features: Immutable, which means it cannot be changed after creation. Useful for fixed data."
   ]
  },
  {
   "cell_type": "code",
   "execution_count": null,
   "metadata": {
    "id": "o0Z8og4k_V8a"
   },
   "outputs": [],
   "source": [
    "x = (5, 3, 6, 8)\n",
    "print(type(x))"
   ]
  },
  {
   "cell_type": "markdown",
   "metadata": {},
   "source": [
    "#### C) Range\n",
    "- Definition: A range is a sequence of numbers, typically used for looping a specific number of times.\n",
    "- Syntax: Created using the range() function.\n",
    "- Example: my_range = range(1, 10)\n",
    "- Features: Generates a sequence of numbers, can be converted to a list or tuple for iteration."
   ]
  },
  {
   "cell_type": "code",
   "execution_count": 18,
   "metadata": {
    "colab": {
     "base_uri": "https://localhost:8080/"
    },
    "executionInfo": {
     "elapsed": 369,
     "status": "ok",
     "timestamp": 1637570664666,
     "user": {
      "displayName": "SUNIL YADAV",
      "photoUrl": "https://lh3.googleusercontent.com/a-/AOh14GganiM423H1NKko6sAm8eUAcIJE-WpNykz0NN8w=s64",
      "userId": "05365530080582545014"
     },
     "user_tz": -330
    },
    "id": "jJKbibzBBFDD",
    "outputId": "773e7ecb-2f9c-4bc7-9a3c-6b638c1d8e5d"
   },
   "outputs": [
    {
     "name": "stdout",
     "output_type": "stream",
     "text": [
      "range(1, 6)\n"
     ]
    },
    {
     "data": {
      "text/plain": [
       "range"
      ]
     },
     "execution_count": 18,
     "metadata": {},
     "output_type": "execute_result"
    }
   ],
   "source": [
    "x = range(1,6)\n",
    "print(x)\n",
    "type(x)"
   ]
  },
  {
   "cell_type": "markdown",
   "metadata": {},
   "source": [
    "#### 4. Mapping Type"
   ]
  },
  {
   "cell_type": "markdown",
   "metadata": {},
   "source": [
    "#### A) Dictionary\n",
    "- Definition: A dictionary is an unordered, mutable collection of key-value pairs in Python.\n",
    "- Syntax: Defined using curly braces {} with key-value pairs separated by colons :.\n",
    "- Example: my_dict = {'name': 'Alice', 'age': 25, 'city': 'New York'}\n",
    "  \n",
    "- Features:\n",
    " 1) Keys: Unique identifiers for values, must be immutable types (e.g., strings, numbers, tuples).\n",
    " 2) Values: Can be of any type and are associated with their respective keys.\n",
    " 3) Access: Values are accessed using their keys (e.g., my_dict['name'] returns 'Alice').\n",
    " 4) Mutability: Dictionaries are mutable, meaning you can add, remove, or change key-value pairs.\n",
    " 5) Order: As of Python 3.7, dictionaries maintain the insertion order of keys."
   ]
  },
  {
   "cell_type": "code",
   "execution_count": 19,
   "metadata": {
    "colab": {
     "base_uri": "https://localhost:8080/"
    },
    "executionInfo": {
     "elapsed": 406,
     "status": "ok",
     "timestamp": 1637570749050,
     "user": {
      "displayName": "SUNIL YADAV",
      "photoUrl": "https://lh3.googleusercontent.com/a-/AOh14GganiM423H1NKko6sAm8eUAcIJE-WpNykz0NN8w=s64",
      "userId": "05365530080582545014"
     },
     "user_tz": -330
    },
    "id": "GqGBeqdv_1H0",
    "outputId": "77ac438a-8b94-4a1f-eaeb-102eb4bbb270"
   },
   "outputs": [
    {
     "name": "stdout",
     "output_type": "stream",
     "text": [
      "<class 'dict'>\n"
     ]
    }
   ],
   "source": [
    "x = {\"a\":5, \"b\":3, \"c\":6, \"d\":8}\n",
    "print(type(x))"
   ]
  },
  {
   "cell_type": "code",
   "execution_count": 20,
   "metadata": {},
   "outputs": [
    {
     "name": "stdout",
     "output_type": "stream",
     "text": [
      "5\n"
     ]
    }
   ],
   "source": [
    "print(x['a'])"
   ]
  },
  {
   "cell_type": "code",
   "execution_count": 21,
   "metadata": {},
   "outputs": [
    {
     "name": "stdout",
     "output_type": "stream",
     "text": [
      "8\n"
     ]
    }
   ],
   "source": [
    "print(x['d'])"
   ]
  },
  {
   "cell_type": "markdown",
   "metadata": {},
   "source": [
    "### 5. Set types"
   ]
  },
  {
   "cell_type": "markdown",
   "metadata": {},
   "source": [
    "#### A) Set\n",
    "- Definition: A set is an unordered collection of unique items in Python.\n",
    "- Syntax: Defined using curly braces {} or the set() function.\n",
    "- Example: my_set = {1, 2, 3, 'a', 'b', 'c'} or my_set = set([1, 2, 3, 'a', 'b', 'c'])\n",
    "  \n",
    "- Features:\n",
    "1) Unique Elements: Automatically removes duplicate elements.\n",
    "2) Unordered: Does not maintain any order of elements.\n",
    "3) Mutable: Can add or remove elements using methods like add() and remove().\n",
    "4) Operations: Supports mathematical set operations like union, intersection, difference, and symmetric difference."
   ]
  },
  {
   "cell_type": "code",
   "execution_count": null,
   "metadata": {
    "colab": {
     "base_uri": "https://localhost:8080/"
    },
    "executionInfo": {
     "elapsed": 382,
     "status": "ok",
     "timestamp": 1637570795487,
     "user": {
      "displayName": "SUNIL YADAV",
      "photoUrl": "https://lh3.googleusercontent.com/a-/AOh14GganiM423H1NKko6sAm8eUAcIJE-WpNykz0NN8w=s64",
      "userId": "05365530080582545014"
     },
     "user_tz": -330
    },
    "id": "IoGOpK2KByia",
    "outputId": "bb4402bf-dc38-46dc-9599-3efcb5991c73"
   },
   "outputs": [],
   "source": [
    "x = {\"India\", \"Austrelia\", \"Germany\"}\n",
    "type(x)"
   ]
  },
  {
   "cell_type": "markdown",
   "metadata": {},
   "source": [
    "#### B) Frozen Set\n",
    "- Definition: A frozen set is an immutable version of a set in Python. Once created, its elements cannot be changed, added, or removed.\n",
    "- Syntax: Created using the frozenset() function.\n",
    "- Example: my_frozenset = frozenset([1, 2, 3, 'a', 'b', 'c'])\n",
    "\n",
    "- Features:\n",
    "1) Immutable: Cannot modify the frozen set after creation.\n",
    "2) Unique Elements: Automatically removes duplicate elements.\n",
    "3) Unordered: Does not maintain any order of elements.\n",
    "4) Set Operations: Supports operations like union, intersection, difference, and symmetric difference, similar to a regular set."
   ]
  },
  {
   "cell_type": "code",
   "execution_count": null,
   "metadata": {
    "colab": {
     "base_uri": "https://localhost:8080/"
    },
    "executionInfo": {
     "elapsed": 380,
     "status": "ok",
     "timestamp": 1637570826765,
     "user": {
      "displayName": "SUNIL YADAV",
      "photoUrl": "https://lh3.googleusercontent.com/a-/AOh14GganiM423H1NKko6sAm8eUAcIJE-WpNykz0NN8w=s64",
      "userId": "05365530080582545014"
     },
     "user_tz": -330
    },
    "id": "m9ZwDMf7BbLl",
    "outputId": "50e1d2b2-f1e6-4bf9-c070-81030cc776c2"
   },
   "outputs": [],
   "source": [
    "x = frozenset({\"India\", \"Austrelia\", \"Germany\"})\n",
    "type(x)"
   ]
  },
  {
   "cell_type": "markdown",
   "metadata": {},
   "source": [
    "### 6. Boolean type"
   ]
  },
  {
   "cell_type": "code",
   "execution_count": null,
   "metadata": {
    "colab": {
     "base_uri": "https://localhost:8080/"
    },
    "executionInfo": {
     "elapsed": 380,
     "status": "ok",
     "timestamp": 1637570865307,
     "user": {
      "displayName": "SUNIL YADAV",
      "photoUrl": "https://lh3.googleusercontent.com/a-/AOh14GganiM423H1NKko6sAm8eUAcIJE-WpNykz0NN8w=s64",
      "userId": "05365530080582545014"
     },
     "user_tz": -330
    },
    "id": "CTaEzT6TAxK1",
    "outputId": "c516673f-14ef-453c-c697-458e90926035"
   },
   "outputs": [],
   "source": [
    "x = True\n",
    "y = False\n",
    "print(type(x))\n",
    "print(type(y))"
   ]
  },
  {
   "cell_type": "markdown",
   "metadata": {},
   "source": [
    "### 7. Binary type"
   ]
  },
  {
   "cell_type": "code",
   "execution_count": null,
   "metadata": {
    "colab": {
     "base_uri": "https://localhost:8080/"
    },
    "executionInfo": {
     "elapsed": 431,
     "status": "ok",
     "timestamp": 1637570908814,
     "user": {
      "displayName": "SUNIL YADAV",
      "photoUrl": "https://lh3.googleusercontent.com/a-/AOh14GganiM423H1NKko6sAm8eUAcIJE-WpNykz0NN8w=s64",
      "userId": "05365530080582545014"
     },
     "user_tz": -330
    },
    "id": "ClRLWRClCRc3",
    "outputId": "d4468a77-0895-4c67-f3a8-026967db2e09"
   },
   "outputs": [],
   "source": [
    "x = b\"Hello\"\n",
    "print(x)\n",
    "type(x)"
   ]
  },
  {
   "cell_type": "code",
   "execution_count": null,
   "metadata": {
    "colab": {
     "base_uri": "https://localhost:8080/"
    },
    "executionInfo": {
     "elapsed": 401,
     "status": "ok",
     "timestamp": 1637570933548,
     "user": {
      "displayName": "SUNIL YADAV",
      "photoUrl": "https://lh3.googleusercontent.com/a-/AOh14GganiM423H1NKko6sAm8eUAcIJE-WpNykz0NN8w=s64",
      "userId": "05365530080582545014"
     },
     "user_tz": -330
    },
    "id": "b4fsZt40CcHZ",
    "outputId": "81695ad7-45df-471e-ddaa-df6b84322ad4"
   },
   "outputs": [],
   "source": [
    "x = bytearray(5)\n",
    "print(x)\n",
    "type(x)"
   ]
  },
  {
   "cell_type": "code",
   "execution_count": null,
   "metadata": {
    "colab": {
     "base_uri": "https://localhost:8080/"
    },
    "executionInfo": {
     "elapsed": 369,
     "status": "ok",
     "timestamp": 1637570946347,
     "user": {
      "displayName": "SUNIL YADAV",
      "photoUrl": "https://lh3.googleusercontent.com/a-/AOh14GganiM423H1NKko6sAm8eUAcIJE-WpNykz0NN8w=s64",
      "userId": "05365530080582545014"
     },
     "user_tz": -330
    },
    "id": "Zghi-CsFCpG4",
    "outputId": "3bed96e2-d35f-442c-ab69-a63631bdf81c"
   },
   "outputs": [],
   "source": [
    "x = memoryview(bytes(5))\n",
    "print(x)\n",
    "type(x)"
   ]
  },
  {
   "cell_type": "code",
   "execution_count": null,
   "metadata": {},
   "outputs": [],
   "source": []
  }
 ],
 "metadata": {
  "colab": {
   "authorship_tag": "ABX9TyOGi1s1Nt792xmlVdEky+Nk",
   "name": "2. Data Types.ipynb",
   "provenance": []
  },
  "kernelspec": {
   "display_name": "Python 3 (ipykernel)",
   "language": "python",
   "name": "python3"
  },
  "language_info": {
   "codemirror_mode": {
    "name": "ipython",
    "version": 3
   },
   "file_extension": ".py",
   "mimetype": "text/x-python",
   "name": "python",
   "nbconvert_exporter": "python",
   "pygments_lexer": "ipython3",
   "version": "3.11.4"
  }
 },
 "nbformat": 4,
 "nbformat_minor": 4
}
