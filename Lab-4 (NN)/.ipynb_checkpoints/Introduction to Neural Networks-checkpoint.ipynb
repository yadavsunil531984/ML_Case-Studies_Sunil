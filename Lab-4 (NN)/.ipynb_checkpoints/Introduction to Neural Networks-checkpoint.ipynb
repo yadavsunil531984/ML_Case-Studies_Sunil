{
 "cells": [
  {
   "cell_type": "markdown",
   "id": "138db7bc",
   "metadata": {},
   "source": [
    "Neural Networks are computational models that mimic the complex functions of the human brain. The neural networks consist of interconnected nodes or neurons that process and learn from data, enabling tasks such as pattern recognition and decision making in machine learning. This lab introduces Tensorflow and demonstrate how NN models are implemented."
   ]
  },
  {
   "cell_type": "code",
   "execution_count": null,
   "id": "704701f9",
   "metadata": {},
   "outputs": [],
   "source": [
    "import numpy as np\n",
    "import matplotlib.pyplot as plt"
   ]
  },
  {
   "cell_type": "markdown",
   "id": "eb578e79",
   "metadata": {},
   "source": [
    "# Neuron with Sigmoid activation"
   ]
  },
  {
   "attachments": {
    "image.png": {
     "image/png": "[encoded data removed]"
    }
   },
   "cell_type": "markdown",
   "id": "66e002e8",
   "metadata": {},
   "source": [
    "We can implement a 'logistic neuron' by adding a sigmoid activation by adding a sigmoid \"activation\" function, similar to logistic regression.\n",
    "\n",
    "![image.png](attachment:image.png)\n",
    "\n"
   ]
  },
  {
   "cell_type": "markdown",
   "id": "c79475e6",
   "metadata": {},
   "source": [
    "#### We will use a 2-D matrix as an example "
   ]
  },
  {
   "cell_type": "code",
   "execution_count": null,
   "id": "65bc66c7",
   "metadata": {},
   "outputs": [],
   "source": [
    "X_train = np.array([0., 1, 2, 3, 4, 5], dtype=np.float32).reshape(-1,1)  # 2-D Matrix\n",
    "Y_train = np.array([0,  0, 0, 1, 1, 1], dtype=np.float32).reshape(-1,1)  # 2-D Matrix"
   ]
  },
  {
   "cell_type": "code",
   "execution_count": null,
   "id": "561d3a25",
   "metadata": {},
   "outputs": [],
   "source": [
    "pos = Y_train == 1\n",
    "neg = Y_train == 0\n",
    "X_train[pos]"
   ]
  },
  {
   "cell_type": "code",
   "execution_count": null,
   "id": "348e5e83",
   "metadata": {},
   "outputs": [],
   "source": [
    "pos = Y_train == 1\n",
    "neg = Y_train == 0\n",
    "\n",
    "fig,ax = plt.subplots(1,1,figsize=(4,3))\n",
    "ax.scatter(X_train[pos], Y_train[pos], marker='x', s=80, c = 'red', label=\"y=1\")\n",
    "ax.scatter(X_train[neg], Y_train[neg], marker='o', s=100, label=\"y=0\", facecolors='none', color='blue', lw=3)\n",
    "\n",
    "ax.set_ylim(-0.08,1.1)\n",
    "ax.set_ylabel('y', fontsize=12)\n",
    "ax.set_xlabel('x', fontsize=12)\n",
    "ax.set_title('one variable plot')\n",
    "ax.legend(fontsize=12)\n",
    "plt.show()"
   ]
  },
  {
   "cell_type": "markdown",
   "id": "aee9597d",
   "metadata": {},
   "source": [
    "# Tensorflow and Keras Packages"
   ]
  },
  {
   "cell_type": "markdown",
   "id": "558c78a4",
   "metadata": {},
   "source": [
    "TensorFlow is an open-source machine learning library developed by Google. TensorFlow is used to build and train deep learning models as it facilitates the creation of computational graphs and efficient execution on various hardware platforms. The \"Sequential\" model is a convenient means of constructing these models.\n",
    "\n",
    "Keras is a framework developed independently by François Chollet that creates a simple, layer-centric interface to Tensorflow. "
   ]
  },
  {
   "cell_type": "code",
   "execution_count": null,
   "id": "831b6eca",
   "metadata": {},
   "outputs": [],
   "source": [
    "import tensorflow as tf\n",
    "from tensorflow.keras.layers import Dense, Input\n",
    "from tensorflow.keras import Sequential\n",
    "from tensorflow.keras.losses import MeanSquaredError, BinaryCrossentropy\n",
    "from tensorflow.keras.activations import sigmoid\n",
    "import logging\n",
    "logging.getLogger(\"tensorflow\").setLevel(logging.ERROR)\n",
    "tf.autograph.set_verbosity(0)"
   ]
  },
  {
   "cell_type": "code",
   "execution_count": null,
   "id": "91a1bf72",
   "metadata": {},
   "outputs": [],
   "source": [
    "# A 'logistic neuron' using a sigmoid activation\n",
    "\n",
    "model = Sequential(\n",
    "    [\n",
    "        tf.keras.layers.Dense(1, input_dim=1,  activation = 'sigmoid', name='L1')\n",
    "    ]\n",
    ")"
   ]
  },
  {
   "cell_type": "markdown",
   "id": "1b629602",
   "metadata": {},
   "source": [
    "model.summary() shows the layers and number of parameters in the model. There is only one layer in this model and it has only one unit. The unit has two parameters, w and b. "
   ]
  },
  {
   "cell_type": "code",
   "execution_count": null,
   "id": "147f3192",
   "metadata": {},
   "outputs": [],
   "source": [
    "model.summary()"
   ]
  },
  {
   "cell_type": "markdown",
   "id": "0a00196f",
   "metadata": {},
   "source": [
    "#### Get the weights and bias for the layer"
   ]
  },
  {
   "cell_type": "code",
   "execution_count": null,
   "id": "e3c32ff8",
   "metadata": {},
   "outputs": [],
   "source": [
    "logistic_layer = model.get_layer('L1')\n",
    "w,b = logistic_layer.get_weights()\n",
    "print(w,b)\n",
    "print(w.shape,b.shape)"
   ]
  },
  {
   "cell_type": "markdown",
   "id": "d04c2cbd",
   "metadata": {},
   "source": [
    "#### Defining the logistic neuron "
   ]
  },
  {
   "cell_type": "code",
   "execution_count": null,
   "id": "d4b2b5ee",
   "metadata": {},
   "outputs": [],
   "source": [
    "def sigmoid_np(z):\n",
    "    return 1 / (1 + np.exp(-z))"
   ]
  },
  {
   "cell_type": "code",
   "execution_count": null,
   "id": "58171b96",
   "metadata": {},
   "outputs": [],
   "source": [
    "#Setting the weight and bias\n",
    "set_w = np.array([[2]])\n",
    "set_b = np.array([-4.5])\n",
    "# set_weights takes a list of numpy arrays\n",
    "logistic_layer.set_weights([set_w, set_b])\n",
    "print(logistic_layer.get_weights())"
   ]
  },
  {
   "cell_type": "markdown",
   "id": "c4e83f64",
   "metadata": {},
   "source": [
    "#### Comparing the prediction with numpy prediction vs logistic layer prediction"
   ]
  },
  {
   "cell_type": "code",
   "execution_count": null,
   "id": "96dda88e",
   "metadata": {},
   "outputs": [],
   "source": [
    "a1 = model.predict(X_train[0].reshape(1,1))\n",
    "print(a1)\n",
    "\n",
    "alog = sigmoid_np(np.dot(set_w, X_train[0].reshape(1, 1)) + set_b)\n",
    "print(alog)"
   ]
  }
 ],
 "metadata": {
  "kernelspec": {
   "display_name": "Python 3 (ipykernel)",
   "language": "python",
   "name": "python3"
  },
  "language_info": {
   "codemirror_mode": {
    "name": "ipython",
    "version": 3
   },
   "file_extension": ".py",
   "mimetype": "text/x-python",
   "name": "python",
   "nbconvert_exporter": "python",
   "pygments_lexer": "ipython3",
   "version": "3.10.9"
  }
 },
 "nbformat": 4,
 "nbformat_minor": 5
}
