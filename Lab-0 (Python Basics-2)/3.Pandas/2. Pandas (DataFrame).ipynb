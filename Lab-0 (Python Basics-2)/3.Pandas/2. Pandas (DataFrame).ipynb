{
 "cells": [
  {
   "cell_type": "markdown",
   "metadata": {
    "id": "RL9D_Ah7_hBc"
   },
   "source": [
    "**What is a DataFrame?**\n",
    "* A Pandas DataFrame is a 2 dimensional data structure, like a 2 dimensional array, or a table with rows and columns."
   ]
  },
  {
   "cell_type": "code",
   "execution_count": null,
   "metadata": {
    "executionInfo": {
     "elapsed": 4,
     "status": "ok",
     "timestamp": 1722921052180,
     "user": {
      "displayName": "SUNIL YADAV",
      "userId": "05365530080582545014"
     },
     "user_tz": -330
    },
    "id": "NGFwLZVdAs1g"
   },
   "outputs": [],
   "source": [
    "import pandas as pd"
   ]
  },
  {
   "cell_type": "code",
   "execution_count": null,
   "metadata": {
    "colab": {
     "base_uri": "https://localhost:8080/"
    },
    "executionInfo": {
     "elapsed": 425,
     "status": "ok",
     "timestamp": 1643440476669,
     "user": {
      "displayName": "SUNIL YADAV",
      "photoUrl": "https://lh3.googleusercontent.com/a-/AOh14GganiM423H1NKko6sAm8eUAcIJE-WpNykz0NN8w=s64",
      "userId": "05365530080582545014"
     },
     "user_tz": -330
    },
    "id": "N0NIb-xG_ePc",
    "outputId": "fe587a59-1975-4f20-8407-d0c301b7ac81"
   },
   "outputs": [],
   "source": [
    "# Create a simple Pandas DataFrame:\n",
    "data =    {\n",
    "           \"Protein\": [38, 27, 18, 25, 29],\n",
    "           \"Fats\":    [32, 39, 40, 35, 33],\n",
    "           \"Carbs\":   [46, 47, 50, 60, 65]\n",
    "          }\n",
    "\n",
    "#load data into a DataFrame object:\n",
    "df = pd.DataFrame(data)\n",
    "print(df)"
   ]
  },
  {
   "cell_type": "markdown",
   "metadata": {
    "id": "z1Ga6KPLCbaN"
   },
   "source": [
    "**Locate Row**\n",
    "* As you can see from the result above, the DataFrame is like a table with rows and columns.\n",
    "* Pandas use the loc attribute to return one or more specified row(s)"
   ]
  },
  {
   "cell_type": "code",
   "execution_count": null,
   "metadata": {
    "colab": {
     "base_uri": "https://localhost:8080/"
    },
    "executionInfo": {
     "elapsed": 522,
     "status": "ok",
     "timestamp": 1634211640758,
     "user": {
      "displayName": "Sunil Yadav",
      "photoUrl": "https://lh3.googleusercontent.com/a-/AOh14GgXsJ8Mi0xswEQMZ8SfLVP47zXFGjNpazoqxY_0IA=s64",
      "userId": "01881148532494959856"
     },
     "user_tz": -330
    },
    "id": "rhdvQa_ZCav7",
    "outputId": "a72d18fe-6fc9-4abf-f257-9fa8539a7e77"
   },
   "outputs": [],
   "source": [
    "#refer to the row index:\n",
    "print(df.loc[0])    # Return row 0:"
   ]
  },
  {
   "cell_type": "code",
   "execution_count": null,
   "metadata": {
    "colab": {
     "base_uri": "https://localhost:8080/"
    },
    "executionInfo": {
     "elapsed": 620,
     "status": "ok",
     "timestamp": 1634211670081,
     "user": {
      "displayName": "Sunil Yadav",
      "photoUrl": "https://lh3.googleusercontent.com/a-/AOh14GgXsJ8Mi0xswEQMZ8SfLVP47zXFGjNpazoqxY_0IA=s64",
      "userId": "01881148532494959856"
     },
     "user_tz": -330
    },
    "id": "FVJCMoRSC039",
    "outputId": "9bcefca1-8876-46c4-d7a9-3364a0ce71b0"
   },
   "outputs": [],
   "source": [
    "#refer to the row index:\n",
    "print(df.loc[2])    # Return row 2:"
   ]
  },
  {
   "cell_type": "code",
   "execution_count": null,
   "metadata": {
    "colab": {
     "base_uri": "https://localhost:8080/"
    },
    "executionInfo": {
     "elapsed": 537,
     "status": "ok",
     "timestamp": 1634211694111,
     "user": {
      "displayName": "Sunil Yadav",
      "photoUrl": "https://lh3.googleusercontent.com/a-/AOh14GgXsJ8Mi0xswEQMZ8SfLVP47zXFGjNpazoqxY_0IA=s64",
      "userId": "01881148532494959856"
     },
     "user_tz": -330
    },
    "id": "734iUYn0DBMp",
    "outputId": "ab05c614-cdfe-46b3-f29e-386bd7e58c57"
   },
   "outputs": [],
   "source": [
    "# Return row 2 and 3:\n",
    "print(df.loc[[2, 3]])"
   ]
  },
  {
   "cell_type": "markdown",
   "metadata": {
    "id": "Aw_H23sMDXAC"
   },
   "source": [
    "**Named Indexes**\n",
    "* With the index argument, you can name your own indexes."
   ]
  },
  {
   "cell_type": "code",
   "execution_count": null,
   "metadata": {
    "colab": {
     "base_uri": "https://localhost:8080/"
    },
    "executionInfo": {
     "elapsed": 520,
     "status": "ok",
     "timestamp": 1634211758465,
     "user": {
      "displayName": "Sunil Yadav",
      "photoUrl": "https://lh3.googleusercontent.com/a-/AOh14GgXsJ8Mi0xswEQMZ8SfLVP47zXFGjNpazoqxY_0IA=s64",
      "userId": "01881148532494959856"
     },
     "user_tz": -330
    },
    "id": "9EY9rlaiDRzg",
    "outputId": "d225422f-ce8e-46bd-b454-da9ea67ed898"
   },
   "outputs": [],
   "source": [
    "# Add a list of names to give each row a name:\n",
    "\n",
    "data = {\n",
    "        \"Protein\": [38, 27, 18, 25, 29],\n",
    "        \"Fats\":    [32, 39, 40, 35, 33],\n",
    "        \"Carbs\":   [46, 47, 50, 60, 65]\n",
    "       }\n",
    "\n",
    "df = pd.DataFrame(data, index = [\"P1\", \"P2\", \"P3\", \"P4\", \"P5\"])\n",
    "\n",
    "print(df)"
   ]
  },
  {
   "cell_type": "code",
   "execution_count": null,
   "metadata": {
    "colab": {
     "base_uri": "https://localhost:8080/"
    },
    "executionInfo": {
     "elapsed": 796,
     "status": "ok",
     "timestamp": 1634211787640,
     "user": {
      "displayName": "Sunil Yadav",
      "photoUrl": "https://lh3.googleusercontent.com/a-/AOh14GgXsJ8Mi0xswEQMZ8SfLVP47zXFGjNpazoqxY_0IA=s64",
      "userId": "01881148532494959856"
     },
     "user_tz": -330
    },
    "id": "hzkkihfaE3zE",
    "outputId": "e9b763a2-ea17-4f5d-f1eb-90f53cda8c7e"
   },
   "outputs": [],
   "source": [
    "# Refer to the row index:\n",
    "print(df.loc[\"P4\"])    # Return row 4:"
   ]
  },
  {
   "cell_type": "markdown",
   "metadata": {
    "id": "uVAW95KQFhfS"
   },
   "source": [
    "**Load Files Into a DataFrame**\n",
    "* If your data sets are stored in a file, Pandas can load them into a DataFrame."
   ]
  },
  {
   "cell_type": "code",
   "execution_count": null,
   "metadata": {},
   "outputs": [],
   "source": [
    "pwd"
   ]
  },
  {
   "cell_type": "code",
   "execution_count": null,
   "metadata": {
    "colab": {
     "base_uri": "https://localhost:8080/"
    },
    "executionInfo": {
     "elapsed": 511,
     "status": "ok",
     "timestamp": 1634212175970,
     "user": {
      "displayName": "Sunil Yadav",
      "photoUrl": "https://lh3.googleusercontent.com/a-/AOh14GgXsJ8Mi0xswEQMZ8SfLVP47zXFGjNpazoqxY_0IA=s64",
      "userId": "01881148532494959856"
     },
     "user_tz": -330
    },
    "id": "OE9BxRtbKTOK",
    "outputId": "5ae2e77f-b773-4b8d-e6e8-6c33aabc7f19"
   },
   "outputs": [],
   "source": [
    "# Load a comma separated file (CSV file) into a DataFrame:\n",
    "df = pd.read_csv('C:\\\\Users\\\\abc\\\\ML_Lab\\\\Lab-2\\\\2.Pandas\\Iris.csv')\n",
    "df.head()"
   ]
  },
  {
   "cell_type": "markdown",
   "metadata": {
    "id": "eV-tdVHQKp9J"
   },
   "source": [
    "**Read CSV Files**\n",
    "* A simple way to store big data sets is to use CSV files (comma separated files).\n",
    "* CSV files contains plain text and is a well know format that can be read by everyone including Pandas.\n"
   ]
  },
  {
   "cell_type": "code",
   "execution_count": null,
   "metadata": {
    "colab": {
     "base_uri": "https://localhost:8080/"
    },
    "executionInfo": {
     "elapsed": 547,
     "status": "ok",
     "timestamp": 1634212591594,
     "user": {
      "displayName": "Sunil Yadav",
      "photoUrl": "https://lh3.googleusercontent.com/a-/AOh14GgXsJ8Mi0xswEQMZ8SfLVP47zXFGjNpazoqxY_0IA=s64",
      "userId": "01881148532494959856"
     },
     "user_tz": -330
    },
    "id": "wi4Dd0CsK0uB",
    "outputId": "52695239-8306-4686-c084-dc358db56d18"
   },
   "outputs": [],
   "source": [
    "# Load the CSV into a DataFrame:\n",
    "df = pd.read_csv('C:\\\\Users\\\\abc\\\\ML_Lab\\\\Lab-2\\\\2.Pandas\\Iris.csv')\n",
    "print(df.to_string()) # to_string() use to print the entire DataFrame."
   ]
  },
  {
   "cell_type": "code",
   "execution_count": null,
   "metadata": {
    "colab": {
     "base_uri": "https://localhost:8080/"
    },
    "executionInfo": {
     "elapsed": 511,
     "status": "ok",
     "timestamp": 1634212666885,
     "user": {
      "displayName": "Sunil Yadav",
      "photoUrl": "https://lh3.googleusercontent.com/a-/AOh14GgXsJ8Mi0xswEQMZ8SfLVP47zXFGjNpazoqxY_0IA=s64",
      "userId": "01881148532494959856"
     },
     "user_tz": -330
    },
    "id": "1A8m5YJRbjgW",
    "outputId": "8a3902dd-bed4-43b5-e640-24fafc1696bf"
   },
   "outputs": [],
   "source": [
    "# Print a reduced sample:\n",
    "df = pd.read_csv('C:\\\\Users\\\\abc\\\\ML_Lab\\\\Lab-2\\\\2.Pandas\\Iris.csv')\n",
    "print(df)"
   ]
  },
  {
   "cell_type": "markdown",
   "metadata": {
    "id": "rti1DQGZcbzX"
   },
   "source": [
    "**Read JSON**\n",
    "* Big data sets are often stored, or extracted as JSON.\n",
    "* JSON is plain text, but has the format of an object, and is well known in the world of programming, including Pandas.\n"
   ]
  },
  {
   "cell_type": "code",
   "execution_count": null,
   "metadata": {},
   "outputs": [],
   "source": [
    "import pandas as pd"
   ]
  },
  {
   "cell_type": "code",
   "execution_count": null,
   "metadata": {},
   "outputs": [],
   "source": [
    "df = pd.read_json('C:\\\\Users\\\\abc\\\\ML_Lab\\\\Lab-2\\\\2.Pandas\\\\employee.json')\n",
    "df.head()"
   ]
  },
  {
   "cell_type": "code",
   "execution_count": null,
   "metadata": {
    "colab": {
     "base_uri": "https://localhost:8080/"
    },
    "executionInfo": {
     "elapsed": 531,
     "status": "ok",
     "timestamp": 1634213009978,
     "user": {
      "displayName": "Sunil Yadav",
      "photoUrl": "https://lh3.googleusercontent.com/a-/AOh14GgXsJ8Mi0xswEQMZ8SfLVP47zXFGjNpazoqxY_0IA=s64",
      "userId": "01881148532494959856"
     },
     "user_tz": -330
    },
    "id": "GZh4Oy1gcje7",
    "outputId": "2f9df269-02c5-49b7-a915-2e8dd4b433f8"
   },
   "outputs": [],
   "source": [
    "df = pd.read_json('C:\\\\Users\\\\abc\\\\ML_Lab\\\\Lab-2\\\\2.Pandas\\\\employee.json')\n",
    "print(df)"
   ]
  },
  {
   "cell_type": "code",
   "execution_count": null,
   "metadata": {
    "colab": {
     "base_uri": "https://localhost:8080/"
    },
    "executionInfo": {
     "elapsed": 571,
     "status": "ok",
     "timestamp": 1634213091455,
     "user": {
      "displayName": "Sunil Yadav",
      "photoUrl": "https://lh3.googleusercontent.com/a-/AOh14GgXsJ8Mi0xswEQMZ8SfLVP47zXFGjNpazoqxY_0IA=s64",
      "userId": "01881148532494959856"
     },
     "user_tz": -330
    },
    "id": "xH81SSj3fZQO",
    "outputId": "0f56e4e0-2da4-46f0-f6fb-44af58570131"
   },
   "outputs": [],
   "source": [
    "df = pd.read_json('C:\\\\Users\\\\abc\\\\ML_Lab\\\\Lab-2\\\\2.Pandas\\\\employee.json')\n",
    "print(df.to_string())"
   ]
  },
  {
   "cell_type": "markdown",
   "metadata": {
    "id": "66H7kdOpgAQ2"
   },
   "source": [
    "**Dictionary as JSON**\n",
    "* If your JSON code is not in a file, but in a Python Dictionary, you can load it into a DataFrame directly:"
   ]
  },
  {
   "cell_type": "code",
   "execution_count": null,
   "metadata": {
    "colab": {
     "base_uri": "https://localhost:8080/"
    },
    "executionInfo": {
     "elapsed": 515,
     "status": "ok",
     "timestamp": 1634213191366,
     "user": {
      "displayName": "Sunil Yadav",
      "photoUrl": "https://lh3.googleusercontent.com/a-/AOh14GgXsJ8Mi0xswEQMZ8SfLVP47zXFGjNpazoqxY_0IA=s64",
      "userId": "01881148532494959856"
     },
     "user_tz": -330
    },
    "id": "jQvno8etgJ9q",
    "outputId": "521a4b79-bfe5-4437-ab24-4ae565cde46c"
   },
   "outputs": [],
   "source": [
    "# Load a Python Dictionary into a DataFrame:\n",
    "data = {\n",
    "  \"Duration\":{\n",
    "    \"0\":60,\n",
    "    \"1\":60,\n",
    "    \"2\":60,\n",
    "    \"3\":45,\n",
    "    \"4\":45,\n",
    "    \"5\":60\n",
    "  },\n",
    "  \"Pulse\":{\n",
    "    \"0\":110,\n",
    "    \"1\":117,\n",
    "    \"2\":103,\n",
    "    \"3\":109,\n",
    "    \"4\":117,\n",
    "    \"5\":102\n",
    "  },\n",
    "  \"Maxpulse\":{\n",
    "    \"0\":130,\n",
    "    \"1\":145,\n",
    "    \"2\":135,\n",
    "    \"3\":175,\n",
    "    \"4\":148,\n",
    "    \"5\":127\n",
    "  },\n",
    "  \"Calories\":{\n",
    "    \"0\":409,\n",
    "    \"1\":479,\n",
    "    \"2\":340,\n",
    "    \"3\":282,\n",
    "    \"4\":406,\n",
    "    \"5\":300\n",
    "  }\n",
    "}\n",
    "\n",
    "df = pd.DataFrame(data)\n",
    "\n",
    "print(df)"
   ]
  }
 ],
 "metadata": {
  "accelerator": "GPU",
  "colab": {
   "provenance": []
  },
  "kernelspec": {
   "display_name": "Python 3 (ipykernel)",
   "language": "python",
   "name": "python3"
  },
  "language_info": {
   "codemirror_mode": {
    "name": "ipython",
    "version": 3
   },
   "file_extension": ".py",
   "mimetype": "text/x-python",
   "name": "python",
   "nbconvert_exporter": "python",
   "pygments_lexer": "ipython3",
   "version": "3.11.4"
  }
 },
 "nbformat": 4,
 "nbformat_minor": 4
}
