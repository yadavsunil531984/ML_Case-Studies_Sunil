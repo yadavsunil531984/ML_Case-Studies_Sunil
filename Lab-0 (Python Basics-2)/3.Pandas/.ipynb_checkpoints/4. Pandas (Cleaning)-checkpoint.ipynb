{
 "cells": [
  {
   "cell_type": "markdown",
   "metadata": {
    "id": "aGleyJWkn0tC"
   },
   "source": [
    "# **Cleaning Data**"
   ]
  },
  {
   "cell_type": "markdown",
   "metadata": {
    "id": "Epky8MIcG1K3"
   },
   "source": [
    "**Data Cleaning**\n",
    "Data cleaning means fixing bad data in your data set.\n",
    "* Bad data could be:\n",
    "* Empty cells\n",
    "* Data in wrong format\n",
    "* Wrong data\n",
    "* Duplicates"
   ]
  },
  {
   "cell_type": "markdown",
   "metadata": {
    "id": "2CZ60oPXHOmx"
   },
   "source": [
    "**Empty Cells**\n",
    "* Empty cells can potentially give you a wrong result when you analyze data."
   ]
  },
  {
   "cell_type": "code",
   "execution_count": null,
   "metadata": {
    "executionInfo": {
     "elapsed": 426,
     "status": "ok",
     "timestamp": 1643444172604,
     "user": {
      "displayName": "SUNIL YADAV",
      "photoUrl": "https://lh3.googleusercontent.com/a-/AOh14GganiM423H1NKko6sAm8eUAcIJE-WpNykz0NN8w=s64",
      "userId": "05365530080582545014"
     },
     "user_tz": -330
    },
    "id": "Rl58LoCyJadh"
   },
   "outputs": [],
   "source": [
    "import pandas as pd"
   ]
  },
  {
   "cell_type": "code",
   "execution_count": null,
   "metadata": {
    "colab": {
     "base_uri": "https://localhost:8080/"
    },
    "executionInfo": {
     "elapsed": 690,
     "status": "ok",
     "timestamp": 1634281769869,
     "user": {
      "displayName": "Sunil Yadav",
      "photoUrl": "https://lh3.googleusercontent.com/a-/AOh14GgXsJ8Mi0xswEQMZ8SfLVP47zXFGjNpazoqxY_0IA=s64",
      "userId": "01881148532494959856"
     },
     "user_tz": -330
    },
    "id": "hDkYU9SmG9Z4",
    "outputId": "c73942b5-3984-48ec-8448-a8d6b922cf9c"
   },
   "outputs": [],
   "source": [
    "# Read Row Data\n",
    "r_df = pd.read_csv('/RowData.csv')\n",
    "print(r_df)"
   ]
  },
  {
   "cell_type": "code",
   "execution_count": null,
   "metadata": {
    "colab": {
     "base_uri": "https://localhost:8080/"
    },
    "executionInfo": {
     "elapsed": 353,
     "status": "ok",
     "timestamp": 1634281817998,
     "user": {
      "displayName": "Sunil Yadav",
      "photoUrl": "https://lh3.googleusercontent.com/a-/AOh14GgXsJ8Mi0xswEQMZ8SfLVP47zXFGjNpazoqxY_0IA=s64",
      "userId": "01881148532494959856"
     },
     "user_tz": -330
    },
    "id": "KYYNpU8bJu2l",
    "outputId": "adaf98f0-30a1-4f38-f1d2-2f15d60e3d0e"
   },
   "outputs": [],
   "source": [
    "# Row Data Information\n",
    "print(r_df.info()) "
   ]
  },
  {
   "cell_type": "markdown",
   "metadata": {
    "id": "Pr5PhghIKssC"
   },
   "source": [
    "**Empty Cells**\n",
    "* Empty cells can potentially give you a wrong result when you analyze data."
   ]
  },
  {
   "cell_type": "markdown",
   "metadata": {
    "id": "9KIz6zSRK0BR"
   },
   "source": [
    "**Remove Rows**\n",
    "* One way to deal with empty cells is to remove rows that contain empty cells.\n",
    "* This is usually OK, since data sets can be very big, and removing a few rows will not have a big impact on the result."
   ]
  },
  {
   "cell_type": "code",
   "execution_count": null,
   "metadata": {
    "colab": {
     "base_uri": "https://localhost:8080/"
    },
    "executionInfo": {
     "elapsed": 391,
     "status": "ok",
     "timestamp": 1634282172090,
     "user": {
      "displayName": "Sunil Yadav",
      "photoUrl": "https://lh3.googleusercontent.com/a-/AOh14GgXsJ8Mi0xswEQMZ8SfLVP47zXFGjNpazoqxY_0IA=s64",
      "userId": "01881148532494959856"
     },
     "user_tz": -330
    },
    "id": "Kzpp8DfYKDWv",
    "outputId": "e0c329e2-0c8a-4a7a-affa-dacb0cb6af2b"
   },
   "outputs": [],
   "source": [
    "# Return a new Data Frame with no empty cells:\n",
    "p_df = r_df.dropna()\n",
    "print(p_df.to_string())"
   ]
  },
  {
   "cell_type": "code",
   "execution_count": null,
   "metadata": {
    "colab": {
     "base_uri": "https://localhost:8080/"
    },
    "executionInfo": {
     "elapsed": 343,
     "status": "ok",
     "timestamp": 1634282195879,
     "user": {
      "displayName": "Sunil Yadav",
      "photoUrl": "https://lh3.googleusercontent.com/a-/AOh14GgXsJ8Mi0xswEQMZ8SfLVP47zXFGjNpazoqxY_0IA=s64",
      "userId": "01881148532494959856"
     },
     "user_tz": -330
    },
    "id": "dX2PNLPhMWot",
    "outputId": "0c04b13d-4569-4903-e404-a9668e0f1adc"
   },
   "outputs": [],
   "source": [
    "# Processed Data Information\n",
    "print(p_df.info()) "
   ]
  },
  {
   "cell_type": "code",
   "execution_count": null,
   "metadata": {
    "colab": {
     "base_uri": "https://localhost:8080/"
    },
    "executionInfo": {
     "elapsed": 385,
     "status": "ok",
     "timestamp": 1634282407151,
     "user": {
      "displayName": "Sunil Yadav",
      "photoUrl": "https://lh3.googleusercontent.com/a-/AOh14GgXsJ8Mi0xswEQMZ8SfLVP47zXFGjNpazoqxY_0IA=s64",
      "userId": "01881148532494959856"
     },
     "user_tz": -330
    },
    "id": "A0norfHmMsZ9",
    "outputId": "7745c185-69ac-4651-8619-ff0a3a24c84c"
   },
   "outputs": [],
   "source": [
    "# Remove all rows with NULL values:\n",
    "r_df = pd.read_csv('/RowData.csv')\n",
    "r_df.dropna(inplace = True)     # Note: Now, the dropna(inplace = True) will NOT return a new DataFrame, but it will remove all rows containg NULL values from the original DataFrame.\n",
    "print(r_df.to_string())"
   ]
  },
  {
   "cell_type": "markdown",
   "metadata": {
    "id": "--5E74q9PMxb"
   },
   "source": [
    "**Replace Empty Values**\n",
    "* Another way of dealing with empty cells is to insert a new value instead.\n",
    "* This way you do not have to delete entire rows just because of some empty cells.\n",
    "* The fillna() method allows us to replace empty cells with a value:"
   ]
  },
  {
   "cell_type": "code",
   "execution_count": null,
   "metadata": {
    "colab": {
     "base_uri": "https://localhost:8080/"
    },
    "executionInfo": {
     "elapsed": 391,
     "status": "ok",
     "timestamp": 1634282549643,
     "user": {
      "displayName": "Sunil Yadav",
      "photoUrl": "https://lh3.googleusercontent.com/a-/AOh14GgXsJ8Mi0xswEQMZ8SfLVP47zXFGjNpazoqxY_0IA=s64",
      "userId": "01881148532494959856"
     },
     "user_tz": -330
    },
    "id": "yY17UMRCPaQb",
    "outputId": "632e3f9d-f180-4a6a-912b-eb38944dec62"
   },
   "outputs": [],
   "source": [
    "# Replace NULL values with the number 130:\n",
    "r_df = pd.read_csv('/RowData.csv')\n",
    "r_df.fillna(130, inplace = True)\n",
    "print(r_df.to_string())"
   ]
  },
  {
   "cell_type": "markdown",
   "metadata": {
    "id": "zhiSnwNVUrlj"
   },
   "source": [
    "**Replace Only For a Specified Columns**\n",
    "* The example above replaces all empty cells in the whole Data Frame.\n",
    "* To only replace empty values for one column, specify the column name for the DataFrame:"
   ]
  },
  {
   "cell_type": "code",
   "execution_count": null,
   "metadata": {
    "colab": {
     "base_uri": "https://localhost:8080/"
    },
    "executionInfo": {
     "elapsed": 385,
     "status": "ok",
     "timestamp": 1634282624093,
     "user": {
      "displayName": "Sunil Yadav",
      "photoUrl": "https://lh3.googleusercontent.com/a-/AOh14GgXsJ8Mi0xswEQMZ8SfLVP47zXFGjNpazoqxY_0IA=s64",
      "userId": "01881148532494959856"
     },
     "user_tz": -330
    },
    "id": "MB0u9E3lUym0",
    "outputId": "966ba79b-810a-4459-c98b-a2c8f19fbdbb"
   },
   "outputs": [],
   "source": [
    "# Replace NULL values in the \"Calories\" columns with the number 130:\n",
    "df = pd.read_csv('/RowData.csv')\n",
    "df[\"Calories\"].fillna(130, inplace = True)\n",
    "print(df)"
   ]
  },
  {
   "cell_type": "markdown",
   "metadata": {
    "id": "fcKHMUcRWO3n"
   },
   "source": [
    "**Replace Using Mean, Median, or Mode**\n",
    "* A common way to replace empty cells, is to calculate the mean, median or mode value of the column.\n",
    "* Pandas uses the mean() median() and mode() methods to calculate the respective values for a specified column:"
   ]
  },
  {
   "cell_type": "code",
   "execution_count": null,
   "metadata": {
    "colab": {
     "base_uri": "https://localhost:8080/",
     "height": 450
    },
    "executionInfo": {
     "elapsed": 448,
     "status": "error",
     "timestamp": 1643444180102,
     "user": {
      "displayName": "SUNIL YADAV",
      "photoUrl": "https://lh3.googleusercontent.com/a-/AOh14GganiM423H1NKko6sAm8eUAcIJE-WpNykz0NN8w=s64",
      "userId": "05365530080582545014"
     },
     "user_tz": -330
    },
    "id": "gwZGPacvWQ5u",
    "outputId": "335d6da8-8690-413d-a324-6235fd002356"
   },
   "outputs": [],
   "source": [
    "# Calculate the MEAN, and replace any empty values with it:\n",
    "df = pd.read_csv('/RowData.csv')\n",
    "x = df[\"Calories\"].mean()\n",
    "df[\"Calories\"].fillna(x, inplace = True)\n",
    "print(df)"
   ]
  },
  {
   "cell_type": "code",
   "execution_count": null,
   "metadata": {
    "colab": {
     "base_uri": "https://localhost:8080/"
    },
    "executionInfo": {
     "elapsed": 395,
     "status": "ok",
     "timestamp": 1634282820156,
     "user": {
      "displayName": "Sunil Yadav",
      "photoUrl": "https://lh3.googleusercontent.com/a-/AOh14GgXsJ8Mi0xswEQMZ8SfLVP47zXFGjNpazoqxY_0IA=s64",
      "userId": "01881148532494959856"
     },
     "user_tz": -330
    },
    "id": "T3eCa3S0Xeg7",
    "outputId": "f13f1aab-ac4b-4b77-89c0-5281dce084fc"
   },
   "outputs": [],
   "source": [
    "# Calculate the MEDIAN, and replace any empty values with it:\n",
    "df = pd.read_csv('/RowData.csv')\n",
    "x = df[\"Calories\"].median()                # Median = the value in the middle, after you have sorted all values ascending.\n",
    "df[\"Calories\"].fillna(x, inplace = True)\n",
    "print(df)"
   ]
  },
  {
   "cell_type": "code",
   "execution_count": null,
   "metadata": {
    "colab": {
     "base_uri": "https://localhost:8080/"
    },
    "executionInfo": {
     "elapsed": 384,
     "status": "ok",
     "timestamp": 1634282860893,
     "user": {
      "displayName": "Sunil Yadav",
      "photoUrl": "https://lh3.googleusercontent.com/a-/AOh14GgXsJ8Mi0xswEQMZ8SfLVP47zXFGjNpazoqxY_0IA=s64",
      "userId": "01881148532494959856"
     },
     "user_tz": -330
    },
    "id": "ghz2bCNMYGfb",
    "outputId": "9d623676-0529-4512-eeea-73bed56929b3"
   },
   "outputs": [],
   "source": [
    "# Calculate the MODE, and replace any empty values with it:\n",
    "df = pd.read_csv('/RowData.csv')\n",
    "x = df[\"Calories\"].mode()[0]              # Mode = the value that appears most frequently.\n",
    "df[\"Calories\"].fillna(x, inplace = True)\n",
    "print(df)"
   ]
  },
  {
   "cell_type": "markdown",
   "metadata": {
    "id": "70TnU4HqZH1j"
   },
   "source": [
    "**Data of Wrong Format**\n",
    "* Cells with data of wrong format can make it difficult, or even impossible, to analyze data.\n",
    "* To fix it, you have two options: remove the rows, or convert all cells in the columns into the same format."
   ]
  },
  {
   "cell_type": "markdown",
   "metadata": {
    "id": "4F6hhF7HZZgN"
   },
   "source": [
    "**Convert Into a Correct Format**\n",
    "* In our Data Frame, we have two cells with the wrong format. \n",
    "* Check out row 22 and 26, the 'Date' column should be a string that represents a date:"
   ]
  },
  {
   "cell_type": "markdown",
   "metadata": {
    "id": "w07OxRV2Zylz"
   },
   "source": [
    "Let's try to convert all cells in the 'Date' column into dates. Pandas has a to_datetime() method for this:"
   ]
  },
  {
   "cell_type": "code",
   "execution_count": null,
   "metadata": {
    "colab": {
     "base_uri": "https://localhost:8080/"
    },
    "executionInfo": {
     "elapsed": 357,
     "status": "ok",
     "timestamp": 1634283015488,
     "user": {
      "displayName": "Sunil Yadav",
      "photoUrl": "https://lh3.googleusercontent.com/a-/AOh14GgXsJ8Mi0xswEQMZ8SfLVP47zXFGjNpazoqxY_0IA=s64",
      "userId": "01881148532494959856"
     },
     "user_tz": -330
    },
    "id": "Jfoj0eYSZMir",
    "outputId": "a0f0864b-1c51-4d31-afc2-b7732fbe54ba"
   },
   "outputs": [],
   "source": [
    "# Convert to date:\n",
    "df = pd.read_csv('/RowData.csv')\n",
    "df['Date'] = pd.to_datetime(df['Date'])\n",
    "print(df.to_string())"
   ]
  },
  {
   "cell_type": "markdown",
   "metadata": {
    "id": "JxYieguVaQsz"
   },
   "source": [
    "As you can see from the result, the date in row 26 was fixed, but the empty date in row 22 got a NaT (Not a Time) value, in other words an empty value. One way to deal with empty values is simply removing the entire row."
   ]
  },
  {
   "cell_type": "markdown",
   "metadata": {
    "id": "lmpfNhV_abOl"
   },
   "source": [
    "**Removing Rows**\n",
    "* The result from the converting in the example above gave us a NaT value, which can be handled as a NULL value, and we can remove the row by using the dropna() method."
   ]
  },
  {
   "cell_type": "code",
   "execution_count": null,
   "metadata": {
    "colab": {
     "base_uri": "https://localhost:8080/"
    },
    "executionInfo": {
     "elapsed": 398,
     "status": "ok",
     "timestamp": 1634283164724,
     "user": {
      "displayName": "Sunil Yadav",
      "photoUrl": "https://lh3.googleusercontent.com/a-/AOh14GgXsJ8Mi0xswEQMZ8SfLVP47zXFGjNpazoqxY_0IA=s64",
      "userId": "01881148532494959856"
     },
     "user_tz": -330
    },
    "id": "97d1bMqFaSS1",
    "outputId": "3e7bdc3c-4e83-4f0a-8396-903723afab31"
   },
   "outputs": [],
   "source": [
    "# Remove rows with a NULL value in the \"Date\" column:\n",
    "df.dropna(subset=['Date'], inplace = True)\n",
    "print(df)"
   ]
  },
  {
   "cell_type": "markdown",
   "metadata": {
    "id": "3QRLMRtea1EH"
   },
   "source": [
    "# Pandas - Fixing Wrong Data"
   ]
  },
  {
   "cell_type": "markdown",
   "metadata": {
    "id": "PerlAqIvbAOB"
   },
   "source": [
    "**Wrong Data**\n",
    "* \"Wrong data\" does not have to be \"empty cells\" or \"wrong format\", it can just be wrong, like if someone registered \"199\" instead of \"1.99\".\n",
    "* Sometimes you can spot wrong data by looking at the data set, because you have an expectation of what it should be.\n",
    "* If you take a look at our data set, you can see that in row 7, the duration is 450, but for all the other rows the duration is between 30 and 60.\n",
    "* It doesn't have to be wrong, but taking in consideration that this is the data set of someone's workout sessions, we conclude with the fact that this person did not work out in 450 minutes."
   ]
  },
  {
   "cell_type": "markdown",
   "metadata": {
    "id": "56eVg-QQgP2z"
   },
   "source": [
    "How can we fix wrong values, like the one for \"Duration\" in row 7?"
   ]
  },
  {
   "cell_type": "markdown",
   "metadata": {
    "id": "WtG4jPHWgvYf"
   },
   "source": [
    "**Replacing Values**\n",
    "* One way to fix wrong values is to replace them with something else.\n",
    "* In our example, it is most likely a typo, and the value should be \"45\" instead of \"450\", and we could just insert \"45\" in row 7:"
   ]
  },
  {
   "cell_type": "code",
   "execution_count": null,
   "metadata": {
    "colab": {
     "base_uri": "https://localhost:8080/"
    },
    "executionInfo": {
     "elapsed": 362,
     "status": "ok",
     "timestamp": 1634283352948,
     "user": {
      "displayName": "Sunil Yadav",
      "photoUrl": "https://lh3.googleusercontent.com/a-/AOh14GgXsJ8Mi0xswEQMZ8SfLVP47zXFGjNpazoqxY_0IA=s64",
      "userId": "01881148532494959856"
     },
     "user_tz": -330
    },
    "id": "KZFZzfcqbQr1",
    "outputId": "38c822f5-dc1a-4f4d-8d90-80b2398ff054"
   },
   "outputs": [],
   "source": [
    "# Set \"Duration\" = 45 in row 7:\n",
    "df.loc[7, 'Duration'] = 45\n",
    "print(df)"
   ]
  },
  {
   "cell_type": "markdown",
   "metadata": {
    "id": "BvaG3ROihPSc"
   },
   "source": [
    "* For small data sets you might be able to replace the wrong data one by one, but not for big data sets.\n",
    "* To replace wrong data for larger data sets you can create some rules, e.g. set some boundaries for legal values, and replace any values that are outside of the boundaries."
   ]
  },
  {
   "cell_type": "code",
   "execution_count": null,
   "metadata": {
    "id": "5_6NNI4qhXTh"
   },
   "outputs": [],
   "source": [
    "# Loop through all values in the \"Duration\" column.\n",
    "# If the value is higher than 120, set it to 120:\n",
    "for x in df.index:\n",
    "  if df.loc[x, \"Duration\"] > 120:\n",
    "    df.loc[x, \"Duration\"] = 120"
   ]
  },
  {
   "cell_type": "markdown",
   "metadata": {
    "id": "NxMGjGtnhtz0"
   },
   "source": [
    "**Removing Rows**\n",
    "* Another way of handling wrong data is to remove the rows that contains wrong data.\n",
    "* This way you do not have to find out what to replace them with, and there is a good chance you do not need them to do your analyses."
   ]
  },
  {
   "cell_type": "code",
   "execution_count": null,
   "metadata": {
    "id": "Pz2YKobBhyRu"
   },
   "outputs": [],
   "source": [
    "# Delete rows where \"Duration\" is higher than 120:\n",
    "for x in df.index:\n",
    "  if df.loc[x, \"Duration\"] > 120:\n",
    "    df.drop(x, inplace = True)"
   ]
  },
  {
   "cell_type": "markdown",
   "metadata": {
    "id": "pzdo0wBOiNYZ"
   },
   "source": [
    "# **Pandas - Removing Duplicates**"
   ]
  },
  {
   "cell_type": "markdown",
   "metadata": {
    "id": "NVDke9NsiT0R"
   },
   "source": [
    "**Discovering Duplicates**\n",
    "* Duplicate rows are rows that have been registered more than one time.\n",
    "* By taking a look at our test data set, we can assume that row 11 and 12 are duplicates.\n",
    "* To discover duplicates, we can use the duplicated() method.\n",
    "* The duplicated() method returns a Boolean values for each row:"
   ]
  },
  {
   "cell_type": "code",
   "execution_count": null,
   "metadata": {
    "colab": {
     "base_uri": "https://localhost:8080/"
    },
    "executionInfo": {
     "elapsed": 357,
     "status": "ok",
     "timestamp": 1634283494070,
     "user": {
      "displayName": "Sunil Yadav",
      "photoUrl": "https://lh3.googleusercontent.com/a-/AOh14GgXsJ8Mi0xswEQMZ8SfLVP47zXFGjNpazoqxY_0IA=s64",
      "userId": "01881148532494959856"
     },
     "user_tz": -330
    },
    "id": "PqeQY-gpiRAV",
    "outputId": "a262b68a-53a1-46ed-b888-df0fdd9c28c6"
   },
   "outputs": [],
   "source": [
    "# Returns True for every row that is a duplicate, othwerwise False:\n",
    "print(df.duplicated())"
   ]
  },
  {
   "cell_type": "markdown",
   "metadata": {
    "id": "MNvKhDnii995"
   },
   "source": [
    "**Removing Duplicates**\n",
    "* To remove duplicates, use the drop_duplicates() method."
   ]
  },
  {
   "cell_type": "code",
   "execution_count": null,
   "metadata": {
    "colab": {
     "base_uri": "https://localhost:8080/"
    },
    "executionInfo": {
     "elapsed": 371,
     "status": "ok",
     "timestamp": 1634283579574,
     "user": {
      "displayName": "Sunil Yadav",
      "photoUrl": "https://lh3.googleusercontent.com/a-/AOh14GgXsJ8Mi0xswEQMZ8SfLVP47zXFGjNpazoqxY_0IA=s64",
      "userId": "01881148532494959856"
     },
     "user_tz": -330
    },
    "id": "w_Lk2ebKjFM3",
    "outputId": "d2963029-7ab0-42ca-a88e-b3db8f213d7a"
   },
   "outputs": [],
   "source": [
    "# Remove all duplicates:\n",
    "df.drop_duplicates(inplace = True)\n",
    "print(df)"
   ]
  },
  {
   "cell_type": "markdown",
   "metadata": {
    "id": "NhTL3yKrjbNn"
   },
   "source": [
    "# **Pandas - Data Correlations**"
   ]
  },
  {
   "cell_type": "markdown",
   "metadata": {
    "id": "FziOvdrLjkXp"
   },
   "source": [
    "**Finding RelationshipsFinding Relationships**\n",
    "* A great aspect of the Pandas module is the corr() method.\n",
    "* The corr() method calculates the relationship between each column in your data set.\n",
    "* The examples in this page uses a CSV file called: 'data.csv'."
   ]
  },
  {
   "cell_type": "code",
   "execution_count": null,
   "metadata": {
    "colab": {
     "base_uri": "https://localhost:8080/",
     "height": 173
    },
    "executionInfo": {
     "elapsed": 18,
     "status": "ok",
     "timestamp": 1634283619430,
     "user": {
      "displayName": "Sunil Yadav",
      "photoUrl": "https://lh3.googleusercontent.com/a-/AOh14GgXsJ8Mi0xswEQMZ8SfLVP47zXFGjNpazoqxY_0IA=s64",
      "userId": "01881148532494959856"
     },
     "user_tz": -330
    },
    "id": "ES7ilLnYjeuv",
    "outputId": "ad5282bb-9bca-4726-970a-f5979b160d71"
   },
   "outputs": [],
   "source": [
    "df.corr()"
   ]
  },
  {
   "cell_type": "markdown",
   "metadata": {
    "id": "Jtjb5bszj6i1"
   },
   "source": [
    "Note: The corr() method ignores \"not numeric\" columns."
   ]
  },
  {
   "cell_type": "markdown",
   "metadata": {
    "id": "uPb8UfwLkBtO"
   },
   "source": [
    "**Result Explained**\n",
    "* The Result of the corr() method is a table with a lot of numbers that represents how well the relationship is between two columns.\n",
    "* The number varies from -1 to 1.\n",
    "* 1 means that there is a 1 to 1 relationship (a perfect correlation), and for this data set, each time a value went up in the first column, the other one went up as well.\n",
    "* 0.9 is also a good relationship, and if you increase one value, the other will probably increase as well.\n",
    "* -0.9 would be just as good relationship as 0.9, but if you increase one value, the other will probably go down.\n",
    "* 0.2 means NOT a good relationship, meaning that if one value goes up does not mean that the other will."
   ]
  },
  {
   "cell_type": "markdown",
   "metadata": {
    "id": "vEjF8pn4kQ86"
   },
   "source": [
    "**What is a good correlation?** \n",
    "* It depends on the use, but I think it is safe to say you have to have at least 0.6 (or -0.6) to call it a good correlation."
   ]
  },
  {
   "cell_type": "markdown",
   "metadata": {
    "id": "VbLx-Un0kbnZ"
   },
   "source": [
    "**Perfect Correlation:**\n",
    "* We can see that \"Duration\" and \"Duration\" got the number 1.000000, which makes sense, each column always has a perfect relationship with itself.\n",
    "\n",
    "**Good Correlation:**\n",
    "* \"Duration\" and \"Calories\" got a 0.922721 correlation, which is a very good correlation, and we can predict that the longer you work out, the more calories you burn, and the other way around: if you burned a lot of calories, you probably had a long work out.\n",
    "\n",
    "**Bad Correlation:**\n",
    "* \"Duration\" and \"Maxpulse\" got a 0.009403 correlation, which is a very bad correlation, meaning that we can not predict the max pulse by just looking at the duration of the work out, and vice versa."
   ]
  },
  {
   "cell_type": "markdown",
   "metadata": {
    "id": "pHIP7QhmqLdm"
   },
   "source": [
    "**Heat Map**"
   ]
  },
  {
   "cell_type": "code",
   "execution_count": null,
   "metadata": {
    "id": "C8infzxhqFA9"
   },
   "outputs": [],
   "source": [
    "import seaborn as sns"
   ]
  },
  {
   "cell_type": "code",
   "execution_count": null,
   "metadata": {
    "colab": {
     "base_uri": "https://localhost:8080/",
     "height": 306
    },
    "executionInfo": {
     "elapsed": 646,
     "status": "error",
     "timestamp": 1634283990887,
     "user": {
      "displayName": "Sunil Yadav",
      "photoUrl": "https://lh3.googleusercontent.com/a-/AOh14GgXsJ8Mi0xswEQMZ8SfLVP47zXFGjNpazoqxY_0IA=s64",
      "userId": "01881148532494959856"
     },
     "user_tz": -330
    },
    "id": "SudlAY2OqGG5",
    "outputId": "7c9a4068-e5b2-44ea-9f18-52884feb43f9"
   },
   "outputs": [],
   "source": [
    "sns.heatmap(df)"
   ]
  },
  {
   "cell_type": "code",
   "execution_count": null,
   "metadata": {
    "colab": {
     "base_uri": "https://localhost:8080/",
     "height": 979
    },
    "executionInfo": {
     "elapsed": 357,
     "status": "ok",
     "timestamp": 1634284115093,
     "user": {
      "displayName": "Sunil Yadav",
      "photoUrl": "https://lh3.googleusercontent.com/a-/AOh14GgXsJ8Mi0xswEQMZ8SfLVP47zXFGjNpazoqxY_0IA=s64",
      "userId": "01881148532494959856"
     },
     "user_tz": -330
    },
    "id": "jozauZ2mr4p3",
    "outputId": "b45c2c39-d079-4e73-de9d-21eb2fdbbe4f"
   },
   "outputs": [],
   "source": [
    "df1 = df.drop(['Date'], axis = 1)\n",
    "pd.DataFrame(df1)"
   ]
  },
  {
   "cell_type": "code",
   "execution_count": null,
   "metadata": {
    "colab": {
     "base_uri": "https://localhost:8080/",
     "height": 282
    },
    "executionInfo": {
     "elapsed": 1273,
     "status": "ok",
     "timestamp": 1634284133204,
     "user": {
      "displayName": "Sunil Yadav",
      "photoUrl": "https://lh3.googleusercontent.com/a-/AOh14GgXsJ8Mi0xswEQMZ8SfLVP47zXFGjNpazoqxY_0IA=s64",
      "userId": "01881148532494959856"
     },
     "user_tz": -330
    },
    "id": "LTt2hS3csJHm",
    "outputId": "3d744790-b6cd-4a9c-a045-adb72e53ea1d"
   },
   "outputs": [],
   "source": [
    "sns.heatmap(df1)"
   ]
  }
 ],
 "metadata": {
  "colab": {
   "name": "4. Pandas (Cleaning).ipynb",
   "provenance": []
  },
  "kernelspec": {
   "display_name": "Python 3 (ipykernel)",
   "language": "python",
   "name": "python3"
  },
  "language_info": {
   "codemirror_mode": {
    "name": "ipython",
    "version": 3
   },
   "file_extension": ".py",
   "mimetype": "text/x-python",
   "name": "python",
   "nbconvert_exporter": "python",
   "pygments_lexer": "ipython3",
   "version": "3.11.4"
  }
 },
 "nbformat": 4,
 "nbformat_minor": 4
}
