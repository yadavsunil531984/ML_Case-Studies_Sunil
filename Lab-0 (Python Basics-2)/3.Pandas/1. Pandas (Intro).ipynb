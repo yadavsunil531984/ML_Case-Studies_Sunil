{
 "cells": [
  {
   "cell_type": "markdown",
   "metadata": {
    "id": "eWwdqVpblNxx"
   },
   "source": [
    "# **Introduction to Pandas**"
   ]
  },
  {
   "cell_type": "markdown",
   "metadata": {
    "id": "zNhj9ic8lCdi"
   },
   "source": [
    "**What is Pandas?**\n",
    "* Pandas is a Python library used for working with data sets.\n",
    "* It has functions for analyzing, cleaning, exploring, and manipulating data.\n",
    "* The name \"Pandas\" has a reference to both \"Panel Data\", and \"Python Data Analysis\" and was created by Wes McKinney in 2008."
   ]
  },
  {
   "cell_type": "markdown",
   "metadata": {
    "id": "XNmmyl-Yy2v3"
   },
   "source": [
    "**Why Use Pandas?**\n",
    "* Pandas allows us to analyze big data and make conclusions based on statistical theories.\n",
    "* Pandas can clean messy data sets, and make them readable and relevant.\n",
    "* Relevant data is very important in data science."
   ]
  },
  {
   "cell_type": "markdown",
   "metadata": {
    "id": "xgY8kjXrzGHU"
   },
   "source": [
    "**What Can Pandas Do?**\n",
    "* Pandas gives you answers about the data. Like:\n",
    "1. Is there a correlation between two or more columns\n",
    "2. What is average value?\n",
    "3. Max value?\n",
    "4. Min value?\n",
    "5. Data Cleaning\n",
    "6. Pandas are also able to delete rows that are not relevant, or contains wrong values, like empty or NULL values. This is called cleaning the data."
   ]
  },
  {
   "cell_type": "markdown",
   "metadata": {
    "id": "H7-AsJkM3tuo"
   },
   "source": [
    "**Installation of Pandas**"
   ]
  },
  {
   "cell_type": "code",
   "execution_count": null,
   "metadata": {
    "colab": {
     "base_uri": "https://localhost:8080/"
    },
    "executionInfo": {
     "elapsed": 3890,
     "status": "ok",
     "timestamp": 1634209978616,
     "user": {
      "displayName": "Sunil Yadav",
      "photoUrl": "https://lh3.googleusercontent.com/a-/AOh14GgXsJ8Mi0xswEQMZ8SfLVP47zXFGjNpazoqxY_0IA=s64",
      "userId": "01881148532494959856"
     },
     "user_tz": -330
    },
    "id": "rBZK6FtCys_V",
    "outputId": "2f029d57-8c3b-4229-e950-a42f9fa4b13c"
   },
   "outputs": [],
   "source": [
    "pip install pandas"
   ]
  },
  {
   "cell_type": "markdown",
   "metadata": {
    "id": "jfQVvHKKiERK"
   },
   "source": [
    "**Checking Pandas Version**\n",
    "\n",
    "* The version string is stored under version attribute."
   ]
  },
  {
   "cell_type": "code",
   "execution_count": null,
   "metadata": {
    "colab": {
     "base_uri": "https://localhost:8080/"
    },
    "executionInfo": {
     "elapsed": 367,
     "status": "ok",
     "timestamp": 1634210402354,
     "user": {
      "displayName": "Sunil Yadav",
      "photoUrl": "https://lh3.googleusercontent.com/a-/AOh14GgXsJ8Mi0xswEQMZ8SfLVP47zXFGjNpazoqxY_0IA=s64",
      "userId": "01881148532494959856"
     },
     "user_tz": -330
    },
    "id": "stFn_wnFh4dU",
    "outputId": "a1324e3b-534e-4033-a0c8-0beececdb182"
   },
   "outputs": [],
   "source": [
    "print(pd.__version__)"
   ]
  },
  {
   "cell_type": "markdown",
   "metadata": {
    "id": "HbK9Xn0l4C1m"
   },
   "source": [
    "**Import Pandas**\n",
    "* Once Pandas is installed, import it in your applications by adding the import keyword:"
   ]
  },
  {
   "cell_type": "code",
   "execution_count": null,
   "metadata": {
    "id": "L3_4rzfD4EwH"
   },
   "outputs": [],
   "source": [
    "import pandas as pd"
   ]
  },
  {
   "cell_type": "code",
   "execution_count": null,
   "metadata": {
    "colab": {
     "base_uri": "https://localhost:8080/"
    },
    "executionInfo": {
     "elapsed": 359,
     "status": "ok",
     "timestamp": 1634210303886,
     "user": {
      "displayName": "Sunil Yadav",
      "photoUrl": "https://lh3.googleusercontent.com/a-/AOh14GgXsJ8Mi0xswEQMZ8SfLVP47zXFGjNpazoqxY_0IA=s64",
      "userId": "01881148532494959856"
     },
     "user_tz": -330
    },
    "id": "E8ri2NbR4aDY",
    "outputId": "9601aeb1-a58b-475c-cd34-4602c7ab00fc"
   },
   "outputs": [],
   "source": [
    "x = {\n",
    "      'course': [\"ML\", \"DL\", \"DS\"],\n",
    "      'passings': [3, 2, 6]\n",
    "    }\n",
    "\n",
    "y = pd.DataFrame(x)\n",
    "\n",
    "print(y)"
   ]
  },
  {
   "cell_type": "markdown",
   "metadata": {
    "id": "WhTpvizr5oAf"
   },
   "source": [
    "**What is a Series?**\n",
    "* A Pandas Series is like a column in a table.\n",
    "* It is a one-dimensional array holding data of any type."
   ]
  },
  {
   "cell_type": "code",
   "execution_count": null,
   "metadata": {
    "colab": {
     "base_uri": "https://localhost:8080/"
    },
    "executionInfo": {
     "elapsed": 1138,
     "status": "ok",
     "timestamp": 1643440109166,
     "user": {
      "displayName": "SUNIL YADAV",
      "photoUrl": "https://lh3.googleusercontent.com/a-/AOh14GganiM423H1NKko6sAm8eUAcIJE-WpNykz0NN8w=s64",
      "userId": "05365530080582545014"
     },
     "user_tz": -330
    },
    "id": "DXsCIivV5sRe",
    "outputId": "924282d3-317b-46a3-c684-1e70a457acaf"
   },
   "outputs": [],
   "source": [
    "# Create a simple Pandas Series from a list:\n",
    "A = [1, 7, 2]\n",
    "B = pd.Series(A)\n",
    "print(B)"
   ]
  },
  {
   "cell_type": "markdown",
   "metadata": {
    "id": "vBNpVpop6M14"
   },
   "source": [
    "**Labels**\n",
    "* If nothing else is specified, the values are labeled with their index number.\n",
    "* First value has index 0, second value has index 1 etc.\n",
    "* This label can be used to access a specified value."
   ]
  },
  {
   "cell_type": "code",
   "execution_count": null,
   "metadata": {
    "colab": {
     "base_uri": "https://localhost:8080/"
    },
    "executionInfo": {
     "elapsed": 2,
     "status": "ok",
     "timestamp": 1643440115012,
     "user": {
      "displayName": "SUNIL YADAV",
      "photoUrl": "https://lh3.googleusercontent.com/a-/AOh14GganiM423H1NKko6sAm8eUAcIJE-WpNykz0NN8w=s64",
      "userId": "05365530080582545014"
     },
     "user_tz": -330
    },
    "id": "k65rxifG6Twd",
    "outputId": "5e17a897-366a-4c06-d3f9-09d216e6076d"
   },
   "outputs": [],
   "source": [
    "# Return the first value of the Series:\n",
    "print(B[0])"
   ]
  },
  {
   "cell_type": "markdown",
   "metadata": {
    "id": "am29dXkB7Ovk"
   },
   "source": [
    "**Create Labels**\n",
    "* With the index argument, you can name your own labels."
   ]
  },
  {
   "cell_type": "code",
   "execution_count": null,
   "metadata": {
    "colab": {
     "base_uri": "https://localhost:8080/"
    },
    "executionInfo": {
     "elapsed": 435,
     "status": "ok",
     "timestamp": 1643440138272,
     "user": {
      "displayName": "SUNIL YADAV",
      "photoUrl": "https://lh3.googleusercontent.com/a-/AOh14GganiM423H1NKko6sAm8eUAcIJE-WpNykz0NN8w=s64",
      "userId": "05365530080582545014"
     },
     "user_tz": -330
    },
    "id": "aY_vHMQu7SsV",
    "outputId": "49720be4-9586-4946-c144-9fcf2a4ac4eb"
   },
   "outputs": [],
   "source": [
    "# Create your own labels:\n",
    "A = [1, 7, 2, 8, 9]\n",
    "B = pd.Series(A, index = [\"n1\", \"n2\", \"n3\", \"n4\", \"n5\"])\n",
    "print(B)"
   ]
  },
  {
   "cell_type": "markdown",
   "metadata": {
    "id": "l1VJYdvk7yra"
   },
   "source": [
    "When you have created labels, you can access an item by referring to the label."
   ]
  },
  {
   "cell_type": "code",
   "execution_count": null,
   "metadata": {
    "colab": {
     "base_uri": "https://localhost:8080/"
    },
    "executionInfo": {
     "elapsed": 358,
     "status": "ok",
     "timestamp": 1634210845211,
     "user": {
      "displayName": "Sunil Yadav",
      "photoUrl": "https://lh3.googleusercontent.com/a-/AOh14GgXsJ8Mi0xswEQMZ8SfLVP47zXFGjNpazoqxY_0IA=s64",
      "userId": "01881148532494959856"
     },
     "user_tz": -330
    },
    "id": "G1uov6Rl78k9",
    "outputId": "90addab4-96ea-4ea9-e91d-7bf7d5ff196e"
   },
   "outputs": [],
   "source": [
    "# Return the value of \"y\":\n",
    "print(B[\"n3\"])"
   ]
  },
  {
   "cell_type": "markdown",
   "metadata": {
    "id": "wmHtM5_n8iLA"
   },
   "source": [
    "**Key/Value Objects as Series**\n",
    "* You can also use a key/value object, like a dictionary, when creating a Series."
   ]
  },
  {
   "cell_type": "code",
   "execution_count": null,
   "metadata": {
    "colab": {
     "base_uri": "https://localhost:8080/"
    },
    "executionInfo": {
     "elapsed": 354,
     "status": "ok",
     "timestamp": 1634210970951,
     "user": {
      "displayName": "Sunil Yadav",
      "photoUrl": "https://lh3.googleusercontent.com/a-/AOh14GgXsJ8Mi0xswEQMZ8SfLVP47zXFGjNpazoqxY_0IA=s64",
      "userId": "01881148532494959856"
     },
     "user_tz": -330
    },
    "id": "DCsFvg5S8j9B",
    "outputId": "1d991e41-23f3-4728-b4ac-44dde96b26cc"
   },
   "outputs": [],
   "source": [
    "# Create a simple Pandas Series from a dictionary:\n",
    "sub = {\"maths\": 83, \"Phy\": 80, \"Chem\": 90}\n",
    "B = pd.Series(sub)\n",
    "print(B)"
   ]
  },
  {
   "cell_type": "markdown",
   "metadata": {
    "id": "vftifzUD9Zp7"
   },
   "source": [
    "**Note:** The keys of the dictionary become the labels."
   ]
  },
  {
   "cell_type": "markdown",
   "metadata": {
    "id": "srYtRDJ99gyG"
   },
   "source": [
    "To select only some of the items in the dictionary, use the index argument and specify only the items you want to include in the Series."
   ]
  },
  {
   "cell_type": "code",
   "execution_count": null,
   "metadata": {
    "colab": {
     "base_uri": "https://localhost:8080/"
    },
    "executionInfo": {
     "elapsed": 601,
     "status": "ok",
     "timestamp": 1634211085371,
     "user": {
      "displayName": "Sunil Yadav",
      "photoUrl": "https://lh3.googleusercontent.com/a-/AOh14GgXsJ8Mi0xswEQMZ8SfLVP47zXFGjNpazoqxY_0IA=s64",
      "userId": "01881148532494959856"
     },
     "user_tz": -330
    },
    "id": "zbvuUwZv9apb",
    "outputId": "f08c8da6-34be-4a9a-a234-4e1d0d8328d3"
   },
   "outputs": [],
   "source": [
    "# Create a Series using only data from \"day1\" and \"day2\":\n",
    "sub = {\"maths\": 83, \"Phy\": 80, \"Chem\": 90}\n",
    "B = pd.Series(sub, index = [\"maths\",\"Phy\"])\n",
    "print(B)"
   ]
  },
  {
   "cell_type": "markdown",
   "metadata": {
    "id": "JRZVufA6-JPh"
   },
   "source": [
    "**DataFrames**\n",
    "* Data sets in Pandas are usually multi-dimensional tables, called DataFrames.\n",
    "* Series is like a column, a DataFrame is the whole table."
   ]
  },
  {
   "cell_type": "code",
   "execution_count": null,
   "metadata": {
    "colab": {
     "base_uri": "https://localhost:8080/"
    },
    "executionInfo": {
     "elapsed": 363,
     "status": "ok",
     "timestamp": 1634211145989,
     "user": {
      "displayName": "Sunil Yadav",
      "photoUrl": "https://lh3.googleusercontent.com/a-/AOh14GgXsJ8Mi0xswEQMZ8SfLVP47zXFGjNpazoqxY_0IA=s64",
      "userId": "01881148532494959856"
     },
     "user_tz": -330
    },
    "id": "JYL5ThkD-OLf",
    "outputId": "1c46a31d-d6b0-4d88-a4c4-cf392fccdbd4"
   },
   "outputs": [],
   "source": [
    "# Create a DataFrame from two Series:\n",
    "A = {\n",
    "    \"sub\": [420, 380, 390],\n",
    "    \"marks\": [50, 40, 45]\n",
    "    }\n",
    "\n",
    "B = pd.DataFrame(A)\n",
    "\n",
    "print(B)"
   ]
  }
 ],
 "metadata": {
  "colab": {
   "provenance": []
  },
  "kernelspec": {
   "display_name": "Python 3 (ipykernel)",
   "language": "python",
   "name": "python3"
  },
  "language_info": {
   "codemirror_mode": {
    "name": "ipython",
    "version": 3
   },
   "file_extension": ".py",
   "mimetype": "text/x-python",
   "name": "python",
   "nbconvert_exporter": "python",
   "pygments_lexer": "ipython3",
   "version": "3.11.4"
  }
 },
 "nbformat": 4,
 "nbformat_minor": 4
}
