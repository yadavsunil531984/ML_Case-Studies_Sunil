{
 "cells": [
  {
   "cell_type": "markdown",
   "metadata": {
    "id": "JGrLuF4qosle"
   },
   "source": [
    "# **Python Pandas - GroupBy**"
   ]
  },
  {
   "cell_type": "markdown",
   "metadata": {
    "id": "q3OpQh-Ao6ep"
   },
   "source": [
    "**Any groupby operation involves one of the following operations on the original object. They are −**\n",
    "* Splitting the Object\n",
    "* Applying a function\n",
    "* Combining the results"
   ]
  },
  {
   "cell_type": "markdown",
   "metadata": {
    "id": "pKfP3a21pFqY"
   },
   "source": [
    "* In many situations, we split the data into sets and we apply some functionality on each subset. In the apply functionality, we can perform the following operations −\n",
    "* Aggregation − computing a summary statistic\n",
    "* Transformation − perform some group-specific operation\n",
    "* Filtration − discarding the data with some condition"
   ]
  },
  {
   "cell_type": "markdown",
   "metadata": {
    "id": "a-Eg0AHQpZvb"
   },
   "source": [
    "Let us now create a DataFrame object and perform all the operations on it −"
   ]
  },
  {
   "cell_type": "code",
   "execution_count": null,
   "metadata": {
    "id": "Zbz3ZFljoznd"
   },
   "outputs": [],
   "source": [
    "import pandas as pd"
   ]
  },
  {
   "cell_type": "code",
   "execution_count": null,
   "metadata": {
    "colab": {
     "base_uri": "https://localhost:8080/"
    },
    "executionInfo": {
     "elapsed": 336,
     "status": "ok",
     "timestamp": 1634286765126,
     "user": {
      "displayName": "Sunil Yadav",
      "photoUrl": "https://lh3.googleusercontent.com/a-/AOh14GgXsJ8Mi0xswEQMZ8SfLVP47zXFGjNpazoqxY_0IA=s64",
      "userId": "01881148532494959856"
     },
     "user_tz": -330
    },
    "id": "jfBM9ieypiU_",
    "outputId": "87070360-7c32-4d0c-bd0f-32a93f2a66d8"
   },
   "outputs": [],
   "source": [
    "ipl_data = {'Team': ['Riders', 'Riders', 'Devils', 'Devils', 'Kings', 'kings', 'Kings', 'Kings', 'Riders', 'Royals', 'Royals', 'Riders'],\n",
    "            'Rank': [1, 2, 2, 3, 3, 4 ,1 ,1,2 , 4, 1, 2],\n",
    "            'Year': [2014,2015,2014,2015,2014,2015,2016,2017,2016,2014,2015,2017],\n",
    "            'Points':[876,789,863,673,741,812,756,788,694,701,804,690]\n",
    "            }\n",
    "\n",
    "df = pd.DataFrame(ipl_data)\n",
    "print (df)"
   ]
  },
  {
   "cell_type": "markdown",
   "metadata": {
    "id": "UB8YZuZep9Ee"
   },
   "source": [
    "**Split Data into Groups:**\n",
    "Pandas object can be split into any of their objects. There are multiple ways to split an object like −\n",
    "* obj.groupby('key')\n",
    "* obj.groupby(['key1','key2'])\n",
    "* obj.groupby(key,axis=1)\n",
    "Let us now see how the grouping objects can be applied to the DataFrame object"
   ]
  },
  {
   "cell_type": "code",
   "execution_count": null,
   "metadata": {
    "colab": {
     "base_uri": "https://localhost:8080/"
    },
    "executionInfo": {
     "elapsed": 364,
     "status": "ok",
     "timestamp": 1634286847388,
     "user": {
      "displayName": "Sunil Yadav",
      "photoUrl": "https://lh3.googleusercontent.com/a-/AOh14GgXsJ8Mi0xswEQMZ8SfLVP47zXFGjNpazoqxY_0IA=s64",
      "userId": "01881148532494959856"
     },
     "user_tz": -330
    },
    "id": "798Hp9tIqFX2",
    "outputId": "1b930fd8-beb6-4fd5-cb56-0cd31d568adc"
   },
   "outputs": [],
   "source": [
    "# Create Group\n",
    "print (df.groupby('Team'))"
   ]
  },
  {
   "cell_type": "code",
   "execution_count": null,
   "metadata": {
    "colab": {
     "base_uri": "https://localhost:8080/"
    },
    "executionInfo": {
     "elapsed": 345,
     "status": "ok",
     "timestamp": 1634286861834,
     "user": {
      "displayName": "Sunil Yadav",
      "photoUrl": "https://lh3.googleusercontent.com/a-/AOh14GgXsJ8Mi0xswEQMZ8SfLVP47zXFGjNpazoqxY_0IA=s64",
      "userId": "01881148532494959856"
     },
     "user_tz": -330
    },
    "id": "Mxy_kz8Kq0g_",
    "outputId": "29d0f503-f8dd-4ed6-c560-49bbd1b4ba84"
   },
   "outputs": [],
   "source": [
    "# View Group\n",
    "print (df.groupby('Team').groups)"
   ]
  },
  {
   "cell_type": "code",
   "execution_count": null,
   "metadata": {
    "colab": {
     "base_uri": "https://localhost:8080/"
    },
    "executionInfo": {
     "elapsed": 403,
     "status": "ok",
     "timestamp": 1634286948665,
     "user": {
      "displayName": "Sunil Yadav",
      "photoUrl": "https://lh3.googleusercontent.com/a-/AOh14GgXsJ8Mi0xswEQMZ8SfLVP47zXFGjNpazoqxY_0IA=s64",
      "userId": "01881148532494959856"
     },
     "user_tz": -330
    },
    "id": "4ywccVUxrlGU",
    "outputId": "23b54889-6be3-4034-e1aa-a831d5090505"
   },
   "outputs": [],
   "source": [
    "# Group by with multiple columns\n",
    "print (df.groupby(['Team','Year']).groups)"
   ]
  },
  {
   "cell_type": "code",
   "execution_count": null,
   "metadata": {
    "colab": {
     "base_uri": "https://localhost:8080/"
    },
    "executionInfo": {
     "elapsed": 340,
     "status": "ok",
     "timestamp": 1634286983208,
     "user": {
      "displayName": "Sunil Yadav",
      "photoUrl": "https://lh3.googleusercontent.com/a-/AOh14GgXsJ8Mi0xswEQMZ8SfLVP47zXFGjNpazoqxY_0IA=s64",
      "userId": "01881148532494959856"
     },
     "user_tz": -330
    },
    "id": "YCCwvE_asGll",
    "outputId": "38fe8046-3384-447a-850d-b146244042a1"
   },
   "outputs": [],
   "source": [
    "# Group by with Year columns\n",
    "print(df.groupby('Year').groups)"
   ]
  },
  {
   "cell_type": "markdown",
   "metadata": {
    "id": "oyt7oYwvseZk"
   },
   "source": [
    "**Iterating through Groups**\n",
    "* With the groupby object in hand, we can iterate through the object similar to itertools.obj."
   ]
  },
  {
   "cell_type": "code",
   "execution_count": null,
   "metadata": {
    "colab": {
     "base_uri": "https://localhost:8080/"
    },
    "executionInfo": {
     "elapsed": 358,
     "status": "ok",
     "timestamp": 1634287074483,
     "user": {
      "displayName": "Sunil Yadav",
      "photoUrl": "https://lh3.googleusercontent.com/a-/AOh14GgXsJ8Mi0xswEQMZ8SfLVP47zXFGjNpazoqxY_0IA=s64",
      "userId": "01881148532494959856"
     },
     "user_tz": -330
    },
    "id": "-dEPU_7ysYiZ",
    "outputId": "e4e2a30b-fe93-4ce9-a032-88201f6aafe1"
   },
   "outputs": [],
   "source": [
    "# Iterating through Groups\n",
    "grouped = df.groupby('Year')\n",
    "for name,group in grouped:\n",
    "   print (name)\n",
    "   print (group)"
   ]
  },
  {
   "cell_type": "markdown",
   "metadata": {
    "id": "inJdxQGgtSfC"
   },
   "source": [
    "**Select a Group**\n",
    "* Using the get_group() method, we can select a single group."
   ]
  },
  {
   "cell_type": "markdown",
   "metadata": {
    "id": "_l4NaiEcty_F"
   },
   "source": [
    "#**Aggregations**\n",
    "* An aggregated function returns a single aggregated value for each group.\n",
    "* Once the group by object is created, several aggregation operations can be performed on the grouped data.\n",
    "* An obvious one is aggregation via the aggregate or equivalent agg method −"
   ]
  },
  {
   "cell_type": "code",
   "execution_count": null,
   "metadata": {
    "colab": {
     "base_uri": "https://localhost:8080/"
    },
    "executionInfo": {
     "elapsed": 338,
     "status": "ok",
     "timestamp": 1634287122700,
     "user": {
      "displayName": "Sunil Yadav",
      "photoUrl": "https://lh3.googleusercontent.com/a-/AOh14GgXsJ8Mi0xswEQMZ8SfLVP47zXFGjNpazoqxY_0IA=s64",
      "userId": "01881148532494959856"
     },
     "user_tz": -330
    },
    "id": "2qOiWvxJtVwk",
    "outputId": "8e0fc5ac-1cf2-4a26-f46f-bd3ba856ecb9"
   },
   "outputs": [],
   "source": [
    "grouped = df.groupby('Year')\n",
    "print (grouped.get_group(2014))"
   ]
  },
  {
   "cell_type": "code",
   "execution_count": null,
   "metadata": {
    "id": "P2VQGbxjuTTz"
   },
   "outputs": [],
   "source": [
    "import numpy as np"
   ]
  },
  {
   "cell_type": "code",
   "execution_count": null,
   "metadata": {
    "colab": {
     "base_uri": "https://localhost:8080/"
    },
    "executionInfo": {
     "elapsed": 337,
     "status": "ok",
     "timestamp": 1634287193990,
     "user": {
      "displayName": "Sunil Yadav",
      "photoUrl": "https://lh3.googleusercontent.com/a-/AOh14GgXsJ8Mi0xswEQMZ8SfLVP47zXFGjNpazoqxY_0IA=s64",
      "userId": "01881148532494959856"
     },
     "user_tz": -330
    },
    "id": "YMZYlIbut_M5",
    "outputId": "b231381f-a668-4d1c-a49c-31c6ec4108c9"
   },
   "outputs": [],
   "source": [
    "grouped = df.groupby('Year')\n",
    "print (grouped['Points'].agg(np.mean))"
   ]
  },
  {
   "cell_type": "markdown",
   "metadata": {
    "id": "vrpgEpahum48"
   },
   "source": [
    "Another way to see the size of each group is by applying the size() function −"
   ]
  },
  {
   "cell_type": "code",
   "execution_count": null,
   "metadata": {
    "colab": {
     "base_uri": "https://localhost:8080/"
    },
    "executionInfo": {
     "elapsed": 324,
     "status": "ok",
     "timestamp": 1634287232044,
     "user": {
      "displayName": "Sunil Yadav",
      "photoUrl": "https://lh3.googleusercontent.com/a-/AOh14GgXsJ8Mi0xswEQMZ8SfLVP47zXFGjNpazoqxY_0IA=s64",
      "userId": "01881148532494959856"
     },
     "user_tz": -330
    },
    "id": "Y3OcwRYEuooY",
    "outputId": "0c42039c-56b2-4a59-f0e1-ec54618ce46b"
   },
   "outputs": [],
   "source": [
    "#Attribute Access in Python Pandas\n",
    "grouped = df.groupby('Team')\n",
    "print (grouped.agg(np.size))"
   ]
  },
  {
   "cell_type": "markdown",
   "metadata": {
    "id": "p8JWbrqZvJ1k"
   },
   "source": [
    "**Applying Multiple Aggregation Functions at Once**\n",
    "* With grouped Series, you can also pass a list or dict of functions to do aggregation with, and generate DataFrame as output −"
   ]
  },
  {
   "cell_type": "code",
   "execution_count": null,
   "metadata": {
    "colab": {
     "base_uri": "https://localhost:8080/"
    },
    "executionInfo": {
     "elapsed": 326,
     "status": "ok",
     "timestamp": 1634287261802,
     "user": {
      "displayName": "Sunil Yadav",
      "photoUrl": "https://lh3.googleusercontent.com/a-/AOh14GgXsJ8Mi0xswEQMZ8SfLVP47zXFGjNpazoqxY_0IA=s64",
      "userId": "01881148532494959856"
     },
     "user_tz": -330
    },
    "id": "WqG7doFKvOJV",
    "outputId": "563142d0-aa79-425d-e51d-c296f07d8ee0"
   },
   "outputs": [],
   "source": [
    "grouped = df.groupby('Team')\n",
    "print (grouped['Points'].agg([np.sum, np.mean, np.std]))"
   ]
  },
  {
   "cell_type": "markdown",
   "metadata": {
    "id": "MoW2Z6TJvhDr"
   },
   "source": [
    "**Transformations**\n",
    "* Transformation on a group or a column returns an object that is indexed the same size of that is being grouped.\n",
    "* Thus, the transform should return a result that is the same size as that of a group chunk."
   ]
  },
  {
   "cell_type": "code",
   "execution_count": null,
   "metadata": {
    "colab": {
     "base_uri": "https://localhost:8080/"
    },
    "executionInfo": {
     "elapsed": 442,
     "status": "ok",
     "timestamp": 1634287532195,
     "user": {
      "displayName": "Sunil Yadav",
      "photoUrl": "https://lh3.googleusercontent.com/a-/AOh14GgXsJ8Mi0xswEQMZ8SfLVP47zXFGjNpazoqxY_0IA=s64",
      "userId": "01881148532494959856"
     },
     "user_tz": -330
    },
    "id": "cMLhjTTkvmpC",
    "outputId": "bc4ef66f-31c4-40ca-c5de-57d78108bcf3"
   },
   "outputs": [],
   "source": [
    "grouped = df.groupby('Team')\n",
    "score = lambda x: (x - x.mean()) / x.std()*10\n",
    "print (grouped.transform(score))"
   ]
  },
  {
   "cell_type": "markdown",
   "metadata": {
    "id": "Yl42NZqj-uZH"
   },
   "source": [
    "**Filtration**\n",
    "* Filtration filters the data on a defined criteria and returns the subset of data.\n",
    "* The filter() function is used to filter the data."
   ]
  },
  {
   "cell_type": "code",
   "execution_count": null,
   "metadata": {
    "colab": {
     "base_uri": "https://localhost:8080/",
     "height": 266
    },
    "executionInfo": {
     "elapsed": 407,
     "status": "ok",
     "timestamp": 1634287594673,
     "user": {
      "displayName": "Sunil Yadav",
      "photoUrl": "https://lh3.googleusercontent.com/a-/AOh14GgXsJ8Mi0xswEQMZ8SfLVP47zXFGjNpazoqxY_0IA=s64",
      "userId": "01881148532494959856"
     },
     "user_tz": -330
    },
    "id": "lcNV7Fkx-1JS",
    "outputId": "14d07653-5bc7-44ea-815f-a079e947ee46"
   },
   "outputs": [],
   "source": [
    "# Return the team which have participated in three or more ipl\n",
    "df = pd.DataFrame(ipl_data)\n",
    "df.groupby('Team').filter(lambda x: len(x) >= 3)"
   ]
  }
 ],
 "metadata": {
  "colab": {
   "provenance": []
  },
  "kernelspec": {
   "display_name": "Python 3 (ipykernel)",
   "language": "python",
   "name": "python3"
  },
  "language_info": {
   "codemirror_mode": {
    "name": "ipython",
    "version": 3
   },
   "file_extension": ".py",
   "mimetype": "text/x-python",
   "name": "python",
   "nbconvert_exporter": "python",
   "pygments_lexer": "ipython3",
   "version": "3.11.4"
  }
 },
 "nbformat": 4,
 "nbformat_minor": 4
}
