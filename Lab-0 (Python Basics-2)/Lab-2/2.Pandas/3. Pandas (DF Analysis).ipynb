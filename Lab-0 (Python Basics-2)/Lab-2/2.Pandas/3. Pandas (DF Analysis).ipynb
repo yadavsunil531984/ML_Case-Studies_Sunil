{
 "cells": [
  {
   "cell_type": "markdown",
   "metadata": {
    "id": "bTzYRAHeijk9"
   },
   "source": [
    "# **Pandas - Analyzing DataFrames**"
   ]
  },
  {
   "cell_type": "markdown",
   "metadata": {
    "id": "OhixpSTYir1x"
   },
   "source": [
    "###  **1. Viewing the Data**\n",
    "* One of the most used method for getting a quick overview of the DataFrame, is the head() method.\n",
    "* The head() method returns the headers and a specified number of rows, starting from the top."
   ]
  },
  {
   "cell_type": "code",
   "execution_count": null,
   "metadata": {},
   "outputs": [],
   "source": [
    "import pandas as pd"
   ]
  },
  {
   "cell_type": "code",
   "execution_count": null,
   "metadata": {
    "id": "wOsBXHNuw8di"
   },
   "outputs": [],
   "source": [
    "# Get the DataFrame:\n",
    "df = pd.read_csv('C:\\\\Users\\\\abc\\\\ML_Lab\\\\Lab-2\\\\2.Pandas\\Iris.csv')\n",
    "print(df.head(10))"
   ]
  },
  {
   "cell_type": "code",
   "execution_count": null,
   "metadata": {
    "colab": {
     "base_uri": "https://localhost:8080/"
    },
    "executionInfo": {
     "elapsed": 459,
     "status": "ok",
     "timestamp": 1634214271062,
     "user": {
      "displayName": "Sunil Yadav",
      "photoUrl": "https://lh3.googleusercontent.com/a-/AOh14GgXsJ8Mi0xswEQMZ8SfLVP47zXFGjNpazoqxY_0IA=s64",
      "userId": "01881148532494959856"
     },
     "user_tz": -330
    },
    "id": "TuMr733AizYq",
    "outputId": "cdf135d6-699e-444e-f0f8-f9e1e83381d1"
   },
   "outputs": [],
   "source": [
    "# Get a quick overview by printing the first 10 rows of the DataFrame:\n",
    "df = pd.read_csv('C:\\\\Users\\\\abc\\\\ML_Lab\\\\Lab-2\\\\2.Pandas\\Iris.csv')\n",
    "print(df.head(10))"
   ]
  },
  {
   "cell_type": "code",
   "execution_count": null,
   "metadata": {
    "colab": {
     "base_uri": "https://localhost:8080/"
    },
    "executionInfo": {
     "elapsed": 701,
     "status": "ok",
     "timestamp": 1634214371627,
     "user": {
      "displayName": "Sunil Yadav",
      "photoUrl": "https://lh3.googleusercontent.com/a-/AOh14GgXsJ8Mi0xswEQMZ8SfLVP47zXFGjNpazoqxY_0IA=s64",
      "userId": "01881148532494959856"
     },
     "user_tz": -330
    },
    "id": "CyDEp9DCjTLi",
    "outputId": "0564f692-95f2-410f-c39e-db62b757f6bd"
   },
   "outputs": [],
   "source": [
    "# Print the first 5 rows of the DataFrame:\n",
    "df = pd.read_csv('C:\\\\Users\\\\abc\\\\ML_Lab\\\\Lab-2\\\\2.Pandas\\Iris.csv')\n",
    "print(df.head())"
   ]
  },
  {
   "cell_type": "code",
   "execution_count": null,
   "metadata": {
    "colab": {
     "base_uri": "https://localhost:8080/"
    },
    "executionInfo": {
     "elapsed": 466,
     "status": "ok",
     "timestamp": 1634214395350,
     "user": {
      "displayName": "Sunil Yadav",
      "photoUrl": "https://lh3.googleusercontent.com/a-/AOh14GgXsJ8Mi0xswEQMZ8SfLVP47zXFGjNpazoqxY_0IA=s64",
      "userId": "01881148532494959856"
     },
     "user_tz": -330
    },
    "id": "g22J97MEjo-J",
    "outputId": "4078c28d-3093-4741-acb8-5ab9e907df54"
   },
   "outputs": [],
   "source": [
    "# Print the last 5 rows of the DataFrame:\n",
    "print(df.tail()) "
   ]
  },
  {
   "cell_type": "markdown",
   "metadata": {
    "id": "-K-0R4kxj6K_"
   },
   "source": [
    "**Info About the Data**\n",
    "* The DataFrames object has a method called info(), that gives you more information about the data set."
   ]
  },
  {
   "cell_type": "code",
   "execution_count": null,
   "metadata": {
    "colab": {
     "base_uri": "https://localhost:8080/"
    },
    "executionInfo": {
     "elapsed": 455,
     "status": "ok",
     "timestamp": 1634214428806,
     "user": {
      "displayName": "Sunil Yadav",
      "photoUrl": "https://lh3.googleusercontent.com/a-/AOh14GgXsJ8Mi0xswEQMZ8SfLVP47zXFGjNpazoqxY_0IA=s64",
      "userId": "01881148532494959856"
     },
     "user_tz": -330
    },
    "id": "3C0mHpQ-j-Br",
    "outputId": "d7dbca08-4757-49eb-ca99-0bb3703f0e0c"
   },
   "outputs": [],
   "source": [
    "# Print information about the data:\n",
    "print(df.info()) "
   ]
  },
  {
   "cell_type": "markdown",
   "metadata": {
    "id": "HTV3-fXTk6GN"
   },
   "source": [
    "**Example-2**"
   ]
  },
  {
   "cell_type": "code",
   "execution_count": null,
   "metadata": {
    "colab": {
     "base_uri": "https://localhost:8080/"
    },
    "executionInfo": {
     "elapsed": 518,
     "status": "ok",
     "timestamp": 1634214652427,
     "user": {
      "displayName": "Sunil Yadav",
      "photoUrl": "https://lh3.googleusercontent.com/a-/AOh14GgXsJ8Mi0xswEQMZ8SfLVP47zXFGjNpazoqxY_0IA=s64",
      "userId": "01881148532494959856"
     },
     "user_tz": -330
    },
    "id": "xne00dZ6k9KN",
    "outputId": "a4c4a6db-7d0e-4046-bd5e-d21bf209067e"
   },
   "outputs": [],
   "source": [
    "df = pd.read_csv('C:\\\\Users\\\\abc\\\\ML_Lab\\\\Lab-2\\\\2.Pandas\\data.csv')\n",
    "print(df.head())"
   ]
  },
  {
   "cell_type": "code",
   "execution_count": null,
   "metadata": {
    "colab": {
     "base_uri": "https://localhost:8080/"
    },
    "executionInfo": {
     "elapsed": 456,
     "status": "ok",
     "timestamp": 1634214673319,
     "user": {
      "displayName": "Sunil Yadav",
      "photoUrl": "https://lh3.googleusercontent.com/a-/AOh14GgXsJ8Mi0xswEQMZ8SfLVP47zXFGjNpazoqxY_0IA=s64",
      "userId": "01881148532494959856"
     },
     "user_tz": -330
    },
    "id": "8NTBsMwKlf2S",
    "outputId": "35ed812a-7f29-47fa-b761-683828c451c2"
   },
   "outputs": [],
   "source": [
    "print(df.info()) "
   ]
  },
  {
   "cell_type": "markdown",
   "metadata": {
    "id": "v1N6rBrXlp5y"
   },
   "source": [
    "#### **Null Values**\n",
    "* The info() method also tells us how many Non-Null values there are present in each column, and in our data set it seems like there are 164 of 169 Non-Null values in the \"Calories\" column.\n",
    "* Which means that there are 5 rows with no value at all, in the \"Calories\" column, for whatever reason.\n",
    "* Empty values, or Null values, can be bad when analyzing data, and you should consider removing rows with empty values. This is a step towards what is called cleaning data, and you will learn more about that in the next tutorials."
   ]
  },
  {
   "cell_type": "markdown",
   "metadata": {},
   "source": [
    "### **2. Statistical Calculation on Dataframe**"
   ]
  },
  {
   "cell_type": "code",
   "execution_count": null,
   "metadata": {
    "colab": {
     "base_uri": "https://localhost:8080/"
    },
    "executionInfo": {
     "elapsed": 467,
     "status": "ok",
     "timestamp": 1634214760780,
     "user": {
      "displayName": "Sunil Yadav",
      "photoUrl": "https://lh3.googleusercontent.com/a-/AOh14GgXsJ8Mi0xswEQMZ8SfLVP47zXFGjNpazoqxY_0IA=s64",
      "userId": "01881148532494959856"
     },
     "user_tz": -330
    },
    "id": "3MdGknPBl2Er",
    "outputId": "bdbaeef6-356f-44cb-ac0e-a6426732f7a4"
   },
   "outputs": [],
   "source": [
    "# get dataframe\n",
    "df = pd.read_csv('C:\\\\Users\\\\abc\\\\ML_Lab\\\\Lab-2\\\\2.Pandas\\Iris.csv')\n",
    "df.head()"
   ]
  },
  {
   "cell_type": "code",
   "execution_count": null,
   "metadata": {},
   "outputs": [],
   "source": [
    "df1 = df.drop(columns=['Id'])\n",
    "df1.head()"
   ]
  },
  {
   "cell_type": "markdown",
   "metadata": {},
   "source": [
    "#### Maximum Value"
   ]
  },
  {
   "cell_type": "code",
   "execution_count": null,
   "metadata": {
    "colab": {
     "base_uri": "https://localhost:8080/"
    },
    "executionInfo": {
     "elapsed": 459,
     "status": "ok",
     "timestamp": 1634214810251,
     "user": {
      "displayName": "Sunil Yadav",
      "photoUrl": "https://lh3.googleusercontent.com/a-/AOh14GgXsJ8Mi0xswEQMZ8SfLVP47zXFGjNpazoqxY_0IA=s64",
      "userId": "01881148532494959856"
     },
     "user_tz": -330
    },
    "id": "CaNMatVsjof6",
    "outputId": "c2c2a75d-f991-4040-8928-b266ced7d40e"
   },
   "outputs": [],
   "source": [
    "# Find Maximum value from each colums\n",
    "print(df1.max())"
   ]
  },
  {
   "cell_type": "code",
   "execution_count": null,
   "metadata": {
    "colab": {
     "base_uri": "https://localhost:8080/"
    },
    "executionInfo": {
     "elapsed": 659,
     "status": "ok",
     "timestamp": 1634214867513,
     "user": {
      "displayName": "Sunil Yadav",
      "photoUrl": "https://lh3.googleusercontent.com/a-/AOh14GgXsJ8Mi0xswEQMZ8SfLVP47zXFGjNpazoqxY_0IA=s64",
      "userId": "01881148532494959856"
     },
     "user_tz": -330
    },
    "id": "dzbVp0zkj6Tc",
    "outputId": "3222059b-bf79-4430-ed76-3abf64354321"
   },
   "outputs": [],
   "source": [
    "# Find Maximum value from second colums\n",
    "df1[['SepalLengthCm']].max()"
   ]
  },
  {
   "cell_type": "code",
   "execution_count": null,
   "metadata": {
    "colab": {
     "base_uri": "https://localhost:8080/"
    },
    "executionInfo": {
     "elapsed": 526,
     "status": "ok",
     "timestamp": 1634214885521,
     "user": {
      "displayName": "Sunil Yadav",
      "photoUrl": "https://lh3.googleusercontent.com/a-/AOh14GgXsJ8Mi0xswEQMZ8SfLVP47zXFGjNpazoqxY_0IA=s64",
      "userId": "01881148532494959856"
     },
     "user_tz": -330
    },
    "id": "KJoMU4gcni8_",
    "outputId": "05c61fcb-2990-46a1-cbce-9b11b6c255ca"
   },
   "outputs": [],
   "source": [
    "# Find Maximum value from second colums\n",
    "df1[['SepalLengthCm','PetalWidthCm']].max()"
   ]
  },
  {
   "cell_type": "markdown",
   "metadata": {},
   "source": [
    "#### Mean Value"
   ]
  },
  {
   "cell_type": "code",
   "execution_count": null,
   "metadata": {
    "colab": {
     "base_uri": "https://localhost:8080/"
    },
    "executionInfo": {
     "elapsed": 449,
     "status": "ok",
     "timestamp": 1634214915477,
     "user": {
      "displayName": "Sunil Yadav",
      "photoUrl": "https://lh3.googleusercontent.com/a-/AOh14GgXsJ8Mi0xswEQMZ8SfLVP47zXFGjNpazoqxY_0IA=s64",
      "userId": "01881148532494959856"
     },
     "user_tz": -330
    },
    "id": "t6Kfb_JPs7zf",
    "outputId": "89c0e7e7-463b-46b9-f43a-7f139f287155"
   },
   "outputs": [],
   "source": [
    "# Find the Mean value\n",
    "df1.mean(numeric_only=True)"
   ]
  },
  {
   "cell_type": "markdown",
   "metadata": {},
   "source": [
    "#### Median Value"
   ]
  },
  {
   "cell_type": "code",
   "execution_count": null,
   "metadata": {},
   "outputs": [],
   "source": [
    "# Find the Mean value\n",
    "df1.median(numeric_only=True)"
   ]
  },
  {
   "cell_type": "markdown",
   "metadata": {},
   "source": [
    "#### Mode Value"
   ]
  },
  {
   "cell_type": "code",
   "execution_count": null,
   "metadata": {},
   "outputs": [],
   "source": [
    "# Find the Mode value\n",
    "df1.mode(numeric_only=True)"
   ]
  },
  {
   "cell_type": "markdown",
   "metadata": {},
   "source": [
    "#### Variance"
   ]
  },
  {
   "cell_type": "code",
   "execution_count": null,
   "metadata": {},
   "outputs": [],
   "source": [
    "df1.var(numeric_only=True)"
   ]
  },
  {
   "cell_type": "markdown",
   "metadata": {},
   "source": [
    "#### Standard Deviation"
   ]
  },
  {
   "cell_type": "code",
   "execution_count": null,
   "metadata": {},
   "outputs": [],
   "source": [
    "df1.std(numeric_only=True)"
   ]
  },
  {
   "cell_type": "markdown",
   "metadata": {},
   "source": [
    "#### Sumation"
   ]
  },
  {
   "cell_type": "code",
   "execution_count": null,
   "metadata": {},
   "outputs": [],
   "source": [
    "# Find the Mode value\n",
    "df1.sum(numeric_only=True)"
   ]
  },
  {
   "cell_type": "code",
   "execution_count": null,
   "metadata": {},
   "outputs": [],
   "source": [
    "df2 = df1.drop(columns=['Species'])\n",
    "df2.pow(2).sum()"
   ]
  },
  {
   "cell_type": "code",
   "execution_count": null,
   "metadata": {},
   "outputs": [],
   "source": [
    "df2.pow(3).sum()"
   ]
  },
  {
   "cell_type": "markdown",
   "metadata": {},
   "source": [
    "#### Correlation"
   ]
  },
  {
   "cell_type": "code",
   "execution_count": null,
   "metadata": {},
   "outputs": [],
   "source": [
    "correlation = df['SepalLengthCm'].corr(df['SepalWidthCm'])\n",
    "print(\"Correlation between SepalLengthCm and SepalWidthCm : \",correlation)"
   ]
  },
  {
   "cell_type": "code",
   "execution_count": null,
   "metadata": {},
   "outputs": [],
   "source": [
    "df = pd.read_csv('C:\\\\Users\\\\abc\\\\ML_Lab\\\\Lab-2\\\\2.Pandas\\data.csv')\n",
    "df.corr()"
   ]
  },
  {
   "cell_type": "markdown",
   "metadata": {},
   "source": [
    "## **3. Plotting in Data frame**"
   ]
  },
  {
   "cell_type": "code",
   "execution_count": null,
   "metadata": {},
   "outputs": [],
   "source": [
    "# Import pyplot from Matplotlib and visualize our DataFrame:\n",
    "import pandas as pd\n",
    "import matplotlib.pyplot as plt"
   ]
  },
  {
   "cell_type": "code",
   "execution_count": null,
   "metadata": {},
   "outputs": [],
   "source": [
    "# Visualise Data\n",
    "df = pd.read_csv('C:\\\\Users\\\\abc\\\\ML_Lab\\\\Lab-2\\\\2.Pandas\\data.csv')\n",
    "df.plot()\n",
    "plt.show()"
   ]
  },
  {
   "cell_type": "code",
   "execution_count": null,
   "metadata": {},
   "outputs": [],
   "source": [
    "# Scatter Plot\n",
    "df = pd.read_csv('C:\\\\Users\\\\abc\\\\ML_Lab\\\\Lab-2\\\\2.Pandas\\data.csv')\n",
    "df.plot(kind = 'scatter', x = 'Duration', y = 'Calories')\n",
    "plt.show()"
   ]
  },
  {
   "cell_type": "code",
   "execution_count": null,
   "metadata": {},
   "outputs": [],
   "source": [
    "# Plot Histogram\n",
    "df = pd.read_csv('C:\\\\Users\\\\abc\\\\ML_Lab\\\\Lab-2\\\\2.Pandas\\data.csv')\n",
    "df[\"Duration\"].plot(kind = 'hist')"
   ]
  },
  {
   "cell_type": "markdown",
   "metadata": {
    "id": "4ZBX6HVJ3WE3"
   },
   "source": [
    "## **3. Filteration of Data from Dataframe**"
   ]
  },
  {
   "cell_type": "markdown",
   "metadata": {
    "id": "S_WhX7Eprr1E"
   },
   "source": [
    "### **Python iloc() function**\n",
    "* Python iloc() function enables us to select a particular cell of the dataset, that is, it helps us select a value that belongs to a particular row or column from a set of values of a data frame or dataset.\n",
    "* With iloc() function, we can retrieve a particular value belonging to a row and column using the index values assigned to it.\n",
    "* Remember, iloc() function accepts only integer type values as the index values for the values to be accessed and displayed."
   ]
  },
  {
   "cell_type": "markdown",
   "metadata": {
    "id": "Mm7V8zM9xnFn"
   },
   "source": [
    "**Syntax**\n",
    " iloc(start_row:end_row,start_col:end_col)"
   ]
  },
  {
   "cell_type": "code",
   "execution_count": null,
   "metadata": {
    "colab": {
     "base_uri": "https://localhost:8080/"
    },
    "executionInfo": {
     "elapsed": 551,
     "status": "ok",
     "timestamp": 1634215602891,
     "user": {
      "displayName": "Sunil Yadav",
      "photoUrl": "https://lh3.googleusercontent.com/a-/AOh14GgXsJ8Mi0xswEQMZ8SfLVP47zXFGjNpazoqxY_0IA=s64",
      "userId": "01881148532494959856"
     },
     "user_tz": -330
    },
    "id": "F8BYCnCQta6g",
    "outputId": "8c4dcb63-5be2-416c-aa27-fb8a79d3d73d"
   },
   "outputs": [],
   "source": [
    "df = pd.read_csv('C:\\\\Users\\\\abc\\\\ML_Lab\\\\Lab-2\\\\2.Pandas\\data.csv')\n",
    "print(df.to_string())"
   ]
  },
  {
   "cell_type": "code",
   "execution_count": null,
   "metadata": {
    "colab": {
     "base_uri": "https://localhost:8080/"
    },
    "executionInfo": {
     "elapsed": 638,
     "status": "ok",
     "timestamp": 1634215735196,
     "user": {
      "displayName": "Sunil Yadav",
      "photoUrl": "https://lh3.googleusercontent.com/a-/AOh14GgXsJ8Mi0xswEQMZ8SfLVP47zXFGjNpazoqxY_0IA=s64",
      "userId": "01881148532494959856"
     },
     "user_tz": -330
    },
    "id": "akAHfBxcrvWC",
    "outputId": "e972ec1f-9188-442a-f9cc-010045edb340"
   },
   "outputs": [],
   "source": [
    "# Display Record Number 3 to 15 for all column i.e in row index 2 to row index 14 \n",
    "df = pd.read_csv('C:\\\\Users\\\\abc\\\\ML_Lab\\\\Lab-2\\\\2.Pandas\\data.csv')\n",
    "print(df.iloc[2:14])"
   ]
  },
  {
   "cell_type": "code",
   "execution_count": null,
   "metadata": {
    "colab": {
     "base_uri": "https://localhost:8080/"
    },
    "executionInfo": {
     "elapsed": 449,
     "status": "ok",
     "timestamp": 1634215811591,
     "user": {
      "displayName": "Sunil Yadav",
      "photoUrl": "https://lh3.googleusercontent.com/a-/AOh14GgXsJ8Mi0xswEQMZ8SfLVP47zXFGjNpazoqxY_0IA=s64",
      "userId": "01881148532494959856"
     },
     "user_tz": -330
    },
    "id": "VnKdNzZxucV1",
    "outputId": "1a048a37-cccd-4bd6-98b8-a5f99159d945"
   },
   "outputs": [],
   "source": [
    "# Display all record of Duration and pulse\n",
    "df = pd.read_csv('C:\\\\Users\\\\abc\\\\ML_Lab\\\\Lab-2\\\\2.Pandas\\data.csv')\n",
    "print(df.iloc[:,0:2])"
   ]
  },
  {
   "cell_type": "code",
   "execution_count": null,
   "metadata": {
    "colab": {
     "base_uri": "https://localhost:8080/"
    },
    "executionInfo": {
     "elapsed": 535,
     "status": "ok",
     "timestamp": 1634215911924,
     "user": {
      "displayName": "Sunil Yadav",
      "photoUrl": "https://lh3.googleusercontent.com/a-/AOh14GgXsJ8Mi0xswEQMZ8SfLVP47zXFGjNpazoqxY_0IA=s64",
      "userId": "01881148532494959856"
     },
     "user_tz": -330
    },
    "id": "Bmsol6hWv8tW",
    "outputId": "d8b76e6b-4a8c-45ac-cd6d-57d8c1eb01da"
   },
   "outputs": [],
   "source": [
    "# Display all record of column Maxpulse and calories\n",
    "df = pd.read_csv('C:\\\\Users\\\\abc\\\\ML_Lab\\\\Lab-2\\\\2.Pandas\\data.csv')\n",
    "print(df.iloc[:,2:4])"
   ]
  },
  {
   "cell_type": "code",
   "execution_count": null,
   "metadata": {
    "colab": {
     "base_uri": "https://localhost:8080/"
    },
    "executionInfo": {
     "elapsed": 452,
     "status": "ok",
     "timestamp": 1634215986085,
     "user": {
      "displayName": "Sunil Yadav",
      "photoUrl": "https://lh3.googleusercontent.com/a-/AOh14GgXsJ8Mi0xswEQMZ8SfLVP47zXFGjNpazoqxY_0IA=s64",
      "userId": "01881148532494959856"
     },
     "user_tz": -330
    },
    "id": "5--XajgpwMaN",
    "outputId": "41ca99ee-f7ab-441b-e267-ce46f53f18b2"
   },
   "outputs": [],
   "source": [
    "# Display first 20 records of first Three Column\n",
    "df = pd.read_csv('C:\\\\Users\\\\abc\\\\ML_Lab\\\\Lab-2\\\\2.Pandas\\data.csv')\n",
    "print(df.iloc[0:20,0:3])"
   ]
  },
  {
   "cell_type": "code",
   "execution_count": null,
   "metadata": {
    "colab": {
     "base_uri": "https://localhost:8080/"
    },
    "executionInfo": {
     "elapsed": 439,
     "status": "ok",
     "timestamp": 1634216024634,
     "user": {
      "displayName": "Sunil Yadav",
      "photoUrl": "https://lh3.googleusercontent.com/a-/AOh14GgXsJ8Mi0xswEQMZ8SfLVP47zXFGjNpazoqxY_0IA=s64",
      "userId": "01881148532494959856"
     },
     "user_tz": -330
    },
    "id": "D0_XJ-OFwteI",
    "outputId": "e3c81e5f-3ae7-47da-9d56-247c5b5d65b5"
   },
   "outputs": [],
   "source": [
    "# Print all record of Column \"Duration\" and \"Maxpulse\" Column i.e Column index 0 and Column index 2\n",
    "df = pd.read_csv('C:\\\\Users\\\\abc\\\\ML_Lab\\\\Lab-2\\\\2.Pandas\\data.csv')\n",
    "print(df.iloc[:,[0, 3]])"
   ]
  },
  {
   "cell_type": "code",
   "execution_count": null,
   "metadata": {
    "colab": {
     "base_uri": "https://localhost:8080/"
    },
    "executionInfo": {
     "elapsed": 507,
     "status": "ok",
     "timestamp": 1634216089714,
     "user": {
      "displayName": "Sunil Yadav",
      "photoUrl": "https://lh3.googleusercontent.com/a-/AOh14GgXsJ8Mi0xswEQMZ8SfLVP47zXFGjNpazoqxY_0IA=s64",
      "userId": "01881148532494959856"
     },
     "user_tz": -330
    },
    "id": "ZL20BA8f0Sti",
    "outputId": "f44b857c-378e-4042-e442-067cf4113bd7"
   },
   "outputs": [],
   "source": [
    "# Print the record index of 2,7,8,29,30 of column index 0 and Clomun index 3\n",
    "df = pd.read_csv('C:\\\\Users\\\\abc\\\\ML_Lab\\\\Lab-2\\\\2.Pandas\\data.csv')\n",
    "print(df.iloc[[2,7,8,29,30],[0, 3]])"
   ]
  },
  {
   "cell_type": "code",
   "execution_count": null,
   "metadata": {
    "colab": {
     "base_uri": "https://localhost:8080/",
     "height": 111
    },
    "executionInfo": {
     "elapsed": 472,
     "status": "ok",
     "timestamp": 1634216109975,
     "user": {
      "displayName": "Sunil Yadav",
      "photoUrl": "https://lh3.googleusercontent.com/a-/AOh14GgXsJ8Mi0xswEQMZ8SfLVP47zXFGjNpazoqxY_0IA=s64",
      "userId": "01881148532494959856"
     },
     "user_tz": -330
    },
    "id": "bsmMLcxSC7lQ",
    "outputId": "9dbcdad6-805c-432d-ec76-c3840d96b990"
   },
   "outputs": [],
   "source": [
    "# select rows with particular indexes and particular columns\n",
    "df.iloc[[0,2],[1,3]]"
   ]
  },
  {
   "cell_type": "markdown",
   "metadata": {
    "id": "1XT7EJRg1FyD"
   },
   "source": [
    "### **loc in Pandas**\n",
    "* loc is label-based, which means that we have to specify the name of the rows and columns that we need to filter out.\n",
    "* For example, let’s say we search for the rows whose index is 1, 2 or 100. We will not get the first, second or the hundredth row here. Instead, we will get the results only if the name of any index is 1, 2 or 100.\n",
    "* So, we can filter the data using the loc function in Pandas even if the indices are not an integer in our dataset.\n",
    "\n",
    "### **iloc in Pandas**\n",
    "* On the other hand, iloc is integer index-based. So here, we have to specify rows and columns by their integer index.\n",
    "* Let’s say we search for the rows with index 1, 2 or 100. It will return the first, second and hundredth row, regardless of the name or labels we have in the index in our dataset.\n",
    "* We will see multiple examples in this article on how to use loc and iloc for the data selection and data update process in Python.\n",
    "\n",
    " "
   ]
  },
  {
   "cell_type": "code",
   "execution_count": null,
   "metadata": {
    "colab": {
     "base_uri": "https://localhost:8080/"
    },
    "executionInfo": {
     "elapsed": 543,
     "status": "ok",
     "timestamp": 1634216182058,
     "user": {
      "displayName": "Sunil Yadav",
      "photoUrl": "https://lh3.googleusercontent.com/a-/AOh14GgXsJ8Mi0xswEQMZ8SfLVP47zXFGjNpazoqxY_0IA=s64",
      "userId": "01881148532494959856"
     },
     "user_tz": -330
    },
    "id": "9pYxpVUV4EJ2",
    "outputId": "5e973247-9051-4f30-b79f-f7f641eedd57"
   },
   "outputs": [],
   "source": [
    "# display the record of Row index 29\n",
    "df = pd.read_csv('C:\\\\Users\\\\abc\\\\ML_Lab\\\\Lab-2\\\\2.Pandas\\data.csv')\n",
    "print(df.loc[29])"
   ]
  },
  {
   "cell_type": "code",
   "execution_count": null,
   "metadata": {
    "colab": {
     "base_uri": "https://localhost:8080/"
    },
    "executionInfo": {
     "elapsed": 7,
     "status": "ok",
     "timestamp": 1634216199359,
     "user": {
      "displayName": "Sunil Yadav",
      "photoUrl": "https://lh3.googleusercontent.com/a-/AOh14GgXsJ8Mi0xswEQMZ8SfLVP47zXFGjNpazoqxY_0IA=s64",
      "userId": "01881148532494959856"
     },
     "user_tz": -330
    },
    "id": "DpiFdpC5-M22",
    "outputId": "6d2cdeae-02a3-4c01-aec6-e1337b9cbabf"
   },
   "outputs": [],
   "source": [
    "data = {\n",
    "        \"Protein\": [38, 27, 18, 25, 29],\n",
    "        \"Fats\": [32, 39, 40, 35, 33],\n",
    "        \"Carbs\": [46, 47, 50, 60, 65]\n",
    "       }\n",
    "\n",
    "df1 = pd.DataFrame(data, index = [\"P1\", \"P2\", \"P3\", \"P4\", \"P5\"])\n",
    "\n",
    "print(df1) "
   ]
  },
  {
   "cell_type": "code",
   "execution_count": null,
   "metadata": {
    "colab": {
     "base_uri": "https://localhost:8080/"
    },
    "executionInfo": {
     "elapsed": 458,
     "status": "ok",
     "timestamp": 1634216230222,
     "user": {
      "displayName": "Sunil Yadav",
      "photoUrl": "https://lh3.googleusercontent.com/a-/AOh14GgXsJ8Mi0xswEQMZ8SfLVP47zXFGjNpazoqxY_0IA=s64",
      "userId": "01881148532494959856"
     },
     "user_tz": -330
    },
    "id": "jbn-ru4S-Q9b",
    "outputId": "31549401-7b64-4d57-dd4a-8dabbf9907aa"
   },
   "outputs": [],
   "source": [
    "# print the record where row index is P3 to P5\n",
    "print(df1.loc['P3':'P5'])"
   ]
  },
  {
   "cell_type": "code",
   "execution_count": null,
   "metadata": {
    "colab": {
     "base_uri": "https://localhost:8080/",
     "height": 142
    },
    "executionInfo": {
     "elapsed": 14,
     "status": "ok",
     "timestamp": 1634216262316,
     "user": {
      "displayName": "Sunil Yadav",
      "photoUrl": "https://lh3.googleusercontent.com/a-/AOh14GgXsJ8Mi0xswEQMZ8SfLVP47zXFGjNpazoqxY_0IA=s64",
      "userId": "01881148532494959856"
     },
     "user_tz": -330
    },
    "id": "_14mV_sX_w5b",
    "outputId": "4d2395fb-eeea-4903-8c6a-f536f42aa350"
   },
   "outputs": [],
   "source": [
    "# select all rows with a condition\n",
    "df1.loc[df1.Fats >= 35]"
   ]
  },
  {
   "cell_type": "code",
   "execution_count": null,
   "metadata": {
    "colab": {
     "base_uri": "https://localhost:8080/",
     "height": 142
    },
    "executionInfo": {
     "elapsed": 461,
     "status": "ok",
     "timestamp": 1634216278636,
     "user": {
      "displayName": "Sunil Yadav",
      "photoUrl": "https://lh3.googleusercontent.com/a-/AOh14GgXsJ8Mi0xswEQMZ8SfLVP47zXFGjNpazoqxY_0IA=s64",
      "userId": "01881148532494959856"
     },
     "user_tz": -330
    },
    "id": "psxUwomGAa2Y",
    "outputId": "ab4fc9f9-4c2b-47ae-c5f0-96264e03c13e"
   },
   "outputs": [],
   "source": [
    "# select with multiple conditions\n",
    "df1.loc[(df1.Protein >= 12) & (df1.Carbs >= 50)]"
   ]
  },
  {
   "cell_type": "code",
   "execution_count": null,
   "metadata": {
    "colab": {
     "base_uri": "https://localhost:8080/",
     "height": 142
    },
    "executionInfo": {
     "elapsed": 963,
     "status": "ok",
     "timestamp": 1634216327645,
     "user": {
      "displayName": "Sunil Yadav",
      "photoUrl": "https://lh3.googleusercontent.com/a-/AOh14GgXsJ8Mi0xswEQMZ8SfLVP47zXFGjNpazoqxY_0IA=s64",
      "userId": "01881148532494959856"
     },
     "user_tz": -330
    },
    "id": "bZd4Ge6QBNsK",
    "outputId": "910eda5d-a399-4244-cf2b-fdb511037552"
   },
   "outputs": [],
   "source": [
    "# select few columns with a condition\n",
    "df1.loc[(df1.Fats >= 35), ['Fats', 'Carbs']]"
   ]
  },
  {
   "cell_type": "code",
   "execution_count": null,
   "metadata": {
    "colab": {
     "base_uri": "https://localhost:8080/",
     "height": 204
    },
    "executionInfo": {
     "elapsed": 450,
     "status": "ok",
     "timestamp": 1634216360615,
     "user": {
      "displayName": "Sunil Yadav",
      "photoUrl": "https://lh3.googleusercontent.com/a-/AOh14GgXsJ8Mi0xswEQMZ8SfLVP47zXFGjNpazoqxY_0IA=s64",
      "userId": "01881148532494959856"
     },
     "user_tz": -330
    },
    "id": "3QLJyoS2B4fC",
    "outputId": "ddb00b88-0717-47fe-ab11-08e5be6e4555"
   },
   "outputs": [],
   "source": [
    "# update a column with condition\n",
    "df1.loc[(df1.Fats >= 12), ['Protein']] = 50\n",
    "df1"
   ]
  },
  {
   "cell_type": "code",
   "execution_count": null,
   "metadata": {
    "colab": {
     "base_uri": "https://localhost:8080/",
     "height": 204
    },
    "executionInfo": {
     "elapsed": 1229,
     "status": "ok",
     "timestamp": 1634216390944,
     "user": {
      "displayName": "Sunil Yadav",
      "photoUrl": "https://lh3.googleusercontent.com/a-/AOh14GgXsJ8Mi0xswEQMZ8SfLVP47zXFGjNpazoqxY_0IA=s64",
      "userId": "01881148532494959856"
     },
     "user_tz": -330
    },
    "id": "ZTREICiaCS_p",
    "outputId": "5a3328ea-cfec-400a-b504-1b0601fe1bbf"
   },
   "outputs": [],
   "source": [
    "# update multiple columns with condition\n",
    "df1.loc[(df1.Fats >= 40), ['Protein', 'Carbs']] = ['55','58']\n",
    "df1"
   ]
  }
 ],
 "metadata": {
  "accelerator": "GPU",
  "colab": {
   "name": "3. Pandas (DF Analysis).ipynb",
   "provenance": []
  },
  "kernelspec": {
   "display_name": "Python 3 (ipykernel)",
   "language": "python",
   "name": "python3"
  },
  "language_info": {
   "codemirror_mode": {
    "name": "ipython",
    "version": 3
   },
   "file_extension": ".py",
   "mimetype": "text/x-python",
   "name": "python",
   "nbconvert_exporter": "python",
   "pygments_lexer": "ipython3",
   "version": "3.11.4"
  }
 },
 "nbformat": 4,
 "nbformat_minor": 4
}
