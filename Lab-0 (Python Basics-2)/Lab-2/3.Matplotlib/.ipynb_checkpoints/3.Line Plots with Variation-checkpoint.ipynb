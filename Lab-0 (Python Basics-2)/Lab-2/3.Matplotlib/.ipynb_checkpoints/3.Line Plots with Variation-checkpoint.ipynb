{
 "cells": [
  {
   "cell_type": "markdown",
   "id": "62204238-6baa-4bdb-a309-bf1acee2a84b",
   "metadata": {},
   "source": [
    "## Matplotlib Labels, Title, Fonts, Grid and Subplots"
   ]
  },
  {
   "cell_type": "markdown",
   "id": "9bd1779c-8d8a-4fdc-b50f-5b402040e598",
   "metadata": {},
   "source": [
    "### Drawline for given points"
   ]
  },
  {
   "cell_type": "code",
   "execution_count": null,
   "id": "7145cecf-aa19-4bdc-88d8-5e17796b3c9d",
   "metadata": {},
   "outputs": [],
   "source": [
    "import numpy as np\n",
    "import matplotlib.pyplot as plt"
   ]
  },
  {
   "cell_type": "code",
   "execution_count": null,
   "id": "76aa7e2a-80ca-4191-a8fe-09e32507ae76",
   "metadata": {},
   "outputs": [],
   "source": [
    "# Add labels to the x- and y-axis:\n",
    "x = np.array([80, 85, 90, 95, 100, 105, 110, 115, 120, 125])\n",
    "y = np.array([240, 250, 260, 270, 280, 290, 300, 310, 320, 330])\n",
    "\n",
    "plt.plot(x, y)\n",
    "\n",
    "#plt.xlabel(\"Average Pulse\")\n",
    "#plt.ylabel(\"Calorie Burnage\")\n",
    "\n",
    "plt.show()"
   ]
  },
  {
   "cell_type": "markdown",
   "id": "8f934d04-1067-42ae-9b38-defc77ef853a",
   "metadata": {},
   "source": [
    "### Create Labels for a Plot\n",
    "- With Pyplot, you can use the xlabel() and ylabel() functions to set a label for the x- and y-axis."
   ]
  },
  {
   "cell_type": "code",
   "execution_count": null,
   "id": "1b4940bf-3670-4b6e-8d05-96ef57fee4d3",
   "metadata": {},
   "outputs": [],
   "source": [
    "# Add labels to the x- and y-axis:\n",
    "x = np.array([80, 85, 90, 95, 100, 105, 110, 115, 120, 125])\n",
    "y = np.array([240, 250, 260, 270, 280, 290, 300, 310, 320, 330])\n",
    "\n",
    "plt.plot(x, y)\n",
    "\n",
    "plt.xlabel(\"Average Pulse\")\n",
    "plt.ylabel(\"Calorie Burnage\")\n",
    "plt.title(\"Sports Watch Data\")\n",
    "\n",
    "plt.show()"
   ]
  },
  {
   "cell_type": "markdown",
   "id": "100f90a6-a095-49be-a4e5-3b077c50f993",
   "metadata": {},
   "source": [
    "### Set Font Properties for Title and Labels\n",
    "- You can use the fontdict parameter in xlabel(), ylabel(), and title() to set font properties for the title and labels."
   ]
  },
  {
   "cell_type": "code",
   "execution_count": null,
   "id": "c48a6c06-e016-4f34-80db-767d3af9c1ab",
   "metadata": {},
   "outputs": [],
   "source": [
    "# Set font properties for the title and labels:\n",
    "\n",
    "x = np.array([80, 85, 90, 95, 100, 105, 110, 115, 120, 125])\n",
    "y = np.array([240, 250, 260, 270, 280, 290, 300, 310, 320, 330])\n",
    "\n",
    "font1 = {'family':'serif','color':'blue','size':20}\n",
    "font2 = {'family':'serif','color':'darkred','size':15}\n",
    "\n",
    "plt.title(\"Sports Watch Data\", fontdict = font1)\n",
    "plt.xlabel(\"Average Pulse\", fontdict = font2)\n",
    "plt.ylabel(\"Calorie Burnage\", fontdict = font2)\n",
    "\n",
    "plt.plot(x, y)\n",
    "plt.show()"
   ]
  },
  {
   "cell_type": "markdown",
   "id": "e34d64aa-248f-46bb-b705-06874bc6ac4e",
   "metadata": {},
   "source": [
    "### Position the Title\n",
    "- You can use the loc parameter in title() to position the title.\n",
    "- Legal values are: 'left', 'right', and 'center'. Default value is 'center'."
   ]
  },
  {
   "cell_type": "code",
   "execution_count": null,
   "id": "e4a54923-0e8c-4635-ad08-473f12a67536",
   "metadata": {},
   "outputs": [],
   "source": [
    "# Position the title to the left:\n",
    "\n",
    "x = np.array([80, 85, 90, 95, 100, 105, 110, 115, 120, 125])\n",
    "y = np.array([240, 250, 260, 270, 280, 290, 300, 310, 320, 330])\n",
    "\n",
    "plt.title(\"Sports Watch Data\", loc = 'left')\n",
    "plt.xlabel(\"Average Pulse\")\n",
    "plt.ylabel(\"Calorie Burnage\")\n",
    "\n",
    "plt.plot(x, y)\n",
    "plt.show()"
   ]
  },
  {
   "cell_type": "markdown",
   "id": "15bc5a4a-34fc-4331-a041-97c23bd10995",
   "metadata": {},
   "source": [
    "### Add Grid Lines to a Plot\n",
    "- With Pyplot, you can use the grid() function to add grid lines to the plot."
   ]
  },
  {
   "cell_type": "code",
   "execution_count": null,
   "id": "f652cf4f-44f6-4906-9681-772d846a62f7",
   "metadata": {},
   "outputs": [],
   "source": [
    "# Add grid lines to the plot:\n",
    "x = np.array([80, 85, 90, 95, 100, 105, 110, 115, 120, 125])\n",
    "y = np.array([240, 250, 260, 270, 280, 290, 300, 310, 320, 330])\n",
    "\n",
    "plt.title(\"Sports Watch Data\")\n",
    "plt.xlabel(\"Average Pulse\")\n",
    "plt.ylabel(\"Calorie Burnage\")\n",
    "\n",
    "plt.plot(x, y)\n",
    "\n",
    "plt.grid()\n",
    "\n",
    "plt.show()"
   ]
  },
  {
   "cell_type": "markdown",
   "id": "47147bf0-b181-480a-a4e7-06e869056fff",
   "metadata": {},
   "source": [
    "### Specify Which Grid Lines to Display\n",
    "- You can use the axis parameter in the grid() function to specify which grid lines to display.\n",
    "- Legal values are: 'x', 'y', and 'both'. Default value is 'both'."
   ]
  },
  {
   "cell_type": "code",
   "execution_count": null,
   "id": "52d75057-31f9-4bb3-a72b-8dd5a8250fd5",
   "metadata": {},
   "outputs": [],
   "source": [
    "# Display only grid lines for the x-axis:\n",
    "\n",
    "x = np.array([80, 85, 90, 95, 100, 105, 110, 115, 120, 125])\n",
    "y = np.array([240, 250, 260, 270, 280, 290, 300, 310, 320, 330])\n",
    "\n",
    "plt.title(\"Sports Watch Data\")\n",
    "plt.xlabel(\"Average Pulse\")\n",
    "plt.ylabel(\"Calorie Burnage\")\n",
    "\n",
    "plt.plot(x, y)\n",
    "\n",
    "plt.grid(axis = 'x')\n",
    "\n",
    "plt.show()"
   ]
  },
  {
   "cell_type": "code",
   "execution_count": null,
   "id": "81453f7a-44a1-4938-8d3f-9186ba54eb6e",
   "metadata": {},
   "outputs": [],
   "source": [
    "## Display only grid lines for the y-axis:\n",
    "\n",
    "x = np.array([80, 85, 90, 95, 100, 105, 110, 115, 120, 125])\n",
    "y = np.array([240, 250, 260, 270, 280, 290, 300, 310, 320, 330])\n",
    "\n",
    "plt.title(\"Sports Watch Data\")\n",
    "plt.xlabel(\"Average Pulse\")\n",
    "plt.ylabel(\"Calorie Burnage\")\n",
    "\n",
    "plt.plot(x, y)\n",
    "\n",
    "plt.grid(axis = 'y')\n",
    "\n",
    "plt.show()"
   ]
  },
  {
   "cell_type": "markdown",
   "id": "0a862d2d-6dd1-4da3-83f9-5adac09eade7",
   "metadata": {},
   "source": [
    "### Set Line Properties for the Grid\n",
    "- You can also set the line properties of the grid, like this: grid(color = 'color', linestyle = 'linestyle', linewidth = number)."
   ]
  },
  {
   "cell_type": "code",
   "execution_count": null,
   "id": "f2983f23-4a20-480e-9b80-90814fda78f3",
   "metadata": {},
   "outputs": [],
   "source": [
    "# Set the line properties of the grid:\n",
    "\n",
    "x = np.array([80, 85, 90, 95, 100, 105, 110, 115, 120, 125])\n",
    "y = np.array([240, 250, 260, 270, 280, 290, 300, 310, 320, 330])\n",
    "\n",
    "plt.title(\"Sports Watch Data\")\n",
    "plt.xlabel(\"Average Pulse\")\n",
    "plt.ylabel(\"Calorie Burnage\")\n",
    "\n",
    "plt.plot(x, y)\n",
    "\n",
    "plt.grid(color = 'green', linestyle = '--', linewidth = 0.5)\n",
    "\n",
    "plt.show()"
   ]
  },
  {
   "cell_type": "markdown",
   "id": "80e3c11e-95dc-4004-8750-10b53a265e5d",
   "metadata": {},
   "source": [
    "### Display Multiple Plots\n",
    "- With the subplot() function you can draw multiple plots in one figure:"
   ]
  },
  {
   "cell_type": "markdown",
   "id": "33516bd4-dd6e-44b9-a784-cc76bc08afa4",
   "metadata": {},
   "source": [
    "#### The subplot() Function\n",
    "- The subplot() function takes three arguments that describes the layout of the figure.\n",
    "- The layout is organized in rows and columns, which are represented by the first and second argument.\n",
    "- The third argument represents the index of the current plot.\n",
    "- plt.subplot(1, 2, 1) #the figure has 1 row, 2 columns, and this plot is the first plot.\n",
    "- plt.subplot(1, 2, 2) #the figure has 1 row, 2 columns, and this plot is the second plot.\n",
    "- plt.subplot(2, 1, 1) #the figure has 2 row, 1 columns, and this plot is the first plot.\r",
    "- \n",
    "plt.subplot21,12, 2) #the figure has21 row,12 columns, and this plot is the second plot."
   ]
  },
  {
   "cell_type": "code",
   "execution_count": null,
   "id": "51df12c0-7044-4c3e-a9d7-b464a3c6d088",
   "metadata": {},
   "outputs": [],
   "source": [
    "#Draw 2 plots in Leaft and Right:\n",
    "\n",
    "#plot 1:\n",
    "x = np.array([0, 1, 2, 3])\n",
    "y = np.array([3, 8, 1, 10])\n",
    "\n",
    "plt.subplot(1, 2, 1)\n",
    "plt.plot(x,y)\n",
    "\n",
    "\n",
    "#plot 2:\n",
    "x = np.array([0, 1, 2, 3])\n",
    "y = np.array([10, 20, 30, 40])\n",
    "\n",
    "plt.subplot(1, 2, 2)\n",
    "plt.plot(x,y)\n",
    "\n",
    "\n",
    "plt.show()"
   ]
  },
  {
   "cell_type": "code",
   "execution_count": null,
   "id": "5886facd-9f5d-4d75-a09a-0a6afa4a4670",
   "metadata": {},
   "outputs": [],
   "source": [
    "# Draw 2 plots on top of each other:\n",
    "\n",
    "#plot 1:\n",
    "x = np.array([0, 1, 2, 3])\n",
    "y = np.array([3, 8, 1, 10])\n",
    "\n",
    "plt.subplot(2, 1, 1)\n",
    "plt.plot(x,y)\n",
    "\n",
    "#plot 2:\n",
    "x = np.array([0, 1, 2, 3])\n",
    "y = np.array([10, 20, 30, 40])\n",
    "\n",
    "plt.subplot(2, 1, 2)\n",
    "plt.plot(x,y)\n",
    "\n",
    "plt.show()"
   ]
  },
  {
   "cell_type": "code",
   "execution_count": null,
   "id": "8c75cf3b-babd-46d5-926d-094e14b7d93d",
   "metadata": {},
   "outputs": [],
   "source": [
    "# Draw 6 plots:\n",
    "\n",
    "x = np.array([0, 1, 2, 3])\n",
    "y = np.array([3, 8, 1, 10])\n",
    "\n",
    "plt.subplot(2, 3, 1)\n",
    "plt.plot(x,y)\n",
    "\n",
    "x = np.array([0, 1, 2, 3])\n",
    "y = np.array([10, 20, 30, 40])\n",
    "\n",
    "plt.subplot(2, 3, 2)\n",
    "plt.plot(x,y)\n",
    "\n",
    "x = np.array([0, 1, 2, 3])\n",
    "y = np.array([3, 8, 1, 10])\n",
    "\n",
    "plt.subplot(2, 3, 3)\n",
    "plt.plot(x,y)\n",
    "\n",
    "x = np.array([0, 1, 2, 3])\n",
    "y = np.array([10, 20, 30, 40])\n",
    "\n",
    "plt.subplot(2, 3, 4)\n",
    "plt.plot(x,y)\n",
    "\n",
    "x = np.array([0, 1, 2, 3])\n",
    "y = np.array([3, 8, 1, 10])\n",
    "\n",
    "plt.subplot(2, 3, 5)\n",
    "plt.plot(x,y)\n",
    "\n",
    "x = np.array([0, 1, 2, 3])\n",
    "y = np.array([10, 20, 30, 40])\n",
    "\n",
    "plt.subplot(2, 3, 6)\n",
    "plt.plot(x,y)\n",
    "\n",
    "plt.show()"
   ]
  },
  {
   "cell_type": "markdown",
   "id": "66585e0f-ab1b-46d6-b0e5-9637975abeec",
   "metadata": {},
   "source": [
    "### Title and Super Title\n",
    "- You can add a title to each plot with the title() function\n",
    "- You can add a title to the entire figure with the suptitle() function"
   ]
  },
  {
   "cell_type": "code",
   "execution_count": null,
   "id": "289cc713-55be-4190-acc0-291b83b33399",
   "metadata": {},
   "outputs": [],
   "source": [
    "# Add a title and Supertitle for the entire figure:\n",
    "\n",
    "#plot 1:\n",
    "x = np.array([0, 1, 2, 3])\n",
    "y = np.array([3, 8, 1, 10])\n",
    "\n",
    "plt.subplot(1, 2, 1)\n",
    "plt.plot(x,y)\n",
    "plt.title(\"SALES\")\n",
    "\n",
    "#plot 2:\n",
    "x = np.array([0, 1, 2, 3])\n",
    "y = np.array([10, 20, 30, 40])\n",
    "\n",
    "plt.subplot(1, 2, 2)\n",
    "plt.plot(x,y)\n",
    "plt.title(\"INCOME\")\n",
    "\n",
    "plt.suptitle(\"MY SHOP\")\n",
    "plt.show()"
   ]
  },
  {
   "cell_type": "code",
   "execution_count": null,
   "id": "9392a2c1-6e03-4b49-8e44-faa44be092f9",
   "metadata": {},
   "outputs": [],
   "source": []
  }
 ],
 "metadata": {
  "kernelspec": {
   "display_name": "Python 3 (ipykernel)",
   "language": "python",
   "name": "python3"
  },
  "language_info": {
   "codemirror_mode": {
    "name": "ipython",
    "version": 3
   },
   "file_extension": ".py",
   "mimetype": "text/x-python",
   "name": "python",
   "nbconvert_exporter": "python",
   "pygments_lexer": "ipython3",
   "version": "3.11.4"
  }
 },
 "nbformat": 4,
 "nbformat_minor": 5
}
