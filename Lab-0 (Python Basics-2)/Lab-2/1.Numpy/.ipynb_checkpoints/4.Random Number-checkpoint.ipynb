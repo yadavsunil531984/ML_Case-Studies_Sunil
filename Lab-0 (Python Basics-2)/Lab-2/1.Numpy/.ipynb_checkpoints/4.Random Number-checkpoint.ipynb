{
 "cells": [
  {
   "cell_type": "markdown",
   "id": "5ed1cd08-aa42-4aeb-aa02-04052606866c",
   "metadata": {},
   "source": [
    "## Random Numbers in NumPy"
   ]
  },
  {
   "cell_type": "markdown",
   "id": "d16c5866-e02f-473b-bd80-219c903100cf",
   "metadata": {},
   "source": [
    "### What is a Random Number?\n",
    "- Random number does NOT mean a different number every time. Random means something that can not be predicted logically.\n",
    "\n",
    "### Pseudo Random \n",
    "- Random numbers generated through a generation algorithm are called pseudo random."
   ]
  },
  {
   "cell_type": "code",
   "execution_count": null,
   "id": "91e84b35-ea87-404a-86cf-5b4f437af4e8",
   "metadata": {},
   "outputs": [],
   "source": [
    "import numpy as np"
   ]
  },
  {
   "cell_type": "code",
   "execution_count": null,
   "id": "1d5605a7-b95c-4411-ab29-ca0e1a7cf81d",
   "metadata": {},
   "outputs": [],
   "source": [
    "from numpy import random"
   ]
  },
  {
   "cell_type": "code",
   "execution_count": null,
   "id": "65eeceef-249a-4b0b-8855-98cc706dcbb3",
   "metadata": {},
   "outputs": [],
   "source": [
    "# Generate a random integer from 0 to 100:\n",
    "x = random.randint(100)\n",
    "print(x)"
   ]
  },
  {
   "cell_type": "code",
   "execution_count": null,
   "id": "0339ab9b-ba89-4531-8cee-1d0f20c37616",
   "metadata": {},
   "outputs": [],
   "source": [
    "# Generate a random float from 0 to 1:\n",
    "x = random.rand()\n",
    "print(x)"
   ]
  },
  {
   "cell_type": "markdown",
   "id": "3694017f-c64e-43fd-bddf-8b71e0ac8e55",
   "metadata": {},
   "source": [
    "### Generate Random Array\n",
    "- In NumPy we work with arrays, and you can use the two methods from the above examples to make random arrays."
   ]
  },
  {
   "cell_type": "code",
   "execution_count": null,
   "id": "0818ff58-577d-4242-95b5-9283e97695a8",
   "metadata": {},
   "outputs": [],
   "source": [
    "# Generate a 1-D array containing 5 random integers from 0 to 100:\n",
    "x=random.randint(100, size=(5))\n",
    "print(x)"
   ]
  },
  {
   "cell_type": "code",
   "execution_count": null,
   "id": "9692dd55-0762-432e-b2a4-349afbad8d15",
   "metadata": {},
   "outputs": [],
   "source": [
    "# Generate a 2-D array with 3 rows, each row containing 5 random integers from 0 to 100:\n",
    "x = random.randint(100, size=(3, 5))\n",
    "print(x)"
   ]
  },
  {
   "cell_type": "code",
   "execution_count": null,
   "id": "618ccf87-f8d6-4079-be7a-54e54e0e38b1",
   "metadata": {},
   "outputs": [],
   "source": [
    "# Generate a 1-D array containing 5 random floats:\n",
    "x = random.rand(5)\n",
    "print(x)"
   ]
  },
  {
   "cell_type": "code",
   "execution_count": null,
   "id": "82c0ec07-f1d9-428f-8218-10bdf23c0c4d",
   "metadata": {},
   "outputs": [],
   "source": [
    "# Generate a 2-D array with 3 rows, each row containing 5 random numbers:\n",
    "x = random.rand(3, 5)\n",
    "print(x)"
   ]
  },
  {
   "cell_type": "markdown",
   "id": "77ffd4f6-b5c2-467b-9aba-6359a6a71dfe",
   "metadata": {},
   "source": [
    "### Generate Random Number From Array\n",
    "- The choice() method allows you to generate a random value based on an array of values.\r",
    "- \r\n",
    "The choice() method takes an array as a parameter and randomly returns one of the values."
   ]
  },
  {
   "cell_type": "code",
   "execution_count": null,
   "id": "d347bd32-e795-4f35-82e5-d90e1f7bc0cf",
   "metadata": {},
   "outputs": [],
   "source": [
    "# Return one of the values in an array:\n",
    "x = random.choice([3, 5, 7, 9])\n",
    "print(x)"
   ]
  },
  {
   "cell_type": "code",
   "execution_count": null,
   "id": "d411c328-4d5e-497a-ab0e-b5eb05dd047b",
   "metadata": {},
   "outputs": [],
   "source": [
    "# Generate a 2-D array that consists of the values in the array parameter (3, 5, 7, and 9):\n",
    "x = random.choice([3, 5, 7, 9], size=(3, 5))\n",
    "print(x)"
   ]
  },
  {
   "cell_type": "markdown",
   "id": "97daa20e-ffaf-4164-874d-efb5a6e62838",
   "metadata": {},
   "source": [
    "## Random Data Distribution"
   ]
  },
  {
   "cell_type": "markdown",
   "id": "56b17f4b-4211-449d-8846-e5177be3873f",
   "metadata": {},
   "source": [
    "### What is Data Distribution?\n",
    "- Data Distribution is a list of all possible values, and how often each value occurs.\n",
    "- Such lists are important when working with statistics and data science.\n",
    "- The random module offer methods that returns randomly generated data distributions."
   ]
  },
  {
   "cell_type": "markdown",
   "id": "02ff112c-d152-4b7b-9c8d-f40da1a8a446",
   "metadata": {},
   "source": [
    "### Random Distribution\n",
    "- A random distribution is a set of random numbers that follow a certain probability density function.\n",
    "- We can generate random numbers based on defined probabilities using the choice() method of the random module.\n",
    "- The choice() method allows us to specify the probability for each value.\n",
    "- The probability is set by a number between 0 and 1, where 0 means that the value will never occur and 1 means that the value will always occur.\n",
    "- The sum of all probability numbers should be 1."
   ]
  },
  {
   "cell_type": "markdown",
   "id": "1eeecdd8-bac0-4bd0-9a63-b95717404cf3",
   "metadata": {},
   "source": [
    "#### Generate a 1-D array containing 100 values, where each value has to be 3, 5, 7 or 9.\n",
    "- The probability for the value to be 3 is set to be 0.1\n",
    "- The probability for the value to be 5 is set to be 0.3\n",
    "- The probability for the value to be 7 is set to be 0.6\n",
    "- The probability for the value to be 9 is set to be 0"
   ]
  },
  {
   "cell_type": "code",
   "execution_count": null,
   "id": "c6d8b737-5810-4889-a3f5-d27de5df897d",
   "metadata": {},
   "outputs": [],
   "source": [
    "x = random.choice([3, 5, 7, 9], p=[0.1, 0.3, 0.6, 0.0], size=(100))\n",
    "print(x)"
   ]
  },
  {
   "cell_type": "markdown",
   "id": "1697a8af-488e-4042-98f5-c3d1e73c1ede",
   "metadata": {},
   "source": [
    "## Shuffling Arrays"
   ]
  },
  {
   "cell_type": "code",
   "execution_count": null,
   "id": "d87fd840-8a7c-4f7c-822b-9f83c51d3ea1",
   "metadata": {},
   "outputs": [],
   "source": [
    "# Randomly shuffle elements of following array:\n",
    "arr = np.array([1, 2, 3, 4, 5])\n",
    "random.shuffle(arr)\n",
    "print(arr)"
   ]
  },
  {
   "cell_type": "code",
   "execution_count": null,
   "id": "fff58a4d-1785-47e8-b938-722226d3f3ba",
   "metadata": {},
   "outputs": [],
   "source": []
  }
 ],
 "metadata": {
  "kernelspec": {
   "display_name": "Python 3 (ipykernel)",
   "language": "python",
   "name": "python3"
  },
  "language_info": {
   "codemirror_mode": {
    "name": "ipython",
    "version": 3
   },
   "file_extension": ".py",
   "mimetype": "text/x-python",
   "name": "python",
   "nbconvert_exporter": "python",
   "pygments_lexer": "ipython3",
   "version": "3.11.4"
  }
 },
 "nbformat": 4,
 "nbformat_minor": 5
}
