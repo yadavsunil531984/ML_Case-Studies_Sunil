{
 "cells": [
  {
   "cell_type": "markdown",
   "id": "b6687516-fd84-45eb-a378-828407ccda57",
   "metadata": {},
   "source": [
    "## Visualize Distributions With Seaborn\n",
    "- Seaborn is a library that uses Matplotlib underneath to plot graphs. It will be used to visualize random distributions.\n",
    " ### Install Seaborn\n",
    " - !pip install seaborn"
   ]
  },
  {
   "cell_type": "code",
   "execution_count": null,
   "id": "af9b2652-9877-48f2-8c2c-8f21877c814c",
   "metadata": {},
   "outputs": [],
   "source": [
    "!pip install seaborn"
   ]
  },
  {
   "cell_type": "markdown",
   "id": "10ad0a0a-31d5-46e2-803c-5abfdf21b3ba",
   "metadata": {},
   "source": [
    "### Distplots\n",
    "- Distplot stands for distribution plot, it takes as input an array and plots a curve corresponding to the distribution of points in the array."
   ]
  },
  {
   "cell_type": "markdown",
   "id": "313f8511-7385-4e60-a423-1301aed6f65b",
   "metadata": {},
   "source": [
    "#### Plotting a Distplot"
   ]
  },
  {
   "cell_type": "code",
   "execution_count": null,
   "id": "cb06b77b-ca49-4bbd-945c-38fb07d42d4b",
   "metadata": {},
   "outputs": [],
   "source": [
    "import seaborn as sns\n",
    "import matplotlib.pyplot as plt"
   ]
  },
  {
   "cell_type": "code",
   "execution_count": null,
   "id": "4948a055-d240-4edb-9ee5-814d96b42460",
   "metadata": {},
   "outputs": [],
   "source": [
    "sns.distplot([0, 1, 2, 3, 4, 5])\n",
    "plt.show()"
   ]
  },
  {
   "cell_type": "markdown",
   "id": "79b72d84-d418-471b-82de-46632309b24f",
   "metadata": {},
   "source": [
    "#### Plotting a Distplot Without the Histogram"
   ]
  },
  {
   "cell_type": "code",
   "execution_count": null,
   "id": "fb302bb0-7b1d-4972-a458-3c3f88520192",
   "metadata": {},
   "outputs": [],
   "source": [
    "sns.distplot([0, 1, 2, 3, 4, 5], hist=False)\n",
    "plt.show()"
   ]
  },
  {
   "cell_type": "markdown",
   "id": "d817b461-64cb-407a-b258-32c5e180da59",
   "metadata": {},
   "source": [
    "## Normal (Gaussian) Distribution"
   ]
  },
  {
   "cell_type": "markdown",
   "id": "59d1d935-b7a8-49d1-b84f-6ac6a6f27cdb",
   "metadata": {},
   "source": [
    "### Normal Distribution\n",
    "- The Normal Distribution is one of the most important distributions.\n",
    "- It is also called the Gaussian Distribution after the German mathematician Carl Friedrich Gauss.\n",
    "- It fits the probability distribution of many events, eg. IQ Scores, Heartbeat etc.\n",
    "- Use the random.normal() method to get a Normal Data Distribution.\n",
    "- It has three parameters:\n",
    "1) loc - (Mean) where the peak of the bell exists.\n",
    "2) scale - (Standard Deviation) how flat the graph distribution should be.\n",
    "3) size - The shape of the returned array."
   ]
  },
  {
   "cell_type": "code",
   "execution_count": null,
   "id": "b21bb035-ef69-40a6-95c6-da9be2261a64",
   "metadata": {},
   "outputs": [],
   "source": [
    "from numpy import random"
   ]
  },
  {
   "cell_type": "code",
   "execution_count": null,
   "id": "7811bf76-6751-4215-aeaa-2d4f70734b18",
   "metadata": {},
   "outputs": [],
   "source": [
    "# Generate a random normal distribution of size 2x3:\n",
    "x = random.normal(size=(2, 3))\n",
    "print(x)"
   ]
  },
  {
   "cell_type": "code",
   "execution_count": null,
   "id": "550125b1-5e7e-43d0-9bcf-ebd833e78d97",
   "metadata": {},
   "outputs": [],
   "source": [
    "# Generate a random normal distribution of size 2x3 with mean at 1 and standard deviation of 2:\n",
    "x = random.normal(loc=1, scale=2, size=(2, 3))\n",
    "print(x)"
   ]
  },
  {
   "cell_type": "markdown",
   "id": "b602806c-503a-41db-addc-fe87cfbd0e23",
   "metadata": {},
   "source": [
    "### Visualization of Normal Distribution"
   ]
  },
  {
   "cell_type": "code",
   "execution_count": null,
   "id": "f2456b3a-e62d-484f-9bc2-8f29937da958",
   "metadata": {},
   "outputs": [],
   "source": [
    "import matplotlib.pyplot as plt\n",
    "import seaborn as sns"
   ]
  },
  {
   "cell_type": "code",
   "execution_count": null,
   "id": "290f7cec-fc9c-4f07-a87b-dfea0420c531",
   "metadata": {},
   "outputs": [],
   "source": [
    "sns.distplot(random.normal(size=1000), hist=False)\n",
    "plt.show()"
   ]
  },
  {
   "cell_type": "markdown",
   "id": "ab477288-e08b-4d18-9ba3-61a430f8caf5",
   "metadata": {},
   "source": [
    "## Binomial Distribution"
   ]
  },
  {
   "cell_type": "markdown",
   "id": "1ee49729-6dfc-4113-a17f-21be0bdaa8b9",
   "metadata": {},
   "source": [
    "### Binomial Distribution\n",
    "- Binomial Distribution is a Discrete Distribution.\n",
    "- It describes the outcome of binary scenarios, e.g. toss of a coin, it will either be head or tails.\n",
    "- It has three parameters:\n",
    "1) n - number of trials.\n",
    "2) p - probability of occurence of each trial (e.g. for toss of a coin 0.5 each).\n",
    "3) size - The shape of the returned array."
   ]
  },
  {
   "cell_type": "code",
   "execution_count": null,
   "id": "ee0b381c-68c5-4488-b5b7-bc4533293ad7",
   "metadata": {},
   "outputs": [],
   "source": [
    "# Given 10 trials for coin toss generate 10 data points:\n",
    "x = random.binomial(n=10, p=0.5, size=10)\n",
    "print(x)"
   ]
  },
  {
   "cell_type": "code",
   "execution_count": null,
   "id": "94b39f1e-4e04-4aaf-8908-c957d8184119",
   "metadata": {},
   "outputs": [],
   "source": [
    "from numpy import random\n",
    "import matplotlib.pyplot as plt\n",
    "import seaborn as sns\n",
    "\n",
    "sns.distplot(random.binomial(n=10, p=0.5, size=1000), hist=True, kde=False)\n",
    "\n",
    "plt.show()"
   ]
  },
  {
   "cell_type": "markdown",
   "id": "13e71d49-09c5-453d-864e-91115587cc34",
   "metadata": {},
   "source": [
    "## Poisson Distribution"
   ]
  },
  {
   "cell_type": "markdown",
   "id": "94915349-6a1c-4d68-a502-5c44b79c1bd9",
   "metadata": {},
   "source": [
    "### Poisson Distribution\n",
    "- Poisson Distribution is a Discrete Distribution.\n",
    "- It estimates how many times an event can happen in a specified time. e.g. If someone eats twice a day what is the probability he will eat thrice?\n",
    "- It has two parameters:\n",
    "1) lam - rate or known number of occurrences e.g. 2 for above problem.\n",
    "2) size - The shape of the returned array."
   ]
  },
  {
   "cell_type": "code",
   "execution_count": null,
   "id": "d6432bb6-e398-4b2f-be6b-76d47c899098",
   "metadata": {},
   "outputs": [],
   "source": [
    "# Generate a random 1x10 distribution for occurrence 2:\n",
    "x = random.poisson(lam=2, size=10)\n",
    "print(x)"
   ]
  },
  {
   "cell_type": "code",
   "execution_count": null,
   "id": "7f3f7a18-ebbe-474d-87d7-68d29f268426",
   "metadata": {},
   "outputs": [],
   "source": [
    "from numpy import random\n",
    "import matplotlib.pyplot as plt\n",
    "import seaborn as sns\n",
    "\n",
    "sns.distplot(random.poisson(lam=2, size=1000), kde=False)\n",
    "\n",
    "plt.show()"
   ]
  },
  {
   "cell_type": "markdown",
   "id": "c468b4fd-ded0-4645-8dd1-9d84de865c52",
   "metadata": {},
   "source": [
    "## Logistic Distribution"
   ]
  },
  {
   "cell_type": "markdown",
   "id": "3fcd2af7-30ce-4922-8781-a8c13435db3b",
   "metadata": {},
   "source": [
    "### Logistic Distribution\n",
    "- Logistic Distribution is used to describe growth.\n",
    "- Used extensively in machine learning in logistic regression, neural networks etc.\n",
    "- It has three parameters:\n",
    "1) loc - mean, where the peak is. Default 0.\n",
    "2) scale - standard deviation, the flatness of distribution. Default 1.\n",
    "3) size - The shape of the returned array."
   ]
  },
  {
   "cell_type": "code",
   "execution_count": null,
   "id": "eca31786-b6e5-47cc-98fd-e6b6dfd31f66",
   "metadata": {},
   "outputs": [],
   "source": [
    "# Draw 2x3 samples from a logistic distribution with mean at 1 and stddev 2.0:\n",
    "\n",
    "from numpy import random\n",
    "\n",
    "x = random.logistic(loc=1, scale=2, size=(2, 3))\n",
    "\n",
    "print(x)"
   ]
  },
  {
   "cell_type": "code",
   "execution_count": null,
   "id": "db43faaa-f923-43f7-94a8-92f17915cc29",
   "metadata": {},
   "outputs": [],
   "source": [
    "sns.distplot(random.logistic(size=1000), hist=False)\n",
    "plt.show()"
   ]
  },
  {
   "cell_type": "code",
   "execution_count": null,
   "id": "9481d521-632a-4e94-a475-6b993cf9c9d7",
   "metadata": {},
   "outputs": [],
   "source": []
  }
 ],
 "metadata": {
  "kernelspec": {
   "display_name": "Python 3 (ipykernel)",
   "language": "python",
   "name": "python3"
  },
  "language_info": {
   "codemirror_mode": {
    "name": "ipython",
    "version": 3
   },
   "file_extension": ".py",
   "mimetype": "text/x-python",
   "name": "python",
   "nbconvert_exporter": "python",
   "pygments_lexer": "ipython3",
   "version": "3.11.4"
  }
 },
 "nbformat": 4,
 "nbformat_minor": 5
}
