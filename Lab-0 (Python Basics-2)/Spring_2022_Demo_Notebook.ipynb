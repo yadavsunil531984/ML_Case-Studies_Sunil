{
 "cells": [
  {
   "cell_type": "markdown",
   "metadata": {},
   "source": [
    "# CS229 Spring 2022 Python Tutorial"
   ]
  },
  {
   "cell_type": "markdown",
   "metadata": {},
   "source": [
    "Some contents are inspired by [CS231N Python tutorial notebook](https://colab.research.google.com/github/cs231n/cs231n.github.io/blob/master/python-colab.ipynb#scrollTo=9t1gKp9PL9eV)\n",
    "\n",
    "In this tutorial we cover\n",
    "\n",
    "* [Basic Python](#Basic-Python)\n",
    "   * [If Statement](#If-Statement)\n",
    "   * [Python Operators](#Python-Operators)\n",
    "   * [Loops](#Loop)\n",
    "   * [Functions](#Function)\n",
    "* [Simple python data type](#Simple-Python-data-types)\n",
    "   * [String](#String)\n",
    "   * [List](#List)\n",
    "   * [Tuple](#Tuple)\n",
    "   * [Set/Dictionary](#Dictionary/Set)\n",
    "* [Numpy](#Numpy)\n",
    "   * [Array (matrix) initialization](#Array-initialization)\n",
    "   * [Shape](#Array-shape)\n",
    "   * [Math with numpy](#Numpy-math)\n",
    "* [Dimension manipulation and broadcasting](#Broadcasting-and-dimension-manipulation)\n",
    "    * [Tile](#Tile)\n",
    "    * [Squeeze/expand_dims](#Expand/Squeeze)\n",
    "    * [Example: compute pairwise distance](#Pairwise-distance)\n",
    "* [Vectorization](#Vectorization)\n",
    "    * [Example: dot product](#Dot-product)\n",
    "    * [Exmaple: 2d matrix multiplication](#Matrix-multiplication-(2D))\n",
    "    * [Exmaple: pairwise distance, again](#Pairwise-distance,-again)\n",
    "* [Plotting](#Matplotlib)\n",
    "    * [Simple plotting (line, scatter)](#Simple-plotting)\n",
    "    * [Confusion matrix](#Confusion-matrix)\n",
    "    * [Show images](#Show-image)\n",
    "* [Pandas](#Pandas)\n",
    "    * [Load/Save](#File-operations)\n",
    "    * [Manipulations](#Manipulations)\n",
    "    * [Create from scratch](#Create-dataframe)\n",
    "    * [Plotting](#Simple-plotting)"
   ]
  },
  {
   "cell_type": "markdown",
   "metadata": {},
   "source": [
    "## Basic Python"
   ]
  },
  {
   "cell_type": "markdown",
   "metadata": {},
   "source": [
    "### If Statement"
   ]
  },
  {
   "cell_type": "code",
   "execution_count": null,
   "metadata": {},
   "outputs": [],
   "source": [
    "code = 230"
   ]
  },
  {
   "cell_type": "code",
   "execution_count": null,
   "metadata": {},
   "outputs": [],
   "source": [
    "if code == 229:\n",
    "    print('Hello CS229!')\n",
    "elif code == 230:\n",
    "    print('That\\'s deep learning!')\n",
    "elif code < 200:\n",
    "    print('That is some undergraduate class')\n",
    "else:\n",
    "    print('Wrong class!')"
   ]
  },
  {
   "cell_type": "markdown",
   "metadata": {},
   "source": [
    "Python doesn't have \"switch\" statement."
   ]
  },
  {
   "cell_type": "markdown",
   "metadata": {},
   "source": [
    "### Python Operators\n",
    "\n",
    "**Logical operators**"
   ]
  },
  {
   "cell_type": "code",
   "execution_count": null,
   "metadata": {},
   "outputs": [],
   "source": [
    "true = True\n",
    "false = False"
   ]
  },
  {
   "cell_type": "code",
   "execution_count": null,
   "metadata": {},
   "outputs": [],
   "source": [
    "if true:\n",
    "    print(\"It's true!\") \n",
    "\n",
    "if not false:\n",
    "    print(\"It's still true!\")\n",
    "    \n",
    "if true and not false:\n",
    "    print(\"Anyhow, it's true!\")\n",
    "    \n",
    "if false or not true:\n",
    "    print(\"True?\")\n",
    "    \n",
    "else:\n",
    "    print(\"Okay, it's false now....\")\n",
    "    "
   ]
  },
  {
   "cell_type": "markdown",
   "metadata": {},
   "source": [
    "**&, | and ~ are all bitwise operators**\n",
    "\n",
    "^ means bitwise XOR in Python."
   ]
  },
  {
   "cell_type": "markdown",
   "metadata": {},
   "source": [
    "**Arithmetic operators**"
   ]
  },
  {
   "cell_type": "code",
   "execution_count": null,
   "metadata": {},
   "outputs": [],
   "source": [
    "print(5 / 2) # floating number division\n",
    "print(5 % 2) # remainder\n",
    "print(5 ** 2) # exponentiation\n",
    "print(5 // 2) # integer division"
   ]
  },
  {
   "cell_type": "markdown",
   "metadata": {},
   "source": [
    "### Loop\n",
    "\n",
    "We typically use *range* and *enumerate* for iterations. You can loop over all iterables."
   ]
  },
  {
   "cell_type": "code",
   "execution_count": null,
   "metadata": {},
   "outputs": [],
   "source": [
    "for i in range(5):\n",
    "    print(i)"
   ]
  },
  {
   "cell_type": "code",
   "execution_count": null,
   "metadata": {},
   "outputs": [],
   "source": [
    "a = 5\n",
    "while a > 0:\n",
    "    print(a)\n",
    "    a -= 1"
   ]
  },
  {
   "cell_type": "markdown",
   "metadata": {},
   "source": [
    "Python doesn't have command like \"a++\" or \"a--\"."
   ]
  },
  {
   "cell_type": "markdown",
   "metadata": {},
   "source": [
    "### Function\n",
    "\n",
    "Python functions can take default arguments, they have to be at the end. Be VERY careful because forgetting that you have default argument can prevent you from debugging effectively."
   ]
  },
  {
   "cell_type": "code",
   "execution_count": null,
   "metadata": {},
   "outputs": [],
   "source": [
    "def power(v, p=2):\n",
    "    return v ** p # How to return multiple values?\n",
    "\n",
    "print(power(10))\n",
    "print(power(10, 3))"
   ]
  },
  {
   "cell_type": "markdown",
   "metadata": {},
   "source": [
    "Functions can support extra arguments. You can pass them on to another function, or make use of these directly.\n",
    "\n",
    "- args: variable number of non-keyworded arguments\n",
    "- kwargs: variable number of keyworded arguments"
   ]
  },
  {
   "cell_type": "code",
   "execution_count": null,
   "metadata": {},
   "outputs": [],
   "source": [
    "def func2(*args, **kwargs):\n",
    "    print(args)\n",
    "    print(kwargs)\n",
    "    "
   ]
  },
  {
   "cell_type": "code",
   "execution_count": null,
   "metadata": {},
   "outputs": [],
   "source": [
    "def func1(v, *args, **kwargs):\n",
    "    \n",
    "    func2(*args, **kwargs)\n",
    "    \n",
    "    if 'power' in kwargs:\n",
    "        return v ** kwargs['power']\n",
    "    else:\n",
    "        return v\n",
    "\n",
    "print(func1(10, 'extra 1', 'extra 2', power=3))\n",
    "print('--------------')\n",
    "print(func1(10, 5))"
   ]
  },
  {
   "cell_type": "markdown",
   "metadata": {},
   "source": [
    "**Good practice:**\n",
    "- write out argument name and their value"
   ]
  },
  {
   "cell_type": "markdown",
   "metadata": {},
   "source": [
    "## Simple Python data types"
   ]
  },
  {
   "cell_type": "markdown",
   "metadata": {},
   "source": [
    "### String\n",
    "See Python documentation [here](https://docs.python.org/3/library/string.html)"
   ]
  },
  {
   "cell_type": "code",
   "execution_count": null,
   "metadata": {},
   "outputs": [],
   "source": [
    "cs_class_code = 229"
   ]
  },
  {
   "cell_type": "code",
   "execution_count": null,
   "metadata": {},
   "outputs": [],
   "source": [
    "# Concatenation\n",
    "\n",
    "print('I like CS ' + str(cs_class_code) + ' a lot!')\n",
    "print(f'I like CS {cs_class_code} a lot!')"
   ]
  },
  {
   "cell_type": "code",
   "execution_count": null,
   "metadata": {},
   "outputs": [],
   "source": [
    "# Formatting\n",
    "\n",
    "print('I love CS229. (upper)'.upper())\n",
    "print('I love CS229. (rjust 50)'.rjust(50))\n",
    "print('we love CS229. (capitalize)'.capitalize())\n",
    "print('       I love CS229. (strip)        '.strip())"
   ]
  },
  {
   "cell_type": "markdown",
   "metadata": {},
   "source": [
    "\"f\"-string (f for formatting?) is new since Python 3.6. Embed values using { }"
   ]
  },
  {
   "cell_type": "code",
   "execution_count": null,
   "metadata": {},
   "outputs": [],
   "source": [
    "print(f'{print} (print a function)')\n",
    "print(f'{type(229)} (print a type)')"
   ]
  },
  {
   "cell_type": "markdown",
   "metadata": {},
   "source": [
    "For reference, here is how people used to do things. Or you want more control."
   ]
  },
  {
   "cell_type": "code",
   "execution_count": null,
   "metadata": {},
   "outputs": [],
   "source": [
    "print('Old school formatting: {2}, {1}, {0:10.2F}'.format(1.358, 'b', 'c'))\n",
    "# Fill in order of 2, 1, 0. For the decimal number, fix at length of 10, round to 2 decimal places"
   ]
  },
  {
   "cell_type": "markdown",
   "metadata": {},
   "source": [
    "### List\n",
    "In general, data structure documentations can be found [here](https://docs.python.org/3/tutorial/datastructures.html)"
   ]
  },
  {
   "cell_type": "code",
   "execution_count": null,
   "metadata": {},
   "outputs": [],
   "source": [
    "list_1 = ['one', 'two', 'three']\n",
    "list_2 = [1, 2, 3]"
   ]
  },
  {
   "cell_type": "code",
   "execution_count": null,
   "metadata": {},
   "outputs": [],
   "source": [
    "print(list_1)\n",
    "print(list_2)"
   ]
  },
  {
   "cell_type": "code",
   "execution_count": null,
   "metadata": {},
   "outputs": [],
   "source": [
    "list_2.append(4)"
   ]
  },
  {
   "cell_type": "code",
   "execution_count": null,
   "metadata": {},
   "outputs": [],
   "source": [
    "list_2"
   ]
  },
  {
   "cell_type": "code",
   "execution_count": null,
   "metadata": {},
   "outputs": [],
   "source": [
    "list_2.insert(0, 'ZERO')"
   ]
  },
  {
   "cell_type": "code",
   "execution_count": null,
   "metadata": {},
   "outputs": [],
   "source": [
    "list_2 # if you go back to the previous cell and run print(list_2) again, what will you see?"
   ]
  },
  {
   "cell_type": "markdown",
   "metadata": {},
   "source": [
    "List extension is just addition"
   ]
  },
  {
   "cell_type": "code",
   "execution_count": null,
   "metadata": {},
   "outputs": [],
   "source": [
    "print(list_1 + list_2)\n",
    "\n",
    "list_1_temp = ['a', 'b']\n",
    "list_1_temp.extend(list_2)\n",
    "\n",
    "print(list_1_temp)"
   ]
  },
  {
   "cell_type": "markdown",
   "metadata": {},
   "source": [
    "But be VERY careful when you multiply a list!!"
   ]
  },
  {
   "cell_type": "code",
   "execution_count": null,
   "metadata": {},
   "outputs": [],
   "source": [
    "print(list_1 * 3 + list_2)\n",
    "print([list_1] * 3 + list_2)"
   ]
  },
  {
   "cell_type": "markdown",
   "metadata": {},
   "source": [
    "**pprint** is your friend"
   ]
  },
  {
   "cell_type": "code",
   "execution_count": 2,
   "metadata": {},
   "outputs": [],
   "source": [
    "import pprint as pp"
   ]
  },
  {
   "cell_type": "code",
   "execution_count": null,
   "metadata": {},
   "outputs": [],
   "source": [
    "pp.pprint([list_1] * 5 + list_2)\n",
    "pp.pprint([list_1] * 2 + [list_2] * 3)"
   ]
  },
  {
   "cell_type": "markdown",
   "metadata": {},
   "source": [
    "**List comprehension can save a lot of lines**"
   ]
  },
  {
   "cell_type": "code",
   "execution_count": null,
   "metadata": {},
   "outputs": [],
   "source": [
    "long_list = [i for i in range(9)]\n",
    "long_long_list = [(i, j) for i in range(3) for j in range(5)]\n",
    "long_list_list = [[i for i in range(3)] for _ in range(5)]\n",
    "\n",
    "pp.pprint(long_list)\n",
    "pp.pprint(long_long_list)\n",
    "pp.pprint(long_list_list)"
   ]
  },
  {
   "cell_type": "markdown",
   "metadata": {},
   "source": [
    "List is **iterable**!"
   ]
  },
  {
   "cell_type": "code",
   "execution_count": null,
   "metadata": {},
   "outputs": [],
   "source": [
    "string_list = ['a', 'b', 'c']"
   ]
  },
  {
   "cell_type": "code",
   "execution_count": null,
   "metadata": {},
   "outputs": [],
   "source": [
    "for s in string_list:\n",
    "    print(s)"
   ]
  },
  {
   "cell_type": "code",
   "execution_count": null,
   "metadata": {},
   "outputs": [],
   "source": [
    "for i, s in enumerate(string_list):\n",
    "    print(f'{i}, {s}')"
   ]
  },
  {
   "cell_type": "markdown",
   "metadata": {},
   "source": [
    "Slicing. With numpy array (covered layter), you can do this to multi-dimensional ones as well."
   ]
  },
  {
   "cell_type": "code",
   "execution_count": null,
   "metadata": {},
   "outputs": [],
   "source": [
    "print(long_list[:5])\n",
    "print(long_list[:-1])\n",
    "print(long_list[4:-1])\n",
    "\n",
    "long_list[3:5] = [-1, -2]\n",
    "print(long_list)\n",
    "\n",
    "long_list.pop()\n",
    "print(long_list)"
   ]
  },
  {
   "cell_type": "markdown",
   "metadata": {},
   "source": [
    "Sorting a list (but remember that sorting can be costly). Documentation for sorting is [here](https://docs.python.org/3/howto/sorting.html)"
   ]
  },
  {
   "cell_type": "code",
   "execution_count": null,
   "metadata": {},
   "outputs": [],
   "source": [
    "random_list = [3, 12, 5, 6, 8, 2]\n",
    "print(sorted(random_list))\n",
    "\n",
    "random_list_2 = [(3, 'z'), (12, 'r'), (5, 'a'), (6, 'e'), (8, 'c'), (2, 'g')]\n",
    "print(sorted(random_list_2, key=lambda x: x[1])) # sorting using 2nd variable in tuple"
   ]
  },
  {
   "cell_type": "markdown",
   "metadata": {},
   "source": [
    "**Think first before copying** Copy by reference not by value. More about copying [here](https://docs.python.org/3/library/copy.html)"
   ]
  },
  {
   "cell_type": "code",
   "execution_count": null,
   "metadata": {},
   "outputs": [],
   "source": [
    "orig_list = [[1, 2], [3, 4]]\n",
    "dup_list = orig_list\n",
    "\n",
    "dup_list[0][1] = 'okay'\n",
    "pp.pprint(orig_list)\n",
    "pp.pprint(dup_list)"
   ]
  },
  {
   "cell_type": "code",
   "execution_count": null,
   "metadata": {},
   "outputs": [],
   "source": [
    "a = [[1, 2, 3]]*3\n",
    "b = [[1, 2, 3] for i in range(3)]\n",
    "a[0][1] = 4\n",
    "b[0][1] = 4\n",
    "print(a)\n",
    "print(b)"
   ]
  },
  {
   "cell_type": "code",
   "execution_count": null,
   "metadata": {},
   "outputs": [],
   "source": [
    "import copy"
   ]
  },
  {
   "cell_type": "code",
   "execution_count": null,
   "metadata": {},
   "outputs": [],
   "source": [
    "orig_list = [[1, 2], [3, 4]]\n",
    "dup_list = copy.deepcopy(orig_list)\n",
    "\n",
    "dup_list[0][1] = 'okay'\n",
    "pp.pprint(orig_list)\n",
    "pp.pprint(dup_list)"
   ]
  },
  {
   "cell_type": "markdown",
   "metadata": {},
   "source": [
    "### Tuple\n",
    "\n",
    "List that you **cannot** edit."
   ]
  },
  {
   "cell_type": "code",
   "execution_count": null,
   "metadata": {},
   "outputs": [],
   "source": [
    "my_tuple = (10, 20, 30)\n",
    "my_tuple[0] = 40"
   ]
  },
  {
   "cell_type": "markdown",
   "metadata": {},
   "source": [
    "Split assignment makes your code shorter (also works for list)."
   ]
  },
  {
   "cell_type": "code",
   "execution_count": null,
   "metadata": {},
   "outputs": [],
   "source": [
    "a, b, c = my_tuple\n",
    "print(f\"a={a}, b={b}, c={c}\")\n",
    "for obj in enumerate(my_tuple):\n",
    "    print(obj)"
   ]
  },
  {
   "cell_type": "markdown",
   "metadata": {},
   "source": [
    "### Dictionary/Set\n",
    "\n",
    "Again, documentation for data structure is [here](https://docs.python.org/3/tutorial/datastructures.html)"
   ]
  },
  {
   "cell_type": "code",
   "execution_count": null,
   "metadata": {},
   "outputs": [],
   "source": [
    "my_set = {i ** 2 for i in range(10)}\n",
    "print(my_set)\n",
    "\n",
    "# unordered, unique"
   ]
  },
  {
   "cell_type": "code",
   "execution_count": null,
   "metadata": {},
   "outputs": [],
   "source": [
    "my_set_temp = {i ** 2 % 5 for i in range(10)}\n",
    "print(my_set_temp)"
   ]
  },
  {
   "cell_type": "code",
   "execution_count": null,
   "metadata": {},
   "outputs": [],
   "source": [
    "my_dict = {(5 - i): i ** 2 for i in range(10)}\n",
    "\n",
    "print(my_dict)\n",
    "print(my_dict.keys())"
   ]
  },
  {
   "cell_type": "markdown",
   "metadata": {},
   "source": [
    "Updating and/or addint content to a dictionary"
   ]
  },
  {
   "cell_type": "code",
   "execution_count": null,
   "metadata": {},
   "outputs": [],
   "source": [
    "second_dict = {'a': 10, 'b': 11}\n",
    "my_dict.update(second_dict)\n",
    "\n",
    "pp.pprint(my_dict)"
   ]
  },
  {
   "cell_type": "code",
   "execution_count": null,
   "metadata": {},
   "outputs": [],
   "source": [
    "my_dict['new'] = 10\n",
    "pp.pprint(my_dict)"
   ]
  },
  {
   "cell_type": "markdown",
   "metadata": {},
   "source": [
    "Here is how to iterate through a dictionary. And remember that dictionary is NOT sorted by key value. "
   ]
  },
  {
   "cell_type": "code",
   "execution_count": null,
   "metadata": {},
   "outputs": [],
   "source": [
    "for k, it in my_dict.items(): # similar to for loop over enumerate(list)\n",
    "    print(k, it)"
   ]
  },
  {
   "cell_type": "code",
   "execution_count": null,
   "metadata": {},
   "outputs": [],
   "source": [
    "# Sorting keys by string order\n",
    "for k, it in sorted(my_dict.items(), key=lambda x: str(x[0])):\n",
    "    print(k, it)"
   ]
  },
  {
   "cell_type": "markdown",
   "metadata": {},
   "source": [
    "For *defaultdict* and sorted dictionary, see the [collections documentation](https://docs.python.org/3/library/collections.html)"
   ]
  },
  {
   "cell_type": "markdown",
   "metadata": {},
   "source": [
    "## Numpy\n",
    "\n",
    "[Numpy](https://numpy.org/) is a nice vector and matrix manipulation package."
   ]
  },
  {
   "cell_type": "code",
   "execution_count": 1,
   "metadata": {},
   "outputs": [],
   "source": [
    "import numpy as np"
   ]
  },
  {
   "cell_type": "markdown",
   "metadata": {},
   "source": [
    "### Array initialization\n",
    "\n",
    "Initialize from existing list. If type is not consistent, numpy will give you weird result."
   ]
  },
  {
   "cell_type": "code",
   "execution_count": 3,
   "metadata": {},
   "outputs": [
    {
     "name": "stdout",
     "output_type": "stream",
     "text": [
      "[1 2 3]\n",
      "\t Data type of integer is int64\n"
     ]
    }
   ],
   "source": [
    "from_list = np.array([1, 2, 3])                              \n",
    "print(from_list)\n",
    "print(f'\\t Data type of integer is {from_list.dtype}')"
   ]
  },
  {
   "cell_type": "code",
   "execution_count": 4,
   "metadata": {},
   "outputs": [
    {
     "name": "stdout",
     "output_type": "stream",
     "text": [
      "[[1. 2. 3.]\n",
      " [4. 5. 6.]]\n",
      "\t Data type of float is float64\n"
     ]
    }
   ],
   "source": [
    "from_list_2d = np.array([[1, 2, 3.0], [4, 5, 6]])\n",
    "print(from_list_2d)\n",
    "print(f'\\t Data type of float is {from_list_2d.dtype}')"
   ]
  },
  {
   "cell_type": "code",
   "execution_count": 5,
   "metadata": {},
   "outputs": [
    {
     "name": "stdout",
     "output_type": "stream",
     "text": [
      "['1' '2' '3' 'a']\n"
     ]
    }
   ],
   "source": [
    "from_list_bad_type = np.array([1, 2, 3, 'a'])\n",
    "print(from_list_bad_type)"
   ]
  },
  {
   "cell_type": "markdown",
   "metadata": {},
   "source": [
    "Initialize with ones, zeros, or as identity matrix"
   ]
  },
  {
   "cell_type": "code",
   "execution_count": 6,
   "metadata": {},
   "outputs": [
    {
     "name": "stdout",
     "output_type": "stream",
     "text": [
      "[1. 1. 1.]\n"
     ]
    }
   ],
   "source": [
    "print(np.ones(3))"
   ]
  },
  {
   "cell_type": "code",
   "execution_count": 7,
   "metadata": {},
   "outputs": [
    {
     "name": "stdout",
     "output_type": "stream",
     "text": [
      "[[1. 1. 1.]\n",
      " [1. 1. 1.]\n",
      " [1. 1. 1.]]\n"
     ]
    }
   ],
   "source": [
    "print(np.ones((3, 3)))"
   ]
  },
  {
   "cell_type": "code",
   "execution_count": 8,
   "metadata": {},
   "outputs": [
    {
     "name": "stdout",
     "output_type": "stream",
     "text": [
      "[0. 0. 0.]\n"
     ]
    }
   ],
   "source": [
    "print(np.zeros(3))"
   ]
  },
  {
   "cell_type": "code",
   "execution_count": 9,
   "metadata": {},
   "outputs": [
    {
     "name": "stdout",
     "output_type": "stream",
     "text": [
      "[[0. 0. 0.]\n",
      " [0. 0. 0.]\n",
      " [0. 0. 0.]]\n"
     ]
    }
   ],
   "source": [
    "print(np.zeros((3, 3)))"
   ]
  },
  {
   "cell_type": "code",
   "execution_count": 10,
   "metadata": {},
   "outputs": [
    {
     "name": "stdout",
     "output_type": "stream",
     "text": [
      "[[1. 0. 0.]\n",
      " [0. 1. 0.]\n",
      " [0. 0. 1.]]\n"
     ]
    }
   ],
   "source": [
    "print(np.eye(3))"
   ]
  },
  {
   "cell_type": "markdown",
   "metadata": {},
   "source": [
    "Sampling over uniform distribution on $[0, 1)$."
   ]
  },
  {
   "cell_type": "code",
   "execution_count": 11,
   "metadata": {},
   "outputs": [
    {
     "name": "stdout",
     "output_type": "stream",
     "text": [
      "[0.33176313 0.10825631 0.15604401]\n"
     ]
    }
   ],
   "source": [
    "print(np.random.random(3))"
   ]
  },
  {
   "cell_type": "code",
   "execution_count": 12,
   "metadata": {},
   "outputs": [
    {
     "name": "stdout",
     "output_type": "stream",
     "text": [
      "[[0.06157249 0.08317412]\n",
      " [0.3055828  0.42157231]]\n"
     ]
    }
   ],
   "source": [
    "print(np.random.random((2, 2)))"
   ]
  },
  {
   "cell_type": "markdown",
   "metadata": {},
   "source": [
    "Sampling over standard normal distribution."
   ]
  },
  {
   "cell_type": "code",
   "execution_count": 13,
   "metadata": {},
   "outputs": [
    {
     "name": "stdout",
     "output_type": "stream",
     "text": [
      "[[ 2.01461072  0.99905927 -0.83049305]\n",
      " [ 0.88127924 -0.54349075  1.532134  ]\n",
      " [-0.81854903  0.57232207 -0.17631202]]\n"
     ]
    }
   ],
   "source": [
    "print(np.random.randn(3, 3))"
   ]
  },
  {
   "cell_type": "markdown",
   "metadata": {},
   "source": [
    "Numpy has built-in samplers of a lot of other common (and some not so common) distributions."
   ]
  },
  {
   "cell_type": "markdown",
   "metadata": {},
   "source": [
    "### Array shape\n",
    "\n",
    "Shape/reshape and multi-dimensional arrays"
   ]
  },
  {
   "cell_type": "code",
   "execution_count": 14,
   "metadata": {},
   "outputs": [
    {
     "name": "stdout",
     "output_type": "stream",
     "text": [
      "(4,)\n",
      "(1, 4)\n",
      "(1, 4)\n",
      "8\n"
     ]
    }
   ],
   "source": [
    "array_1d = np.array([1, 2, 3, 4])\n",
    "array_1by4 = np.array([[1, 2, 3, 4]])\n",
    "array_2by4 = np.array([[1, 2, 3, 4], [5, 6, 7, 8]])\n",
    "\n",
    "print(array_1d.shape)\n",
    "print(array_1by4.shape)\n",
    "print(array_1d.reshape(-1, 4).shape)\n",
    "print(array_2by4.size) # projects: pytorch -- size similar to numpy shape"
   ]
  },
  {
   "cell_type": "code",
   "execution_count": 15,
   "metadata": {},
   "outputs": [
    {
     "name": "stdout",
     "output_type": "stream",
     "text": [
      "[  5  25  45  65  85 105 125 145 165 185 205 225 245 265 285 305 325 345\n",
      " 365 385]\n"
     ]
    }
   ],
   "source": [
    "large_array = np.array([i for i in range(400)])\n",
    "large_array = large_array.reshape((20, 20))\n",
    "\n",
    "print(large_array[:, 5])"
   ]
  },
  {
   "cell_type": "code",
   "execution_count": 16,
   "metadata": {},
   "outputs": [],
   "source": [
    "large_3d_array = np.array([i for i in range(1000)])\n",
    "large_3d_array = large_3d_array.reshape((10, 10, 10))"
   ]
  },
  {
   "cell_type": "code",
   "execution_count": 17,
   "metadata": {},
   "outputs": [
    {
     "name": "stdout",
     "output_type": "stream",
     "text": [
      "[ 11 111 211 311 411 511 611 711 811 911]\n"
     ]
    }
   ],
   "source": [
    "print(large_3d_array[:, 1, 1])"
   ]
  },
  {
   "cell_type": "code",
   "execution_count": 18,
   "metadata": {},
   "outputs": [
    {
     "name": "stdout",
     "output_type": "stream",
     "text": [
      "[201 211 221 231 241 251 261 271 281 291]\n"
     ]
    }
   ],
   "source": [
    "print(large_3d_array[2, :, 1])"
   ]
  },
  {
   "cell_type": "code",
   "execution_count": 19,
   "metadata": {},
   "outputs": [
    {
     "name": "stdout",
     "output_type": "stream",
     "text": [
      "[230 231 232 233 234 235 236 237 238 239]\n"
     ]
    }
   ],
   "source": [
    "print(large_3d_array[2, 3, :])"
   ]
  },
  {
   "cell_type": "code",
   "execution_count": 20,
   "metadata": {},
   "outputs": [
    {
     "name": "stdout",
     "output_type": "stream",
     "text": [
      "[[100 101 102 103 104 105 106 107 108 109]\n",
      " [110 111 112 113 114 115 116 117 118 119]\n",
      " [120 121 122 123 124 125 126 127 128 129]\n",
      " [130 131 132 133 134 135 136 137 138 139]\n",
      " [140 141 142 143 144 145 146 147 148 149]\n",
      " [150 151 152 153 154 155 156 157 158 159]\n",
      " [160 161 162 163 164 165 166 167 168 169]\n",
      " [170 171 172 173 174 175 176 177 178 179]\n",
      " [180 181 182 183 184 185 186 187 188 189]\n",
      " [190 191 192 193 194 195 196 197 198 199]]\n"
     ]
    }
   ],
   "source": [
    "print(large_3d_array[1, :, :])"
   ]
  },
  {
   "cell_type": "markdown",
   "metadata": {},
   "source": [
    "Think about the **order** you need before using reshape."
   ]
  },
  {
   "cell_type": "code",
   "execution_count": null,
   "metadata": {},
   "outputs": [],
   "source": [
    "small_array = np.arange(4)"
   ]
  },
  {
   "cell_type": "code",
   "execution_count": null,
   "metadata": {},
   "outputs": [],
   "source": [
    "print(np.reshape(small_array, (2, 2), order='C')) # Default order"
   ]
  },
  {
   "cell_type": "code",
   "execution_count": null,
   "metadata": {},
   "outputs": [],
   "source": [
    "print(np.reshape(small_array, (2, 2), order='F'))"
   ]
  },
  {
   "cell_type": "markdown",
   "metadata": {},
   "source": [
    "### Numpy math\n",
    "\n",
    "This also works for sin, cos, tanh, etc."
   ]
  },
  {
   "cell_type": "code",
   "execution_count": null,
   "metadata": {},
   "outputs": [],
   "source": [
    "array_1 = np.array([1, 2, 3, 4])\n",
    "\n",
    "# element wise operations!!\n",
    "\n",
    "print(array_1 + 5)\n",
    "print(array_1 * 5)\n",
    "print(np.sqrt(array_1))\n",
    "print(np.power(array_1, 2))\n",
    "print(np.exp(array_1))\n",
    "print(np.log(array_1))"
   ]
  },
  {
   "cell_type": "markdown",
   "metadata": {},
   "source": [
    "For sum, mean, avg, std, var, etc, you can perform the operation on set axis."
   ]
  },
  {
   "cell_type": "code",
   "execution_count": null,
   "metadata": {},
   "outputs": [],
   "source": [
    "array_2d = np.array([[1, 2, 3], [4, 5, 6], [7, 8, 9]])\n",
    "\n",
    "pp.pprint(array_2d)\n",
    "print(f'shape={array_2d.shape}')\n",
    "print(np.sum(array_2d))\n",
    "print(np.sum(array_2d, axis=0))\n",
    "print(np.sum(array_2d, axis=1))"
   ]
  },
  {
   "cell_type": "code",
   "execution_count": null,
   "metadata": {},
   "outputs": [],
   "source": [
    "array_3d = np.array([i for i in range(8)]).reshape((2, 2, 2))\n",
    "pp.pprint(array_3d)\n",
    "\n",
    "print(np.sum(array_3d, axis=0))\n",
    "print(np.sum(array_3d, axis=1))\n",
    "print(np.sum(array_3d, axis=(1, 2)))"
   ]
  },
  {
   "cell_type": "markdown",
   "metadata": {},
   "source": [
    "Numpy tend to do things element-wise. But be **VERY CAREFUL** when dimensions don't match. We will cover this in broadcasting. Actuall just be careful with dimension of arrays in general."
   ]
  },
  {
   "cell_type": "code",
   "execution_count": null,
   "metadata": {},
   "outputs": [],
   "source": [
    "array_1 = np.array([1, 2, 3, 4])\n",
    "array_2 = np.array([3, 4, 5, 6])"
   ]
  },
  {
   "cell_type": "code",
   "execution_count": null,
   "metadata": {},
   "outputs": [],
   "source": [
    "print(array_1 * array_2) # element wise multiplication"
   ]
  },
  {
   "cell_type": "code",
   "execution_count": null,
   "metadata": {},
   "outputs": [],
   "source": [
    "# same as np.multiply"
   ]
  },
  {
   "cell_type": "code",
   "execution_count": null,
   "metadata": {},
   "outputs": [],
   "source": [
    "print(np.multiply(array_1, array_2))"
   ]
  },
  {
   "cell_type": "code",
   "execution_count": null,
   "metadata": {},
   "outputs": [],
   "source": [
    "print(array_2.reshape(4, -1))"
   ]
  },
  {
   "cell_type": "code",
   "execution_count": null,
   "metadata": {},
   "outputs": [],
   "source": [
    "print(array_2.shape)\n",
    "print(array_2.reshape(4, -1).shape)"
   ]
  },
  {
   "cell_type": "code",
   "execution_count": null,
   "metadata": {},
   "outputs": [],
   "source": [
    "print(array_1 * array_2.reshape(4, -1)) # Come back to this later"
   ]
  },
  {
   "cell_type": "markdown",
   "metadata": {},
   "source": [
    "Dot product can be done in multiple ways"
   ]
  },
  {
   "cell_type": "code",
   "execution_count": null,
   "metadata": {},
   "outputs": [],
   "source": [
    "# element wise multiplication --> sum \n",
    "print(np.sum(array_1 * array_2)) "
   ]
  },
  {
   "cell_type": "code",
   "execution_count": null,
   "metadata": {},
   "outputs": [],
   "source": [
    "print(array_1.dot(array_2))"
   ]
  },
  {
   "cell_type": "code",
   "execution_count": null,
   "metadata": {},
   "outputs": [],
   "source": [
    "print(np.dot(array_1, array_2))"
   ]
  },
  {
   "cell_type": "code",
   "execution_count": null,
   "metadata": {},
   "outputs": [],
   "source": [
    "print(array_1 @ array_2) # equivavlent to np.matmul(array_1, array_2)"
   ]
  },
  {
   "cell_type": "code",
   "execution_count": null,
   "metadata": {},
   "outputs": [],
   "source": [
    "print(array_1.shape)"
   ]
  },
  {
   "cell_type": "markdown",
   "metadata": {},
   "source": [
    "Here, you can't dot when the dimensions are incorrect. *But* it did not complain just now. Check the shapes!"
   ]
  },
  {
   "cell_type": "code",
   "execution_count": null,
   "metadata": {},
   "outputs": [],
   "source": [
    "array_1 = np.array([[1, 2, 3, 4]])\n",
    "array_2 = np.array([[3, 4, 5, 6]])\n",
    "\n",
    "print(array_1.shape)\n",
    "print(array_2.shape)\n",
    "\n",
    "print(array_1 * array_2)\n",
    "print(array_1.dot(array_2))"
   ]
  },
  {
   "cell_type": "markdown",
   "metadata": {},
   "source": [
    "With proper handling of shapes, things work. Also, dot is just matrix multiplication. But behaves differently in higher dimensions!!\n",
    "You might just want to write matrix multiply to keep things consistent and be SURE that you have the correct shapes."
   ]
  },
  {
   "cell_type": "code",
   "execution_count": null,
   "metadata": {},
   "outputs": [],
   "source": [
    "# T for transpose\n",
    "\n",
    "print(array_1.dot(array_2.T)) # inner product\n",
    "print(array_1.T.dot(array_2)) # outer product"
   ]
  },
  {
   "cell_type": "code",
   "execution_count": null,
   "metadata": {},
   "outputs": [],
   "source": [
    "print(np.matmul(array_1, array_2.T)) # inner product\n",
    "print(np.matmul(array_1.T, array_2)) # outer product"
   ]
  },
  {
   "cell_type": "code",
   "execution_count": null,
   "metadata": {},
   "outputs": [],
   "source": [
    "weight_matrix = np.array([1, 2, 3, 4]).reshape(2, 2)\n",
    "sample = np.array([[50, 60]]).T\n",
    "\n",
    "np.matmul(weight_matrix, sample)"
   ]
  },
  {
   "cell_type": "code",
   "execution_count": null,
   "metadata": {},
   "outputs": [],
   "source": [
    "# sanity check\n",
    "print(weight_matrix.shape)\n",
    "print(sample.shape)"
   ]
  },
  {
   "cell_type": "markdown",
   "metadata": {},
   "source": [
    "And of course, we typically use matmul for 2D matrix multiplications. For dim>3, Numpy treats it as a stack of matrices. See [Matmul documentation](https://docs.scipy.org/doc/numpy/reference/generated/numpy.matmul.html)"
   ]
  },
  {
   "cell_type": "code",
   "execution_count": null,
   "metadata": {},
   "outputs": [],
   "source": [
    "mat1 = np.array([[1, 2], [3, 4]])\n",
    "mat2 = np.array([[5, 6], [7, 8]])\n",
    "\n",
    "print(np.matmul(mat1, mat2))"
   ]
  },
  {
   "cell_type": "markdown",
   "metadata": {},
   "source": [
    "Notice that np.multiply is element-wise multiplication. NOT proper matrix multiplicatio."
   ]
  },
  {
   "cell_type": "code",
   "execution_count": null,
   "metadata": {},
   "outputs": [],
   "source": [
    "a = np.array([i for i in range(10)]).reshape(2, 5)\n",
    "\n",
    "print(a * a)\n",
    "print(np.multiply(a, a))\n",
    "print(np.multiply(a, 10))"
   ]
  },
  {
   "cell_type": "markdown",
   "metadata": {},
   "source": [
    "## Broadcasting and dimension manipulation\n",
    "\n",
    "Numpy has capability to perform operations on arrays with different shapes, inferring/expanding dimension as needed. Taking examples from [Scipy's documentaiton on numpy](https://docs.scipy.org/doc/numpy/user/basics.broadcasting.html), some examples can be \n",
    "\n",
    "```\n",
    "A      (4d array):  8 x 1 x 6 x 1\n",
    "B      (3d array):      7 x 1 x 5\n",
    "Result (4d array):  8 x 7 x 6 x 5\n",
    "\n",
    "A      (2d array):  5 x 4\n",
    "B      (1d array):      1\n",
    "Result (2d array):  5 x 4\n",
    "\n",
    "A      (2d array):  5 x 4\n",
    "B      (1d array):      4\n",
    "Result (2d array):  5 x 4\n",
    "\n",
    "A      (3d array):  15 x 3 x 5\n",
    "B      (3d array):  15 x 1 x 5\n",
    "Result (3d array):  15 x 3 x 5\n",
    "\n",
    "A      (3d array):  15 x 3 x 5\n",
    "B      (2d array):       3 x 5\n",
    "Result (3d array):  15 x 3 x 5\n",
    "\n",
    "A      (3d array):  15 x 3 x 5\n",
    "B      (2d array):       3 x 1\n",
    "Result (3d array):  15 x 3 x 5\n",
    "```\n",
    "\n",
    "Essentially all dimensions of size 1 can be \"over-looked\" or \"expanded\" to match dimension from another operator. But the order of such must be matched. Dimension of size 1 is only prepended, not appended. For example, the following would not work, though you might think we can add another dimension at the end of B.\n",
    "\n",
    "```\n",
    "A      (3d array):  15 x 3 x 5\n",
    "B      (2d array):       1 x 3\n",
    "Result (3d array):  15 x 3 x 5\n",
    "```"
   ]
  },
  {
   "cell_type": "code",
   "execution_count": 6,
   "metadata": {},
   "outputs": [
    {
     "name": "stdout",
     "output_type": "stream",
     "text": [
      "array([[0, 1, 2],\n",
      "       [3, 4, 5],\n",
      "       [6, 7, 8]])\n",
      "array([[1, 2, 3]])\n"
     ]
    }
   ],
   "source": [
    "op1 = np.array([i for i in range(9)]).reshape(3, 3)\n",
    "op2 = np.array([[1, 2, 3]])\n",
    "op3 = np.array([1, 2, 3])\n",
    "\n",
    "pp.pprint(op1)\n",
    "pp.pprint(op2)"
   ]
  },
  {
   "cell_type": "code",
   "execution_count": null,
   "metadata": {},
   "outputs": [],
   "source": [
    "op1 = np.array([i for i in range(9)]).reshape(3, 3)\n",
    "op2 = np.array([[1, 2, 3]])\n",
    "op3 = np.array([1, 2, 3])\n",
    "\n",
    "pp.pprint(op1)\n",
    "pp.pprint(op2)"
   ]
  },
  {
   "cell_type": "code",
   "execution_count": 7,
   "metadata": {},
   "outputs": [
    {
     "name": "stdout",
     "output_type": "stream",
     "text": [
      "(3, 3)\n",
      "(1, 3)\n",
      "(3, 1)\n",
      "array([[ 1,  3,  5],\n",
      "       [ 4,  6,  8],\n",
      "       [ 7,  9, 11]])\n",
      "array([[ 1,  2,  3],\n",
      "       [ 5,  6,  7],\n",
      "       [ 9, 10, 11]])\n"
     ]
    }
   ],
   "source": [
    "# Notice that the result here is DIFFERENT!\n",
    "print(op1.shape)\n",
    "print(op2.shape)\n",
    "print(op2.T.shape)\n",
    "pp.pprint(op1 + op2)\n",
    "pp.pprint(op1 + op2.T)"
   ]
  },
  {
   "cell_type": "code",
   "execution_count": 8,
   "metadata": {},
   "outputs": [
    {
     "name": "stdout",
     "output_type": "stream",
     "text": [
      "(3,)\n",
      "(3,)\n",
      "array([[ 1,  3,  5],\n",
      "       [ 4,  6,  8],\n",
      "       [ 7,  9, 11]])\n",
      "array([[ 1,  3,  5],\n",
      "       [ 4,  6,  8],\n",
      "       [ 7,  9, 11]])\n"
     ]
    }
   ],
   "source": [
    "# Notice that the result here are THE SAME!\n",
    "print(op3.shape)\n",
    "print(op3.T.shape)\n",
    "pp.pprint(op1 + op3)\n",
    "pp.pprint(op1 + op3.T)"
   ]
  },
  {
   "cell_type": "markdown",
   "metadata": {},
   "source": [
    "Here, broadcasting won't work for 15 x 3 x 5 with 1 x 3. Because dimensions are only prepended.\n",
    "\n",
    "But it WILL work for 15 x 3 x 5 with 3 x 1."
   ]
  },
  {
   "cell_type": "code",
   "execution_count": null,
   "metadata": {
    "scrolled": true
   },
   "outputs": [],
   "source": [
    "op1 = np.array([i for i in range(225)]).reshape(15, 3, 5)\n",
    "op2 = np.array([[1, 2, 3]])\n",
    "\n",
    "# This does not work\n",
    "# print(op1 + op2)\n",
    "\n",
    "# This works\n",
    "print(op1 + op2.T)\n",
    "\n",
    "# BTW you can contract the cells by clicking on the left"
   ]
  },
  {
   "cell_type": "markdown",
   "metadata": {},
   "source": [
    "### Tile\n",
    "\n",
    "Treat broadcasting as tilling the lower dimensional array to suit the size of the \"more complex\" array."
   ]
  },
  {
   "cell_type": "code",
   "execution_count": null,
   "metadata": {},
   "outputs": [],
   "source": [
    "array = np.array([1, 2, 3])\n",
    "\n",
    "# np.tile(array, shape)\n",
    "print(np.tile(array, 2))\n",
    "print(np.tile(array, (2, 3)))"
   ]
  },
  {
   "cell_type": "markdown",
   "metadata": {},
   "source": [
    "Observe how, with transpose, the tiled result is different. Op2 originally has shape 1 x 3, so\n",
    "\n",
    "Tiling it (1 x 5) means tiling 2nd dimension 5 times, yielding (1 x 15)\n",
    "\n",
    "Tiling the *transpose*, thus 3 x 1, by (1 x 5) means tiling 2nd dimension 5 times, yielding (3 x 5)"
   ]
  },
  {
   "cell_type": "code",
   "execution_count": null,
   "metadata": {},
   "outputs": [],
   "source": [
    "op1 = np.array([i for i in range(225)]).reshape(15, 3, 5)\n",
    "op2 = np.array([[1, 2, 3]])\n",
    "\n",
    "op_tiled= np.tile(op2, (1, 5))\n",
    "print(op_tiled.shape)\n",
    "\n",
    "op_tiled= np.tile(op2.T, (1, 5))\n",
    "print(op_tiled.shape)"
   ]
  },
  {
   "cell_type": "markdown",
   "metadata": {},
   "source": [
    "### Expand/Squeeze\n",
    "\n",
    "Add a dimension of size 1 or remove dimension of size 1. Here we massage op2 (shape=(1, 3)) to shape of (15, 3, 5)"
   ]
  },
  {
   "cell_type": "code",
   "execution_count": null,
   "metadata": {},
   "outputs": [],
   "source": [
    "op_expanded = np.expand_dims(op2, axis=2)\n",
    "print(op_expanded.shape)\n",
    "\n",
    "op_tiled_2 = np.tile(op_expanded, (15, 1, 5))\n",
    "print(op_tiled_2.shape)"
   ]
  },
  {
   "cell_type": "markdown",
   "metadata": {},
   "source": [
    "Same effect with np.newaxis"
   ]
  },
  {
   "cell_type": "code",
   "execution_count": null,
   "metadata": {},
   "outputs": [],
   "source": [
    "op3 = np.array([i for i in range(9)]).reshape(3, 3)\n",
    "\n",
    "op_na = op3[np.newaxis, :]\n",
    "print(op_na)\n",
    "print(op_na.shape)\n",
    "\n",
    "op_na2 = op3[:, np.newaxis, :]\n",
    "print(op_na2)\n",
    "print(op_na2.shape)"
   ]
  },
  {
   "cell_type": "markdown",
   "metadata": {},
   "source": [
    "Squeeze removes size 1 dimensions"
   ]
  },
  {
   "cell_type": "code",
   "execution_count": null,
   "metadata": {},
   "outputs": [],
   "source": [
    "print(op_expanded)\n",
    "print(op_expanded.shape)\n",
    "\n",
    "op_squeezed = np.squeeze(op_expanded)\n",
    "\n",
    "print(op_squeezed)"
   ]
  },
  {
   "cell_type": "markdown",
   "metadata": {},
   "source": [
    "### Pairwise distance\n",
    "\n",
    "Here are 3 ways to compute pairwise distances.\n",
    "* \"Naive\" method through tile expansion\n",
    "* Convert the tile/expansion to broadcasting\n",
    "* Scipy one line"
   ]
  },
  {
   "cell_type": "code",
   "execution_count": null,
   "metadata": {},
   "outputs": [],
   "source": [
    "samples = np.random.random((15, 5))\n",
    "print(samples.shape)\n",
    "print(samples)"
   ]
  },
  {
   "cell_type": "code",
   "execution_count": null,
   "metadata": {},
   "outputs": [],
   "source": [
    "# Without broadcasting\n",
    "expanded1 = np.expand_dims(samples, axis=1)\n",
    "tile1 = np.tile(expanded1, (1, samples.shape[0], 1))\n",
    "#print(expanded1.shape)\n",
    "#print(tile1.shape)\n",
    "#print(tile1)\n",
    "\n",
    "expanded2 = np.expand_dims(samples, axis=0)\n",
    "tile2 = np.tile(expanded2, (samples.shape[0], 1 ,1))\n",
    "#print(expanded2.shape)\n",
    "#print(tile2.shape)\n",
    "#print(tile2)\n",
    "\n",
    "diff = tile2 - tile1\n",
    "distances = np.linalg.norm(diff, axis=-1)\n",
    "# print(distances)\n",
    "print(np.mean(distances))"
   ]
  },
  {
   "cell_type": "code",
   "execution_count": null,
   "metadata": {},
   "outputs": [],
   "source": [
    "# With broadcasting\n",
    "diff = samples[: ,np.newaxis, :] - samples[np.newaxis, :, :]\n",
    "distances = np.linalg.norm(diff, axis=-1)\n",
    "# print(distances)\n",
    "print(np.mean(distances))"
   ]
  },
  {
   "cell_type": "code",
   "execution_count": null,
   "metadata": {},
   "outputs": [],
   "source": [
    "# With scipy\n",
    "import scipy.spatial\n",
    "distances = scipy.spatial.distance.cdist(samples, samples)\n",
    "# print(distances)\n",
    "# print(len(distances))\n",
    "print(np.mean(distances))"
   ]
  },
  {
   "cell_type": "markdown",
   "metadata": {},
   "source": [
    "## Vectorization\n",
    "\n",
    "tqdm is a nice package for you to track progress, or just kill time."
   ]
  },
  {
   "cell_type": "code",
   "execution_count": null,
   "metadata": {},
   "outputs": [],
   "source": [
    "import time # time.time() gets wall time, time.clock() gets processor time\n",
    "from tqdm import tqdm"
   ]
  },
  {
   "cell_type": "markdown",
   "metadata": {},
   "source": [
    "### Dot Product\n",
    "\n",
    "Numpy is 25 times faster than loops here."
   ]
  },
  {
   "cell_type": "code",
   "execution_count": null,
   "metadata": {},
   "outputs": [],
   "source": [
    "a = np.random.random(500000)\n",
    "b = np.random.random(500000)\n",
    "\n",
    "p_tic = time.perf_counter()\n",
    "tic = time.time()\n",
    "\n",
    "dot = 0.0;\n",
    "for i in tqdm(range(len(a))):\n",
    "    dot += a[i] * b[i]\n",
    "\n",
    "print(dot)\n",
    "\n",
    "toc = time.time()\n",
    "p_toc = time.perf_counter()\n",
    "\n",
    "print(f'Result: {dot}');\n",
    "print(f'Compute time (wall): {round(1000 * (toc - tic), 6)}ms')\n",
    "print(f'Compute time (cpu) : {round(1000 * (p_toc - p_tic), 6)}ms\\n')\n",
    "\n",
    "#####################################################################\n",
    "\n",
    "p_tic = time.perf_counter()\n",
    "tic = time.time()\n",
    "\n",
    "print(np.array(a).dot(np.array(b)))\n",
    "\n",
    "toc = time.time()\n",
    "p_toc = time.perf_counter()\n",
    "\n",
    "print(f'(vectorized) Result: {dot}');\n",
    "print(f'(vectorized) Compute time: {round(1000 * (toc - tic), 6)}ms')\n",
    "print(f'(vectorized) Compute time (cpu) : {round(1000 * (p_toc - p_tic), 6)}ms')"
   ]
  },
  {
   "cell_type": "markdown",
   "metadata": {},
   "source": [
    "### Matrix muliplication (2D)\n",
    "\n",
    "Numpy is more than TWO THOUSAND times faster than loops here.\n",
    "\n",
    "Matrix multiplication is a *O(n^3)* complexity operation if implemented naively."
   ]
  },
  {
   "cell_type": "code",
   "execution_count": null,
   "metadata": {},
   "outputs": [],
   "source": [
    "def matrix_mul(X, Y):\n",
    "    # iterate through rows of X\n",
    "    for i in range(len(X)):\n",
    "        # iterate through columns of Y\n",
    "        for j in range(len(Y[0])):\n",
    "            # iterate through rows of Y\n",
    "            for k in range(len(Y)):\n",
    "                result[i][j] += X[i][k] * Y[k][j]\n",
    "    return result"
   ]
  },
  {
   "cell_type": "code",
   "execution_count": null,
   "metadata": {},
   "outputs": [],
   "source": [
    "X = np.random.random((200, 200))\n",
    "Y = np.random.random((200, 200))\n",
    "\n",
    "result = np.zeros((200, 200))\n",
    "\n",
    "p_tic = time.perf_counter()\n",
    "tic = time.time()\n",
    "\n",
    "# iterate through rows of X\n",
    "for i in tqdm(range(len(X))):\n",
    "    # iterate through columns of Y\n",
    "    for j in range(len(Y[0])):\n",
    "        # iterate through rows of Y\n",
    "        for k in range(len(Y)):\n",
    "            result[i][j] += X[i][k] * Y[k][j]\n",
    "\n",
    "s = np.sum(result)\n",
    "\n",
    "toc = time.time()\n",
    "p_toc = time.perf_counter()\n",
    "\n",
    "print(f'Result: {s}');\n",
    "print(f'Compute time (wall): {round(1000 * (toc - tic), 6)}ms')\n",
    "print(f'Compute time (cpu) : {round(1000 * (p_toc - p_tic), 6)}ms\\n')\n",
    "\n",
    "#####################################################################\n",
    "\n",
    "p_tic = time.perf_counter()\n",
    "tic = time.time()\n",
    "\n",
    "result = np.matmul(X, Y)\n",
    "s = np.sum(result)\n",
    "\n",
    "toc = time.time()\n",
    "p_toc = time.perf_counter()\n",
    "\n",
    "print(f'(vectorized) Result: {s}');\n",
    "print(f'(vectorized) Compute time: {round(1000 * (toc - tic), 6)}ms')\n",
    "print(f'(vectorized) Compute time (cpu) : {round(1000 * (p_toc - p_tic), 6)}ms')"
   ]
  },
  {
   "cell_type": "markdown",
   "metadata": {},
   "source": [
    "### Pairwise distance, again\n",
    "\n",
    "Again, numpy is 30 times faster"
   ]
  },
  {
   "cell_type": "code",
   "execution_count": null,
   "metadata": {},
   "outputs": [],
   "source": [
    "samples = np.random.random((100, 5))\n",
    "\n",
    "p_tic = time.perf_counter()\n",
    "tic = time.time()\n",
    "\n",
    "total_dist = []\n",
    "for s1 in samples:\n",
    "    for s2 in samples:\n",
    "        d = np.linalg.norm(s1 - s2)\n",
    "        total_dist.append(d)\n",
    "        \n",
    "avg_dist = np.mean(total_dist)\n",
    "\n",
    "toc = time.time()\n",
    "p_toc = time.perf_counter()\n",
    "\n",
    "print(f'Result: {avg_dist}');\n",
    "print(f'Compute time (wall): {round(1000 * (toc - tic), 6)}ms')\n",
    "print(f'Compute time (cpu) : {round(1000 * (p_toc - p_tic), 6)}ms\\n')\n",
    "\n",
    "\n",
    "#####################################################################\n",
    "\n",
    "p_tic = time.perf_counter()\n",
    "tic = time.time()\n",
    "\n",
    "diff = samples[: ,np.newaxis, :] - samples[np.newaxis, :, :]\n",
    "distances = np.linalg.norm(diff, axis=-1)\n",
    "avg_dist = np.mean(distances)\n",
    "\n",
    "toc = time.time()\n",
    "p_toc = time.perf_counter()\n",
    "\n",
    "print(f'Result: {avg_dist}');\n",
    "print(f'Compute time (wall): {round(1000 * (toc - tic), 6)}ms')\n",
    "print(f'Compute time (cpu) : {round(1000 * (p_toc - p_tic), 6)}ms\\n')"
   ]
  },
  {
   "cell_type": "markdown",
   "metadata": {},
   "source": [
    "You might want to make sure that *OpenBLAS* is installed. [OpenBLAS](https://www.openblas.net/) is a \"basic linear algebra subprograms\" package that basically, speeds up math for numpy."
   ]
  },
  {
   "cell_type": "code",
   "execution_count": null,
   "metadata": {},
   "outputs": [],
   "source": [
    "# np.show_config()"
   ]
  },
  {
   "cell_type": "markdown",
   "metadata": {},
   "source": [
    "# Matplotlib"
   ]
  },
  {
   "cell_type": "markdown",
   "metadata": {},
   "source": [
    "## Simple plotting\n",
    "\n",
    "We want to plot with proper labels, series legend, and even markets."
   ]
  },
  {
   "cell_type": "code",
   "execution_count": 4,
   "metadata": {},
   "outputs": [],
   "source": [
    "# If you are using a headless environment. Very important if running on server\n",
    "# import matplotlib\n",
    "# matplotlib.use('Agg')\n",
    "\n",
    "import matplotlib.pyplot as plt\n",
    "import numpy as np"
   ]
  },
  {
   "cell_type": "code",
   "execution_count": 5,
   "metadata": {},
   "outputs": [],
   "source": [
    "def draw_simple_sin_cos(x_values):\n",
    "    \n",
    "    y1_values = np.sin(x_values * np.pi)\n",
    "    y2_values = np.cos(x_values * np.pi)\n",
    "\n",
    "    plt.plot(x_values, y1_values, label='Sine')\n",
    "    plt.plot(x_values, y2_values, label='Cosine')\n",
    "\n",
    "    plt.legend()\n",
    "    plt.xlabel('x')\n",
    "    plt.ylabel('values')\n",
    "    plt.title('Values for sin and cos, scaled by $\\phi_i$')"
   ]
  },
  {
   "cell_type": "code",
   "execution_count": 6,
   "metadata": {},
   "outputs": [
    {
     "data": {
      "image/png": "[encoded data removed]",
      "text/plain": [
       "<Figure size 640x480 with 1 Axes>"
      ]
     },
     "metadata": {},
     "output_type": "display_data"
    }
   ],
   "source": [
    "x_values = np.arange(0, 20, 0.001)\n",
    "\n",
    "draw_simple_sin_cos(x_values)\n",
    "plt.show()"
   ]
  },
  {
   "cell_type": "markdown",
   "metadata": {},
   "source": [
    "You can adjust figure size for aspect ratio then DPI for density of pixels. These combined give you resolution of the image"
   ]
  },
  {
   "cell_type": "code",
   "execution_count": null,
   "metadata": {},
   "outputs": [],
   "source": [
    "plt.figure(figsize=(10,3), dpi=100) # 640 x 450\n",
    "\n",
    "draw_simple_sin_cos(x_values)\n",
    "\n",
    "plt.savefig('tutorial_sin.jpg')\n",
    "plt.show()"
   ]
  },
  {
   "cell_type": "markdown",
   "metadata": {},
   "source": [
    "Subplots in a grid can share axis labels through *sharex* and *sharey*."
   ]
  },
  {
   "cell_type": "code",
   "execution_count": 7,
   "metadata": {},
   "outputs": [],
   "source": [
    "def draw_subplot_sin_cos(index, x_values, ax):\n",
    "    \n",
    "    y1_values = np.sin(x_values * np.pi)\n",
    "    y2_values = np.cos(x_values * np.pi)\n",
    "\n",
    "    ax.plot(x_values, y1_values, c='r', label='Sine')\n",
    "    ax.scatter(x_values, y2_values, s=4, label='Cosine')\n",
    "\n",
    "    ax.legend()\n",
    "    ax.set_xlabel('x')\n",
    "    ax.set_ylabel('values')\n",
    "    ax.set_title(f'Values for sin and cos (Subplot #{index})')"
   ]
  },
  {
   "cell_type": "code",
   "execution_count": null,
   "metadata": {},
   "outputs": [],
   "source": [
    "fig, ax_list = plt.subplots(nrows=2, ncols=2, figsize=(10, 10))\n",
    "#fig, ax_list = plt.subplots(nrows=2, ncols=2,\n",
    "#                            sharex='col', sharey='row',\n",
    "#                            figsize=(10, 10))\n",
    "\n",
    "i = 0\n",
    "for r, row in enumerate(ax_list):\n",
    "    for c, ax in enumerate(row):\n",
    "        x_values = np.arange(i, i + 10, 0.1)\n",
    "        draw_subplot_sin_cos(i, x_values, ax)\n",
    "        i += 1\n",
    "\n",
    "plt.show()"
   ]
  },
  {
   "cell_type": "markdown",
   "metadata": {},
   "source": [
    "## Confusion matrix\n",
    "\n",
    "Here we show plotting confusion matrix from scratch. For a pre-built one, see [implementation by scikit-learn](https://scikit-learn.org/stable/auto_examples/model_selection/plot_confusion_matrix.html)"
   ]
  },
  {
   "cell_type": "code",
   "execution_count": null,
   "metadata": {},
   "outputs": [],
   "source": [
    "fig, ax = plt.subplots(figsize=(10,10))\n",
    "\n",
    "color='YlGn'\n",
    "\n",
    "labels = ['Python', 'C++', 'Fortran']\n",
    "\n",
    "cm = np.array([[0.7, 0.3, 0.2], [0.1, 0.5, 0.4], [0.05, 0.1, 0.85]])\n",
    "heatmap = ax.pcolor(cm, cmap=color)\n",
    "fig.colorbar(heatmap)\n",
    "ax.invert_yaxis()\n",
    "ax.xaxis.tick_top()\n",
    "\n",
    "ax.set_title('Confusion Matrix')\n",
    "ax.set_xlabel('Prediction')\n",
    "ax.set_ylabel('Groud Truth')\n",
    "\n",
    "ax.set_xticks(np.arange(cm.shape[0]) + 0.5, minor=False)\n",
    "ax.set_yticks(np.arange(cm.shape[1]) + 0.5, minor=False)\n",
    "ax.set_xticklabels(labels)\n",
    "ax.set_yticklabels(labels)\n",
    "\n",
    "plt.show()"
   ]
  },
  {
   "cell_type": "markdown",
   "metadata": {},
   "source": [
    "### Show image"
   ]
  },
  {
   "cell_type": "markdown",
   "metadata": {},
   "source": [
    "When showing images, remember to tell numpy the range of pixel values. Typically pixel values are either *0-1* or *0-255*."
   ]
  },
  {
   "cell_type": "code",
   "execution_count": null,
   "metadata": {},
   "outputs": [],
   "source": [
    "img_arr = np.random.random((256, 256))# 0 -> 1\n",
    "print(img_arr.shape)\n",
    "\n",
    "plt.imshow(img_arr, cmap='gray', vmin=0.2, vmax=0.25)\n",
    "plt.show()"
   ]
  },
  {
   "cell_type": "markdown",
   "metadata": {},
   "source": [
    "By default numpy goes channel first."
   ]
  },
  {
   "cell_type": "code",
   "execution_count": null,
   "metadata": {},
   "outputs": [],
   "source": [
    "img_arr = np.random.random((256, 256, 3))# R, C, (RGB)\n",
    "print(img_arr.shape)\n",
    "\n",
    "plt.imshow(img_arr, vmin=0, vmax=1)\n",
    "plt.show()"
   ]
  },
  {
   "cell_type": "markdown",
   "metadata": {},
   "source": [
    "Remember to move axis around if you want to use the default plotting tool."
   ]
  },
  {
   "cell_type": "code",
   "execution_count": null,
   "metadata": {},
   "outputs": [],
   "source": [
    "img_arr = np.random.random((3, 256, 256))# (RGB) R C\n",
    "print(img_arr.shape)\n",
    "\n",
    "img_arr = np.moveaxis(img_arr, 0, -1)\n",
    "print(img_arr.shape)\n",
    "\n",
    "plt.imshow(img_arr, vmin=0, vmax=1)\n",
    "plt.show()"
   ]
  },
  {
   "cell_type": "code",
   "execution_count": null,
   "metadata": {
    "scrolled": true
   },
   "outputs": [],
   "source": [
    "import imageio\n",
    "\n",
    "fname = 'sample.jpg'\n",
    "img = imageio.imread(fname)\n",
    "\n",
    "print(img.shape)"
   ]
  },
  {
   "cell_type": "code",
   "execution_count": null,
   "metadata": {},
   "outputs": [],
   "source": [
    "plt.figure(dpi=250)   # dpi=500 -> larger\n",
    "plt.imshow(img, vmin=0, vmax=10000, interpolation='bilinear')\n",
    "plt.show()"
   ]
  },
  {
   "cell_type": "markdown",
   "metadata": {},
   "source": [
    "## Pandas\n",
    "\n",
    "Pandas is great data processing library for table/database-like data. Excellent for things that come in or you wish to output as CSV/Excel. Part of the following content is inspired by [a Pandas tutorial online](https://www.learndatasci.com/tutorials/python-pandas-tutorial-complete-introduction-for-beginners/).\n",
    "\n",
    "\n",
    "### File operations"
   ]
  },
  {
   "cell_type": "code",
   "execution_count": null,
   "metadata": {},
   "outputs": [],
   "source": [
    "import pandas as pd"
   ]
  },
  {
   "cell_type": "code",
   "execution_count": null,
   "metadata": {},
   "outputs": [],
   "source": [
    "data = pd.read_csv('train.csv')\n",
    "\n",
    "data_short = data[:20]"
   ]
  },
  {
   "cell_type": "code",
   "execution_count": null,
   "metadata": {},
   "outputs": [],
   "source": [
    "data_short"
   ]
  },
  {
   "cell_type": "markdown",
   "metadata": {},
   "source": [
    "You can get basic statiscis with little effort like this"
   ]
  },
  {
   "cell_type": "code",
   "execution_count": null,
   "metadata": {},
   "outputs": [],
   "source": [
    "print(data['x_1'].describe())     # For one column\n",
    "\n",
    "data.describe()                   # For the entire dataframe"
   ]
  },
  {
   "cell_type": "markdown",
   "metadata": {},
   "source": [
    "See [Pandas documentation](https://pandas.pydata.org/pandas-docs/stable/reference/api/pandas.DataFrame.to_csv.html) for parameters of *to_csv* function."
   ]
  },
  {
   "cell_type": "code",
   "execution_count": null,
   "metadata": {},
   "outputs": [],
   "source": [
    "data_short.to_csv('data_short.csv', index=False)"
   ]
  },
  {
   "cell_type": "markdown",
   "metadata": {},
   "source": [
    "### Manipulations"
   ]
  },
  {
   "cell_type": "markdown",
   "metadata": {},
   "source": [
    "Columns can be selected and filtered based on value/name. Be careful with binary operation for filtering due to order of execution. Bitwise operations takes precedence over boolean."
   ]
  },
  {
   "cell_type": "code",
   "execution_count": null,
   "metadata": {},
   "outputs": [],
   "source": [
    "data_short[['x_1', 'y']]"
   ]
  },
  {
   "cell_type": "code",
   "execution_count": null,
   "metadata": {},
   "outputs": [],
   "source": [
    "data_short[(data_short['y'] > 5) & (data_short['x_3'] < 1.5)]       # Use & | instead of and/or. Put brackets around"
   ]
  },
  {
   "cell_type": "markdown",
   "metadata": {},
   "source": [
    "A filter function can be applied to generate a new column (you can use this to apply a trained model for prediction result)."
   ]
  },
  {
   "cell_type": "markdown",
   "metadata": {},
   "source": [
    "We can add column based on filter/conditions."
   ]
  },
  {
   "cell_type": "code",
   "execution_count": null,
   "metadata": {},
   "outputs": [],
   "source": [
    "def filter_func(row):\n",
    "    \n",
    "    if row['x_1'] == 1.0 and row['x_2'] == 0.0:\n",
    "        return row['y'] * 10\n",
    "    \n",
    "    return -1\n",
    "\n",
    "data_short['new_column'] = data_short[['x_1', 'x_2', 'y']].apply(filter_func, axis=1)\n",
    "\n",
    "data_short"
   ]
  },
  {
   "cell_type": "markdown",
   "metadata": {},
   "source": [
    "Iterating through Pandas rows can be done as follows. Each row is a \"dictionary\". Adding data directly via a list of values is also valid."
   ]
  },
  {
   "cell_type": "code",
   "execution_count": null,
   "metadata": {},
   "outputs": [],
   "source": [
    "col2 = []\n",
    "for i, row in data_short.iterrows():\n",
    "    print(f'Row {i}: y-value: {row[\"y\"]}')\n",
    "    col2.append(row['y'] ** 2)\n",
    "\n",
    "data_short['col_2'] = col2\n",
    "data_short"
   ]
  },
  {
   "cell_type": "markdown",
   "metadata": {},
   "source": [
    "Not a great example here, but *loc* means index by value, *iloc* means index by index. For example, you can do iloc by -1, but NOT loc by -1."
   ]
  },
  {
   "cell_type": "code",
   "execution_count": null,
   "metadata": {},
   "outputs": [],
   "source": [
    "print(data.loc[19])\n",
    "print(data.iloc[-1])"
   ]
  },
  {
   "cell_type": "markdown",
   "metadata": {},
   "source": [
    "### Create dataframe\n",
    "\n",
    "You can create dataframe from dictionary in row or column major manner. Notice that \"extra\" things will be filled with *Nan*."
   ]
  },
  {
   "cell_type": "code",
   "execution_count": null,
   "metadata": {},
   "outputs": [],
   "source": [
    "data_list = [{'a': i, 'b': i + 1} for i in range(15)]\n",
    "data_list[5] = {'a': 10, 'b': 9, 'c': -1}\n",
    "\n",
    "df = pd.DataFrame(data_list)\n",
    "df"
   ]
  },
  {
   "cell_type": "markdown",
   "metadata": {},
   "source": [
    "Dataframe can also be created from 2D array. Naming the rows and columns is a good practice."
   ]
  },
  {
   "cell_type": "code",
   "execution_count": null,
   "metadata": {},
   "outputs": [],
   "source": [
    "data_2d = np.array([i for i in range(50)]).reshape(5, 10)\n",
    "\n",
    "df = pd.DataFrame(data_2d, columns=[f'col {i}' for i in range(10)], index=[f'row {i}' for i in range(5)])\n",
    "df"
   ]
  },
  {
   "cell_type": "markdown",
   "metadata": {},
   "source": [
    "Similarly, you can create dataframe directly from dictionary. It also supports whether the dicionary keys are row/col indices."
   ]
  },
  {
   "cell_type": "code",
   "execution_count": null,
   "metadata": {},
   "outputs": [],
   "source": [
    "data_dict = {'col 1': [3, 2, 1, 0],\n",
    "        'col 2': ['a', 'b', 'c', 'd']}\n",
    "\n",
    "df = pd.DataFrame.from_dict(data_dict)\n",
    "df"
   ]
  },
  {
   "cell_type": "code",
   "execution_count": null,
   "metadata": {},
   "outputs": [],
   "source": [
    "df = pd.DataFrame.from_dict(data_dict, orient='index')\n",
    "df"
   ]
  },
  {
   "cell_type": "markdown",
   "metadata": {},
   "source": [
    "### Simple plotting\n",
    "\n",
    "Pandas also support plotting. The images it generates are the same style as those in Matplotlib. Pandas plotting provides a quick way to visualize, while you might still need to resort to Matplotlib for more formal plots with higher flexibility."
   ]
  },
  {
   "cell_type": "code",
   "execution_count": null,
   "metadata": {},
   "outputs": [],
   "source": [
    "data.plot(kind='scatter', x='x_3', y='y', title='Plot of Data');"
   ]
  },
  {
   "cell_type": "code",
   "execution_count": null,
   "metadata": {},
   "outputs": [],
   "source": [
    "data['y'].plot(kind='hist', title='Y');"
   ]
  },
  {
   "cell_type": "code",
   "execution_count": null,
   "metadata": {},
   "outputs": [],
   "source": [
    "data.boxplot(column='x_3', by='y');"
   ]
  },
  {
   "cell_type": "code",
   "execution_count": null,
   "metadata": {},
   "outputs": [],
   "source": [
    "data.to_numpy()"
   ]
  },
  {
   "cell_type": "code",
   "execution_count": null,
   "metadata": {},
   "outputs": [],
   "source": [
    "plt.scatter(data['x_1'], data['y'])"
   ]
  },
  {
   "cell_type": "code",
   "execution_count": null,
   "metadata": {},
   "outputs": [],
   "source": []
  }
 ],
 "metadata": {
  "kernelspec": {
   "display_name": "Python 3 (ipykernel)",
   "language": "python",
   "name": "python3"
  },
  "language_info": {
   "codemirror_mode": {
    "name": "ipython",
    "version": 3
   },
   "file_extension": ".py",
   "mimetype": "text/x-python",
   "name": "python",
   "nbconvert_exporter": "python",
   "pygments_lexer": "ipython3",
   "version": "3.11.4"
  }
 },
 "nbformat": 4,
 "nbformat_minor": 4
}
