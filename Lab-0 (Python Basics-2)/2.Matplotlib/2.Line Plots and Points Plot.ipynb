{
 "cells": [
  {
   "cell_type": "markdown",
   "id": "225cba3d-cd2a-481f-b7a4-030267da9028",
   "metadata": {},
   "source": [
    "## Matplotlib Plotting"
   ]
  },
  {
   "cell_type": "markdown",
   "id": "74224b3c-96b1-46e5-90c0-99a923ed21b9",
   "metadata": {},
   "source": [
    "### Plotting x and y points\n",
    "- The plot() function is used to draw points (markers) in a diagram.\n",
    "- By default, the plot() function draws a line from point to point.\n",
    "- The function takes parameters for specifying points in the diagram.\n",
    "- Parameter 1 is an array containing the points on the x-axis.\n",
    "- Parameter 2 is an array containing the points on the y-axis.\n",
    "- If we need to plot a line from (1, 3) to (8, 10), we have to pass two arrays [1, 8] and [3, 10] to the plot function."
   ]
  },
  {
   "cell_type": "code",
   "execution_count": null,
   "id": "edbe6700-5b0c-4fab-bbc9-90a02fd7daa1",
   "metadata": {},
   "outputs": [],
   "source": [
    "import matplotlib.pyplot as plt\n",
    "import numpy as np"
   ]
  },
  {
   "cell_type": "code",
   "execution_count": null,
   "id": "c4feaae0-cebf-4275-901c-e7420d0a68dc",
   "metadata": {},
   "outputs": [],
   "source": [
    "# Draw a line in a diagram from position (1, 3) to position (8, 10):\n",
    "\n",
    "xpoints = np.array([1, 8])\n",
    "ypoints = np.array([3, 10])\n",
    "\n",
    "plt.plot(xpoints, ypoints)\n",
    "plt.show()"
   ]
  },
  {
   "cell_type": "code",
   "execution_count": null,
   "id": "69005f76-6f5f-4284-8ba7-0dfbc4018e4b",
   "metadata": {},
   "outputs": [],
   "source": [
    "# Draw a line in a diagram from position (1, 3) to position (8, 10):\n",
    "\n",
    "xpoints = np.array([1, 8])\n",
    "ypoints = np.array([3, 10])\n",
    "\n",
    "plt.plot(xpoints, ypoints, linestyle = 'dotted')\n",
    "plt.show()"
   ]
  },
  {
   "cell_type": "markdown",
   "id": "93cbd8d9-4583-414e-8224-5207014a2661",
   "metadata": {},
   "source": [
    "### Plotting Without Line\n",
    "- To plot only the markers, you can use shortcut string notation parameter 'o', which means 'rings'."
   ]
  },
  {
   "cell_type": "code",
   "execution_count": null,
   "id": "a28e43cb-b275-407c-a6b0-c02988b18675",
   "metadata": {},
   "outputs": [],
   "source": [
    "# Draw two points in the diagram, one at position (1, 3) and one in position (8, 10):\n",
    "\n",
    "xpoints = np.array([1, 8])\n",
    "ypoints = np.array([3, 10])\n",
    "\n",
    "plt.plot(xpoints, ypoints, 'o')\n",
    "plt.show()"
   ]
  },
  {
   "cell_type": "code",
   "execution_count": null,
   "id": "3067e852-436b-48c7-b655-c1451edef2f5",
   "metadata": {},
   "outputs": [],
   "source": [
    "# Draw two points in the diagram, one at position (1, 3) and one in position (8, 10):\n",
    "\n",
    "xpoints = np.array([1, 8])\n",
    "ypoints = np.array([3, 10])\n",
    "\n",
    "plt.plot(xpoints, ypoints, '*')\n",
    "plt.show()"
   ]
  },
  {
   "cell_type": "code",
   "execution_count": null,
   "id": "8643ec41-13a4-4ce1-a56e-2565bf4da9b4",
   "metadata": {},
   "outputs": [],
   "source": []
  }
 ],
 "metadata": {
  "kernelspec": {
   "display_name": "Python 3 (ipykernel)",
   "language": "python",
   "name": "python3"
  },
  "language_info": {
   "codemirror_mode": {
    "name": "ipython",
    "version": 3
   },
   "file_extension": ".py",
   "mimetype": "text/x-python",
   "name": "python",
   "nbconvert_exporter": "python",
   "pygments_lexer": "ipython3",
   "version": "3.11.4"
  }
 },
 "nbformat": 4,
 "nbformat_minor": 5
}
