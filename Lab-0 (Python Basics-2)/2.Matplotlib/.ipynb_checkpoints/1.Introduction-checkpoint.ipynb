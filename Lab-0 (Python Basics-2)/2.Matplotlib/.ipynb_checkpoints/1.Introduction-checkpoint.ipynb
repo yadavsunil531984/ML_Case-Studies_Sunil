{
 "cells": [
  {
   "cell_type": "markdown",
   "id": "77f08df7-22b8-4855-8ec1-b762860409cf",
   "metadata": {},
   "source": [
    "## What is Matplotlib?\n",
    "- Matplotlib is a low level graph plotting library in python that serves as a visualization utility.\n",
    "- Matplotlib was created by John D. Hunter.\n",
    "- Matplotlib is open source and we can use it freely.\n",
    "- Matplotlib is mostly written in python, a few segments are written in C, Objective-C and Javascript for Platform compatibility."
   ]
  },
  {
   "cell_type": "markdown",
   "id": "e044338e-e041-4861-a465-f2c8056c9a27",
   "metadata": {},
   "source": [
    "## Installation of Matplotlib\n",
    "- Install it using this command: !pip install matplotlib\n",
    "## Import Matplotlib\n",
    "- Once Matplotlib is installed, import it in your applications by statement: import matplotlib"
   ]
  },
  {
   "cell_type": "code",
   "execution_count": null,
   "id": "60082961-47a5-4a7c-b9f9-f01dba462b4d",
   "metadata": {},
   "outputs": [],
   "source": [
    "#Checking Matplotlib Version:\n",
    "import matplotlib\n",
    "\n",
    "print(matplotlib.__version__)"
   ]
  },
  {
   "cell_type": "markdown",
   "id": "1795ed65-16ac-434b-aa96-c3fb4ac38ae2",
   "metadata": {},
   "source": [
    "## Matplotlib Pyplot\n",
    "### Pyplot\n",
    "Most of the Matplotlib utilities lies under the pyplot submodule, and are usually imported under the plt alias: import matplotlib.pyplot as plt"
   ]
  },
  {
   "cell_type": "code",
   "execution_count": null,
   "id": "d43d158c-a512-4a98-ad93-226fb91a2128",
   "metadata": {},
   "outputs": [],
   "source": [
    "import matplotlib.pyplot as plt"
   ]
  },
  {
   "cell_type": "code",
   "execution_count": null,
   "id": "ab9f2c34-844d-4265-a49e-6bfdefb1eece",
   "metadata": {},
   "outputs": [],
   "source": [
    "# ExampleGet your own Python Server"
   ]
  },
  {
   "cell_type": "code",
   "execution_count": null,
   "id": "261d7a69-1299-4ded-bba3-48b702fccd89",
   "metadata": {},
   "outputs": [],
   "source": [
    "# Draw a line in a diagram from position (0,0) to position (6,250):\n",
    "\n",
    "import matplotlib.pyplot as plt\n",
    "import numpy as np\n",
    "\n",
    "xpoints = np.array([0, 6])\n",
    "ypoints = np.array([0, 250])\n",
    "\n",
    "plt.plot(xpoints, ypoints)\n",
    "plt.show()"
   ]
  },
  {
   "cell_type": "code",
   "execution_count": null,
   "id": "db96f13c-bcbc-48a2-8f38-654cfeb6e3fd",
   "metadata": {},
   "outputs": [],
   "source": []
  }
 ],
 "metadata": {
  "kernelspec": {
   "display_name": "Python 3 (ipykernel)",
   "language": "python",
   "name": "python3"
  },
  "language_info": {
   "codemirror_mode": {
    "name": "ipython",
    "version": 3
   },
   "file_extension": ".py",
   "mimetype": "text/x-python",
   "name": "python",
   "nbconvert_exporter": "python",
   "pygments_lexer": "ipython3",
   "version": "3.11.4"
  }
 },
 "nbformat": 4,
 "nbformat_minor": 5
}
