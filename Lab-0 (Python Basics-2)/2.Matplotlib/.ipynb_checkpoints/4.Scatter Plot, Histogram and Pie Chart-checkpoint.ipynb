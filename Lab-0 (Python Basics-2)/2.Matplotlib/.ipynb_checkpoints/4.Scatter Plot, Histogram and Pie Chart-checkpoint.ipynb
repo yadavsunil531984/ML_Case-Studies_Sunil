{
 "cells": [
  {
   "cell_type": "markdown",
   "id": "4b773b2f-a1c4-4322-b1a7-51225b6000d6",
   "metadata": {},
   "source": [
    "### 1. Creating Scatter Plots\n",
    "- With Pyplot, you can use the scatter() function to draw a scatter plot.\n",
    "- The scatter() function plots one dot for each observation.\n",
    "- It needs two arrays of the same length, one for the values of the x-axis, and one for values on the y-axis:"
   ]
  },
  {
   "cell_type": "code",
   "execution_count": null,
   "id": "5add507f-afd5-48df-bbb5-c522461e76e6",
   "metadata": {},
   "outputs": [],
   "source": [
    "import matplotlib.pyplot as plt\n",
    "import numpy as np"
   ]
  },
  {
   "cell_type": "code",
   "execution_count": null,
   "id": "57a3b729-8a0b-4f7a-984d-abf33ab892ff",
   "metadata": {},
   "outputs": [],
   "source": [
    "# A simple scatter plot:\n",
    "\n",
    "x = np.array([5,7,8,7,2,17,2,9,4,11,12,9,6])\n",
    "y = np.array([99,86,87,88,111,86,103,87,94,78,77,85,86])\n",
    "\n",
    "plt.scatter(x, y)\n",
    "plt.show()"
   ]
  },
  {
   "cell_type": "markdown",
   "id": "a0322972-c15e-4d73-a57f-2b1257f0209f",
   "metadata": {},
   "source": [
    "#### The observation in the example above is the result of 13 cars passing by.\n",
    "- The X-axis shows how old the car is.\n",
    "- The Y-axis shows the speed of the car when it passes.\n",
    "- Are there any relationships between the observations?\n",
    "- It seems that the newer the car, the faster it drives, but that could be a coincidence, after all we only registered 13 cars."
   ]
  },
  {
   "cell_type": "markdown",
   "id": "c93b78ee-5c66-4c34-9034-8eaf2ed40af2",
   "metadata": {},
   "source": [
    "#### Compare Plots\n",
    "In the example above, there seems to be a relationship between speed and age, but what if we plot the observations from another day as well? Will the scatter plot tell us something else?"
   ]
  },
  {
   "cell_type": "code",
   "execution_count": null,
   "id": "e8bda3dc-a04b-4dc4-a15c-b0199ea07b5a",
   "metadata": {},
   "outputs": [],
   "source": [
    "# Draw two plots on the same figure:\n",
    "\n",
    "#day one, the age and speed of 13 cars:\n",
    "x = np.array([5,7,8,7,2,17,2,9,4,11,12,9,6])\n",
    "y = np.array([99,86,87,88,111,86,103,87,94,78,77,85,86])\n",
    "plt.scatter(x, y)\n",
    "\n",
    "#day two, the age and speed of 15 cars:\n",
    "x = np.array([2,2,8,1,15,8,12,9,7,3,11,4,7,14,12])\n",
    "y = np.array([100,105,84,105,90,99,90,95,94,100,79,112,91,80,85])\n",
    "plt.scatter(x, y)\n",
    "\n",
    "plt.show()"
   ]
  },
  {
   "cell_type": "markdown",
   "id": "2f650014-11e9-4f70-ad73-9c6eff970191",
   "metadata": {},
   "source": [
    "By comparing the two plots, I think it is safe to say that they both gives us the same conclusion: the newer the car, the faster it drives."
   ]
  },
  {
   "cell_type": "markdown",
   "id": "fb48474a-06ce-40d6-9519-87526cabecd6",
   "metadata": {},
   "source": [
    "#### Colors\n",
    "- You can set your own color for each scatter plot with the color or the c argument:"
   ]
  },
  {
   "cell_type": "code",
   "execution_count": null,
   "id": "faeacfd7-5e88-4844-824a-40764fa40ec9",
   "metadata": {},
   "outputs": [],
   "source": [
    "# Set your own color of the markers:\n",
    "x = np.array([5,7,8,7,2,17,2,9,4,11,12,9,6])\n",
    "y = np.array([99,86,87,88,111,86,103,87,94,78,77,85,86])\n",
    "plt.scatter(x, y, color = 'red')\n",
    "\n",
    "x = np.array([2,2,8,1,15,8,12,9,7,3,11,4,7,14,12])\n",
    "y = np.array([100,105,84,105,90,99,90,95,94,100,79,112,91,80,85])\n",
    "plt.scatter(x, y, color = '#88c999')\n",
    "\n",
    "plt.show()"
   ]
  },
  {
   "cell_type": "markdown",
   "id": "f1170e99-c084-493e-990d-b4c9d590c10c",
   "metadata": {},
   "source": [
    "#### Color Each Dot:\n",
    "- You can even set a specific color for each dot by using an array of colors as value for the c argument:\n",
    "- You cannot use the color argument for this, only the c argument."
   ]
  },
  {
   "cell_type": "code",
   "execution_count": null,
   "id": "e5d125d5-7321-4714-b6d7-edd4552c5dbe",
   "metadata": {},
   "outputs": [],
   "source": [
    "# Set your own color of the markers:\n",
    "\n",
    "x = np.array([5,7,8,7,2,17,2,9,4,11,12,9,6])\n",
    "y = np.array([99,86,87,88,111,86,103,87,94,78,77,85,86])\n",
    "colors = np.array([\"red\",\"green\",\"blue\",\"yellow\",\"pink\",\"black\",\"orange\",\"purple\",\"beige\",\"brown\",\"gray\",\"cyan\",\"magenta\"])\n",
    "\n",
    "plt.scatter(x, y, c=colors)\n",
    "\n",
    "plt.show()"
   ]
  },
  {
   "cell_type": "markdown",
   "id": "eddac923-d9f2-41b8-a528-7e41eb10c8c5",
   "metadata": {},
   "source": [
    "#### Size\n",
    "- You can change the size of the dots with the s argument.\n",
    "- Just like colors, make sure the array for sizes has the same length as the arrays for the x- and y-axis:"
   ]
  },
  {
   "cell_type": "code",
   "execution_count": null,
   "id": "7652abdc-71ed-4171-8ee6-900ba7e34bb2",
   "metadata": {},
   "outputs": [],
   "source": [
    "# Set your own size for the markers:\n",
    "\n",
    "x = np.array([5,7,8,7,2,17,2,9,4,11,12,9,6])\n",
    "y = np.array([99,86,87,88,111,86,103,87,94,78,77,85,86])\n",
    "sizes = np.array([20,50,100,200,500,1000,60,90,10,300,600,800,75])\n",
    "\n",
    "plt.scatter(x, y, s=sizes)\n",
    "\n",
    "plt.show()"
   ]
  },
  {
   "cell_type": "markdown",
   "id": "c6887077-f174-4f7f-8a44-f55e1837e8e9",
   "metadata": {},
   "source": [
    "### 2.Creating Bars\n",
    "- With Pyplot, you can use the bar() function to draw bar graphs:\n",
    "- The bar() function takes arguments that describes the layout of the bars.\r",
    "- \r\n",
    "The categories and their values represented by the first and second argument as arrays."
   ]
  },
  {
   "cell_type": "code",
   "execution_count": null,
   "id": "21ef52e5-acae-44df-a92c-0fee9e17681d",
   "metadata": {},
   "outputs": [],
   "source": [
    "# Draw 4 bars:\n",
    "\n",
    "x = np.array([\"A\", \"B\", \"C\", \"D\"])\n",
    "y = np.array([3, 8, 1, 10])\n",
    "\n",
    "plt.bar(x,y)\n",
    "plt.show()"
   ]
  },
  {
   "cell_type": "code",
   "execution_count": null,
   "id": "765d2524-5b14-4671-82b1-2d46a2b7cf41",
   "metadata": {},
   "outputs": [],
   "source": [
    "x = [\"APPLES\", \"BANANAS\"]\n",
    "y = [400, 350]\n",
    "plt.bar(x, y)\n"
   ]
  },
  {
   "cell_type": "markdown",
   "id": "c07cdafb-c2a4-4b3a-b201-91395d26a56e",
   "metadata": {},
   "source": [
    "#### Horizontal Bars\n",
    "- If you want the bars to be displayed horizontally instead of vertically, use the barh() function:"
   ]
  },
  {
   "cell_type": "code",
   "execution_count": null,
   "id": "d7020e16-99b0-465b-bac4-7af31f70de4c",
   "metadata": {},
   "outputs": [],
   "source": [
    "# Draw 4 horizontal bars:\n",
    "\n",
    "x = np.array([\"A\", \"B\", \"C\", \"D\"])\n",
    "y = np.array([3, 8, 1, 10])\n",
    "\n",
    "plt.barh(x, y)\n",
    "plt.show()"
   ]
  },
  {
   "cell_type": "markdown",
   "id": "f7820775-4d10-4389-a269-a91230564f09",
   "metadata": {},
   "source": [
    "#### Bar Color\n",
    "- The bar() and barh() take the keyword argument color to set the color of the bars:"
   ]
  },
  {
   "cell_type": "code",
   "execution_count": null,
   "id": "b47baab6-652c-43ec-8d01-ef99c04606a7",
   "metadata": {},
   "outputs": [],
   "source": [
    "# Draw 4 red bars:\n",
    "\n",
    "x = np.array([\"A\", \"B\", \"C\", \"D\"])\n",
    "y = np.array([3, 8, 1, 10])\n",
    "\n",
    "plt.bar(x, y, color = \"red\")\n",
    "plt.show()"
   ]
  },
  {
   "cell_type": "code",
   "execution_count": null,
   "id": "ca795e0c-5818-4e17-bc9c-65466bf00572",
   "metadata": {},
   "outputs": [],
   "source": [
    "import matplotlib.pyplot as plt\n",
    "import numpy as np\n",
    "\n",
    "x = np.array([\"A\", \"B\", \"C\", \"D\"])\n",
    "y = np.array([3, 8, 1, 10])\n",
    "\n",
    "plt.bar(x, y, color = \"green\")\n",
    "plt.show()"
   ]
  },
  {
   "cell_type": "code",
   "execution_count": null,
   "id": "1d29c12a-4de7-430e-b17b-829d6690944e",
   "metadata": {},
   "outputs": [],
   "source": [
    "x = np.array([\"A\", \"B\", \"C\", \"D\"])\n",
    "y = np.array([3, 8, 1, 10])\n",
    "\n",
    "plt.bar(x, y, color = \"#4CAF50\")\n",
    "plt.show()"
   ]
  },
  {
   "cell_type": "markdown",
   "id": "289a4b06-ae2a-40f0-9749-f7852beb56a5",
   "metadata": {},
   "source": [
    "#### Bar Width\n",
    "- The bar() takes the keyword argument width to set the width of the bars:\n",
    "- The default width value is 0.8"
   ]
  },
  {
   "cell_type": "code",
   "execution_count": null,
   "id": "7d4ba9dd-39ae-4b92-96b0-0c03ef40a978",
   "metadata": {},
   "outputs": [],
   "source": [
    "# Draw 4 very thin bars:\n",
    "\n",
    "x = np.array([\"A\", \"B\", \"C\", \"D\"])\n",
    "y = np.array([3, 8, 1, 10])\n",
    "\n",
    "plt.bar(x, y, width = 0.1)\n",
    "plt.show()"
   ]
  },
  {
   "cell_type": "markdown",
   "id": "fc49d200-fb4c-4812-91c0-5372a9900683",
   "metadata": {},
   "source": [
    "Note: For horizontal bars, use height instead of width."
   ]
  },
  {
   "cell_type": "markdown",
   "id": "52deaa9f-4d88-4757-b49d-098045170e2c",
   "metadata": {},
   "source": [
    "#### Bar Height\n",
    "- The barh() takes the keyword argument height to set the height of the bars\n",
    "- The default height value is 0.8"
   ]
  },
  {
   "cell_type": "code",
   "execution_count": null,
   "id": "3af3601d-39a4-4e93-a594-1a71f13aae96",
   "metadata": {},
   "outputs": [],
   "source": [
    "# Draw 4 very thin bars:\n",
    "\n",
    "x = np.array([\"A\", \"B\", \"C\", \"D\"])\n",
    "y = np.array([3, 8, 1, 10])\n",
    "\n",
    "plt.barh(x, y, height = 0.1)\n",
    "plt.show()"
   ]
  },
  {
   "cell_type": "markdown",
   "id": "cd3ed416-efdf-4027-9a4a-a5606734aac3",
   "metadata": {},
   "source": [
    "### 3. Create Histogram\n",
    "- A histogram is a graph showing frequency distributions.\n",
    "- In Matplotlib, we use the hist() function to create histograms.\n",
    "- The hist() function will use an array of numbers to create a histogram, the array is sent into the function as an argument."
   ]
  },
  {
   "cell_type": "code",
   "execution_count": null,
   "id": "0ff5b06a-cafd-4b20-bd1e-117aec3e8fd5",
   "metadata": {},
   "outputs": [],
   "source": [
    "# Using a predefined numpy array for histogram\n",
    "\n",
    "# Sample data\n",
    "data = np.array([1,1,1,2,2,3, 3, 3, 4, 4, 4, 4, 5, 5,])\n",
    "\n",
    "# Plotting the histogram\n",
    "plt.hist(data, bins=5)\n",
    "\n",
    "# Adding labels and title\n",
    "plt.title('Histogram of Predefined Data Array')\n",
    "plt.xlabel('Value')\n",
    "plt.ylabel('Frequency')\n",
    "\n",
    "# Display the plot\n",
    "plt.show()\n"
   ]
  },
  {
   "cell_type": "markdown",
   "id": "2e9bbd04-4c28-4fb1-80e6-b4a0193ea3cf",
   "metadata": {},
   "source": [
    "- For simplicity we use NumPy to randomly generate an array with 250 values, where the values will concentrate around 170, and the standard deviation is 10. "
   ]
  },
  {
   "cell_type": "code",
   "execution_count": null,
   "id": "05257274-9abe-45f3-a1b6-e3de58463407",
   "metadata": {},
   "outputs": [],
   "source": [
    "# A Normal Data Distribution by NumPy:\n",
    "x = np.random.normal(170, 10, 250)\n",
    "print(x)"
   ]
  },
  {
   "cell_type": "code",
   "execution_count": null,
   "id": "6603603d-964c-4288-af28-de3b0ccdddc7",
   "metadata": {},
   "outputs": [],
   "source": [
    "x = np.random.normal(170, 10, 250)\n",
    "plt.hist(x)\n",
    "plt.show() "
   ]
  },
  {
   "cell_type": "markdown",
   "id": "881d81ad-cf63-4355-9624-570083634d8e",
   "metadata": {},
   "source": [
    "### Creating Pie Charts\n",
    "- With Pyplot, you can use the pie() function to draw pie charts:"
   ]
  },
  {
   "cell_type": "code",
   "execution_count": null,
   "id": "2f96da2b-4038-4e4c-a004-817de2edcee8",
   "metadata": {},
   "outputs": [],
   "source": [
    "import matplotlib.pyplot as plt\n",
    "import numpy as np"
   ]
  },
  {
   "cell_type": "code",
   "execution_count": null,
   "id": "0483ca69-3205-4431-b1da-90c53b7273f6",
   "metadata": {},
   "outputs": [],
   "source": [
    "# A simple pie chart:\n",
    "\n",
    "y = np.array([35, 25, 25, 15])\n",
    "\n",
    "plt.pie(y)\n",
    "plt.show() "
   ]
  },
  {
   "cell_type": "markdown",
   "id": "d0540910-985f-44a0-9a5d-8537f3779237",
   "metadata": {},
   "source": [
    "### Labels\n",
    "- Add labels to the pie chart with the labels parameter.\n",
    "- The labels parameter must be an array with one label for each wedge:"
   ]
  },
  {
   "cell_type": "code",
   "execution_count": null,
   "id": "2adb8e54-618e-4f10-9f0f-1ceda327cd85",
   "metadata": {},
   "outputs": [],
   "source": [
    "# A simple pie chart:\n",
    "\n",
    "y = np.array([35, 25, 25, 15])\n",
    "\n",
    "mylabels = [\"Setosa\", \"Versicolor\", \"Virginica\", \"Other\"]\n",
    "\n",
    "plt.pie(y, labels = mylabels)\n",
    "plt.show() "
   ]
  },
  {
   "cell_type": "markdown",
   "id": "2a3d7939-42fd-4fd8-8869-c2c8ff0c9d95",
   "metadata": {},
   "source": [
    "### Start Angle\n",
    "- As mentioned the default start angle is at the x-axis, but you can change the start angle by specifying a startangle parameter.\n",
    "- The startangle parameter is defined with an angle in degrees, default angle is 0:"
   ]
  },
  {
   "cell_type": "code",
   "execution_count": null,
   "id": "b9235820-9943-4c27-a904-869d2c521926",
   "metadata": {},
   "outputs": [],
   "source": [
    "# Start the first wedge at 90 degrees:\n",
    "y = np.array([35, 25, 25, 15])\n",
    "\n",
    "mylabels = [\"Setosa\", \"Versicolor\", \"Virginica\", \"Other\"]\n",
    "\n",
    "plt.pie(y, labels = mylabels, startangle = 90)\n",
    "plt.show() "
   ]
  },
  {
   "cell_type": "markdown",
   "id": "e1d02d67-24ac-46e3-a611-fe06766fbd9c",
   "metadata": {},
   "source": [
    "### Explode\n",
    "- Maybe you want one of the wedges to stand out? The explode parameter allows you to do that.\n",
    "- The explode parameter, if specified, and not None, must be an array with one value for each wedge.\n",
    "- Each value represents how far from the center each wedge is displayed:"
   ]
  },
  {
   "cell_type": "code",
   "execution_count": null,
   "id": "d65168e4-15e4-4387-bcd4-1358411334e2",
   "metadata": {},
   "outputs": [],
   "source": [
    "# Pull the \"Setosa\" wedge 0.2 from the center of the pie:\n",
    "\n",
    "y = np.array([35, 25, 25, 15])\n",
    "\n",
    "mylabels = [\"Setosa\", \"Versicolor\", \"Virginica\", \"other\"]\n",
    "myexplode = [0.2, 0, 0, 0]\n",
    "\n",
    "plt.pie(y, labels = mylabels, explode = myexplode)\n",
    "plt.show() "
   ]
  },
  {
   "cell_type": "markdown",
   "id": "32d47939-27b8-41f7-9398-20137773ac18",
   "metadata": {},
   "source": [
    "### Shadow\n",
    "- Add a shadow to the pie chart by setting the shadows parameter to True"
   ]
  },
  {
   "cell_type": "code",
   "execution_count": null,
   "id": "800d7200-41f1-45df-9085-52597fed823c",
   "metadata": {},
   "outputs": [],
   "source": [
    "# Add a shadow:\n",
    "\n",
    "y = np.array([35, 25, 25, 15])\n",
    "\n",
    "mylabels = [\"Setosa\", \"Versicolor\", \"Virginica\", \"other\"]\n",
    "myexplode = [0.2, 0, 0, 0]\n",
    "\n",
    "plt.pie(y, labels = mylabels, explode = myexplode, shadow = True)\n",
    "plt.show() "
   ]
  },
  {
   "cell_type": "markdown",
   "id": "2d380cfc-3186-49ea-b03d-eeea9e08be56",
   "metadata": {},
   "source": [
    "### Colors\n",
    "- You can set the color of each wedge with the colors parameter.\n",
    "- The colors parameter, if specified, must be an array with one value for each wedge:"
   ]
  },
  {
   "cell_type": "code",
   "execution_count": null,
   "id": "49709d03-a603-4c73-8d01-1298a1f67267",
   "metadata": {},
   "outputs": [],
   "source": [
    "# Specify a new color for each wedge:\n",
    "\n",
    "y = np.array([35, 25, 25, 15])\n",
    "mylabels = [\"Setosa\", \"Versicolor\", \"Virginica\", \"Other\"]\n",
    "mycolors = [\"black\", \"hotpink\", \"b\", \"#4CAF50\"]\n",
    "\n",
    "plt.pie(y, labels = mylabels, colors = mycolors)\n",
    "plt.show() "
   ]
  },
  {
   "cell_type": "markdown",
   "id": "930b5263-7486-475e-b5db-cc132014c0fe",
   "metadata": {},
   "source": [
    "### Legend\n",
    "- To add a list of explanation for each wedge, use the legend() function:"
   ]
  },
  {
   "cell_type": "code",
   "execution_count": null,
   "id": "79d53f76-ca72-445f-a89a-72e851f4de70",
   "metadata": {},
   "outputs": [],
   "source": [
    "# Add a legend:\n",
    "\n",
    "y = np.array([35, 25, 25, 15])\n",
    "mylabels = [\"Setosa\", \"Versicolor\", \"Virginica\", \"other\"]\n",
    "\n",
    "plt.pie(y, labels = mylabels)\n",
    "plt.legend(loc=\"upper right\")\n",
    "plt.show() "
   ]
  },
  {
   "cell_type": "markdown",
   "id": "9686bef2-8f43-46ad-ba2c-98b37aa6cfeb",
   "metadata": {},
   "source": [
    "### Legend With Header\n",
    "- To add a header to the legend, add the title parameter to the legend function."
   ]
  },
  {
   "cell_type": "code",
   "execution_count": null,
   "id": "c781558f-de64-4ec7-b806-3c1195455338",
   "metadata": {},
   "outputs": [],
   "source": [
    "# Add a legend with a header:\n",
    "\n",
    "y = np.array([35, 25, 25, 15])\n",
    "mylabels = [\"Setosa\", \"Versicolor\", \"Virginica\", \"other\"]\n",
    "\n",
    "plt.pie(y, labels = mylabels)\n",
    "plt.legend(title = \"Iris Class:\",loc=\"upper right\")\n",
    "plt.show() "
   ]
  },
  {
   "cell_type": "markdown",
   "id": "ceab67e4-66c3-4059-a5fe-9d914d430bc7",
   "metadata": {},
   "source": [
    "### 4. Wave Plot"
   ]
  },
  {
   "cell_type": "code",
   "execution_count": null,
   "id": "5235958d-4b62-4d0f-93ee-71235e8c062f",
   "metadata": {},
   "outputs": [],
   "source": [
    "import matplotlib.pyplot as plt\n",
    "import numpy as np\n",
    "\n",
    "# Generating x values\n",
    "x = np.linspace(0, 2 * np.pi, 100)  # 100 values from 0 to 2π\n",
    "\n",
    "# Calculating y values for sine\n",
    "y_sin = np.sin(x)\n",
    "\n",
    "# Plotting the sine wave\n",
    "plt.plot(x, y_sin, label='Sine', color='blue')\n",
    "\n",
    "# Adding labels and title\n",
    "plt.title('Sine Wave')\n",
    "plt.xlabel('x (radians)')\n",
    "plt.ylabel('Amplitude')\n",
    "\n",
    "# Adding a legend\n",
    "plt.legend()\n",
    "\n",
    "# Display the plot\n",
    "plt.show()\n"
   ]
  },
  {
   "cell_type": "code",
   "execution_count": null,
   "id": "7d6c82fb-280b-4e85-96eb-df615ab1dc4b",
   "metadata": {},
   "outputs": [],
   "source": [
    "import matplotlib.pyplot as plt\n",
    "import numpy as np\n",
    "\n",
    "# Generating x values\n",
    "x = np.linspace(0, 2 * np.pi, 100)  # 100 values from 0 to 2π\n",
    "\n",
    "# Calculating y values for cosine\n",
    "y_cos = np.cos(x)\n",
    "\n",
    "# Plotting the cosine wave\n",
    "plt.plot(x, y_cos, label='Cosine', color='red')\n",
    "\n",
    "# Adding labels and title\n",
    "plt.title('Cosine Wave')\n",
    "plt.xlabel('x (radians)')\n",
    "plt.ylabel('Amplitude')\n",
    "\n",
    "# Adding a legend\n",
    "plt.legend()\n",
    "\n",
    "# Display the plot\n",
    "plt.show()\n"
   ]
  },
  {
   "cell_type": "code",
   "execution_count": null,
   "id": "ca7f18a3-3755-4bd9-915f-449ef3e0f7c4",
   "metadata": {},
   "outputs": [],
   "source": [
    "import matplotlib.pyplot as plt\n",
    "import numpy as np\n",
    "\n",
    "# Generating x values\n",
    "x = np.linspace(0, 2 * np.pi, 100)  # 100 values from 0 to 2π\n",
    "\n",
    "# Calculating y values for sine and cosine\n",
    "y_sin = np.sin(x)\n",
    "y_cos = np.cos(x)\n",
    "\n",
    "# Plotting the sine wave\n",
    "plt.plot(x, y_sin, label='Sine', color='blue')\n",
    "\n",
    "# Plotting the cosine wave\n",
    "plt.plot(x, y_cos, label='Cosine', color='red')\n",
    "\n",
    "# Adding labels and title\n",
    "plt.title('Sine and Cosine Waves')\n",
    "plt.xlabel('x (radians)')\n",
    "plt.ylabel('Amplitude')\n",
    "\n",
    "# Adding a legend\n",
    "plt.legend()\n",
    "\n",
    "# Display the plot\n",
    "plt.show()\n"
   ]
  },
  {
   "cell_type": "code",
   "execution_count": null,
   "id": "82dbeefb-3b85-44ce-b2e4-489f035d742e",
   "metadata": {},
   "outputs": [],
   "source": []
  }
 ],
 "metadata": {
  "kernelspec": {
   "display_name": "Python 3 (ipykernel)",
   "language": "python",
   "name": "python3"
  },
  "language_info": {
   "codemirror_mode": {
    "name": "ipython",
    "version": 3
   },
   "file_extension": ".py",
   "mimetype": "text/x-python",
   "name": "python",
   "nbconvert_exporter": "python",
   "pygments_lexer": "ipython3",
   "version": "3.11.4"
  }
 },
 "nbformat": 4,
 "nbformat_minor": 5
}
