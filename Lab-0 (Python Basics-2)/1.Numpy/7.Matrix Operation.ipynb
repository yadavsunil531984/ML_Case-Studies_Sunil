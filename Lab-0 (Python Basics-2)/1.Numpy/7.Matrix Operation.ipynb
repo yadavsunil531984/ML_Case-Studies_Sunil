{
 "cells": [
  {
   "cell_type": "markdown",
   "id": "2adc44a1-de45-4dd3-84ce-f18eaf728c27",
   "metadata": {},
   "source": [
    "## Matrix Operation"
   ]
  },
  {
   "cell_type": "code",
   "execution_count": null,
   "id": "33ff3578-3f07-4f48-8c50-445adae7ac7b",
   "metadata": {},
   "outputs": [],
   "source": [
    "import numpy as np"
   ]
  },
  {
   "cell_type": "markdown",
   "id": "18796662-c1d3-4c83-a509-d06d14bd35c0",
   "metadata": {},
   "source": [
    "#### 1. Matrix Addition"
   ]
  },
  {
   "cell_type": "code",
   "execution_count": null,
   "id": "d78f3ee7-28d4-4320-8ef0-bd46d92a368f",
   "metadata": {},
   "outputs": [],
   "source": [
    "# Add the values in arr1 to the values in arr2:\n",
    "arr1 = np.array([[1, 2, 3], [3, 2, 1], [2, 1, 3]])\n",
    "arr2 = np.array([[2, 2, 3], [3, 2, 3], [1, 1, 3]])\n",
    "newarr = np.add(arr1, arr2)\n",
    "print(newarr)"
   ]
  },
  {
   "cell_type": "markdown",
   "id": "996d573e-cead-4988-8efd-c48137793219",
   "metadata": {},
   "source": [
    "#### 2. Matrix Subtraction"
   ]
  },
  {
   "cell_type": "code",
   "execution_count": null,
   "id": "1c6676cc-5d9f-45bd-bf94-e711986a3c81",
   "metadata": {},
   "outputs": [],
   "source": [
    "# Subtract the values in arr1 to the values in arr2:\n",
    "arr1 = np.array([[1, 2, 3], [3, 2, 1], [2, 1, 3]])\n",
    "arr2 = np.array([[2, 2, 3], [3, 2, 3], [1, 1, 3]])\n",
    "newarr = np.subtract(arr1, arr2)\n",
    "print(newarr)"
   ]
  },
  {
   "cell_type": "markdown",
   "id": "285d0536-8922-44a0-a607-a77df295e27a",
   "metadata": {},
   "source": [
    "#### 3. Matrix Multiplication"
   ]
  },
  {
   "cell_type": "code",
   "execution_count": null,
   "id": "e744b6ca-3387-4111-bf1c-98eb06c406ad",
   "metadata": {},
   "outputs": [],
   "source": [
    "arr1 = np.array([[1, 2, 3], [3, 2, 1], [2, 1, 3]])\n",
    "arr2 = np.array([[2, 2, 3], [3, 2, 3], [1, 1, 3]])\n",
    "# Perform matrix multiplication\n",
    "result = np.dot(arr1, arr2)\n",
    "print(result)"
   ]
  },
  {
   "cell_type": "code",
   "execution_count": null,
   "id": "f4a94035-7ac3-4b7b-b39a-b438c7010274",
   "metadata": {},
   "outputs": [],
   "source": [
    "arr1 = np.array([[1, 2, 3], [3, 2, 1], [2, 1, 3]])\n",
    "arr2 = np.array([[2, 2, 3], [3, 2, 3], [1, 1, 3]])\n",
    "result = np.matmul(arr1, arr2)\n",
    "print(result)"
   ]
  },
  {
   "cell_type": "markdown",
   "id": "a217fea8-566d-4640-b156-28e7b8e861a6",
   "metadata": {},
   "source": [
    "#### 4. Scalar Multiplication"
   ]
  },
  {
   "cell_type": "code",
   "execution_count": null,
   "id": "8d02cd20-101a-4331-aa2c-1a1262c4376b",
   "metadata": {},
   "outputs": [],
   "source": [
    "# Using np.transpose()\n",
    "arr = np.array([[1, 2, 3], [3, 2, 1], [2, 1, 3]])\n",
    "result = 5*arr\n",
    "print(result)"
   ]
  },
  {
   "cell_type": "markdown",
   "id": "8c543e7f-fec5-4568-b4fd-96aba80559fc",
   "metadata": {},
   "source": [
    "#### 5. Element wise Multilplication"
   ]
  },
  {
   "cell_type": "code",
   "execution_count": null,
   "id": "5153b1ac-44cc-4a13-9df6-5cab3f758e58",
   "metadata": {},
   "outputs": [],
   "source": [
    "arr1 = np.array([[1, 2, 3], [3, 2, 1], [2, 1, 3]])\n",
    "arr2 = np.array([[2, 2, 3], [3, 2, 3], [1, 1, 3]])\n",
    "result = arr1*arr2\n",
    "print(result)"
   ]
  },
  {
   "cell_type": "markdown",
   "id": "d3744462-457b-42c8-a058-4b629f902cd2",
   "metadata": {},
   "source": [
    "#### 6. Transpose of Matrix"
   ]
  },
  {
   "cell_type": "code",
   "execution_count": null,
   "id": "3e60bc9b-7d88-4f10-9761-1b28b6a887bc",
   "metadata": {},
   "outputs": [],
   "source": [
    "# Using np.transpose()\n",
    "arr1 = np.array([[1, 2, 3], [3, 2, 1], [2, 1, 3]])\n",
    "result = np.transpose(arr1)\n",
    "print(result)"
   ]
  },
  {
   "cell_type": "code",
   "execution_count": null,
   "id": "713d37cf-62fb-4151-9f24-f324807b9faa",
   "metadata": {},
   "outputs": [],
   "source": [
    "# using the .T attribute\n",
    "arr = np.array([[1, 2, 3], [3, 2, 1], [2, 1, 3]])\n",
    "result = arr.T\n",
    "print(result)"
   ]
  },
  {
   "cell_type": "markdown",
   "id": "5e750ade-b2cb-49d9-b4bd-7b8b9a7aea76",
   "metadata": {},
   "source": [
    "#### 7. Inverse of Matrix"
   ]
  },
  {
   "cell_type": "code",
   "execution_count": null,
   "id": "59cccaee-355d-45cd-b4d8-df21a7a56145",
   "metadata": {},
   "outputs": [],
   "source": [
    "# Calculate the inverse of the matrix\n",
    "arr = np.array([[1, 2, 3], [3, 2, 1], [2, 1, 3]])\n",
    "result = np.linalg.inv(arr)\n",
    "print(result)"
   ]
  },
  {
   "cell_type": "markdown",
   "id": "95a898d2-bb48-46c9-8af2-9f4b03ce5662",
   "metadata": {},
   "source": [
    "#### 8. Determinant"
   ]
  },
  {
   "cell_type": "code",
   "execution_count": null,
   "id": "8f2b515c-b612-4db7-9ece-51b355ee703a",
   "metadata": {},
   "outputs": [],
   "source": [
    "#### 7. Determinant\n",
    "arr = np.array([[1, 2, 3], [3, 2, 1], [2, 1, 3]])\n",
    "result = np.linalg.det(arr)\n",
    "print(result)"
   ]
  },
  {
   "cell_type": "code",
   "execution_count": null,
   "id": "17128a7c-9d20-439c-bca9-0ce0b355d190",
   "metadata": {},
   "outputs": [],
   "source": [
    "arr = np.array([[1, 2, 3], [3, 2, 1], [2, 1, 3]])\n",
    "result = np.linalg.matrix_rank(arr1)\n",
    "print(result)"
   ]
  },
  {
   "cell_type": "markdown",
   "id": "31209ae8-b779-4898-8055-e224cec1ef87",
   "metadata": {},
   "source": [
    "#### 9. Sum of Diagonal Element"
   ]
  },
  {
   "cell_type": "code",
   "execution_count": null,
   "id": "490f33d7-c69d-48d9-99c3-86f1f4d0723f",
   "metadata": {},
   "outputs": [],
   "source": [
    "arr = np.array([[1, 2, 3], [3, 2, 1], [2, 1, 3]])\n",
    "result = np.trace(arr1)\n",
    "print(result)"
   ]
  },
  {
   "cell_type": "markdown",
   "id": "407929fe-4690-4004-87a4-143a782359fa",
   "metadata": {},
   "source": [
    "#### 10. Eigen Values and Eigen Vector"
   ]
  },
  {
   "cell_type": "code",
   "execution_count": null,
   "id": "7e1540e2-d85c-4e11-af00-90c1643cf4a7",
   "metadata": {},
   "outputs": [],
   "source": [
    "arr = np.array([[1, 2, 3], [3, 2, 1], [2, 1, 3]])\n",
    "eigenvalues, eigenvectors = np.linalg.eig(arr)\n",
    "print(f\"Eigen Values are : {eigenvalues}\")\n",
    "print(f\"Eigen Vectors are:\")\n",
    "print(eigenvectors)"
   ]
  },
  {
   "cell_type": "markdown",
   "id": "413827fc-8a77-48c2-9454-8fe35b56855a",
   "metadata": {},
   "source": [
    "#### 11. Types of Matrix"
   ]
  },
  {
   "cell_type": "code",
   "execution_count": null,
   "id": "5c348469-8ad8-4f51-8f3f-0e43f274c0cb",
   "metadata": {},
   "outputs": [],
   "source": [
    "# Null Matrix\n",
    "null_matrix = np.zeros((3, 3))\n",
    "print(null_matrix)"
   ]
  },
  {
   "cell_type": "code",
   "execution_count": null,
   "id": "77d6627f-fe83-4744-9f6a-92c65fcc127f",
   "metadata": {},
   "outputs": [],
   "source": [
    "# Create a 3x3 identity matrix\n",
    "identity_matrix = np.eye(3)\n",
    "print(identity_matrix)"
   ]
  },
  {
   "cell_type": "code",
   "execution_count": null,
   "id": "539eb3ad-c8fa-4738-abfa-8e9d87271638",
   "metadata": {},
   "outputs": [],
   "source": [
    "# Create a 3x3 matrix with random integers between 0 and 10\n",
    "random_matrix_int = np.random.randint(0, 10, size=(3, 3))\n",
    "print(random_matrix_int)"
   ]
  },
  {
   "cell_type": "code",
   "execution_count": null,
   "id": "17a15158-d03a-479a-a88b-0ed0f048c37f",
   "metadata": {},
   "outputs": [],
   "source": [
    "# Create 3x3 with sequence of Number start from 0 to 8\n",
    "matrix = np.arange(9).reshape(3, 3)\n",
    "print(matrix)"
   ]
  },
  {
   "cell_type": "markdown",
   "id": "617aed45-8d1b-49aa-b716-ff788b6914e3",
   "metadata": {},
   "source": [
    "#### 12. Broad Casting\n",
    "The term broadcasting refers to the ability of NumPy to treat arrays of different shapes during arithmetic operations.\n"
   ]
  },
  {
   "cell_type": "code",
   "execution_count": null,
   "id": "254a29ca-65d9-4439-b443-af8f751a9d0e",
   "metadata": {},
   "outputs": [],
   "source": [
    "arr = np.array([1, 2, 3])\n",
    "result = arr + 10\n",
    "print(result)"
   ]
  },
  {
   "cell_type": "code",
   "execution_count": null,
   "id": "7c25d1e8-e987-422d-8bb6-3263199f23f4",
   "metadata": {},
   "outputs": [],
   "source": [
    "arr = np.array([1, 2, 3])\n",
    "result = arr - 10\n",
    "print(result)"
   ]
  },
  {
   "cell_type": "code",
   "execution_count": null,
   "id": "c59c7107-4681-4720-8a88-7b07643d904e",
   "metadata": {},
   "outputs": [],
   "source": [
    "arr1 = np.array([[1, 2, 3], [4, 5, 6]])\n",
    "arr2 = np.array([10, 20, 30])\n",
    "result = arr1 + arr2"
   ]
  },
  {
   "cell_type": "code",
   "execution_count": null,
   "id": "8378e3ca-c0bd-4888-8582-6b201716352a",
   "metadata": {},
   "outputs": [],
   "source": [
    "arr1 = np.array([[1, 2, 3], [4, 5, 6]])\n",
    "arr2 = np.array([10, 20, 30])\n",
    "result = arr1 - arr2\n",
    "print(result)"
   ]
  },
  {
   "cell_type": "code",
   "execution_count": null,
   "id": "a4041ff5-248a-40fa-9fad-e46f3120c14e",
   "metadata": {},
   "outputs": [],
   "source": [
    "arr1 = np.array([[1, 2, 3], [4, 5, 6]])\n",
    "arr2 = np.array([10, 20, 30])\n",
    "result = arr1 * arr2\n",
    "print(result)"
   ]
  },
  {
   "cell_type": "code",
   "execution_count": null,
   "id": "61adf68f-7990-4056-ad68-9be238780eda",
   "metadata": {},
   "outputs": [],
   "source": [
    "arr1 = np.array([[1, 2, 3], [4, 5, 6]])\n",
    "arr2 = np.array([10, 20])\n",
    "result = arr1 + arr2\n",
    "print(result)"
   ]
  },
  {
   "cell_type": "markdown",
   "id": "55175036-dfee-4376-8910-3135d9d8ac4f",
   "metadata": {},
   "source": [
    "#### Why to do Broad casting ?\n",
    "- **Memory Efficiency:** Broadcasting avoids making unnecessary copies of arrays, saving memory and processing time.\n",
    "- **Concise Code:** You can perform complex operations with minimal and more readable code.\n",
    "- **Versatility:** Broadcasting works with arrays of different shapes and dimensions, making it highly versatile for mathematical and data operations."
   ]
  },
  {
   "cell_type": "code",
   "execution_count": null,
   "id": "54073fa9-a640-4769-92c7-275404696800",
   "metadata": {},
   "outputs": [],
   "source": []
  }
 ],
 "metadata": {
  "kernelspec": {
   "display_name": "Python 3 (ipykernel)",
   "language": "python",
   "name": "python3"
  },
  "language_info": {
   "codemirror_mode": {
    "name": "ipython",
    "version": 3
   },
   "file_extension": ".py",
   "mimetype": "text/x-python",
   "name": "python",
   "nbconvert_exporter": "python",
   "pygments_lexer": "ipython3",
   "version": "3.11.4"
  }
 },
 "nbformat": 4,
 "nbformat_minor": 5
}
