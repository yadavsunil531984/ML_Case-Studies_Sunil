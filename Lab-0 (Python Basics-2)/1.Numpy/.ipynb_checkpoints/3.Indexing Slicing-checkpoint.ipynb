{
 "cells": [
  {
   "cell_type": "code",
   "execution_count": null,
   "id": "4caccb2f-6f20-40bc-8e24-26be673bc0c6",
   "metadata": {},
   "outputs": [],
   "source": [
    "NumPy Array Indexing"
   ]
  },
  {
   "cell_type": "markdown",
   "id": "e85bda90-fe21-4d9b-966f-832c8345bb58",
   "metadata": {},
   "source": [
    "## Access Array Elements\n",
    "- Array indexing is the same as accessing an array element.\n",
    "- You can access an array element by referring to its index number.\n",
    "- The indexes in NumPy arrays start with 0, meaning that the first element has index 0, and the second has index 1 etc."
   ]
  },
  {
   "cell_type": "code",
   "execution_count": null,
   "id": "a9dcaa6d-d25d-4967-8280-3a6a8ff38c44",
   "metadata": {},
   "outputs": [],
   "source": [
    "import numpy as np"
   ]
  },
  {
   "cell_type": "code",
   "execution_count": null,
   "id": "8222bcc1-f500-4181-ae41-fdc3f1f340e7",
   "metadata": {},
   "outputs": [],
   "source": [
    "# Access the first element of the array\n",
    "arr = np.array([1, 2, 3, 4])\n",
    "print(arr[0])"
   ]
  },
  {
   "cell_type": "code",
   "execution_count": null,
   "id": "24add071-2341-4606-bd6a-a61e167c4007",
   "metadata": {},
   "outputs": [],
   "source": [
    "# Access the second element of the arra\n",
    "arr = np.array([1, 2, 3, 4])\n",
    "print(arr[1])"
   ]
  },
  {
   "cell_type": "code",
   "execution_count": null,
   "id": "4410e7f7-3179-4ecb-870e-74367aee2815",
   "metadata": {},
   "outputs": [],
   "source": [
    "# Get third and fourth elements from the following array and add them.\n",
    "arr = np.array([1, 2, 3, 4])\n",
    "print(arr[2] + arr[3])"
   ]
  },
  {
   "cell_type": "markdown",
   "id": "6df87569-57ea-481d-9cdb-e67ddae821bb",
   "metadata": {},
   "source": [
    "### Access 2-D Arrays\n",
    "- To access elements from 2-D arrays we can use comma separated integers representing the dimension and the index of the element.\n",
    "- Think of 2-D arrays like a table with rows and columns, where the dimension represents the row and the index represents the column."
   ]
  },
  {
   "cell_type": "code",
   "execution_count": null,
   "id": "4f2d2fc3-8b15-4f1a-bfdb-ce7257df122b",
   "metadata": {},
   "outputs": [],
   "source": [
    "# Access the element on the first row, second column:\n",
    "\n",
    "arr = np.array([[1,2,3,4,5], [6,7,8,9,10]])\n",
    "print('2nd element on 1st row: ', arr[0, 1])"
   ]
  },
  {
   "cell_type": "code",
   "execution_count": null,
   "id": "fea00c50-f37d-49cf-a46e-6445e96687c4",
   "metadata": {},
   "outputs": [],
   "source": [
    "# Access the element on the 2nd row, 5th column:\n",
    "\n",
    "arr = np.array([[1,2,3,4,5], [6,7,8,9,10]])\n",
    "print('5th element on 2nd row: ', arr[1, 4])"
   ]
  },
  {
   "cell_type": "markdown",
   "id": "140497df-0f03-492d-bdce-ab99936c8e2d",
   "metadata": {},
   "source": [
    "### Access 3-D Arrays\n",
    "- To access elements from 3-D arrays we can use comma separated integers representing the dimensions and the index of the element."
   ]
  },
  {
   "cell_type": "code",
   "execution_count": null,
   "id": "5389a8e9-1a5a-4df6-a026-769a6d5b5410",
   "metadata": {},
   "outputs": [],
   "source": [
    "# Access the third element of the second array of the first array:\n",
    "arr = np.array([[[1, 2, 3], [4, 5, 6]], [[7, 8, 9], [10, 11, 12]]])\n",
    "print(arr[0, 1, 2])"
   ]
  },
  {
   "cell_type": "markdown",
   "id": "d068b388-b2a3-4c7b-8ff9-8875f7b9e47d",
   "metadata": {},
   "source": [
    "### Negative Indexing\n",
    "- Use negative indexing to access an array from the end."
   ]
  },
  {
   "cell_type": "code",
   "execution_count": null,
   "id": "5a10ee21-aff3-4741-a0a9-bbc6c0d94069",
   "metadata": {},
   "outputs": [],
   "source": [
    "# Print the last element from the 2nd dim:\n",
    "arr = np.array([[1,2,3,4,5], [6,7,8,9,10]])\n",
    "print('Last element from 2nd dim: ', arr[1, -1])"
   ]
  },
  {
   "cell_type": "markdown",
   "id": "a65a22b8-535c-4574-a484-f7fd24bfd571",
   "metadata": {},
   "source": [
    "## NumPy Array Slicing"
   ]
  },
  {
   "cell_type": "markdown",
   "id": "f888ae4e-8068-47d3-8a34-7dfb9a6555e8",
   "metadata": {},
   "source": [
    "### Slicing arrays\n",
    "- Slicing in python means taking elements from one given index to another given index.\n",
    "- We pass slice instead of index like this: [start:end].\n",
    "- We can also define the step, like this: [start:end:step].\n",
    "- If we don't pass start its considered 0\n",
    "- If we don't pass end its considered length of array in that dimension\n",
    "- If we don't pass step its considered 1"
   ]
  },
  {
   "cell_type": "code",
   "execution_count": null,
   "id": "ed84c15c-83ea-4cf1-a78f-3d9316774723",
   "metadata": {},
   "outputs": [],
   "source": [
    "# Slice elements from index 1 to index 5 from the following array:\n",
    "arr = np.array([1, 2, 3, 4, 5, 6, 7])\n",
    "print(arr[1:5])"
   ]
  },
  {
   "cell_type": "code",
   "execution_count": null,
   "id": "0c57bb1a-2328-48c6-8ded-9322fbedc4a8",
   "metadata": {},
   "outputs": [],
   "source": [
    "# Slice elements from index 4 to the end of the array:\n",
    "\n",
    "arr = np.array([1, 2, 3, 4, 5, 6, 7])\n",
    "print(arr[4:])"
   ]
  },
  {
   "cell_type": "code",
   "execution_count": null,
   "id": "1cb532a5-b726-45df-83cb-026fb9698a45",
   "metadata": {},
   "outputs": [],
   "source": [
    "# Slice elements from the beginning to index 4 (not included):\n",
    "\n",
    "arr = np.array([1, 2, 3, 4, 5, 6, 7])\n",
    "print(arr[:4])"
   ]
  },
  {
   "cell_type": "code",
   "execution_count": null,
   "id": "47b0a3d2-340e-472f-acef-51fcbab09482",
   "metadata": {},
   "outputs": [],
   "source": [
    "# Return every other element from index 1 to index 5:\n",
    "\n",
    "arr = np.array([1, 2, 3, 4, 5, 6, 7])\n",
    "print(arr[1:5:2])"
   ]
  },
  {
   "cell_type": "code",
   "execution_count": null,
   "id": "1f64060b-d255-418b-84ce-91f879b3285b",
   "metadata": {},
   "outputs": [],
   "source": [
    "# Return every other element from the entire array:\n",
    "\n",
    "arr = np.array([1, 2, 3, 4, 5, 6, 7])\n",
    "print(arr[::2])"
   ]
  },
  {
   "cell_type": "markdown",
   "id": "acc068d1-4244-4aa9-9dc4-0933dbf2f548",
   "metadata": {},
   "source": [
    "### Negative Slicing\n",
    "- Use the minus operator to refer to an index from the end:"
   ]
  },
  {
   "cell_type": "code",
   "execution_count": null,
   "id": "91baadb5-cdf3-4e86-9050-440fa05db294",
   "metadata": {},
   "outputs": [],
   "source": [
    "# Slice from the index 3 from the end to index 1 from the end:\n",
    "arr = np.array([1, 2, 3, 4, 5, 6, 7])\n",
    "print(arr[-3:-1])"
   ]
  },
  {
   "cell_type": "markdown",
   "id": "97b69a03-0b48-4e01-ac91-f17180340f0f",
   "metadata": {},
   "source": [
    "### Slicing 2-D Arrays"
   ]
  },
  {
   "cell_type": "code",
   "execution_count": null,
   "id": "0d36333a-6f07-48b6-8d11-f59ad0004be6",
   "metadata": {},
   "outputs": [],
   "source": [
    "# From the second element, slice elements from index 1 to index 4 (not included):\n",
    "arr = np.array([[1, 2, 3, 4, 5], [6, 7, 8, 9, 10]])\n",
    "print(arr[1, 1:4])"
   ]
  },
  {
   "cell_type": "code",
   "execution_count": null,
   "id": "21a01107-588d-4e45-8a4d-98249a27a963",
   "metadata": {},
   "outputs": [],
   "source": [
    "# From both elements, return index 2:\n",
    "arr = np.array([[1, 2, 3, 4, 5], [6, 7, 8, 9, 10]])\n",
    "print(arr[0:2, 2])"
   ]
  },
  {
   "cell_type": "code",
   "execution_count": null,
   "id": "f291719c-52af-41d2-9cb3-b4b5628378f6",
   "metadata": {},
   "outputs": [],
   "source": [
    "# From both elements, slice index 1 to index 4 (not included), this will return a 2-D array:\n",
    "arr = np.array([[1, 2, 3, 4, 5], [6, 7, 8, 9, 10]])\n",
    "print(arr[0:2, 1:4])"
   ]
  },
  {
   "cell_type": "code",
   "execution_count": null,
   "id": "ab83145e-358a-46c5-a04f-243a77f0de62",
   "metadata": {},
   "outputs": [],
   "source": []
  }
 ],
 "metadata": {
  "kernelspec": {
   "display_name": "Python 3 (ipykernel)",
   "language": "python",
   "name": "python3"
  },
  "language_info": {
   "codemirror_mode": {
    "name": "ipython",
    "version": 3
   },
   "file_extension": ".py",
   "mimetype": "text/x-python",
   "name": "python",
   "nbconvert_exporter": "python",
   "pygments_lexer": "ipython3",
   "version": "3.11.4"
  }
 },
 "nbformat": 4,
 "nbformat_minor": 5
}
