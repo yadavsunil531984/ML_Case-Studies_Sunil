{
 "cells": [
  {
   "cell_type": "markdown",
   "id": "9a130cee-8cf0-4d35-b4eb-fbda6316d82d",
   "metadata": {},
   "source": [
    "## NumPy ufuncs"
   ]
  },
  {
   "cell_type": "markdown",
   "id": "8d5c450e-d91a-4fb2-ba42-18c9dcf0a853",
   "metadata": {},
   "source": [
    "### What are ufuncs?\n",
    "- ufuncs stands for \"Universal Functions\" and they are NumPy functions that operate on the ndarray object.\n",
    "\n",
    "### Why use ufuncs?\n",
    "- ufuncs are used to implement vectorization in NumPy which is way faster than iterating over elements.\n",
    "- They also provide broadcasting and additional methods like reduce, accumulate etc. that are very helpful for computation.\n",
    "- ufuncs also take additional arguments, like:\n",
    "   1) where boolean array or condition defining where the operations should take place.\n",
    "   2) dtype defining the return type of elements.\n",
    "   3) out output array where the return value should be copied.\n",
    "\n",
    "### What is Vectorization?\n",
    "- Converting iterative statements into a vector based operation is called vectorization.\n",
    "- It is faster as modern CPUs are optimized for such operations."
   ]
  },
  {
   "cell_type": "markdown",
   "id": "03144601-639d-4c5e-a202-40c2224e41f8",
   "metadata": {},
   "source": [
    "## Simple Arithmetic"
   ]
  },
  {
   "cell_type": "code",
   "execution_count": 3,
   "id": "87da23e3-9997-4f71-a633-335143956af3",
   "metadata": {},
   "outputs": [],
   "source": [
    "import numpy as np"
   ]
  },
  {
   "cell_type": "markdown",
   "id": "ab6ece90-8b1b-4dd7-8954-19f847009fe8",
   "metadata": {},
   "source": [
    "#### 1. Addition of Array"
   ]
  },
  {
   "cell_type": "code",
   "execution_count": 12,
   "id": "968f0ccb-69fc-42de-b039-08ab0ccaf13b",
   "metadata": {},
   "outputs": [
    {
     "name": "stdout",
     "output_type": "stream",
     "text": [
      "[30 32 34 36 38 40]\n"
     ]
    }
   ],
   "source": [
    "# Add the values in arr1 to the values in arr2:\n",
    "arr1 = np.array([10, 11, 12, 13, 14, 15])\n",
    "arr2 = np.array([20, 21, 22, 23, 24, 25])\n",
    "newarr = np.add(arr1, arr2)\n",
    "print(newarr)"
   ]
  },
  {
   "cell_type": "markdown",
   "id": "c03636ae-c15b-47d7-acc8-2fe7c88f9c85",
   "metadata": {},
   "source": [
    "#### 2. Subtraction of Array"
   ]
  },
  {
   "cell_type": "code",
   "execution_count": null,
   "id": "a26d91b0-4d02-4373-bfec-4210ff27921e",
   "metadata": {},
   "outputs": [],
   "source": [
    "# Subtract the values in arr2 from the values in arr1:\n",
    "arr1 = np.array([10, 20, 30, 40, 50, 60])\n",
    "arr2 = np.array([20, 21, 22, 23, 24, 25])\n",
    "newarr = np.subtract(arr1, arr2)\n",
    "print(newarr)"
   ]
  },
  {
   "cell_type": "markdown",
   "id": "d14dc8d5-2aed-432e-b99d-2916ea871205",
   "metadata": {},
   "source": [
    "#### 3. Multiplication"
   ]
  },
  {
   "cell_type": "code",
   "execution_count": null,
   "id": "61a5f503-48b5-4537-bbb3-063e0afee14d",
   "metadata": {},
   "outputs": [],
   "source": [
    "# Multiply the values in arr1 with the values in arr2:\n",
    "arr1 = np.array([10, 20, 30, 40, 50, 60])\n",
    "arr2 = np.array([20, 21, 22, 23, 24, 25])\n",
    "newarr = np.multiply(arr1, arr2)\n",
    "print(newarr)"
   ]
  },
  {
   "cell_type": "markdown",
   "id": "51462f65-71c5-4d53-a2f7-e94df7154d2a",
   "metadata": {},
   "source": [
    "#### 4. Dot Product"
   ]
  },
  {
   "cell_type": "code",
   "execution_count": 10,
   "id": "ff509742-d56a-441f-9856-7f68e0489314",
   "metadata": {},
   "outputs": [
    {
     "name": "stdout",
     "output_type": "stream",
     "text": [
      "4900\n"
     ]
    }
   ],
   "source": [
    "# Multiply the values in arr1 with the values in arr2:\n",
    "arr1 = np.array([10, 20, 30, 40, 50, 60])\n",
    "arr2 = np.array([20, 21, 22, 23, 24, 25])\n",
    "newarr = np.dot(arr1, arr2)\n",
    "print(newarr)"
   ]
  },
  {
   "cell_type": "markdown",
   "id": "cd5fb16b-2eb3-4171-b4ad-2030f7f4df61",
   "metadata": {},
   "source": [
    "#### 5. Division"
   ]
  },
  {
   "cell_type": "code",
   "execution_count": null,
   "id": "b26131f7-71a7-49b7-9dd0-5f609b5ee017",
   "metadata": {},
   "outputs": [],
   "source": [
    "# Divide the values in arr1 with the values in arr2:\n",
    "arr1 = np.array([10, 20, 30, 40, 50, 60])\n",
    "arr2 = np.array([3, 5, 10, 8, 2, 33])\n",
    "newarr = np.divide(arr1, arr2)\n",
    "print(newarr)"
   ]
  },
  {
   "cell_type": "markdown",
   "id": "06fae7f1-74e4-4a4b-b64f-414a43d16dbf",
   "metadata": {},
   "source": [
    "#### 6. Exponentiation between array"
   ]
  },
  {
   "cell_type": "code",
   "execution_count": null,
   "id": "2542bca8-9437-4163-b311-4aa52ef83198",
   "metadata": {},
   "outputs": [],
   "source": [
    "# Raise the valules in arr1 to the power of values in arr2:\n",
    "arr1 = np.array([10, 20, 30, 40, 50, 60])\n",
    "arr2 = np.array([3, 5, 6, 8, 2, 33])\n",
    "newarr = np.power(arr1, arr2)\n",
    "print(newarr)"
   ]
  },
  {
   "cell_type": "markdown",
   "id": "0a137937-de56-4c34-8526-7c387a89aee2",
   "metadata": {},
   "source": [
    "#### 7. Remainder"
   ]
  },
  {
   "cell_type": "code",
   "execution_count": null,
   "id": "da462fab-f899-4e3c-af5c-77c408002af8",
   "metadata": {},
   "outputs": [],
   "source": [
    "# Return the remainders:\n",
    "arr1 = np.array([10, 20, 30, 40, 50, 60])\n",
    "arr2 = np.array([3, 7, 9, 8, 2, 33])\n",
    "newarr = np.mod(arr1, arr2)\n",
    "print(newarr)"
   ]
  },
  {
   "cell_type": "markdown",
   "id": "053c7887-a8f6-4ca3-ba27-29fb9f3068c4",
   "metadata": {},
   "source": [
    "#### 8. Quation and Remainder"
   ]
  },
  {
   "cell_type": "code",
   "execution_count": null,
   "id": "d5921c3a-d30e-424e-9202-a183bf844895",
   "metadata": {},
   "outputs": [],
   "source": [
    "# Return the quotient and mod:\n",
    "arr1 = np.array([10, 20, 30, 40, 50, 60])\n",
    "arr2 = np.array([3, 7, 9, 8, 2, 33])\n",
    "newarr = np.divmod(arr1, arr2)\n",
    "print(newarr)"
   ]
  },
  {
   "cell_type": "markdown",
   "id": "2c156128-dc24-4e0c-9fd6-6527b41fd337",
   "metadata": {},
   "source": [
    "## Advance Arithmatic"
   ]
  },
  {
   "cell_type": "markdown",
   "id": "5a4d2a5b-db6d-493a-b80e-18f9a5f26e45",
   "metadata": {},
   "source": [
    "#### 1.Exponentiation"
   ]
  },
  {
   "cell_type": "code",
   "execution_count": 5,
   "id": "7ad38fc9-49d0-4959-9e85-d58e23126086",
   "metadata": {},
   "outputs": [
    {
     "name": "stdout",
     "output_type": "stream",
     "text": [
      "[ 100  400  900 1600 2500 3600]\n"
     ]
    }
   ],
   "source": [
    "arr1 = np.array([10, 20, 30, 40, 50, 60])\n",
    "newarr = np.square(arr1)\n",
    "print(newarr)"
   ]
  },
  {
   "cell_type": "code",
   "execution_count": 6,
   "id": "ebf421e8-5452-4f3c-aaaa-ce09d7af4d20",
   "metadata": {},
   "outputs": [
    {
     "name": "stdout",
     "output_type": "stream",
     "text": [
      "[  1000   8000  27000  64000 125000 216000]\n"
     ]
    }
   ],
   "source": [
    "arr1 = np.array([10, 20, 30, 40, 50, 60])\n",
    "newarr = np.power(arr1, 3)\n",
    "print(newarr)"
   ]
  },
  {
   "cell_type": "code",
   "execution_count": 8,
   "id": "769d728d-ca9a-4bce-b269-638392ed38ce",
   "metadata": {},
   "outputs": [
    {
     "name": "stdout",
     "output_type": "stream",
     "text": [
      "[   100000   3200000  24300000 102400000 312500000 777600000]\n"
     ]
    }
   ],
   "source": [
    "arr1 = np.array([10, 20, 30, 40, 50, 60])\n",
    "newarr = np.power(arr1, 5)\n",
    "print(newarr)"
   ]
  },
  {
   "cell_type": "markdown",
   "id": "8e9f1ad9-5f96-4565-b7fa-e5f4770aae67",
   "metadata": {},
   "source": [
    "#### 2.Logarithm"
   ]
  },
  {
   "cell_type": "code",
   "execution_count": 19,
   "id": "851c2031-c1ff-4549-9baa-ac37d1be1576",
   "metadata": {},
   "outputs": [
    {
     "name": "stdout",
     "output_type": "stream",
     "text": [
      "[3.32192809 4.32192809 4.9068906  5.32192809 5.64385619 5.9068906 ]\n"
     ]
    }
   ],
   "source": [
    "# Find log at base 2 of all elements of following array:\n",
    "arr = np.array([10, 20, 30, 40, 50, 60])\n",
    "print(np.log2(arr))"
   ]
  },
  {
   "cell_type": "code",
   "execution_count": 20,
   "id": "6f3864a6-be90-4798-a3e1-59af22360d5c",
   "metadata": {},
   "outputs": [
    {
     "name": "stdout",
     "output_type": "stream",
     "text": [
      "[1.         1.30103    1.47712125 1.60205999 1.69897    1.77815125]\n"
     ]
    }
   ],
   "source": [
    "# Find log at base 10 of all elements of following array:\n",
    "arr = np.array([10, 20, 30, 40, 50, 60])\n",
    "print(np.log10(arr))"
   ]
  },
  {
   "cell_type": "code",
   "execution_count": 21,
   "id": "9b032337-2650-4e4f-b241-c0a5c564f51a",
   "metadata": {},
   "outputs": [
    {
     "name": "stdout",
     "output_type": "stream",
     "text": [
      "[2.30258509 2.99573227 3.40119738 3.68887945 3.91202301 4.09434456]\n"
     ]
    }
   ],
   "source": [
    "# Find log at base e of all elements of following array:\n",
    "arr = np.array([10, 20, 30, 40, 50, 60])\n",
    "print(np.log(arr))"
   ]
  },
  {
   "cell_type": "code",
   "execution_count": 23,
   "id": "b299953f-f858-4806-9f48-b1c63027ea24",
   "metadata": {},
   "outputs": [
    {
     "data": {
      "text/plain": [
       "array([0.85027415, 1.10623218, 1.25595802, 1.3621902 , 1.44459028,\n",
       "       1.51191605])"
      ]
     },
     "execution_count": 23,
     "metadata": {},
     "output_type": "execute_result"
    }
   ],
   "source": [
    "# Find log at base 15 of all elements of following array:\n",
    "arr = np.array([10, 20, 30, 40, 50, 60])\n",
    "newarr = np.log(arr) / np.log(15)\n",
    "print(newarr)"
   ]
  },
  {
   "cell_type": "markdown",
   "id": "797e2672-b379-4597-afc1-d4654f497975",
   "metadata": {},
   "source": [
    "#### 3.LCM Lowest Common Multiple"
   ]
  },
  {
   "cell_type": "code",
   "execution_count": 30,
   "id": "a6f2a637-c036-44d7-b862-5b6ad09d4573",
   "metadata": {},
   "outputs": [
    {
     "name": "stdout",
     "output_type": "stream",
     "text": [
      "12\n"
     ]
    }
   ],
   "source": [
    "# Find the LCM of the following two numbers:\n",
    "num1 = 4\n",
    "num2 = 6\n",
    "arr = np.array([4, 6])\n",
    "x = np.lcm(num1,num2)\n",
    "print(x)"
   ]
  },
  {
   "cell_type": "code",
   "execution_count": 31,
   "id": "51b83aa2-4bec-4e01-8b96-420b6d239a37",
   "metadata": {},
   "outputs": [
    {
     "name": "stdout",
     "output_type": "stream",
     "text": [
      "18\n"
     ]
    }
   ],
   "source": [
    "# Find the LCM of the values of the following array:\n",
    "arr = np.array([3, 6, 9])\n",
    "x = np.lcm.reduce(arr)\n",
    "print(x)"
   ]
  },
  {
   "cell_type": "markdown",
   "id": "f93b7b5c-eb4a-408e-b37b-9df3f130df71",
   "metadata": {},
   "source": [
    "#### 4.GCD Greatest Common Denominator"
   ]
  },
  {
   "cell_type": "code",
   "execution_count": 32,
   "id": "4f96c1c6-c19c-479c-94ab-bee744e42246",
   "metadata": {},
   "outputs": [
    {
     "name": "stdout",
     "output_type": "stream",
     "text": [
      "3\n"
     ]
    }
   ],
   "source": [
    "# Find the HCF of the following two numbers:\n",
    "num1 = 6\n",
    "num2 = 9\n",
    "x = np.gcd(num1, num2)\n",
    "print(x)"
   ]
  },
  {
   "cell_type": "code",
   "execution_count": 33,
   "id": "5e7efe1e-b54c-45d4-b180-b12791b5506a",
   "metadata": {},
   "outputs": [
    {
     "name": "stdout",
     "output_type": "stream",
     "text": [
      "4\n"
     ]
    }
   ],
   "source": [
    "# Find the GCD for all of the numbers in the following array:\n",
    "arr = np.array([20, 8, 32, 36, 16])\n",
    "x = np.gcd.reduce(arr)\n",
    "print(x)"
   ]
  },
  {
   "cell_type": "markdown",
   "id": "8470afb7-8b44-4f25-b95f-cc05b9302cd6",
   "metadata": {},
   "source": [
    "#### 5.Summation"
   ]
  },
  {
   "cell_type": "code",
   "execution_count": 9,
   "id": "07f91e5f-d043-435a-9984-ed4a2b9d8b0f",
   "metadata": {},
   "outputs": [
    {
     "name": "stdout",
     "output_type": "stream",
     "text": [
      "210\n"
     ]
    }
   ],
   "source": [
    "arr1 = np.array([10, 20, 30, 40, 50, 60])\n",
    "newarr = np.sum(arr1)\n",
    "print(newarr)"
   ]
  },
  {
   "cell_type": "code",
   "execution_count": 16,
   "id": "cb0eccaf-0f54-4676-9d9d-4b6182a4239c",
   "metadata": {},
   "outputs": [
    {
     "name": "stdout",
     "output_type": "stream",
     "text": [
      "12\n"
     ]
    }
   ],
   "source": [
    "arr1 = np.array([1, 2, 3])\n",
    "arr2 = np.array([1, 2, 3])\n",
    "newarr = np.sum([arr1, arr2])\n",
    "print(newarr)"
   ]
  },
  {
   "cell_type": "markdown",
   "id": "098099ec-db4f-41c4-98c8-591120d90213",
   "metadata": {},
   "source": [
    "#### 6.Product"
   ]
  },
  {
   "cell_type": "code",
   "execution_count": 11,
   "id": "af6c06a1-7a0d-4b7b-9495-9e157d0ab72d",
   "metadata": {},
   "outputs": [
    {
     "name": "stdout",
     "output_type": "stream",
     "text": [
      "24\n"
     ]
    }
   ],
   "source": [
    "# Find the product of the elements of this array:\n",
    "arr = np.array([1, 2, 3, 4])\n",
    "x = np.prod(arr)\n",
    "print(x)"
   ]
  },
  {
   "cell_type": "code",
   "execution_count": 18,
   "id": "644c91b5-052f-4a40-a5ab-43860a7d313d",
   "metadata": {},
   "outputs": [
    {
     "name": "stdout",
     "output_type": "stream",
     "text": [
      "40320\n"
     ]
    }
   ],
   "source": [
    "# Find the product of the elements of two arrays:\n",
    "arr1 = np.array([1, 2, 3, 4])\n",
    "arr2 = np.array([5, 6, 7, 8])\n",
    "x = np.prod([arr1, arr2])\n",
    "print(x)"
   ]
  },
  {
   "cell_type": "markdown",
   "id": "b0c377c5-2261-42f5-b867-b949ab1d4bac",
   "metadata": {},
   "source": [
    "#### 7.Roundoff"
   ]
  },
  {
   "cell_type": "code",
   "execution_count": 39,
   "id": "e2d6cf41-b685-434f-bf28-ce22a53156ab",
   "metadata": {},
   "outputs": [
    {
     "name": "stdout",
     "output_type": "stream",
     "text": [
      "3.17\n"
     ]
    }
   ],
   "source": [
    "# Round off 3.1666 to 2 decimal places:\n",
    "arr = np.around(3.166666, 2)\n",
    "print(arr)"
   ]
  },
  {
   "cell_type": "code",
   "execution_count": 40,
   "id": "729877b4-eaea-40ea-9c49-d1d4a68082e5",
   "metadata": {},
   "outputs": [
    {
     "name": "stdout",
     "output_type": "stream",
     "text": [
      "[3.17 5.34 7.33 4.67 8.44]\n"
     ]
    }
   ],
   "source": [
    "arr = np.array([3.16666, 5.34444,7.33355,4.66677,8.44433])\n",
    "newarr = np.around(arr, 2)\n",
    "print(newarr)"
   ]
  },
  {
   "cell_type": "code",
   "execution_count": 41,
   "id": "bcf043f0-0274-469e-9964-4d4d66ca655d",
   "metadata": {},
   "outputs": [
    {
     "name": "stdout",
     "output_type": "stream",
     "text": [
      "[3.167 5.344 7.334 4.667 8.444]\n"
     ]
    }
   ],
   "source": [
    "arr = np.array([3.16666, 5.34444,7.33355,4.66677,8.44433])\n",
    "newarr = np.around(arr, 3)\n",
    "print(newarr)"
   ]
  },
  {
   "cell_type": "code",
   "execution_count": 42,
   "id": "4dffe054-c69b-4381-b2bc-a9b4f3146606",
   "metadata": {},
   "outputs": [
    {
     "name": "stdout",
     "output_type": "stream",
     "text": [
      "[3. 5. 7. 5. 8.]\n"
     ]
    }
   ],
   "source": [
    "arr = np.array([3.16666, 5.34444,7.33355,4.66677,8.44433])\n",
    "newarr = np.around(arr, 0)\n",
    "print(newarr)"
   ]
  },
  {
   "cell_type": "markdown",
   "id": "6d805669-6979-4726-b66a-35f150d37771",
   "metadata": {},
   "source": [
    "#### 8.Absolute"
   ]
  },
  {
   "cell_type": "code",
   "execution_count": null,
   "id": "42b4b146-36c4-401e-a048-616160cd9c8b",
   "metadata": {},
   "outputs": [],
   "source": [
    "# Return the quotient and mod:\n",
    "arr = np.array([-1, -2, 1, 2, 3, -4])\n",
    "newarr = np.absolute(arr)\n",
    "print(newarr)"
   ]
  },
  {
   "cell_type": "markdown",
   "id": "34264605-c55d-4bc1-81fb-0a28eb86ec61",
   "metadata": {},
   "source": [
    "#### 9.Sorting"
   ]
  },
  {
   "cell_type": "code",
   "execution_count": 49,
   "id": "5c656417-b721-482a-8147-4326ba09c8d4",
   "metadata": {},
   "outputs": [
    {
     "name": "stdout",
     "output_type": "stream",
     "text": [
      "[0 1 2 3]\n"
     ]
    }
   ],
   "source": [
    "# Sort the array:\n",
    "arr = np.array([3, 2, 0, 1])\n",
    "print(np.sort(arr))"
   ]
  },
  {
   "cell_type": "code",
   "execution_count": 50,
   "id": "faf16d1d-5942-41c3-9840-15e1329a4dd0",
   "metadata": {},
   "outputs": [
    {
     "name": "stdout",
     "output_type": "stream",
     "text": [
      "['apple' 'banana' 'cherry']\n"
     ]
    }
   ],
   "source": [
    "# Sort the array alphabetically:\n",
    "arr = np.array(['banana', 'cherry', 'apple'])\n",
    "print(np.sort(arr))"
   ]
  },
  {
   "cell_type": "markdown",
   "id": "c260c0b2-e293-4dfc-a29e-5c33424175c0",
   "metadata": {},
   "source": [
    "## Trignoimetry Function"
   ]
  },
  {
   "cell_type": "code",
   "execution_count": 43,
   "id": "27f370bf-b29a-46b7-9752-65e6229e6fdd",
   "metadata": {},
   "outputs": [
    {
     "name": "stdout",
     "output_type": "stream",
     "text": [
      "1.0\n"
     ]
    }
   ],
   "source": [
    "x = np.sin(np.pi/2)\n",
    "print(x)"
   ]
  },
  {
   "cell_type": "code",
   "execution_count": null,
   "id": "52b2f7d3-33ad-4185-b9f1-aa0597b9d202",
   "metadata": {},
   "outputs": [],
   "source": [
    "arr = np.array([np.pi/2, np.pi/3, np.pi/4, np.pi/5])\n",
    "x = np.sin(arr)\n",
    "print(x)"
   ]
  },
  {
   "cell_type": "code",
   "execution_count": null,
   "id": "26e92f91-2000-45a6-9bb3-dcda093dfdd5",
   "metadata": {},
   "outputs": [],
   "source": [
    "x = np.sinh(np.pi/2)\n",
    "print(x)"
   ]
  },
  {
   "cell_type": "markdown",
   "id": "4ab213dc-bdcb-4a29-960f-247e9750a578",
   "metadata": {},
   "source": [
    "## Convertion between  Degrees and Radians\n",
    "- By default all of the trigonometric functions take radians as parameters but we can convert radians to degrees and vice versa as well in NumPy."
   ]
  },
  {
   "cell_type": "code",
   "execution_count": 47,
   "id": "58a25809-3723-4e20-9c5f-be5870280c14",
   "metadata": {},
   "outputs": [
    {
     "name": "stdout",
     "output_type": "stream",
     "text": [
      "[1.57079633 3.14159265 4.71238898 6.28318531]\n"
     ]
    }
   ],
   "source": [
    "# Degree to radian\n",
    "arr = np.array([90, 180, 270, 360])\n",
    "x = np.deg2rad(arr)\n",
    "print(x)"
   ]
  },
  {
   "cell_type": "code",
   "execution_count": 48,
   "id": "9d22f036-e6aa-434c-a889-f673c805c3b2",
   "metadata": {},
   "outputs": [
    {
     "name": "stdout",
     "output_type": "stream",
     "text": [
      "[ 90. 180. 270. 360.]\n"
     ]
    }
   ],
   "source": [
    "# Radians to Degrees\n",
    "arr = np.array([np.pi/2, np.pi, 1.5*np.pi, 2*np.pi])\n",
    "x = np.rad2deg(arr)\n",
    "print(x)"
   ]
  },
  {
   "cell_type": "markdown",
   "id": "4ae445ea-57ad-4d6f-8f69-194abb5cd839",
   "metadata": {},
   "source": [
    "## Set Operation"
   ]
  },
  {
   "cell_type": "code",
   "execution_count": null,
   "id": "efe6af3d-40dc-4697-bcdd-c3f3fd5040be",
   "metadata": {},
   "outputs": [],
   "source": [
    "# Convert following array with repeated elements to a set:\n",
    "arr = np.array([1, 1, 1, 2, 3, 4, 5, 5, 6, 7])\n",
    "x = np.unique(arr)\n",
    "print(x)"
   ]
  },
  {
   "cell_type": "code",
   "execution_count": null,
   "id": "44ace10d-4348-4060-8edf-91a27c47e318",
   "metadata": {},
   "outputs": [],
   "source": [
    "# Find union of the following two set arrays:\n",
    "arr1 = np.array([1, 2, 3, 4])\n",
    "arr2 = np.array([3, 4, 5, 6])\n",
    "newarr = np.union1d(arr1, arr2)\n",
    "print(newarr)"
   ]
  },
  {
   "cell_type": "code",
   "execution_count": null,
   "id": "bf42d506-f9b7-4f09-bad1-f1bc95c44833",
   "metadata": {},
   "outputs": [],
   "source": [
    "# Find intersection of the following two set arrays:\n",
    "arr1 = np.array([1, 2, 3, 4])\n",
    "arr2 = np.array([3, 4, 5, 6])\n",
    "newarr = np.intersect1d(arr1, arr2, assume_unique=True)\n",
    "print(newarr)"
   ]
  },
  {
   "cell_type": "code",
   "execution_count": null,
   "id": "a8dc324c-de06-48c3-b947-7b20a7e44545",
   "metadata": {},
   "outputs": [],
   "source": [
    "# Find the difference of the set1 from set2:\n",
    "set1 = np.array([1, 2, 3, 4])\n",
    "set2 = np.array([3, 4, 5, 6])\n",
    "newarr = np.setdiff1d(set1, set2, assume_unique=True)\n",
    "print(newarr)"
   ]
  },
  {
   "cell_type": "code",
   "execution_count": null,
   "id": "66626f84-7628-4504-8544-ecf339e0b908",
   "metadata": {},
   "outputs": [],
   "source": [
    "# Find the symmetric difference of the set1 and set2:\n",
    "set1 = np.array([1, 2, 3, 4])\n",
    "set2 = np.array([3, 4, 5, 6])\n",
    "newarr = np.setxor1d(set1, set2, assume_unique=True)\n",
    "print(newarr)"
   ]
  },
  {
   "cell_type": "code",
   "execution_count": null,
   "id": "d82682f1-ab68-4cdf-8421-f90ae7a6cff7",
   "metadata": {},
   "outputs": [],
   "source": []
  }
 ],
 "metadata": {
  "kernelspec": {
   "display_name": "Python 3 (ipykernel)",
   "language": "python",
   "name": "python3"
  },
  "language_info": {
   "codemirror_mode": {
    "name": "ipython",
    "version": 3
   },
   "file_extension": ".py",
   "mimetype": "text/x-python",
   "name": "python",
   "nbconvert_exporter": "python",
   "pygments_lexer": "ipython3",
   "version": "3.11.4"
  }
 },
 "nbformat": 4,
 "nbformat_minor": 5
}
