{
 "cells": [
  {
   "cell_type": "markdown",
   "id": "904ddae8-b39e-4a7a-85bc-9e72cb829107",
   "metadata": {},
   "source": [
    "## Create a NumPy ndarray Object\n",
    "- NumPy is used to work with arrays. \n",
    "- The array object in NumPy is called ndarray.\n",
    "- We can create a NumPy ndarray object by using the array() function."
   ]
  },
  {
   "cell_type": "markdown",
   "id": "7fd16b39-8139-41e7-b962-cf06e39b95dc",
   "metadata": {},
   "source": [
    "### Create Numpy Array using List"
   ]
  },
  {
   "cell_type": "code",
   "execution_count": 1,
   "id": "32b935d0-a7c2-491c-adff-bf067ce12b11",
   "metadata": {},
   "outputs": [],
   "source": [
    "import numpy as np"
   ]
  },
  {
   "cell_type": "code",
   "execution_count": null,
   "id": "bd885a15-2733-45bf-9fff-b45a1b8ee779",
   "metadata": {},
   "outputs": [],
   "source": [
    "arr1 = np.array([1, 2, 3, 4, 5])\n",
    "print(arr1)"
   ]
  },
  {
   "cell_type": "code",
   "execution_count": null,
   "id": "9c52a68a-c705-464b-93d5-dc886d77643d",
   "metadata": {},
   "outputs": [],
   "source": [
    "print(type(arr1))"
   ]
  },
  {
   "cell_type": "markdown",
   "id": "122d501d-09a8-4e8b-9019-d9e98927c0d3",
   "metadata": {},
   "source": [
    "### Create Numpy Array using Tuple"
   ]
  },
  {
   "cell_type": "code",
   "execution_count": null,
   "id": "a242f82d-6641-48ba-9e3a-e41797fec602",
   "metadata": {},
   "outputs": [],
   "source": [
    "arr2 = np.array((1, 2, 3, 4, 5))\n",
    "print(arr2)"
   ]
  },
  {
   "cell_type": "code",
   "execution_count": null,
   "id": "fcec9aed-6484-4e2c-b05d-67be8ef8cb7e",
   "metadata": {},
   "outputs": [],
   "source": [
    "print(type(arr2))"
   ]
  },
  {
   "cell_type": "markdown",
   "id": "56ac5fef-50ea-4a36-b852-82209f014859",
   "metadata": {},
   "source": [
    "## Dimensions in Arrays\n",
    "- \n",
    "A dimension in arrays is one level of array depth (nested arrays)."
   ]
  },
  {
   "cell_type": "markdown",
   "id": "0ca23d27-930c-42e0-b733-1682b8ec2b6a",
   "metadata": {},
   "source": [
    "### 0-D Arrays\n",
    "- 0-D arrays, or Scalars, are the elements in an array. Each value in an array is a 0-D array."
   ]
  },
  {
   "cell_type": "code",
   "execution_count": null,
   "id": "d34dd6be-4a86-4019-be4e-313b7001d45b",
   "metadata": {},
   "outputs": [],
   "source": [
    "# Create a 0-D array with value 34\n",
    "arr = np.array(34)\n",
    "print(arr)"
   ]
  },
  {
   "cell_type": "markdown",
   "id": "14373805-dec0-4c5f-ad53-5f717dc718ba",
   "metadata": {},
   "source": [
    "### 1-D Arrays\n",
    "- An array that has 0-D arrays as its elements is called uni-dimensional or 1-D array.\n",
    "- These are the most common and basic arrays."
   ]
  },
  {
   "cell_type": "code",
   "execution_count": null,
   "id": "85258e39-d460-44db-a153-1896fefb29fe",
   "metadata": {},
   "outputs": [],
   "source": [
    "# Create a 1-D array containing the values 6,3,5,4,8:\n",
    "arr = np.array([6,3,5,4,8])\n",
    "print(arr)"
   ]
  },
  {
   "cell_type": "markdown",
   "id": "802947db-4803-4a27-8573-e20cfc14bb54",
   "metadata": {},
   "source": [
    "### 2-D Arrays\n",
    "- An array that has 1-D arrays as its elements is called a 2-D array.\n",
    "- These are often used to represent matrix or 2nd order tensors."
   ]
  },
  {
   "cell_type": "code",
   "execution_count": null,
   "id": "b8d58654-ba2e-48a5-a2b4-a05b3fc20efb",
   "metadata": {},
   "outputs": [],
   "source": [
    "# Create a 2-D array containing two arrays with the values 1,2,3 and 4,5,6:\n",
    "arr = np.array([[1, 2, 3], [4, 5, 6]])\n",
    "print(arr)"
   ]
  },
  {
   "cell_type": "markdown",
   "id": "1904d29c-4424-4967-b121-3510a1f8c1c9",
   "metadata": {},
   "source": [
    "### 3-D arrays\n",
    "- An array that has 2-D arrays (matrices) as its elements is called 3-D array.\n",
    "- These are often used to represent a 3rd order tensor."
   ]
  },
  {
   "cell_type": "code",
   "execution_count": null,
   "id": "390ceaf9-c6f8-47a2-b32e-fb7feee7b30e",
   "metadata": {},
   "outputs": [],
   "source": [
    "# Create a 3-D array with two 2-D arrays, both containing two arrays with the values 1,2,3 and 4,5,6:\n",
    "arr = np.array([[[1, 2, 3], [4, 5, 6]], [[1, 2, 3], [4, 5, 6]]])\n",
    "print(arr)"
   ]
  },
  {
   "cell_type": "markdown",
   "id": "19e3c02b-da92-4ae9-a7ad-6064f1a98a4e",
   "metadata": {},
   "source": [
    "## How to check Number of Dimensions?"
   ]
  },
  {
   "cell_type": "code",
   "execution_count": 2,
   "id": "67341181-450c-46aa-aeb0-cfb7b5bca19b",
   "metadata": {},
   "outputs": [
    {
     "name": "stdout",
     "output_type": "stream",
     "text": [
      "0\n",
      "1\n",
      "2\n",
      "3\n"
     ]
    }
   ],
   "source": [
    "# Check how many dimensions the arrays have:\n",
    "a = np.array(42)\n",
    "b = np.array([1, 2, 3, 4, 5])\n",
    "c = np.array([[1, 2, 3], [4, 5, 6]])\n",
    "d = np.array([[[1, 2, 3], [4, 5, 6]], [[1, 2, 3], [4, 5, 6]]])\n",
    "\n",
    "print(a.ndim)\n",
    "print(b.ndim)\n",
    "print(c.ndim)\n",
    "print(d.ndim)"
   ]
  },
  {
   "cell_type": "markdown",
   "id": "f8228be0-ee85-41b7-8eb7-680ab41470b0",
   "metadata": {},
   "source": [
    "## NumPy Array Shape"
   ]
  },
  {
   "cell_type": "markdown",
   "id": "b47bc04e-42b3-4a94-a5d9-969992179ce3",
   "metadata": {},
   "source": [
    "### Shape of an Array\n",
    "- The shape of an array is the number of elements in each dimension.\n",
    "### Get the Shape of an Array\r",
    "- \n",
    "NumPy arrays have an attribute called shape that returns a tuple with each index having the number of corresponding elements."
   ]
  },
  {
   "cell_type": "code",
   "execution_count": 3,
   "id": "b2a90340-dbdb-400d-9ea7-000aac1f34af",
   "metadata": {},
   "outputs": [
    {
     "name": "stdout",
     "output_type": "stream",
     "text": [
      "(2, 4)\n"
     ]
    }
   ],
   "source": [
    "arr = np.array([[1, 2, 3, 4], [5, 6, 7, 8]])\n",
    "print(arr.shape)"
   ]
  },
  {
   "cell_type": "code",
   "execution_count": 4,
   "id": "52641aa9-80a3-4eb1-a681-1b0c63e23707",
   "metadata": {},
   "outputs": [
    {
     "name": "stdout",
     "output_type": "stream",
     "text": [
      "(4,)\n"
     ]
    }
   ],
   "source": [
    "arr = np.array([1, 2, 3, 4])\n",
    "print(arr.shape)"
   ]
  },
  {
   "cell_type": "markdown",
   "id": "6dbc7281-58f3-431f-a556-6a44536ae5b6",
   "metadata": {},
   "source": [
    "## NumPy Array Reshaping"
   ]
  },
  {
   "cell_type": "markdown",
   "id": "2f502db8-bb90-42dc-97c4-b1b16601db79",
   "metadata": {},
   "source": [
    "### Reshaping arrays\n",
    "- Reshaping means changing the shape of an array.\n",
    "- By reshaping we can add or remove dimensions or change number of elements in each dimension."
   ]
  },
  {
   "cell_type": "code",
   "execution_count": null,
   "id": "8aef740a-2246-45a1-80ad-30e2f7335b4f",
   "metadata": {},
   "outputs": [],
   "source": [
    "# Reshape 1-D to 2-D\n",
    "arr = np.array([1, 2, 3, 4, 5, 6, 7, 8, 9, 10, 11, 12])\n",
    "newarr = arr.reshape(4, 3)\n",
    "print(newarr)"
   ]
  },
  {
   "cell_type": "code",
   "execution_count": null,
   "id": "2f873543-67d9-4ef3-986c-7b7d25ec9c44",
   "metadata": {},
   "outputs": [],
   "source": [
    "# Reshape 1-D to 3-D\n",
    "arr = np.array([1, 2, 3, 4, 5, 6, 7, 8, 9, 10, 11, 12])\n",
    "newarr = arr.reshape(2, 3, 2)\n",
    "print(newarr)"
   ]
  },
  {
   "cell_type": "code",
   "execution_count": null,
   "id": "65f07401-f6b1-4575-b32f-aa1b7d0dcebc",
   "metadata": {},
   "outputs": [],
   "source": [
    "arr = np.array([1, 2, 3, 4, 5, 6, 7, 8])\n",
    "newarr = arr.reshape(3, 3)\n",
    "print(newarr)"
   ]
  },
  {
   "cell_type": "code",
   "execution_count": null,
   "id": "e3202d77-ff9c-4829-a124-29918ac91457",
   "metadata": {},
   "outputs": [],
   "source": []
  }
 ],
 "metadata": {
  "kernelspec": {
   "display_name": "Python 3 (ipykernel)",
   "language": "python",
   "name": "python3"
  },
  "language_info": {
   "codemirror_mode": {
    "name": "ipython",
    "version": 3
   },
   "file_extension": ".py",
   "mimetype": "text/x-python",
   "name": "python",
   "nbconvert_exporter": "python",
   "pygments_lexer": "ipython3",
   "version": "3.11.4"
  }
 },
 "nbformat": 4,
 "nbformat_minor": 5
}
