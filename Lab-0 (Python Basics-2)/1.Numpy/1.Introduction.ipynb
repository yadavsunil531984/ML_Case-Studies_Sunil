{
 "cells": [
  {
   "cell_type": "markdown",
   "id": "b06c4fe5-92b0-483a-861e-c68236b9ac46",
   "metadata": {},
   "source": [
    "### What is NumPy?\n",
    "- NumPy is a Python library used for working with arrays.\n",
    "- It also has functions for working in domain of linear algebra, fourier transform, and matrices.\n",
    "- NumPy was created in 2005 by Travis Oliphant. It is an open source project and you can use it freely.\n",
    "- NumPy stands for Numerical Python.\n",
    "\n"
   ]
  },
  {
   "cell_type": "markdown",
   "id": "d21698bc-ad85-4d08-8a62-d2f0ad8b483c",
   "metadata": {},
   "source": [
    "### Why Use NumPy?\n",
    "- In Python we have lists that serve the purpose of arrays, but they are slow to process.\n",
    "- NumPy aims to provide an array object that is up to 50x faster than traditional Python lists.\n",
    "- The array object in NumPy is called ndarray, it provides a lot of supporting functions that make working with ndarray very easy.\n",
    "- Arrays are very frequently used in data science, where speed and resources are very important."
   ]
  },
  {
   "cell_type": "markdown",
   "id": "2743ebe9-16a3-423a-aa43-c709fc1d797a",
   "metadata": {},
   "source": [
    "### Why is NumPy Faster Than Lists?\n",
    "- NumPy arrays are stored at one continuous place in memory unlike lists, so processes can access and manipulate them very efficiently.\n",
    "- This behavior is called locality of reference in computer science.\n",
    "- This is the main reason why NumPy is faster than lists. Also it is optimized to work with latest CPU architectures.\n",
    "\n"
   ]
  },
  {
   "cell_type": "markdown",
   "id": "cbe51bf5-b96e-48c4-a358-be8d0f355f7e",
   "metadata": {},
   "source": [
    "### How to install of NumPy package ?\n",
    "- !pip install numpy"
   ]
  },
  {
   "cell_type": "code",
   "execution_count": null,
   "id": "c7105d5c-84fd-41ed-875a-ccdee272a398",
   "metadata": {},
   "outputs": [],
   "source": [
    "!pip install numpy"
   ]
  },
  {
   "cell_type": "markdown",
   "id": "5351edfc-6442-40a3-8f6a-5fb25f141347",
   "metadata": {},
   "source": [
    "### How to Import NumPy Package ?\n",
    "- import numpy as np"
   ]
  },
  {
   "cell_type": "code",
   "execution_count": 4,
   "id": "632f485b-f2bf-4702-8e51-2660a1918489",
   "metadata": {},
   "outputs": [],
   "source": [
    "import numpy as np"
   ]
  },
  {
   "cell_type": "markdown",
   "id": "939cb004-6491-4f71-8725-eb06a0228e24",
   "metadata": {},
   "source": [
    "### How to Cheack Numpy Version ?"
   ]
  },
  {
   "cell_type": "code",
   "execution_count": 16,
   "id": "a7a3b7ba-b4b9-49b2-81a8-72665504de08",
   "metadata": {},
   "outputs": [
    {
     "data": {
      "text/plain": [
       "'2.0.1'"
      ]
     },
     "execution_count": 16,
     "metadata": {},
     "output_type": "execute_result"
    }
   ],
   "source": [
    "np.__version__"
   ]
  },
  {
   "cell_type": "markdown",
   "id": "fed61e64-a093-4ef8-b686-e39f6591ea35",
   "metadata": {},
   "source": [
    "### How to Create NumPy array ?"
   ]
  },
  {
   "cell_type": "code",
   "execution_count": 7,
   "id": "897e7bff-5c8e-40eb-9876-8c145160d7d9",
   "metadata": {},
   "outputs": [
    {
     "name": "stdout",
     "output_type": "stream",
     "text": [
      "[1 2 3 4 5]\n"
     ]
    }
   ],
   "source": [
    "arr1 = np.array([11, 23, 32, 41, 57])\n",
    "arr1"
   ]
  },
  {
   "cell_type": "code",
   "execution_count": 8,
   "id": "f6d129f4-0fe9-428e-baaf-e6c299d6bfea",
   "metadata": {},
   "outputs": [
    {
     "data": {
      "text/plain": [
       "array([11, 23, 32, 41, 57])"
      ]
     },
     "execution_count": 8,
     "metadata": {},
     "output_type": "execute_result"
    }
   ],
   "source": [
    "arr2 = np.array([11, 23, 32, 41, 57])\n",
    "arr2"
   ]
  },
  {
   "cell_type": "code",
   "execution_count": 11,
   "id": "da4c1009-09c0-4fc4-a481-3756ab515c15",
   "metadata": {},
   "outputs": [
    {
     "data": {
      "text/plain": [
       "array(['a', 'b', 'c', 'd', 'e'], dtype='<U1')"
      ]
     },
     "execution_count": 11,
     "metadata": {},
     "output_type": "execute_result"
    }
   ],
   "source": [
    "arr3 = np.array(['a','b','c','d','e'])\n",
    "arr3"
   ]
  },
  {
   "cell_type": "markdown",
   "id": "f8917478-1b91-48ec-ab34-5418a048e8ea",
   "metadata": {},
   "source": [
    "### How to Check datatype of Numpy Object ?"
   ]
  },
  {
   "cell_type": "code",
   "execution_count": 12,
   "id": "ee15674d-61cd-47fa-a07c-df9e52d66248",
   "metadata": {},
   "outputs": [
    {
     "data": {
      "text/plain": [
       "array([11, 23, 32, 41, 57])"
      ]
     },
     "execution_count": 12,
     "metadata": {},
     "output_type": "execute_result"
    }
   ],
   "source": [
    "arr1 = np.array([11, 23, 32, 41, 57])\n",
    "arr1"
   ]
  },
  {
   "cell_type": "code",
   "execution_count": 13,
   "id": "4907e0c5-60ae-482d-98e6-41feb530ebae",
   "metadata": {},
   "outputs": [
    {
     "data": {
      "text/plain": [
       "numpy.ndarray"
      ]
     },
     "execution_count": 13,
     "metadata": {},
     "output_type": "execute_result"
    }
   ],
   "source": [
    "type(arr1)"
   ]
  },
  {
   "cell_type": "code",
   "execution_count": null,
   "id": "fda5a8e2-6a84-46a3-a988-84defb5e4933",
   "metadata": {},
   "outputs": [],
   "source": []
  }
 ],
 "metadata": {
  "kernelspec": {
   "display_name": "Python 3 (ipykernel)",
   "language": "python",
   "name": "python3"
  },
  "language_info": {
   "codemirror_mode": {
    "name": "ipython",
    "version": 3
   },
   "file_extension": ".py",
   "mimetype": "text/x-python",
   "name": "python",
   "nbconvert_exporter": "python",
   "pygments_lexer": "ipython3",
   "version": "3.11.4"
  }
 },
 "nbformat": 4,
 "nbformat_minor": 5
}
