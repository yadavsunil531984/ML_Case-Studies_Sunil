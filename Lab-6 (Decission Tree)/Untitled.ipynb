{
 "cells": [
  {
   "cell_type": "code",
   "execution_count": 2,
   "id": "93b759d9-2f1a-411b-a58c-fa3b3e23f1cf",
   "metadata": {},
   "outputs": [],
   "source": [
    "import numpy as np"
   ]
  },
  {
   "cell_type": "code",
   "execution_count": 3,
   "id": "ab0a8624-176c-472a-9ec8-34a98cb6f141",
   "metadata": {},
   "outputs": [],
   "source": [
    "X_train = np.array([[1,1,1],[1,0,1],[1,0,0],[1,0,0],[1,1,1],[0,1,1],[0,0,0],[1,0,1],[0,1,0],[1,0,0]])\n",
    "y_train = np.array([1,1,0,0,1,0,0,1,1,0])"
   ]
  },
  {
   "cell_type": "code",
   "execution_count": 14,
   "id": "5f80ecdd-3c76-4c72-8c9d-e38054c9c919",
   "metadata": {},
   "outputs": [
    {
     "data": {
      "text/plain": [
       "array([[1, 1, 1],\n",
       "       [1, 0, 1],\n",
       "       [1, 0, 0],\n",
       "       [1, 0, 0],\n",
       "       [1, 1, 1],\n",
       "       [0, 1, 1],\n",
       "       [0, 0, 0],\n",
       "       [1, 0, 1],\n",
       "       [0, 1, 0],\n",
       "       [1, 0, 0]])"
      ]
     },
     "execution_count": 14,
     "metadata": {},
     "output_type": "execute_result"
    }
   ],
   "source": [
    "X_train"
   ]
  },
  {
   "cell_type": "code",
   "execution_count": 11,
   "id": "1b23bcb9-7eea-4a12-bb2c-1f40c28e7eb5",
   "metadata": {},
   "outputs": [],
   "source": [
    "def cal_entropy():\n",
    "    n1 = np.sum(y_train == 1)\n",
    "    n2 = np.sum(y_train == 0)\n",
    "    p = n1/(n1+n2)\n",
    "    H = -p * np.log(p) / np.log(2) - (1 - p) * np.log(1 - p) / np.log(2)\n",
    "    return H"
   ]
  },
  {
   "cell_type": "code",
   "execution_count": 13,
   "id": "85c6692f-ad7b-49e0-9df3-022ffca8661c",
   "metadata": {},
   "outputs": [
    {
     "data": {
      "text/plain": [
       "1.0"
      ]
     },
     "execution_count": 13,
     "metadata": {},
     "output_type": "execute_result"
    }
   ],
   "source": [
    "h = cal_entropy()\n",
    "h"
   ]
  },
  {
   "cell_type": "code",
   "execution_count": null,
   "id": "2b669674-a5e1-4fcf-a8eb-ef686a2c0ca0",
   "metadata": {},
   "outputs": [],
   "source": [
    "def cal_feature_entropy():\n",
    "    n0 = np.sum(y_train == 0)\n",
    "    n1 = np.sum(y_train == 1)\n",
    "    n10 = \n",
    "    n11 = \n",
    "    n01 =\n",
    "    n00 = \n",
    "    H0 = \n",
    "    H1 =\n",
    "    E = \n",
    "    "
   ]
  }
 ],
 "metadata": {
  "kernelspec": {
   "display_name": "Python 3 (ipykernel)",
   "language": "python",
   "name": "python3"
  },
  "language_info": {
   "codemirror_mode": {
    "name": "ipython",
    "version": 3
   },
   "file_extension": ".py",
   "mimetype": "text/x-python",
   "name": "python",
   "nbconvert_exporter": "python",
   "pygments_lexer": "ipython3",
   "version": "3.11.4"
  }
 },
 "nbformat": 4,
 "nbformat_minor": 5
}
