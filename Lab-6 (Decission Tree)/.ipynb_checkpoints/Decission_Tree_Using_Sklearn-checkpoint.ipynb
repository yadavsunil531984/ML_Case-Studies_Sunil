{
 "cells": [
  {
   "cell_type": "markdown",
   "id": "a9ce02c8-dd4b-432f-babd-69c749b253d1",
   "metadata": {},
   "source": [
    "## Example-1"
   ]
  },
  {
   "cell_type": "markdown",
   "id": "00dbb955-7f5e-4c0e-a6ab-544f0907ed99",
   "metadata": {},
   "source": [
    "### 1. Import the Libraries"
   ]
  },
  {
   "cell_type": "code",
   "execution_count": null,
   "id": "390df6ec-63bc-4414-a600-9d98bdbada9b",
   "metadata": {},
   "outputs": [],
   "source": [
    "import pandas as pd\n",
    "from sklearn.model_selection import train_test_split\n",
    "from sklearn.tree import DecisionTreeClassifier\n",
    "from sklearn.metrics import accuracy_score, confusion_matrix, classification_report\n",
    "from sklearn import tree\n",
    "import matplotlib.pyplot as plt"
   ]
  },
  {
   "cell_type": "markdown",
   "id": "e63dbaa2-c624-48ca-a067-51a8817b9cf2",
   "metadata": {},
   "source": [
    "### 2. Load the Dataset"
   ]
  },
  {
   "cell_type": "code",
   "execution_count": null,
   "id": "a172b369-e5cb-43b1-844b-6e92644aeaa0",
   "metadata": {},
   "outputs": [],
   "source": [
    "# Load training and test datasets\n",
    "df_train = pd.read_csv(\"buy_comp_train_data.csv\")\n",
    "df_test = pd.read_csv(\"buy_comp_test_data.csv\")"
   ]
  },
  {
   "cell_type": "code",
   "execution_count": null,
   "id": "718d0f7b-1453-4e62-a4ef-5fe1bb3062cf",
   "metadata": {},
   "outputs": [],
   "source": [
    "df_train.head()"
   ]
  },
  {
   "cell_type": "code",
   "execution_count": null,
   "id": "883472e1-5c59-468b-af94-885e4015fd11",
   "metadata": {},
   "outputs": [],
   "source": [
    "df_test.head()"
   ]
  },
  {
   "cell_type": "markdown",
   "id": "c3eaa2ae-46f2-43a7-9c66-415ab84b4ea8",
   "metadata": {},
   "source": [
    "### 3. One-Hot Encoding and Restoring Target Variable"
   ]
  },
  {
   "cell_type": "code",
   "execution_count": null,
   "id": "b5efeb21-5243-4957-bde9-6f4f31446639",
   "metadata": {},
   "outputs": [],
   "source": [
    "# Converting categorical variables to numerical using one-hot encoding\n",
    "df_encoded_train = pd.get_dummies(df_train.drop('Buy Comp', axis=1))\n",
    "df_encoded_test = pd.get_dummies(df_test.drop('Buy Comp', axis=1))\n",
    "\n",
    "# Align the columns in the test set to match the train set\n",
    "df_encoded_test = df_encoded_test.reindex(columns=df_encoded_train.columns, fill_value=0)\n",
    "\n",
    "# After One hot encoding again add target column\n",
    "df_encoded_train['Buy Comp'] = df_train['Buy Comp']  \n",
    "df_encoded_test['Buy Comp'] = df_test['Buy Comp']"
   ]
  },
  {
   "cell_type": "markdown",
   "id": "4cbd7f48-ca00-466c-854a-01a607da3efe",
   "metadata": {},
   "source": [
    "### 4. Splitting Features and Target for Training and Testing"
   ]
  },
  {
   "cell_type": "code",
   "execution_count": null,
   "id": "afd832b4-44ca-49e5-88e7-eb71ccd3135a",
   "metadata": {},
   "outputs": [],
   "source": [
    "# Split features and target\n",
    "X_train = df_encoded_train.drop('Buy Comp', axis=1)  # Features\n",
    "y_train = df_encoded_train['Buy Comp']  # Target\n",
    "\n",
    "# In the test set, we don't have the target, so just use the features\n",
    "X_test = df_encoded_test.drop('Buy Comp', axis=1)"
   ]
  },
  {
   "cell_type": "markdown",
   "id": "edef66b1-bc65-4a75-a0a3-32ad0b6e6b42",
   "metadata": {},
   "source": [
    "### 5. Train the Decision Tree Classifier"
   ]
  },
  {
   "cell_type": "code",
   "execution_count": null,
   "id": "d6da0ccf-a77e-4dfc-bdad-76348c5e378c",
   "metadata": {},
   "outputs": [],
   "source": [
    "# Train the Decision Tree Classifier\n",
    "clf = DecisionTreeClassifier(criterion='entropy', random_state=42)\n",
    "clf.fit(X_train, y_train)"
   ]
  },
  {
   "cell_type": "markdown",
   "id": "01fe3db8-9035-4af5-b6d5-ec22f6fc417c",
   "metadata": {},
   "source": [
    "### 6. Vizualise the Tree"
   ]
  },
  {
   "cell_type": "code",
   "execution_count": null,
   "id": "324ac2c7-d51c-4221-bd84-ee5e02423bba",
   "metadata": {},
   "outputs": [],
   "source": [
    "plt.figure(figsize=(12,8))\n",
    "tree.plot_tree(clf, feature_names=X_train.columns, class_names=['No', 'Yes'], filled=True)\n",
    "plt.show()"
   ]
  },
  {
   "cell_type": "markdown",
   "id": "136689b8-d1ff-40b1-9f92-341e8645b306",
   "metadata": {},
   "source": [
    "### 7. Predict the test set results"
   ]
  },
  {
   "cell_type": "code",
   "execution_count": null,
   "id": "1ce74534-6896-4e21-89fd-04eb2b25dc1f",
   "metadata": {},
   "outputs": [],
   "source": [
    "# Predict the test set results\n",
    "y_pred = clf.predict(X_test)\n",
    "print(y_pred)"
   ]
  },
  {
   "cell_type": "markdown",
   "id": "96c1aa18-48c2-4550-81d4-f118a59b59df",
   "metadata": {},
   "source": [
    "## Example-2"
   ]
  },
  {
   "cell_type": "markdown",
   "id": "47592053-a335-43b9-aa70-699fe123a7b7",
   "metadata": {},
   "source": [
    "### 1. Import the Libraries"
   ]
  },
  {
   "cell_type": "code",
   "execution_count": null,
   "id": "91d8f178-760a-4718-a226-77be55fd4330",
   "metadata": {},
   "outputs": [],
   "source": [
    "import pandas as pd\n",
    "from sklearn.model_selection import train_test_split\n",
    "from sklearn.tree import DecisionTreeClassifier\n",
    "from sklearn.metrics import accuracy_score, confusion_matrix, classification_report\n",
    "from sklearn import tree\n",
    "import matplotlib.pyplot as plt"
   ]
  },
  {
   "cell_type": "markdown",
   "id": "ac942e60-ead7-404e-8892-bb3a85e38b28",
   "metadata": {},
   "source": [
    "### 2. Load the Datasets"
   ]
  },
  {
   "cell_type": "code",
   "execution_count": null,
   "id": "d85f3b62-d3b3-4f79-b535-71a35b08e601",
   "metadata": {},
   "outputs": [],
   "source": [
    "df = pd.read_csv(\"play_tennis_full.csv\")\n",
    "print(len(df))\n",
    "df.head()"
   ]
  },
  {
   "cell_type": "markdown",
   "id": "1f8d095e-21e1-45ee-9118-8d01c6c8a3d8",
   "metadata": {},
   "source": [
    "### 3. Binary encoding the target variable"
   ]
  },
  {
   "cell_type": "code",
   "execution_count": null,
   "id": "284ab6f6-3703-4211-b13c-5488bb41fcd0",
   "metadata": {},
   "outputs": [],
   "source": [
    "# Converting categorical variables to numerical using one-hot encoding\n",
    "df_encoded = pd.get_dummies(df.drop('PlayTennis', axis=1))\n",
    "df_encoded['PlayTennis'] = df['PlayTennis'].map({'Yes': 1, 'No': 0})  # Binary encoding for the target\n",
    "\n",
    "X = df_encoded.drop('PlayTennis', axis=1)  # Features\n",
    "y = df_encoded['PlayTennis']  # Target"
   ]
  },
  {
   "cell_type": "markdown",
   "id": "791d4d0f-e05e-4541-9c3a-f46f47515223",
   "metadata": {},
   "source": [
    "### 4. Splitting the data into test and train sets"
   ]
  },
  {
   "cell_type": "code",
   "execution_count": null,
   "id": "3f66b3fe-04d2-45da-a216-7b0b8fdb8594",
   "metadata": {},
   "outputs": [],
   "source": [
    "X_train, X_test, y_train, y_test = train_test_split(X, y, test_size=0.3, random_state=42)"
   ]
  },
  {
   "cell_type": "code",
   "execution_count": null,
   "id": "25cc79a4-3504-4574-b76c-b4851b538b03",
   "metadata": {},
   "outputs": [],
   "source": [
    "X_test"
   ]
  },
  {
   "cell_type": "markdown",
   "id": "8d7de526-7c60-4ccd-8e06-8cce5adcf904",
   "metadata": {},
   "source": [
    "### 5. Using the built-in function for decision tree classifier"
   ]
  },
  {
   "cell_type": "code",
   "execution_count": null,
   "id": "5ddf506d-8be8-4303-b419-c4621fb0a317",
   "metadata": {},
   "outputs": [],
   "source": [
    "# Train the Decision Tree Classifier\n",
    "clf = DecisionTreeClassifier(criterion='entropy', random_state=42)\n",
    "clf.fit(X_train, y_train)"
   ]
  },
  {
   "cell_type": "code",
   "execution_count": null,
   "id": "2940cb13-0f0f-4c34-8882-121a54706e96",
   "metadata": {},
   "outputs": [],
   "source": []
  },
  {
   "cell_type": "code",
   "execution_count": null,
   "id": "f041ec36-00e0-4559-9134-4d3bae507ac6",
   "metadata": {},
   "outputs": [],
   "source": [
    "plt.figure(figsize=(12,8))\n",
    "tree.plot_tree(clf, feature_names=X.columns, class_names=['No', 'Yes'], filled=True)\n",
    "plt.show()"
   ]
  },
  {
   "cell_type": "markdown",
   "id": "317eda35-18d0-4c4b-86df-916bc9212120",
   "metadata": {},
   "source": [
    "### 6. Model Prediction"
   ]
  },
  {
   "cell_type": "code",
   "execution_count": null,
   "id": "e50e6eb1-60df-4e53-95c2-0141f4688032",
   "metadata": {},
   "outputs": [],
   "source": [
    "# Predict the test set results\n",
    "y_pred = clf.predict(X_test)\n",
    "y_pred"
   ]
  },
  {
   "cell_type": "markdown",
   "id": "8e06a24e-3f0e-4b03-8972-0d7217091fd9",
   "metadata": {},
   "source": [
    "### 7. Model Evaluation"
   ]
  },
  {
   "cell_type": "code",
   "execution_count": null,
   "id": "f16707ba-3d35-4398-924d-23cc3eb24bd1",
   "metadata": {},
   "outputs": [],
   "source": [
    "import seaborn as sns\n",
    "import numpy as np\n",
    "\n",
    "# Compute the confusion matrix\n",
    "conf_matrix = confusion_matrix(y_test, y_pred)\n",
    "\n",
    "# Create a heatmap for the confusion matrix with borders\n",
    "plt.figure(figsize=(6,4))\n",
    "sns.heatmap(conf_matrix, annot=True, cmap=\"Blues\", fmt='g', \n",
    "            xticklabels=['Yes', 'No'], \n",
    "            yticklabels=['Yes', 'No'], \n",
    "            linewidths=0.8, linecolor='black')\n",
    "\n",
    "# Add titles and labels\n",
    "plt.title('Confusion Matrix with Borders')\n",
    "plt.xlabel('Predicted Labels')\n",
    "plt.ylabel('True Labels')\n",
    "\n",
    "# Show the plot\n",
    "plt.show()"
   ]
  },
  {
   "cell_type": "code",
   "execution_count": null,
   "id": "a5766a09-e644-4aff-879a-f724518b3b17",
   "metadata": {},
   "outputs": [],
   "source": [
    "# Evaluate the model\n",
    "print(\"\\nClassification Report:\\n\", classification_report(y_test, y_pred))"
   ]
  },
  {
   "cell_type": "code",
   "execution_count": null,
   "id": "46cb9c2d-fefc-41c4-8d1c-d05e05ecfdc4",
   "metadata": {},
   "outputs": [],
   "source": [
    "print(\"\\nClassification Report:\\n\", classification_report(y_test, y_pred))"
   ]
  },
  {
   "cell_type": "markdown",
   "id": "3ca4d1d5-e476-4998-aca5-a73f6da8cf8a",
   "metadata": {},
   "source": [
    "## Example-3"
   ]
  },
  {
   "cell_type": "raw",
   "id": "8c58ee8c-8467-473d-8982-8f72476ab36e",
   "metadata": {},
   "source": [
    "Design a Decision Tree classifier for the iris dataset for flower species classification with attributes as sepal length, sepal width, petal length, and petal width"
   ]
  },
  {
   "cell_type": "markdown",
   "id": "1b9b353d-b70e-4b7e-ab3b-af174e20d382",
   "metadata": {},
   "source": [
    "### 1. Import the Libraries"
   ]
  },
  {
   "cell_type": "code",
   "execution_count": null,
   "id": "5c1814e3-0d01-4fed-b618-be25fb2558dd",
   "metadata": {},
   "outputs": [],
   "source": [
    "# Load a sample dataset using sklearn \n",
    "from sklearn.datasets import load_iris\n",
    "from sklearn.tree import DecisionTreeClassifier\n",
    "from sklearn.model_selection import train_test_split\n",
    "from sklearn.metrics import accuracy_score, confusion_matrix, classification_report\n",
    "from sklearn import tree\n",
    "import matplotlib.pyplot as plt\n",
    "import numpy as np\n",
    "iris = load_iris()"
   ]
  },
  {
   "cell_type": "markdown",
   "id": "c1b4b24f-d9e9-45b6-9c29-9b50440205af",
   "metadata": {},
   "source": [
    "### 2. Load the Datasets"
   ]
  },
  {
   "cell_type": "code",
   "execution_count": null,
   "id": "4aa351b2-669c-44db-87b5-7752a622759c",
   "metadata": {},
   "outputs": [],
   "source": [
    "# Create a DataFrame\n",
    "df = pd.DataFrame(iris.data, columns=iris.feature_names)\n",
    "df['target'] = iris.target\n",
    "print(len(df))\n",
    "df.head()"
   ]
  },
  {
   "cell_type": "markdown",
   "id": "51b200e9-59c8-4e72-9471-37bae3ac9d19",
   "metadata": {},
   "source": [
    "### 3. Binary encoding the target variable"
   ]
  },
  {
   "cell_type": "code",
   "execution_count": null,
   "id": "56598662-e136-414b-ba99-78d6e348b5ab",
   "metadata": {},
   "outputs": [],
   "source": [
    "df_encoded = pd.get_dummies(df.drop('target', axis=1))\n",
    "df_encoded['target'] = df['target'].map({0: 'Setosa', 1: 'Versicolor',2:'Virginica'}) \n",
    "X = df_encoded.drop('target', axis=1)  # Features\n",
    "y = df_encoded['target']  # Target"
   ]
  },
  {
   "cell_type": "markdown",
   "id": "4f83a897-07c8-48a0-8e02-ffb89917a86e",
   "metadata": {},
   "source": [
    "### 4. Splitting the Datasets into Train and Test set"
   ]
  },
  {
   "cell_type": "code",
   "execution_count": null,
   "id": "4af2b1cf-6dd4-41a1-a1fc-51daa346b652",
   "metadata": {},
   "outputs": [],
   "source": [
    "X_train, X_test, y_train, y_test = train_test_split(X, y, test_size=0.20, random_state=42)"
   ]
  },
  {
   "cell_type": "markdown",
   "id": "1e63c6d0-336b-42c4-9e3e-fd5e5fda6a3a",
   "metadata": {},
   "source": [
    "### 5. Train the Classifier"
   ]
  },
  {
   "cell_type": "code",
   "execution_count": null,
   "id": "fc4fc127-06d0-4729-ab32-5f47eb2f6228",
   "metadata": {},
   "outputs": [],
   "source": [
    "# Train the Decision Tree Classifier\n",
    "clf = DecisionTreeClassifier(criterion='entropy', random_state=42)\n",
    "clf.fit(X_train, y_train)"
   ]
  },
  {
   "cell_type": "markdown",
   "id": "8f73345e-d046-44e6-a4c9-422bfd5bb096",
   "metadata": {},
   "source": [
    "### 6. Predict and evalaute the model"
   ]
  },
  {
   "cell_type": "code",
   "execution_count": null,
   "id": "961d5d9a-9bc8-4426-a975-5d3992bc9d95",
   "metadata": {},
   "outputs": [],
   "source": [
    "# Predict the test set results\n",
    "y_pred = clf.predict(X_test)\n",
    "y_pred"
   ]
  },
  {
   "cell_type": "markdown",
   "id": "fe26970b-d042-4afa-9d31-dc1ee0452222",
   "metadata": {},
   "source": [
    "### 7. Evaluate the Model"
   ]
  },
  {
   "cell_type": "code",
   "execution_count": null,
   "id": "f0a1b518-2ca5-4be9-ac3a-1f759b60b24c",
   "metadata": {},
   "outputs": [],
   "source": [
    "# Compute the confusion matrix\n",
    "conf_matrix = confusion_matrix(y_test, y_pred)\n",
    "\n",
    "# Create a heatmap for the confusion matrix with borders\n",
    "plt.figure(figsize=(8,6))\n",
    "sns.heatmap(conf_matrix, annot=True, cmap=\"Blues\", fmt='g', \n",
    "            xticklabels=['Setosa', 'Versicolor', 'Virginica'], \n",
    "            yticklabels=['Setosa', 'Versicolor', 'Virginica'], \n",
    "            linewidths=0.8, linecolor='black')\n",
    "\n",
    "# Add titles and labels\n",
    "plt.title('Confusion Matrix with Borders')\n",
    "plt.xlabel('Predicted Labels')\n",
    "plt.ylabel('True Labels')\n",
    "\n",
    "# Show the plot\n",
    "plt.show()\n"
   ]
  },
  {
   "cell_type": "code",
   "execution_count": null,
   "id": "34d634e3-4af3-4b05-96a6-213d91590c4e",
   "metadata": {},
   "outputs": [],
   "source": [
    "# Evaluate the model\n",
    "print(\"Accuracy:\", accuracy_score(y_test, y_pred))"
   ]
  },
  {
   "cell_type": "code",
   "execution_count": null,
   "id": "59e56b77-aca0-4908-a327-d4b3bed210dd",
   "metadata": {},
   "outputs": [],
   "source": [
    "print(\"\\nClassification Report:\\n\", classification_report(y_test, y_pred))"
   ]
  },
  {
   "cell_type": "markdown",
   "id": "11d442f0-1cb4-457f-a0de-e44e8e460477",
   "metadata": {},
   "source": [
    "### 8. Visualizing the Decision Tree"
   ]
  },
  {
   "cell_type": "code",
   "execution_count": null,
   "id": "9fc6008d-4818-4937-8b9e-9fdf37938daf",
   "metadata": {},
   "outputs": [],
   "source": [
    "plt.figure(figsize=(10,8))\n",
    "tree.plot_tree(clf, feature_names=X.columns, class_names=['Setosa', 'Versicolor','Virginica' ], filled=True)\n",
    "plt.show()"
   ]
  },
  {
   "cell_type": "markdown",
   "id": "e31ff2cb-7154-4a65-8e80-c4475bad8784",
   "metadata": {},
   "source": [
    "## Example-4:"
   ]
  },
  {
   "cell_type": "raw",
   "id": "cfe2181d-6b9a-473a-a4a7-c1511b63851e",
   "metadata": {},
   "source": [
    "Evaluation Problem: Design a Decision Tree classifier for the iris dataset for flower species classification with attributes as sepal length, sepal width, petal length, and petal width"
   ]
  },
  {
   "cell_type": "code",
   "execution_count": null,
   "id": "3170c9bf-7560-493a-b5d3-b4c6eb6b896c",
   "metadata": {},
   "outputs": [],
   "source": [
    "df = pd.read_csv(\"House_Data.csv\")\n",
    "print(len(df))\n",
    "df.head()"
   ]
  },
  {
   "cell_type": "code",
   "execution_count": null,
   "id": "4c6af1f8-88ea-4a5a-9599-9c85816e2582",
   "metadata": {},
   "outputs": [],
   "source": [
    "df = df.drop('Id', axis=1)\n",
    "df.head()"
   ]
  },
  {
   "cell_type": "code",
   "execution_count": null,
   "id": "dcd3934a-51dc-4735-9aa1-ecff4541fb50",
   "metadata": {},
   "outputs": [],
   "source": []
  },
  {
   "cell_type": "code",
   "execution_count": null,
   "id": "efe839cf-fb3a-4ac4-b909-cc09aa0baff6",
   "metadata": {},
   "outputs": [],
   "source": []
  },
  {
   "cell_type": "code",
   "execution_count": null,
   "id": "49c72212-d169-47cc-99c4-5dfca9f81dbf",
   "metadata": {},
   "outputs": [],
   "source": []
  }
 ],
 "metadata": {
  "kernelspec": {
   "display_name": "Python 3 (ipykernel)",
   "language": "python",
   "name": "python3"
  },
  "language_info": {
   "codemirror_mode": {
    "name": "ipython",
    "version": 3
   },
   "file_extension": ".py",
   "mimetype": "text/x-python",
   "name": "python",
   "nbconvert_exporter": "python",
   "pygments_lexer": "ipython3",
   "version": "3.11.4"
  }
 },
 "nbformat": 4,
 "nbformat_minor": 5
}
