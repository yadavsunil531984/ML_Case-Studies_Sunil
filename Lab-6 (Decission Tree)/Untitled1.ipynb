{
 "cells": [
  {
   "cell_type": "markdown",
   "id": "0445ed20-b0c4-442e-bc54-4a77da8e0954",
   "metadata": {},
   "source": [
    "### 1. Load the Datasets"
   ]
  },
  {
   "cell_type": "code",
   "execution_count": 1,
   "id": "831c2d42-ff61-4804-a36d-49d71a079236",
   "metadata": {},
   "outputs": [],
   "source": [
    "import pandas as pd #for manipulating the csv data\n",
    "import numpy as np #for mathematical calculation"
   ]
  },
  {
   "cell_type": "code",
   "execution_count": 2,
   "id": "84a96fc5-f651-4337-8a0b-7fee515d7f47",
   "metadata": {},
   "outputs": [
    {
     "data": {
      "text/html": [
       "<div>\n",
       "<style scoped>\n",
       "    .dataframe tbody tr th:only-of-type {\n",
       "        vertical-align: middle;\n",
       "    }\n",
       "\n",
       "    .dataframe tbody tr th {\n",
       "        vertical-align: top;\n",
       "    }\n",
       "\n",
       "    .dataframe thead th {\n",
       "        text-align: right;\n",
       "    }\n",
       "</style>\n",
       "<table border=\"1\" class=\"dataframe\">\n",
       "  <thead>\n",
       "    <tr style=\"text-align: right;\">\n",
       "      <th></th>\n",
       "      <th>Outlook</th>\n",
       "      <th>Temperature</th>\n",
       "      <th>Humidity</th>\n",
       "      <th>Wind</th>\n",
       "      <th>Play Tennis</th>\n",
       "    </tr>\n",
       "  </thead>\n",
       "  <tbody>\n",
       "    <tr>\n",
       "      <th>0</th>\n",
       "      <td>Sunny</td>\n",
       "      <td>Hot</td>\n",
       "      <td>High</td>\n",
       "      <td>Weak</td>\n",
       "      <td>No</td>\n",
       "    </tr>\n",
       "    <tr>\n",
       "      <th>1</th>\n",
       "      <td>Sunny</td>\n",
       "      <td>Hot</td>\n",
       "      <td>High</td>\n",
       "      <td>Strong</td>\n",
       "      <td>No</td>\n",
       "    </tr>\n",
       "    <tr>\n",
       "      <th>2</th>\n",
       "      <td>Overcast</td>\n",
       "      <td>Hot</td>\n",
       "      <td>High</td>\n",
       "      <td>Weak</td>\n",
       "      <td>Yes</td>\n",
       "    </tr>\n",
       "    <tr>\n",
       "      <th>3</th>\n",
       "      <td>Rain</td>\n",
       "      <td>Mild</td>\n",
       "      <td>High</td>\n",
       "      <td>Weak</td>\n",
       "      <td>Yes</td>\n",
       "    </tr>\n",
       "    <tr>\n",
       "      <th>4</th>\n",
       "      <td>Rain</td>\n",
       "      <td>Cool</td>\n",
       "      <td>Normal</td>\n",
       "      <td>Weak</td>\n",
       "      <td>Yes</td>\n",
       "    </tr>\n",
       "    <tr>\n",
       "      <th>5</th>\n",
       "      <td>Rain</td>\n",
       "      <td>Cool</td>\n",
       "      <td>Normal</td>\n",
       "      <td>Strong</td>\n",
       "      <td>No</td>\n",
       "    </tr>\n",
       "    <tr>\n",
       "      <th>6</th>\n",
       "      <td>Overcast</td>\n",
       "      <td>Cool</td>\n",
       "      <td>Normal</td>\n",
       "      <td>Strong</td>\n",
       "      <td>Yes</td>\n",
       "    </tr>\n",
       "    <tr>\n",
       "      <th>7</th>\n",
       "      <td>Sunny</td>\n",
       "      <td>Mild</td>\n",
       "      <td>High</td>\n",
       "      <td>Weak</td>\n",
       "      <td>No</td>\n",
       "    </tr>\n",
       "    <tr>\n",
       "      <th>8</th>\n",
       "      <td>Sunny</td>\n",
       "      <td>Cool</td>\n",
       "      <td>Normal</td>\n",
       "      <td>Weak</td>\n",
       "      <td>Yes</td>\n",
       "    </tr>\n",
       "    <tr>\n",
       "      <th>9</th>\n",
       "      <td>Rain</td>\n",
       "      <td>Mild</td>\n",
       "      <td>Normal</td>\n",
       "      <td>Weak</td>\n",
       "      <td>Yes</td>\n",
       "    </tr>\n",
       "    <tr>\n",
       "      <th>10</th>\n",
       "      <td>Sunny</td>\n",
       "      <td>Mild</td>\n",
       "      <td>Normal</td>\n",
       "      <td>Strong</td>\n",
       "      <td>Yes</td>\n",
       "    </tr>\n",
       "    <tr>\n",
       "      <th>11</th>\n",
       "      <td>Overcast</td>\n",
       "      <td>Mild</td>\n",
       "      <td>High</td>\n",
       "      <td>Strong</td>\n",
       "      <td>Yes</td>\n",
       "    </tr>\n",
       "    <tr>\n",
       "      <th>12</th>\n",
       "      <td>Overcast</td>\n",
       "      <td>Hot</td>\n",
       "      <td>Normal</td>\n",
       "      <td>Weak</td>\n",
       "      <td>Yes</td>\n",
       "    </tr>\n",
       "    <tr>\n",
       "      <th>13</th>\n",
       "      <td>Rain</td>\n",
       "      <td>Mild</td>\n",
       "      <td>High</td>\n",
       "      <td>Strong</td>\n",
       "      <td>No</td>\n",
       "    </tr>\n",
       "  </tbody>\n",
       "</table>\n",
       "</div>"
      ],
      "text/plain": [
       "     Outlook Temperature Humidity    Wind Play Tennis\n",
       "0      Sunny         Hot     High    Weak          No\n",
       "1      Sunny         Hot     High  Strong          No\n",
       "2   Overcast         Hot     High    Weak         Yes\n",
       "3       Rain        Mild     High    Weak         Yes\n",
       "4       Rain        Cool   Normal    Weak         Yes\n",
       "5       Rain        Cool   Normal  Strong          No\n",
       "6   Overcast        Cool   Normal  Strong         Yes\n",
       "7      Sunny        Mild     High    Weak          No\n",
       "8      Sunny        Cool   Normal    Weak         Yes\n",
       "9       Rain        Mild   Normal    Weak         Yes\n",
       "10     Sunny        Mild   Normal  Strong         Yes\n",
       "11  Overcast        Mild     High  Strong         Yes\n",
       "12  Overcast         Hot   Normal    Weak         Yes\n",
       "13      Rain        Mild     High  Strong          No"
      ]
     },
     "execution_count": 2,
     "metadata": {},
     "output_type": "execute_result"
    }
   ],
   "source": [
    "df_train = pd.read_csv(\"PlayTennis.csv\") #importing the dataset from the disk\n",
    "df_train.head(15) #viewing some row of the datase"
   ]
  },
  {
   "cell_type": "code",
   "execution_count": 3,
   "id": "821886c2-e1af-484c-b1c7-30371e8d940d",
   "metadata": {},
   "outputs": [],
   "source": [
    "x1 = df_train['Outlook'].to_numpy()\n",
    "x2 = df_train['Temperature'].to_numpy()\n",
    "x3 = df_train['Humidity'].to_numpy()\n",
    "x4 = df_train['Wind'].to_numpy()\n",
    "y_train = df_train['Play Tennis'].to_numpy()\n",
    "x_train = np.array([x1,x2,x3,x4])\n",
    "all_train = np.array([x1,x2,x3,x4,y_train])\n",
    "all_train = all_train.T\n",
    "n = np.shape(x_train)[0]\n",
    "m = len(x1)\n",
    "#y_train = np.array([y_train])"
   ]
  },
  {
   "cell_type": "code",
   "execution_count": 4,
   "id": "6d897c0a-e693-4093-9ae3-3f60f8d3488e",
   "metadata": {},
   "outputs": [
    {
     "name": "stdout",
     "output_type": "stream",
     "text": [
      "[['Sunny' 'Hot' 'High' 'Weak' 'No']\n",
      " ['Sunny' 'Hot' 'High' 'Strong' 'No']\n",
      " ['Overcast' 'Hot' 'High' 'Weak' 'Yes']\n",
      " ['Rain' 'Mild' 'High' 'Weak' 'Yes']\n",
      " ['Rain' 'Cool' 'Normal' 'Weak' 'Yes']\n",
      " ['Rain' 'Cool' 'Normal' 'Strong' 'No']\n",
      " ['Overcast' 'Cool' 'Normal' 'Strong' 'Yes']\n",
      " ['Sunny' 'Mild' 'High' 'Weak' 'No']\n",
      " ['Sunny' 'Cool' 'Normal' 'Weak' 'Yes']\n",
      " ['Rain' 'Mild' 'Normal' 'Weak' 'Yes']\n",
      " ['Sunny' 'Mild' 'Normal' 'Strong' 'Yes']\n",
      " ['Overcast' 'Mild' 'High' 'Strong' 'Yes']\n",
      " ['Overcast' 'Hot' 'Normal' 'Weak' 'Yes']\n",
      " ['Rain' 'Mild' 'High' 'Strong' 'No']]\n"
     ]
    }
   ],
   "source": [
    "print(all_train)"
   ]
  },
  {
   "cell_type": "code",
   "execution_count": 5,
   "id": "6ebe503d-4dcf-4c64-8e45-80cc0d45bae6",
   "metadata": {},
   "outputs": [
    {
     "data": {
      "text/plain": [
       "4"
      ]
     },
     "execution_count": 5,
     "metadata": {},
     "output_type": "execute_result"
    }
   ],
   "source": [
    "np.shape(x_train)[0]"
   ]
  },
  {
   "cell_type": "code",
   "execution_count": 6,
   "id": "848f55b3-625a-46a0-8dc5-bffd92e12204",
   "metadata": {},
   "outputs": [
    {
     "data": {
      "text/plain": [
       "array(['Sunny', 'Sunny', 'Overcast', 'Rain', 'Rain', 'Rain', 'Overcast',\n",
       "       'Sunny', 'Sunny', 'Rain', 'Sunny', 'Overcast', 'Overcast', 'Rain'],\n",
       "      dtype=object)"
      ]
     },
     "execution_count": 6,
     "metadata": {},
     "output_type": "execute_result"
    }
   ],
   "source": [
    "x1"
   ]
  },
  {
   "cell_type": "code",
   "execution_count": 7,
   "id": "494bea1d-2c4b-4cd7-90ca-82035a26a883",
   "metadata": {},
   "outputs": [
    {
     "data": {
      "text/plain": [
       "array([0., 0.])"
      ]
     },
     "execution_count": 7,
     "metadata": {},
     "output_type": "execute_result"
    }
   ],
   "source": [
    "class_label = np.unique(y_train)\n",
    "labels_count = np.zeros(len(class_label))\n",
    "labels_count"
   ]
  },
  {
   "cell_type": "markdown",
   "id": "e482be92-800c-4903-83a7-1ed0598db790",
   "metadata": {},
   "source": [
    "### 2. Calculate Entropy of Whole Datasets"
   ]
  },
  {
   "cell_type": "code",
   "execution_count": 8,
   "id": "f1822001-f8e8-46b1-8901-76f426b3161d",
   "metadata": {},
   "outputs": [
    {
     "name": "stdout",
     "output_type": "stream",
     "text": [
      "[5. 9.]\n",
      "[0.35714286 0.64285714]\n",
      "[0.53050958 0.40977638]\n",
      "0.9402859586706311\n"
     ]
    }
   ],
   "source": [
    "class_label = np.unique(y_train)\n",
    "labels_count = np.zeros(len(class_label))\n",
    "p = np.zeros(len(class_label))\n",
    "h = np.zeros(len(class_label))\n",
    "\n",
    "i = 0\n",
    "for x in class_label:\n",
    "    labels_count[i] = np.sum(y_train == x)\n",
    "    p[i] = labels_count[i]/m\n",
    "    h[i] = -p[i]*np.log2(p[i])\n",
    "    i = i+1\n",
    "\n",
    "H = np.sum(h)\n",
    "print(labels_count)\n",
    "print(p)\n",
    "print(h)\n",
    "print(H)"
   ]
  },
  {
   "cell_type": "markdown",
   "id": "f7b312b8-3356-4e0b-8f83-01a5043aa8c5",
   "metadata": {},
   "source": [
    "### 3. Calculate Entropy of Features"
   ]
  },
  {
   "cell_type": "code",
   "execution_count": 9,
   "id": "aef44d23-e85b-4c16-89da-678a3af87f72",
   "metadata": {},
   "outputs": [
    {
     "data": {
      "text/plain": [
       "array(['Overcast', 'Rain', 'Sunny'], dtype=object)"
      ]
     },
     "execution_count": 9,
     "metadata": {},
     "output_type": "execute_result"
    }
   ],
   "source": [
    "feature_label = np.unique(x1)\n",
    "feature_label"
   ]
  },
  {
   "cell_type": "code",
   "execution_count": 10,
   "id": "f8e4d4db-06d2-47ee-8be5-597a9304138b",
   "metadata": {},
   "outputs": [
    {
     "data": {
      "text/plain": [
       "array([['Sunny', 'No'],\n",
       "       ['Sunny', 'No'],\n",
       "       ['Overcast', 'Yes'],\n",
       "       ['Rain', 'Yes'],\n",
       "       ['Rain', 'Yes'],\n",
       "       ['Rain', 'No'],\n",
       "       ['Overcast', 'Yes'],\n",
       "       ['Sunny', 'No'],\n",
       "       ['Sunny', 'Yes'],\n",
       "       ['Rain', 'Yes'],\n",
       "       ['Sunny', 'Yes'],\n",
       "       ['Overcast', 'Yes'],\n",
       "       ['Overcast', 'Yes'],\n",
       "       ['Rain', 'No']], dtype=object)"
      ]
     },
     "execution_count": 10,
     "metadata": {},
     "output_type": "execute_result"
    }
   ],
   "source": [
    "mat = np.array([x1,y_train]).T\n",
    "mat"
   ]
  },
  {
   "cell_type": "raw",
   "id": "049749b2-46a3-4b66-9dd5-9fbac927822e",
   "metadata": {},
   "source": [
    "feature_labels_count = np.sum(x1 =='Overcast')\n",
    "feature_labels_count"
   ]
  },
  {
   "cell_type": "code",
   "execution_count": 11,
   "id": "201e7e98-9899-4c35-b4ba-0feb9043f5df",
   "metadata": {},
   "outputs": [
    {
     "data": {
      "text/plain": [
       "4"
      ]
     },
     "execution_count": 11,
     "metadata": {},
     "output_type": "execute_result"
    }
   ],
   "source": [
    "filtered_rows = [row for row in mat if row[0] == 'Overcast' and row[-1] == 'Yes']\n",
    "count = len(filtered_rows)   \n",
    "count"
   ]
  },
  {
   "cell_type": "code",
   "execution_count": null,
   "id": "82446a51-5eff-40a2-9471-cd08b78cf0ea",
   "metadata": {},
   "outputs": [],
   "source": []
  },
  {
   "cell_type": "code",
   "execution_count": 12,
   "id": "096042a0-8c68-4dd1-8bcb-4c423ee54e49",
   "metadata": {},
   "outputs": [],
   "source": [
    "class_label = np.unique(y_train)\n",
    "labels_count = np.zeros(len(class_label))\n",
    "p = np.zeros(len(class_label))\n",
    "h = np.zeros(len(class_label))"
   ]
  },
  {
   "cell_type": "code",
   "execution_count": 13,
   "id": "a20d0474-1cf0-4975-b6c8-0c45836c52ec",
   "metadata": {},
   "outputs": [
    {
     "name": "stdout",
     "output_type": "stream",
     "text": [
      "count 0\n",
      "feature_labels_count 4.0\n",
      "p[i] =  0.0\n",
      "h[i] =  nan\n",
      "\n",
      "\n",
      "count 4\n",
      "feature_labels_count 0.0\n",
      "p[i] =  inf\n",
      "h[i] =  -inf\n",
      "\n",
      "\n",
      "nan\n",
      "count 2\n",
      "feature_labels_count 5.0\n",
      "p[i] =  0.4\n",
      "h[i] =  0.5287712379549449\n",
      "\n",
      "\n",
      "count 3\n",
      "feature_labels_count 0.0\n",
      "p[i] =  inf\n",
      "h[i] =  -inf\n",
      "\n",
      "\n",
      "-inf\n",
      "count 3\n",
      "feature_labels_count 5.0\n",
      "p[i] =  0.6\n",
      "h[i] =  0.44217935649972373\n",
      "\n",
      "\n",
      "count 2\n",
      "feature_labels_count 0.0\n",
      "p[i] =  inf\n",
      "h[i] =  -inf\n",
      "\n",
      "\n",
      "-inf\n"
     ]
    },
    {
     "name": "stderr",
     "output_type": "stream",
     "text": [
      "C:\\Users\\abc\\AppData\\Local\\Temp\\ipykernel_17288\\1926085656.py:20: RuntimeWarning: divide by zero encountered in log2\n",
      "  h[i] = - p[i] * np.log2(p[i])\n",
      "C:\\Users\\abc\\AppData\\Local\\Temp\\ipykernel_17288\\1926085656.py:20: RuntimeWarning: invalid value encountered in scalar multiply\n",
      "  h[i] = - p[i] * np.log2(p[i])\n",
      "C:\\Users\\abc\\AppData\\Local\\Temp\\ipykernel_17288\\1926085656.py:19: RuntimeWarning: divide by zero encountered in scalar divide\n",
      "  p[i] = count/feature_label_count[i]\n"
     ]
    }
   ],
   "source": [
    "feature_label = np.unique(x1)\n",
    "mat = np.array([x1,y_train]).T\n",
    "p = np.zeros(len(feature_label))\n",
    "h = np.zeros(len(feature_label))\n",
    "feature_label_count = np.zeros(len(feature_label))\n",
    "H = np.zeros(len(feature_label))\n",
    "\n",
    "for x in feature_label:\n",
    "    i = 0\n",
    "    j = 0\n",
    "    \n",
    "    feature_label_count[i] = np.sum(x1 == x)\n",
    "  \n",
    "    for y in class_label:\n",
    "        filtered_rows = [row for row in mat if row[0] == x and row[-1] == y]\n",
    "        count = len(filtered_rows)    \n",
    "        print(\"count\",count)\n",
    "        print(\"feature_labels_count\",feature_label_count[i])\n",
    "        p[i] = count/feature_label_count[i]\n",
    "        h[i] = - p[i] * np.log2(p[i])\n",
    "        print(\"p[i] = \",p[i]) \n",
    "        print(\"h[i] = \",h[i]) \n",
    "        print(\"\\n\")\n",
    "        i = i + 1\n",
    "\n",
    "    H[j] = np.sum(h)\n",
    "    print(H[j])\n",
    "    j = j + 1\n",
    "    #w_h = (feature_labels_count/m) * H\n",
    "   # print(w_h)\n",
    "\n",
    "#Weighted_H = np.sum(w_h)\n",
    "#Weighted_H\n"
   ]
  },
  {
   "cell_type": "code",
   "execution_count": 14,
   "id": "910cd906-bfbe-4f8e-81d8-e1c348af9fb8",
   "metadata": {},
   "outputs": [
    {
     "data": {
      "text/plain": [
       "array([0.44217936,       -inf, 0.        ])"
      ]
     },
     "execution_count": 14,
     "metadata": {},
     "output_type": "execute_result"
    }
   ],
   "source": [
    "h"
   ]
  },
  {
   "cell_type": "code",
   "execution_count": 28,
   "id": "e15994af-607e-4b98-a2c0-d28ec2632aca",
   "metadata": {},
   "outputs": [
    {
     "name": "stdout",
     "output_type": "stream",
     "text": [
      "Number of rows where first column is 'Overcast' and last column is 'Yes': 4\n"
     ]
    }
   ],
   "source": [
    "# Define the 2D array\n",
    "arr = [\n",
    "    ['Sunny', 'Hot', 'High', 'Weak', 'No'],\n",
    "    ['Sunny', 'Hot', 'High', 'Strong', 'No'],\n",
    "    ['Overcast', 'Hot', 'High', 'Weak', 'Yes'],\n",
    "    ['Rain', 'Mild', 'High', 'Weak', 'Yes'],\n",
    "    ['Rain', 'Cool', 'Normal', 'Weak', 'Yes'],\n",
    "    ['Rain', 'Cool', 'Normal', 'Strong', 'No'],\n",
    "    ['Overcast', 'Cool', 'Normal', 'Strong', 'Yes'],\n",
    "    ['Sunny', 'Mild', 'High', 'Weak', 'No'],\n",
    "    ['Sunny', 'Cool', 'Normal', 'Weak', 'Yes'],\n",
    "    ['Rain', 'Mild', 'Normal', 'Weak', 'Yes'],\n",
    "    ['Sunny', 'Mild', 'Normal', 'Strong', 'Yes'],\n",
    "    ['Overcast', 'Mild', 'High', 'Strong', 'Yes'],\n",
    "    ['Overcast', 'Hot', 'Normal', 'Weak', 'Yes'],\n",
    "    ['Rain', 'Mild', 'High', 'Strong', 'No']\n",
    "]\n",
    "\n",
    "# Filter rows where the first column is 'Overcast' and the last column is 'Yes'\n",
    "filtered_rows = [row for row in arr if row[0] == 'Overcast' and row[-1] == 'Yes']\n",
    "\n",
    "# Count the number of matching rows\n",
    "count = len(filtered_rows)\n",
    "\n",
    "print(\"Number of rows where first column is 'Overcast' and last column is 'Yes':\", count)\n"
   ]
  },
  {
   "cell_type": "code",
   "execution_count": null,
   "id": "3327751a-a551-4885-b0d3-508886b01429",
   "metadata": {},
   "outputs": [],
   "source": []
  }
 ],
 "metadata": {
  "kernelspec": {
   "display_name": "Python 3 (ipykernel)",
   "language": "python",
   "name": "python3"
  },
  "language_info": {
   "codemirror_mode": {
    "name": "ipython",
    "version": 3
   },
   "file_extension": ".py",
   "mimetype": "text/x-python",
   "name": "python",
   "nbconvert_exporter": "python",
   "pygments_lexer": "ipython3",
   "version": "3.11.4"
  }
 },
 "nbformat": 4,
 "nbformat_minor": 5
}
