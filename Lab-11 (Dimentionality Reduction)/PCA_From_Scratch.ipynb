{
 "cells": [
  {
   "cell_type": "raw",
   "id": "13afb59a-1415-4484-9916-cbc9a1c1ec4c",
   "metadata": {},
   "source": [
    "#!pip install plotly\n",
    "#!pip install jupyterlab plotly"
   ]
  },
  {
   "cell_type": "markdown",
   "id": "93852b1b-7d97-4103-87ad-5c7282976dbe",
   "metadata": {},
   "source": [
    "### Load The Data"
   ]
  },
  {
   "cell_type": "code",
   "execution_count": 4,
   "id": "6521eff8-ecb6-4ecd-b54f-c0eb4aaf535b",
   "metadata": {},
   "outputs": [
    {
     "name": "stdout",
     "output_type": "stream",
     "text": [
      "40\n"
     ]
    },
    {
     "data": {
      "text/html": [
       "<div>\n",
       "<style scoped>\n",
       "    .dataframe tbody tr th:only-of-type {\n",
       "        vertical-align: middle;\n",
       "    }\n",
       "\n",
       "    .dataframe tbody tr th {\n",
       "        vertical-align: top;\n",
       "    }\n",
       "\n",
       "    .dataframe thead th {\n",
       "        text-align: right;\n",
       "    }\n",
       "</style>\n",
       "<table border=\"1\" class=\"dataframe\">\n",
       "  <thead>\n",
       "    <tr style=\"text-align: right;\">\n",
       "      <th></th>\n",
       "      <th>feature1</th>\n",
       "      <th>feature2</th>\n",
       "      <th>feature3</th>\n",
       "      <th>target</th>\n",
       "    </tr>\n",
       "  </thead>\n",
       "  <tbody>\n",
       "    <tr>\n",
       "      <th>0</th>\n",
       "      <td>-0.331617</td>\n",
       "      <td>-1.632386</td>\n",
       "      <td>0.619114</td>\n",
       "      <td>1</td>\n",
       "    </tr>\n",
       "    <tr>\n",
       "      <th>1</th>\n",
       "      <td>1.010229</td>\n",
       "      <td>1.437830</td>\n",
       "      <td>2.327788</td>\n",
       "      <td>0</td>\n",
       "    </tr>\n",
       "    <tr>\n",
       "      <th>2</th>\n",
       "      <td>0.241106</td>\n",
       "      <td>-0.952510</td>\n",
       "      <td>-0.136267</td>\n",
       "      <td>1</td>\n",
       "    </tr>\n",
       "    <tr>\n",
       "      <th>3</th>\n",
       "      <td>1.676860</td>\n",
       "      <td>4.187503</td>\n",
       "      <td>-0.080565</td>\n",
       "      <td>0</td>\n",
       "    </tr>\n",
       "    <tr>\n",
       "      <th>4</th>\n",
       "      <td>2.823378</td>\n",
       "      <td>-0.332863</td>\n",
       "      <td>2.637391</td>\n",
       "      <td>0</td>\n",
       "    </tr>\n",
       "  </tbody>\n",
       "</table>\n",
       "</div>"
      ],
      "text/plain": [
       "   feature1  feature2  feature3  target\n",
       "0 -0.331617 -1.632386  0.619114       1\n",
       "1  1.010229  1.437830  2.327788       0\n",
       "2  0.241106 -0.952510 -0.136267       1\n",
       "3  1.676860  4.187503 -0.080565       0\n",
       "4  2.823378 -0.332863  2.637391       0"
      ]
     },
     "execution_count": 4,
     "metadata": {},
     "output_type": "execute_result"
    }
   ],
   "source": [
    "df = pd.read_csv(\"three_feature_data.csv\")\n",
    "print(len(df))\n",
    "df.head()"
   ]
  },
  {
   "cell_type": "markdown",
   "id": "f72ee1bb-ef70-40c0-9dd8-1eee451bc808",
   "metadata": {},
   "source": [
    "### Visualization of Data"
   ]
  },
  {
   "cell_type": "code",
   "execution_count": 5,
   "id": "c9753f2c-3b88-49fa-911c-2760f8de50ec",
   "metadata": {},
   "outputs": [],
   "source": [
    "import plotly.io as pio\n",
    "import plotly.express as px\n",
    "pio.renderers.default = 'browser'"
   ]
  },
  {
   "cell_type": "code",
   "execution_count": 6,
   "id": "c3f31e62-7f4f-4c51-9762-af7be8713586",
   "metadata": {},
   "outputs": [],
   "source": [
    "# Below output will be display on brawser\n",
    "fig = px.scatter_3d(df, x=df['feature1'], y=df['feature2'], z=df['feature3'],\n",
    "              color=df['target'].astype('str'))\n",
    "fig.update_traces(marker=dict(size=12,\n",
    "                              line=dict(width=2,\n",
    "                                        color='DarkSlateGrey')),\n",
    "                  selector=dict(mode='markers'))\n",
    "\n",
    "fig.show()"
   ]
  },
  {
   "cell_type": "markdown",
   "id": "b99f2a69-e83e-418e-8b29-86192ef45113",
   "metadata": {},
   "source": [
    "### PCA Implementation"
   ]
  },
  {
   "cell_type": "markdown",
   "id": "f26d2cb3-c88f-4033-b377-ed26dfa2ed6d",
   "metadata": {},
   "source": [
    "#### Step-1: Standard Scaling"
   ]
  },
  {
   "cell_type": "code",
   "execution_count": 7,
   "id": "41dc9f07-1ed6-4c46-b597-2f64312c743e",
   "metadata": {},
   "outputs": [],
   "source": [
    "# Step 1 - Apply standard scaling\n",
    "from sklearn.preprocessing import StandardScaler\n",
    "scaler = StandardScaler()\n",
    "df.iloc[:,0:3] = scaler.fit_transform(df.iloc[:,0:3])"
   ]
  },
  {
   "cell_type": "markdown",
   "id": "5da06bd6-01a1-4d4f-9927-dec188d906e8",
   "metadata": {},
   "source": [
    "#### Step-2: Covariance Matrix Calculation"
   ]
  },
  {
   "cell_type": "code",
   "execution_count": 8,
   "id": "6091109e-5f7c-435a-8253-e4de6759bf1a",
   "metadata": {},
   "outputs": [
    {
     "name": "stdout",
     "output_type": "stream",
     "text": [
      "Covariance Matrix:\n",
      " [[1.02564103 0.20478114 0.080118  ]\n",
      " [0.20478114 1.02564103 0.19838882]\n",
      " [0.080118   0.19838882 1.02564103]]\n"
     ]
    }
   ],
   "source": [
    "# Step 2 - Find Covariance Matrix\n",
    "covariance_matrix = np.cov([df.iloc[:,0],df.iloc[:,1],df.iloc[:,2]])\n",
    "print('Covariance Matrix:\\n', covariance_matrix)"
   ]
  },
  {
   "cell_type": "markdown",
   "id": "9fe6b74b-299c-47d8-911d-5b877544c95f",
   "metadata": {},
   "source": [
    "#### Step-3: Calculation of Eigen Values and Eigen Vector"
   ]
  },
  {
   "cell_type": "code",
   "execution_count": 12,
   "id": "b8859057-b5b6-4661-b096-6047c45f6669",
   "metadata": {},
   "outputs": [],
   "source": [
    "# Step 3 - Finding EV and EVs\n",
    "eigen_values, eigen_vectors = np.linalg.eig(covariance_matrix)"
   ]
  },
  {
   "cell_type": "code",
   "execution_count": 13,
   "id": "99c3382f-fb9f-4fdb-b815-a8a26dddbdc3",
   "metadata": {},
   "outputs": [
    {
     "data": {
      "text/plain": [
       "array([1.3536065 , 0.94557084, 0.77774573])"
      ]
     },
     "execution_count": 13,
     "metadata": {},
     "output_type": "execute_result"
    }
   ],
   "source": [
    "eigen_values"
   ]
  },
  {
   "cell_type": "code",
   "execution_count": 14,
   "id": "ec7cb919-4b2b-467c-80de-3b2aa911d0b2",
   "metadata": {},
   "outputs": [
    {
     "data": {
      "text/plain": [
       "array([[-0.53875915, -0.69363291,  0.47813384],\n",
       "       [-0.65608325, -0.01057596, -0.75461442],\n",
       "       [-0.52848211,  0.72025103,  0.44938304]])"
      ]
     },
     "execution_count": 14,
     "metadata": {},
     "output_type": "execute_result"
    }
   ],
   "source": [
    "eigen_vectors"
   ]
  },
  {
   "cell_type": "markdown",
   "id": "d1798942-5165-40ac-97d0-a760f19a1510",
   "metadata": {},
   "source": [
    "#### Step-4: Analysis of variance captured by principle components and vizualization"
   ]
  },
  {
   "cell_type": "code",
   "execution_count": 16,
   "id": "f8199808-e3b3-47ea-ac1d-210a084485e7",
   "metadata": {},
   "outputs": [
    {
     "name": "stdout",
     "output_type": "stream",
     "text": [
      "Sum of Eigenvalues: 3.076923076923076\n",
      "Proportion of Variance Captured by Each Eigenvalue: [0.43992211 0.30731052 0.25276736]\n",
      "Cumulative Variance Captured by First Component: 0.43992211345332793\n",
      "Cumulative Variance Captured by First Two Components: 0.7472326366094666\n",
      "Cumulative Variance Captured by All Three Components: 1.0\n"
     ]
    }
   ],
   "source": [
    "# Calculate the sum of all eigenvalues\n",
    "sum_eigenvalues = np.sum(eigen_values)\n",
    "\n",
    "# Calculate the proportion of variance captured by each eigenvalue\n",
    "proportion_variance = eigen_values / sum_eigenvalues\n",
    "\n",
    "# Calculate cumulative variance for the first, first two, and all three components\n",
    "cumulative_variance = np.cumsum(proportion_variance)\n",
    "\n",
    "# Print results\n",
    "print(f\"Sum of Eigenvalues: {sum_eigenvalues}\")\n",
    "print(f\"Proportion of Variance Captured by Each Eigenvalue: {proportion_variance}\")\n",
    "print(f\"Cumulative Variance Captured by First Component: {cumulative_variance[0]}\")\n",
    "print(f\"Cumulative Variance Captured by First Two Components: {cumulative_variance[1]}\")\n",
    "print(f\"Cumulative Variance Captured by All Three Components: {cumulative_variance[2]}\")"
   ]
  },
  {
   "cell_type": "code",
   "execution_count": null,
   "id": "32cdce08-a575-456a-8635-9eee9a099776",
   "metadata": {},
   "outputs": [],
   "source": [
    "import numpy as np\n",
    "import plotly.graph_objects as go\n",
    "\n",
    "# Example data\n",
    "np.random.seed(23)\n",
    "data = np.random.rand(10, 3)  # 10 points in 3D space\n",
    "eigen_vectors = np.random.rand(3, 3)  # Example eigenvectors\n",
    "\n",
    "# Center of the data\n",
    "center = data.mean(axis=0)\n",
    "\n",
    "# Create a 3D scatter plot for the data points\n",
    "fig = go.Figure()\n",
    "\n",
    "# Add data points\n",
    "fig.add_trace(\n",
    "    go.Scatter3d(\n",
    "        x=data[:, 0],\n",
    "        y=data[:, 1],\n",
    "        z=data[:, 2],\n",
    "        mode='markers',\n",
    "        marker=dict(size=8, color='blue', opacity=0.7),\n",
    "        name='Data Points',\n",
    "    )\n",
    ")\n",
    "\n",
    "# Add the center point\n",
    "fig.add_trace(\n",
    "    go.Scatter3d(\n",
    "        x=[center[0]],\n",
    "        y=[center[1]],\n",
    "        z=[center[2]],\n",
    "        mode='markers',\n",
    "        marker=dict(size=10, color='red'),\n",
    "        name='Center',\n",
    "    )\n",
    ")\n",
    "\n",
    "# Add eigenvector arrows\n",
    "for i in range(3):  # Assuming 3 eigenvectors\n",
    "    fig.add_trace(\n",
    "        go.Scatter3d(\n",
    "            x=[center[0], center[0] + eigen_vectors[i, 0]],\n",
    "            y=[center[1], center[1] + eigen_vectors[i, 1]],\n",
    "            z=[center[2], center[2] + eigen_vectors[i, 2]],\n",
    "            mode='lines+markers',\n",
    "            line=dict(color='green', width=5),\n",
    "            marker=dict(size=2, color='green'),\n",
    "            name=f'Eigenvector {i+1}',\n",
    "        )\n",
    "    )\n",
    "\n",
    "# Set axis labels and title\n",
    "fig.update_layout(\n",
    "    scene=dict(\n",
    "        xaxis_title='X-axis',\n",
    "        yaxis_title='Y-axis',\n",
    "        zaxis_title='Z-axis',\n",
    "    ),\n",
    "    title=\"3D Plot with Eigenvectors\",\n",
    ")\n",
    "\n",
    "# Display the plot in the browser\n",
    "fig.show()\n"
   ]
  },
  {
   "cell_type": "markdown",
   "id": "f4361f85-d388-4c59-81f4-feef585885b7",
   "metadata": {},
   "source": [
    "#### Step-5: Reduced to two features and Visualization"
   ]
  },
  {
   "cell_type": "code",
   "execution_count": 18,
   "id": "7c248785-2862-47c3-a6ef-095b2045b48c",
   "metadata": {},
   "outputs": [
    {
     "data": {
      "text/plain": [
       "array([[0.82875148, 0.71785184, 0.11922669],\n",
       "       [0.59638417, 0.1297563 , 0.07753409]])"
      ]
     },
     "execution_count": 18,
     "metadata": {},
     "output_type": "execute_result"
    }
   ],
   "source": [
    "pc = eigen_vectors[0:2]\n",
    "pc"
   ]
  },
  {
   "cell_type": "code",
   "execution_count": 19,
   "id": "895dfd1a-907b-434a-9d16-8cc241a35848",
   "metadata": {},
   "outputs": [
    {
     "data": {
      "text/html": [
       "<div>\n",
       "<style scoped>\n",
       "    .dataframe tbody tr th:only-of-type {\n",
       "        vertical-align: middle;\n",
       "    }\n",
       "\n",
       "    .dataframe tbody tr th {\n",
       "        vertical-align: top;\n",
       "    }\n",
       "\n",
       "    .dataframe thead th {\n",
       "        text-align: right;\n",
       "    }\n",
       "</style>\n",
       "<table border=\"1\" class=\"dataframe\">\n",
       "  <thead>\n",
       "    <tr style=\"text-align: right;\">\n",
       "      <th></th>\n",
       "      <th>PC1</th>\n",
       "      <th>PC2</th>\n",
       "      <th>target</th>\n",
       "    </tr>\n",
       "  </thead>\n",
       "  <tbody>\n",
       "    <tr>\n",
       "      <th>0</th>\n",
       "      <td>-1.994117</td>\n",
       "      <td>-0.661773</td>\n",
       "      <td>1</td>\n",
       "    </tr>\n",
       "    <tr>\n",
       "      <th>1</th>\n",
       "      <td>1.261353</td>\n",
       "      <td>0.534874</td>\n",
       "      <td>0</td>\n",
       "    </tr>\n",
       "    <tr>\n",
       "      <th>2</th>\n",
       "      <td>-1.192288</td>\n",
       "      <td>-0.330311</td>\n",
       "      <td>1</td>\n",
       "    </tr>\n",
       "    <tr>\n",
       "      <th>3</th>\n",
       "      <td>3.376264</td>\n",
       "      <td>1.059018</td>\n",
       "      <td>0</td>\n",
       "    </tr>\n",
       "    <tr>\n",
       "      <th>4</th>\n",
       "      <td>1.394748</td>\n",
       "      <td>1.282422</td>\n",
       "      <td>0</td>\n",
       "    </tr>\n",
       "  </tbody>\n",
       "</table>\n",
       "</div>"
      ],
      "text/plain": [
       "        PC1       PC2  target\n",
       "0 -1.994117 -0.661773       1\n",
       "1  1.261353  0.534874       0\n",
       "2 -1.192288 -0.330311       1\n",
       "3  3.376264  1.059018       0\n",
       "4  1.394748  1.282422       0"
      ]
     },
     "execution_count": 19,
     "metadata": {},
     "output_type": "execute_result"
    }
   ],
   "source": [
    "transformed_df = np.dot(df.iloc[:,0:3],pc.T)\n",
    "# 40,3 - 3,2\n",
    "new_df = pd.DataFrame(transformed_df,columns=['PC1','PC2'])\n",
    "new_df['target'] = df['target'].values\n",
    "new_df.head()"
   ]
  },
  {
   "cell_type": "code",
   "execution_count": 27,
   "id": "2aff354a-589a-410b-a25e-454f83ea73bc",
   "metadata": {},
   "outputs": [],
   "source": [
    "new_df['target'] = new_df['target'].astype('str')\n",
    "fig = px.scatter(x=new_df['PC1'],\n",
    "                 y=new_df['PC2'],\n",
    "                 color=new_df['target'],\n",
    "                 color_discrete_sequence=px.colors.qualitative.G10\n",
    "                )\n",
    "\n",
    "fig.update_traces(marker=dict(size=12,\n",
    "                              line=dict(width=2,\n",
    "                                        color='DarkSlateGrey')),\n",
    "                  selector=dict(mode='markers'))\n",
    "fig.show()"
   ]
  },
  {
   "cell_type": "code",
   "execution_count": null,
   "id": "d236a4e0-ff8d-4cd0-8d48-df1305b72d97",
   "metadata": {},
   "outputs": [],
   "source": []
  }
 ],
 "metadata": {
  "kernelspec": {
   "display_name": "Python 3 (ipykernel)",
   "language": "python",
   "name": "python3"
  },
  "language_info": {
   "codemirror_mode": {
    "name": "ipython",
    "version": 3
   },
   "file_extension": ".py",
   "mimetype": "text/x-python",
   "name": "python",
   "nbconvert_exporter": "python",
   "pygments_lexer": "ipython3",
   "version": "3.11.4"
  }
 },
 "nbformat": 4,
 "nbformat_minor": 5
}
