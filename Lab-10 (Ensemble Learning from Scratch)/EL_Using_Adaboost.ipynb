{
 "cells": [
  {
   "cell_type": "code",
   "execution_count": 1,
   "id": "bd02cc94-e085-4570-b814-6c7a72c67562",
   "metadata": {},
   "outputs": [],
   "source": [
    "import pandas as pd\n",
    "import numpy as np\n",
    "from sklearn.tree import DecisionTreeClassifier\n",
    "from sklearn.metrics import accuracy_score\n",
    "\n",
    "# Load training and test datasets\n",
    "df_train = pd.read_csv(\"buy_comp_train_data.csv\")\n",
    "df_test = pd.read_csv(\"buy_comp_test_data.csv\")"
   ]
  },
  {
   "cell_type": "code",
   "execution_count": 2,
   "id": "ac4bec1a-47e5-4a20-bdf8-0e4517839452",
   "metadata": {},
   "outputs": [],
   "source": [
    "# Convert categorical variables into numerical format using one-hot encoding\n",
    "X_train = pd.get_dummies(df_train.drop('Buy Comp', axis=1))\n",
    "y_train = df_train['Buy Comp']  # Keeping labels as 'Yes' and 'No'\n",
    "\n",
    "X_test = pd.get_dummies(df_test.drop('Buy Comp', axis=1))\n",
    "X_test = X_test.reindex(columns=X_train.columns, fill_value=0)\n",
    "\n",
    "m = len(df_train)\n",
    "# Initialize sample weights\n",
    "weights = np.ones(m) / m"
   ]
  },
  {
   "cell_type": "code",
   "execution_count": null,
   "id": "00feaa87-8496-4d1d-8781-db8f2bb067a7",
   "metadata": {},
   "outputs": [],
   "source": []
  },
  {
   "cell_type": "code",
   "execution_count": 3,
   "id": "1a93be4a-012f-43e8-8a11-c37726b4a84c",
   "metadata": {},
   "outputs": [
    {
     "name": "stdout",
     "output_type": "stream",
     "text": [
      "Trained weak learner 1 with weighted error: 0.3571, alpha: 0.2939\n",
      "Trained weak learner 2 with weighted error: 0.2764, alpha: 0.4812\n",
      "Trained weak learner 3 with weighted error: 0.3055, alpha: 0.4107\n",
      "Trained weak learner 4 with weighted error: 0.3548, alpha: 0.2990\n",
      "Trained weak learner 5 with weighted error: 0.3549, alpha: 0.2989\n"
     ]
    }
   ],
   "source": [
    "# Number of weak learners\n",
    "n_learners = 5\n",
    "learners = []\n",
    "alphas = []\n",
    "\n",
    "# AdaBoost Algorithm\n",
    "for i in range(n_learners):\n",
    "    # Train a weak learner (Decision Tree with max_depth=1)\n",
    "    clf = DecisionTreeClassifier(max_depth=1, random_state=42)\n",
    "    clf.fit(X_train, y_train, sample_weight=weights)\n",
    "    \n",
    "    # Predict on the training set\n",
    "    y_pred_train = clf.predict(X_train)\n",
    "    \n",
    "    # Calculate weighted error based on 'Yes' and 'No'\n",
    "    incorrect = (y_pred_train != y_train)\n",
    "    weighted_error = np.dot(weights, incorrect) / np.sum(weights)\n",
    "    \n",
    "    # Calculate alpha (learner's weight)\n",
    "    alpha = 0.5 * np.log((1 - weighted_error) / (weighted_error + 1e-10))\n",
    "    alphas.append(alpha)\n",
    "    \n",
    "    # Update weights: We multiply by exp(+alpha) for misclassified and exp(-alpha) for correctly classified\n",
    "    weights *= np.exp(alpha * incorrect * 1.0)  # increase weight for misclassified\n",
    "    weights /= np.sum(weights)  # Normalize weights\n",
    "    \n",
    "    # Save the learner\n",
    "    learners.append(clf)\n",
    "\n",
    "    # Print progress\n",
    "    print(f\"Trained weak learner {i+1} with weighted error: {weighted_error:.4f}, alpha: {alpha:.4f}\")"
   ]
  },
  {
   "cell_type": "code",
   "execution_count": 8,
   "id": "e6ce996f-ec06-48f0-8125-689f7baf5724",
   "metadata": {},
   "outputs": [
    {
     "data": {
      "text/plain": [
       "0      True\n",
       "1      True\n",
       "2     False\n",
       "3     False\n",
       "4     False\n",
       "5      True\n",
       "6     False\n",
       "7      True\n",
       "8     False\n",
       "9     False\n",
       "10    False\n",
       "11    False\n",
       "12    False\n",
       "13     True\n",
       "Name: Buy Comp, dtype: bool"
      ]
     },
     "execution_count": 8,
     "metadata": {},
     "output_type": "execute_result"
    }
   ],
   "source": [
    "incorrect"
   ]
  },
  {
   "cell_type": "code",
   "execution_count": 7,
   "id": "0660b4d7-3a04-44d2-93b1-56ce45579190",
   "metadata": {},
   "outputs": [
    {
     "data": {
      "text/plain": [
       "[0.2938933323110594,\n",
       " 0.4812118248672834,\n",
       " 0.4106935688369132,\n",
       " 0.29902652537420915,\n",
       " 0.298864646328832]"
      ]
     },
     "execution_count": 7,
     "metadata": {},
     "output_type": "execute_result"
    }
   ],
   "source": [
    "alphas"
   ]
  },
  {
   "cell_type": "code",
   "execution_count": 6,
   "id": "7d803707-02ec-4f41-a648-f88e1d7589d1",
   "metadata": {},
   "outputs": [
    {
     "data": {
      "text/plain": [
       "[DecisionTreeClassifier(max_depth=1, random_state=42),\n",
       " DecisionTreeClassifier(max_depth=1, random_state=42),\n",
       " DecisionTreeClassifier(max_depth=1, random_state=42),\n",
       " DecisionTreeClassifier(max_depth=1, random_state=42),\n",
       " DecisionTreeClassifier(max_depth=1, random_state=42)]"
      ]
     },
     "execution_count": 6,
     "metadata": {},
     "output_type": "execute_result"
    }
   ],
   "source": [
    "learners"
   ]
  },
  {
   "cell_type": "code",
   "execution_count": 9,
   "id": "2d159d5f-203b-45dd-985a-ad6c9376b051",
   "metadata": {},
   "outputs": [
    {
     "data": {
      "text/plain": [
       "array(['Yes', 'Yes', 'Yes', 'Yes', 'Yes', 'Yes', 'Yes', 'Yes', 'Yes',\n",
       "       'Yes', 'Yes', 'Yes', 'Yes', 'Yes'], dtype=object)"
      ]
     },
     "execution_count": 9,
     "metadata": {},
     "output_type": "execute_result"
    }
   ],
   "source": [
    "y_pred_train"
   ]
  },
  {
   "cell_type": "code",
   "execution_count": 4,
   "id": "6786594a-2836-4f52-8afc-30587b70247e",
   "metadata": {},
   "outputs": [
    {
     "name": "stdout",
     "output_type": "stream",
     "text": [
      "Predictions for test data: ['Yes' 'No']\n"
     ]
    }
   ],
   "source": [
    "# Predict on test data\n",
    "test_predictions = np.zeros(X_test.shape[0])\n",
    "\n",
    "for alpha, clf in zip(alphas, learners):\n",
    "    # Convert predictions to 1 for 'Yes' and 0 for 'No' for weighted voting\n",
    "    pred = np.where(clf.predict(X_test) == 'Yes', 1, 0)\n",
    "    test_predictions += alpha * pred\n",
    "\n",
    "# Final prediction based on weighted sum (convert back to 'Yes'/'No')\n",
    "final_predictions = np.where(test_predictions > (0.5 * np.sum(alphas)), 'Yes', 'No')\n",
    "\n",
    "# Print final predictions for test data\n",
    "print(f\"Predictions for test data: {final_predictions}\")\n"
   ]
  },
  {
   "cell_type": "code",
   "execution_count": null,
   "id": "5d5c5fca-b716-4e98-922f-02c9dd017015",
   "metadata": {},
   "outputs": [],
   "source": []
  }
 ],
 "metadata": {
  "kernelspec": {
   "display_name": "Python 3 (ipykernel)",
   "language": "python",
   "name": "python3"
  },
  "language_info": {
   "codemirror_mode": {
    "name": "ipython",
    "version": 3
   },
   "file_extension": ".py",
   "mimetype": "text/x-python",
   "name": "python",
   "nbconvert_exporter": "python",
   "pygments_lexer": "ipython3",
   "version": "3.11.4"
  }
 },
 "nbformat": 4,
 "nbformat_minor": 5
}
